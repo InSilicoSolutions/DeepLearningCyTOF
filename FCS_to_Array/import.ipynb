{
 "cells": [
  {
   "cell_type": "markdown",
   "metadata": {},
   "source": [
    "### Prepare fcs files for deep learning\n",
    "This is a small example for formatting data from fcs files into numpy array, and save the metaData, marker names and the numpy array into allData.obj file. Use the script as a template to prepare your own fcs files for deep learning. "
   ]
  },
  {
   "cell_type": "code",
   "execution_count": 1,
   "metadata": {
    "collapsed": false,
    "jupyter": {
     "outputs_hidden": false
    }
   },
   "outputs": [],
   "source": [
    "import numpy as np\n",
    "import scipy as sp\n",
    "import pandas as pd\n",
    "import rpy2 as rp\n",
    "from rpy2.robjects.packages import importr\n",
    "from rpy2.robjects import pandas2ri\n",
    "from rpy2.robjects.conversion import localconverter\n",
    "import os \n",
    "import rpy2.robjects as ro\n",
    "import pickle\n",
    "from collections import Counter\n",
    "from pathlib import Path\n",
    "import csv\n",
    "import multiprocessing as mp"
   ]
  },
  {
   "cell_type": "code",
   "execution_count": 2,
   "metadata": {},
   "outputs": [],
   "source": [
    "base_dir = Path('/home/kyle/a/flow/aging/data')\n",
    "pickle_dir = base_dir/'ResultFiles'/'pickles'\n",
    "pickle_dir.mkdir(exist_ok=True)\n",
    "fcs_dir = base_dir/Path('ResultFiles/Flow_cytometry_result')\n",
    "\n",
    "mfest_path = base_dir/Path('SDY420-DR40_Subject_2_Flow_cytometry_result.txt')\n",
    "mfest = pd.read_csv(mfest_path, sep='\\t')\n",
    "\n",
    "prediction_target = 'Subject Age'"
   ]
  },
  {
   "cell_type": "code",
   "execution_count": 3,
   "metadata": {},
   "outputs": [],
   "source": [
    "def fcs2pkl_filename(fcs_path):\n",
    "    return pickle_dir/fcs_path.with_suffix('.pkl').name\n",
    "\n",
    "def import_fcs(fcs_path):\n",
    "    fcs_path = str(fcs_path)\n",
    "    r = rp.robjects.r\n",
    "    r_code = (\"library(flowCore);\"+\n",
    "          \"library(MetaCyto);\"+\n",
    "          \"fn = '\"+ fcs_path+ \"'; \"+\n",
    "          \"fcs = read.FCS(fn,truncate_max_range = FALSE);\"+\n",
    "          \"expr = fcs@exprs;\"+\n",
    "          \"markers = markerFinder(fcs);\"+\n",
    "          \"colnames(expr) = markers;\"+\n",
    "          \"expr = as.data.frame(expr);\"\n",
    "         )\n",
    "    expr =  r(r_code)\n",
    "    return pandas2ri.rpy2py(expr)\n",
    "\n",
    "def write_dataframe(fcs_path):\n",
    "    df = import_fcs(fcs_path)\n",
    "    wf = fcs2pkl_filename(fcs_path)\n",
    "    df.to_pickle(wf)\n",
    "\n",
    "def load_dataframe(fcs_path):\n",
    "    pkl = fcs2pkl_filename(fcs_path)\n",
    "    return pd.read_pickle(pkl)"
   ]
  },
  {
   "cell_type": "code",
   "execution_count": 4,
   "metadata": {},
   "outputs": [],
   "source": [
    "pkl_paths = []\n",
    "to_build = []\n",
    "mfest['fcs'] = mfest.apply(lambda row: fcs_dir/row['File Name'], axis=1)\n",
    "mfest['pkl'] = mfest.apply(lambda row: fcs2pkl_filename(fcs_dir/row['fcs']), axis=1)\n",
    "mfest['pkl_exists'] = mfest.apply(lambda row: row['pkl'].exists(), axis=1)"
   ]
  },
  {
   "cell_type": "code",
   "execution_count": 5,
   "metadata": {},
   "outputs": [],
   "source": [
    "fcs_to_convert = mfest[(mfest['Expsample Treatement']=='Unstim') & ~(mfest['pkl_exists'])]['fcs']\n",
    "pool = mp.Pool()\n",
    "pool.map(write_dataframe, fcs_to_convert)\n",
    "pool.close()\n",
    "pool.terminate()\n",
    "mfest['pkl_exists'] = mfest.apply(lambda row: row['pkl'].exists(), axis=1)"
   ]
  },
  {
   "cell_type": "code",
   "execution_count": 14,
   "metadata": {},
   "outputs": [
    {
     "data": {
      "text/plain": [
       "<AxesSubplot:ylabel='Frequency'>"
      ]
     },
     "execution_count": 14,
     "metadata": {},
     "output_type": "execute_result"
    },
    {
     "data": {
      "image/png": "[encoded data removed]",
      "text/plain": [
       "<Figure size 432x288 with 1 Axes>"
      ]
     },
     "metadata": {
      "needs_background": "light"
     },
     "output_type": "display_data"
    }
   ],
   "source": [
    "# expr_list = [\n",
    "#     pd.read_pickle(row['pkl'])\n",
    "#     for i, row in\n",
    "#     mfest[mfest['Expsample Treatement']=='Unstim'].iterrows()\n",
    "# ]\n",
    "valid_pkls = mfest[mfest['Expsample Treatement']=='Unstim']['pkl']\n",
    "shapes = [pd.read_pickle(pkl).shape[0] for pkl in valid_pkls]\n",
    "pd.Series(shapes).plot.hist()"
   ]
  },
  {
   "cell_type": "code",
   "execution_count": 18,
   "metadata": {},
   "outputs": [],
   "source": [
    "expr_list = [\n",
    "    pd.read_pickle(row['pkl']).iloc[:1000,:]\n",
    "    for i, row in\n",
    "    mfest[mfest['Expsample Treatement']=='Unstim'].iterrows()\n",
    "]"
   ]
  },
  {
   "cell_type": "code",
   "execution_count": 8,
   "metadata": {},
   "outputs": [
    {
     "ename": "NameError",
     "evalue": "name 'expr_list' is not defined",
     "output_type": "error",
     "traceback": [
      "\u001b[0;31m---------------------------------------------------------------------------\u001b[0m",
      "\u001b[0;31mNameError\u001b[0m                                 Traceback (most recent call last)",
      "\u001b[0;32m<ipython-input-8-e94058344546>\u001b[0m in \u001b[0;36m<module>\u001b[0;34m()\u001b[0m\n\u001b[1;32m      1\u001b[0m \u001b[0;31m##### get common markers #####\u001b[0m\u001b[0;34m\u001b[0m\u001b[0;34m\u001b[0m\u001b[0;34m\u001b[0m\u001b[0m\n\u001b[0;32m----> 2\u001b[0;31m \u001b[0mmarkers\u001b[0m \u001b[0;34m=\u001b[0m \u001b[0;34m[\u001b[0m\u001b[0m_\u001b[0m \u001b[0;32mfor\u001b[0m \u001b[0mdf\u001b[0m \u001b[0;32min\u001b[0m \u001b[0mexpr_list\u001b[0m \u001b[0;32mfor\u001b[0m \u001b[0m_\u001b[0m \u001b[0;32min\u001b[0m \u001b[0mdf\u001b[0m\u001b[0;34m.\u001b[0m\u001b[0mcolnames\u001b[0m\u001b[0;34m]\u001b[0m\u001b[0;34m\u001b[0m\u001b[0;34m\u001b[0m\u001b[0m\n\u001b[0m\u001b[1;32m      3\u001b[0m \u001b[0mmarker_counts\u001b[0m \u001b[0;34m=\u001b[0m \u001b[0mCounter\u001b[0m\u001b[0;34m(\u001b[0m\u001b[0mmarkers\u001b[0m\u001b[0;34m)\u001b[0m\u001b[0;34m\u001b[0m\u001b[0;34m\u001b[0m\u001b[0m\n\u001b[1;32m      4\u001b[0m \u001b[0mmarkers\u001b[0m \u001b[0;34m=\u001b[0m \u001b[0;34m[\u001b[0m\u001b[0mk\u001b[0m \u001b[0;32mfor\u001b[0m \u001b[0mk\u001b[0m\u001b[0;34m,\u001b[0m \u001b[0mc\u001b[0m \u001b[0;32min\u001b[0m \u001b[0mmarker_counts\u001b[0m\u001b[0;34m.\u001b[0m\u001b[0mitems\u001b[0m\u001b[0;34m(\u001b[0m\u001b[0;34m)\u001b[0m \u001b[0;32mif\u001b[0m \u001b[0mc\u001b[0m \u001b[0;34m==\u001b[0m \u001b[0mlen\u001b[0m\u001b[0;34m(\u001b[0m\u001b[0mexpr_list\u001b[0m\u001b[0;34m)\u001b[0m\u001b[0;34m]\u001b[0m\u001b[0;34m\u001b[0m\u001b[0;34m\u001b[0m\u001b[0m\n\u001b[1;32m      5\u001b[0m \u001b[0mprint\u001b[0m\u001b[0;34m(\u001b[0m\u001b[0mmarkers\u001b[0m\u001b[0;34m)\u001b[0m\u001b[0;34m\u001b[0m\u001b[0;34m\u001b[0m\u001b[0m\n",
      "\u001b[0;31mNameError\u001b[0m: name 'expr_list' is not defined"
     ]
    }
   ],
   "source": [
    "##### get common markers #####\n",
    "markers = [_ for df in expr_list for _ in df.colnames]\n",
    "marker_counts = Counter(markers)\n",
    "markers = [k for k, c in marker_counts.items() if c == len(expr_list)]\n",
    "print(markers)\n",
    "sorted(marker_counts.items(), key=lambda _:_[1], reverse=True)"
   ]
  },
  {
   "cell_type": "code",
   "execution_count": null,
   "metadata": {
    "collapsed": false,
    "jupyter": {
     "outputs_hidden": false
    }
   },
   "outputs": [],
   "source": [
    "##### get common markers #####\n",
    "markers = []\n",
    "for i in range(len(expr_list)):\n",
    "    markers.extend(expr_list[i].colnames)\n",
    "\n",
    "# markers = Counter(markers)\n",
    "# markers = [k for k, c in markers.items() if c == 3]\n",
    "print(markers)\n",
    "\n",
    "for i in range(0,len(expr_list)):\n",
    "    t1 = expr_list[i] \n",
    "    with localconverter(ro.default_converter + pandas2ri.converter):\n",
    "        t1 = ro.conversion.rpy2py(t1)\n",
    "    expr_list[i] = t1.loc[:,markers]"
   ]
  },
  {
   "cell_type": "code",
   "execution_count": null,
   "metadata": {
    "collapsed": false,
    "jupyter": {
     "outputs_hidden": false
    }
   },
   "outputs": [],
   "source": [
    "##### transform and format into numpy array\n",
    "def arcsinh(x):\n",
    "    return(np.arcsinh(x/5))\n",
    "\n",
    "coln = expr_list[0].columns.drop(\"TIME\")\n",
    "for i in range(len(expr_list)):\n",
    "    t1 = expr_list[i].drop(columns=\"TIME\")\n",
    "    t1 = t1.apply(arcsinh)\n",
    "    t1 = t1.values\n",
    "    shape1 = list(t1.shape)+[1]\n",
    "    t1 = t1.reshape(shape1)\n",
    "    expr_list[i] = t1\n",
    "    \n",
    "expr_list = np.stack(expr_list)\n",
    "print(\"The dimenstion of the data is: \", expr_list.shape)"
   ]
  },
  {
   "cell_type": "code",
   "execution_count": null,
   "metadata": {
    "tags": []
   },
   "outputs": [],
   "source": [
    "allData = {\"cytof_files\":cytof_files, \n",
    "            \"expr_list\" : expr_list,\n",
    "            \"marker_names\" : coln}\n",
    "\n",
    "with open(\"allData.obj\", \"wb\") as f:\n",
    "    pickle.dump(allData, f)"
   ]
  },
  {
   "cell_type": "code",
   "execution_count": null,
   "metadata": {
    "collapsed": false,
    "jupyter": {
     "outputs_hidden": false
    }
   },
   "outputs": [],
   "source": []
  },
  {
   "cell_type": "code",
   "execution_count": null,
   "metadata": {
    "tags": []
   },
   "outputs": [],
   "source": []
  },
  {
   "cell_type": "code",
   "execution_count": null,
   "metadata": {
    "tags": []
   },
   "outputs": [],
   "source": []
  }
 ],
 "metadata": {
  "kernelspec": {
   "display_name": "Python 3",
   "language": "python",
   "name": "python3"
  },
  "language_info": {
   "codemirror_mode": {
    "name": "ipython",
    "version": 3
   },
   "file_extension": ".py",
   "mimetype": "text/x-python",
   "name": "python",
   "nbconvert_exporter": "python",
   "pygments_lexer": "ipython3",
   "version": "3.7.11"
  }
 },
 "nbformat": 4,
 "nbformat_minor": 4
}
