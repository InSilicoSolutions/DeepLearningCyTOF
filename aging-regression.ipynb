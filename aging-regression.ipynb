{
 "cells": [
  {
   "cell_type": "markdown",
   "metadata": {},
   "source": [
    "<center> <h1> Diagnose Latent Cytomegalovirus Using CyTOF Data and Deep Learning <h1> </center>\n",
    "\n",
    "<center>Zicheng Hu, Ph.D.</center>\n",
    "<center>Research Scientist</center>\n",
    "<center>ImmPort Team</center>\n",
    "<center>The Unversity of California, San Francisco</center>\n",
    "\n",
    "![alt text](Data/header.png)"
   ]
  },
  {
   "cell_type": "code",
   "execution_count": 1,
   "metadata": {},
   "outputs": [],
   "source": [
    "%matplotlib inline"
   ]
  },
  {
   "cell_type": "code",
   "execution_count": 2,
   "metadata": {},
   "outputs": [],
   "source": [
    "##### Step 1: import functions #####\n",
    "import tensorflow as tf\n",
    "from tensorflow.keras.layers import Dense, Flatten, BatchNormalization, Activation, Conv2D, AveragePooling2D, Input, Softmax\n",
    "from tensorflow.keras.models import load_model, Model, Sequential\n",
    "from tensorflow.keras.optimizers import Adam\n",
    "from tensorflow.keras.callbacks import ModelCheckpoint, EarlyStopping\n",
    "from tensorflow.keras.losses import SparseCategoricalCrossentropy\n",
    "from tensorflow.keras import backend as K\n",
    "from tensorflow.keras.utils import plot_model\n",
    "import pickle\n",
    "import pandas as pd\n",
    "import numpy as np\n",
    "from numpy.random import seed; seed(111)\n",
    "import random\n",
    "import matplotlib.pyplot as plt\n",
    "import seaborn as sns\n",
    "from tensorflow.random import set_seed; set_seed(111)\n",
    "from sklearn.metrics import roc_curve, auc\n",
    "from sklearn.preprocessing import normalize\n",
    "from six import StringIO  \n",
    "from sklearn.tree import export_graphviz, DecisionTreeRegressor\n",
    "from sklearn.model_selection import train_test_split\n",
    "from scipy.stats import ttest_ind\n",
    "from IPython.display import Image  \n",
    "import pydotplus\n",
    "import time"
   ]
  },
  {
   "cell_type": "code",
   "execution_count": 3,
   "metadata": {},
   "outputs": [],
   "source": [
    "gpus = tf.config.list_physical_devices('GPU')\n",
    "tf.config.experimental.set_memory_growth(gpus[0], True)"
   ]
  },
  {
   "cell_type": "code",
   "execution_count": 4,
   "metadata": {},
   "outputs": [],
   "source": [
    "phenotype = 'Subject Age'"
   ]
  },
  {
   "cell_type": "code",
   "execution_count": 5,
   "metadata": {},
   "outputs": [
    {
     "name": "stdout",
     "output_type": "stream",
     "text": [
      "Dimensions of cytoData:  (753, 20000, 13, 1) \n",
      "\n",
      "Names of the makers: \n",
      " ['FSC-A' 'FSC-H' 'FSC-W' 'SSC-A' 'SSC-H' 'SSC-W' 'PSTAT1' 'PSTAT5' 'CD66B'\n",
      " 'CD33' 'CD3/CD14' 'PSTAT3' 'CD4/CD19']\n"
     ]
    }
   ],
   "source": [
    "##### Step 2: load data #####\n",
    "\n",
    "tutorial_files = ! ls Data\n",
    "if \"allData.obj\" not in tutorial_files:\n",
    "    print(\"Downloading Data:\")\n",
    "    ! wget https://ucsf.box.com/shared/static/tn8m9hco3f3gugn7z394yzimvtfdg129.obj -O ./Data/allData.obj\n",
    "        \n",
    "#load data\n",
    "with open(\"FCS_to_Array/agingData.obj\", \"rb\") as f:\n",
    "    allData = pickle.load(f)\n",
    "metaData = allData[\"samples\"].reset_index().drop(columns='Unnamed: 0')\n",
    "cytoData = allData['expr_list']\n",
    "markerNames = allData[\"marker_names\"]\n",
    "\n",
    "print(\"Dimensions of cytoData: \",cytoData.shape,\"\\n\")\n",
    "print(\"Names of the makers: \\n\",markerNames.values)"
   ]
  },
  {
   "cell_type": "code",
   "execution_count": 6,
   "metadata": {},
   "outputs": [
    {
     "data": {
      "text/plain": [
       "IL-10               154\n",
       "IL-6                151\n",
       "interferon alpha    150\n",
       "IL-21               149\n",
       "Unstim              149\n",
       "Name: Expsample Treatement, dtype: int64"
      ]
     },
     "execution_count": 6,
     "metadata": {},
     "output_type": "execute_result"
    }
   ],
   "source": [
    "metaData['Expsample Treatement'].value_counts()"
   ]
  },
  {
   "cell_type": "code",
   "execution_count": 7,
   "metadata": {},
   "outputs": [],
   "source": [
    "##### Step 3: split train, validation and test######\n",
    "phenotype = 'Subject Age'\n",
    "stimulation = 'interferon alpha'\n",
    "x = []\n",
    "y = []\n",
    "for i, row in metaData[(metaData['Expsample Treatement']==stimulation) & (metaData['Age Unit']=='Years')].iterrows():\n",
    "    x.append(cytoData[i])\n",
    "    y.append(row[phenotype])\n",
    "age_range = max(y) - min(y)\n",
    "x = np.asarray(x)\n",
    "y_raw = np.asarray(y)\n",
    "age_min = min(y_raw)\n",
    "age_max = max(y_raw)\n",
    "age_range = age_max - age_min\n",
    "y = (y_raw - age_min) / age_range\n",
    "\n",
    "x_train, x_valid, y_train, y_valid = train_test_split(x, y)"
   ]
  },
  {
   "cell_type": "code",
   "execution_count": 8,
   "metadata": {},
   "outputs": [
    {
     "data": {
      "text/plain": [
       "<AxesSubplot:ylabel='Frequency'>"
      ]
     },
     "execution_count": 8,
     "metadata": {},
     "output_type": "execute_result"
    },
    {
     "data": {
      "image/png": "[encoded data removed]",
      "text/plain": [
       "<Figure size 432x288 with 1 Axes>"
      ]
     },
     "metadata": {
      "needs_background": "light"
     },
     "output_type": "display_data"
    }
   ],
   "source": [
    "pd.Series(y).plot.hist()"
   ]
  },
  {
   "cell_type": "code",
   "execution_count": 9,
   "metadata": {},
   "outputs": [
    {
     "data": {
      "text/plain": [
       "(149,)"
      ]
     },
     "execution_count": 9,
     "metadata": {},
     "output_type": "execute_result"
    }
   ],
   "source": [
    "y.shape"
   ]
  },
  {
   "cell_type": "code",
   "execution_count": 11,
   "metadata": {},
   "outputs": [
    {
     "name": "stdout",
     "output_type": "stream",
     "text": [
      "Model: \"sequential\"\n",
      "_________________________________________________________________\n",
      "Layer (type)                 Output Shape              Param #   \n",
      "=================================================================\n",
      "conv2d (Conv2D)              (None, 20000, 1, 3)       42        \n",
      "_________________________________________________________________\n",
      "batch_normalization (BatchNo (None, 20000, 1, 3)       12        \n",
      "_________________________________________________________________\n",
      "activation (Activation)      (None, 20000, 1, 3)       0         \n",
      "_________________________________________________________________\n",
      "conv2d_1 (Conv2D)            (None, 20000, 1, 3)       12        \n",
      "_________________________________________________________________\n",
      "batch_normalization_1 (Batch (None, 20000, 1, 3)       12        \n",
      "_________________________________________________________________\n",
      "activation_1 (Activation)    (None, 20000, 1, 3)       0         \n",
      "_________________________________________________________________\n",
      "average_pooling2d (AveragePo (None, 1, 1, 3)           0         \n",
      "_________________________________________________________________\n",
      "flatten (Flatten)            (None, 3)                 0         \n",
      "_________________________________________________________________\n",
      "dense (Dense)                (None, 3)                 12        \n",
      "_________________________________________________________________\n",
      "batch_normalization_2 (Batch (None, 3)                 12        \n",
      "_________________________________________________________________\n",
      "activation_2 (Activation)    (None, 3)                 0         \n",
      "_________________________________________________________________\n",
      "dense_1 (Dense)              (None, 1)                 4         \n",
      "=================================================================\n",
      "Total params: 106\n",
      "Trainable params: 88\n",
      "Non-trainable params: 18\n",
      "_________________________________________________________________\n"
     ]
    }
   ],
   "source": [
    "aging_model = Sequential([\n",
    "    Input(shape=x[0].shape),\n",
    "    Conv2D(3, kernel_size = (1, x.shape[2]), activation=None),\n",
    "    BatchNormalization(),\n",
    "    Activation('relu'),\n",
    "    Conv2D(3, kernel_size = (1,1), activation=None),\n",
    "    BatchNormalization(),\n",
    "    Activation('relu'),\n",
    "    AveragePooling2D(pool_size = (x.shape[1], 1)),\n",
    "    Flatten(),\n",
    "    Dense(3, activation=None),\n",
    "    BatchNormalization(),\n",
    "    Activation('relu'),\n",
    "    Dense(1, activation=None),\n",
    "#     BatchNormalization(),\n",
    "#     Activation('sigmoid'),\n",
    "])\n",
    "aging_model.compile(loss='mean_absolute_error',\n",
    "              optimizer='adam',\n",
    "              metrics=['mean_absolute_error'])\n",
    "aging_model.summary()"
   ]
  },
  {
   "cell_type": "code",
   "execution_count": 12,
   "metadata": {
    "scrolled": true,
    "tags": []
   },
   "outputs": [
    {
     "name": "stdout",
     "output_type": "stream",
     "text": [
      "Epoch 1/150\n",
      "2/2 [==============================] - 4s 1s/step - loss: 0.4946 - mean_absolute_error: 0.4946 - val_loss: 0.5654 - val_mean_absolute_error: 0.5654\n",
      "Epoch 2/150\n",
      "2/2 [==============================] - 0s 78ms/step - loss: 0.4880 - mean_absolute_error: 0.4880 - val_loss: 0.5634 - val_mean_absolute_error: 0.5634\n",
      "Epoch 3/150\n",
      "2/2 [==============================] - 0s 75ms/step - loss: 0.4733 - mean_absolute_error: 0.4733 - val_loss: 0.5614 - val_mean_absolute_error: 0.5614\n",
      "Epoch 4/150\n",
      "2/2 [==============================] - 0s 77ms/step - loss: 0.4790 - mean_absolute_error: 0.4790 - val_loss: 0.5594 - val_mean_absolute_error: 0.5594\n",
      "Epoch 5/150\n",
      "2/2 [==============================] - 0s 76ms/step - loss: 0.4719 - mean_absolute_error: 0.4719 - val_loss: 0.5574 - val_mean_absolute_error: 0.5574\n",
      "Epoch 6/150\n",
      "2/2 [==============================] - 0s 76ms/step - loss: 0.4561 - mean_absolute_error: 0.4561 - val_loss: 0.5554 - val_mean_absolute_error: 0.5554\n",
      "Epoch 7/150\n",
      "2/2 [==============================] - 0s 76ms/step - loss: 0.4598 - mean_absolute_error: 0.4598 - val_loss: 0.5534 - val_mean_absolute_error: 0.5534\n",
      "Epoch 8/150\n",
      "2/2 [==============================] - 0s 76ms/step - loss: 0.4483 - mean_absolute_error: 0.4483 - val_loss: 0.5514 - val_mean_absolute_error: 0.5514\n",
      "Epoch 9/150\n",
      "2/2 [==============================] - 0s 105ms/step - loss: 0.4538 - mean_absolute_error: 0.4538 - val_loss: 0.5494 - val_mean_absolute_error: 0.5494\n",
      "Epoch 10/150\n",
      "2/2 [==============================] - 0s 76ms/step - loss: 0.4162 - mean_absolute_error: 0.4162 - val_loss: 0.5474 - val_mean_absolute_error: 0.5474\n",
      "Epoch 11/150\n",
      "2/2 [==============================] - 0s 76ms/step - loss: 0.4101 - mean_absolute_error: 0.4101 - val_loss: 0.5455 - val_mean_absolute_error: 0.5455\n",
      "Epoch 12/150\n",
      "2/2 [==============================] - 0s 75ms/step - loss: 0.4224 - mean_absolute_error: 0.4224 - val_loss: 0.5436 - val_mean_absolute_error: 0.5436\n",
      "Epoch 13/150\n",
      "2/2 [==============================] - 0s 76ms/step - loss: 0.4079 - mean_absolute_error: 0.4079 - val_loss: 0.5417 - val_mean_absolute_error: 0.5417\n",
      "Epoch 14/150\n",
      "2/2 [==============================] - 0s 77ms/step - loss: 0.4063 - mean_absolute_error: 0.4063 - val_loss: 0.5398 - val_mean_absolute_error: 0.5398\n",
      "Epoch 15/150\n",
      "2/2 [==============================] - 0s 75ms/step - loss: 0.3899 - mean_absolute_error: 0.3899 - val_loss: 0.5380 - val_mean_absolute_error: 0.5380\n",
      "Epoch 16/150\n",
      "2/2 [==============================] - 0s 77ms/step - loss: 0.3670 - mean_absolute_error: 0.3670 - val_loss: 0.5362 - val_mean_absolute_error: 0.5362\n",
      "Epoch 17/150\n",
      "2/2 [==============================] - 0s 76ms/step - loss: 0.3737 - mean_absolute_error: 0.3737 - val_loss: 0.5343 - val_mean_absolute_error: 0.5343\n",
      "Epoch 18/150\n",
      "2/2 [==============================] - 0s 76ms/step - loss: 0.3635 - mean_absolute_error: 0.3635 - val_loss: 0.5325 - val_mean_absolute_error: 0.5325\n",
      "Epoch 19/150\n",
      "2/2 [==============================] - 0s 77ms/step - loss: 0.3573 - mean_absolute_error: 0.3573 - val_loss: 0.5308 - val_mean_absolute_error: 0.5308\n",
      "Epoch 20/150\n",
      "2/2 [==============================] - 0s 77ms/step - loss: 0.3398 - mean_absolute_error: 0.3398 - val_loss: 0.5290 - val_mean_absolute_error: 0.5290\n",
      "Epoch 21/150\n",
      "2/2 [==============================] - 0s 77ms/step - loss: 0.3584 - mean_absolute_error: 0.3584 - val_loss: 0.5272 - val_mean_absolute_error: 0.5272\n",
      "Epoch 22/150\n",
      "2/2 [==============================] - 0s 78ms/step - loss: 0.3476 - mean_absolute_error: 0.3476 - val_loss: 0.5255 - val_mean_absolute_error: 0.5255\n",
      "Epoch 23/150\n",
      "2/2 [==============================] - 0s 76ms/step - loss: 0.3341 - mean_absolute_error: 0.3341 - val_loss: 0.5239 - val_mean_absolute_error: 0.5239\n",
      "Epoch 24/150\n",
      "2/2 [==============================] - 0s 76ms/step - loss: 0.3254 - mean_absolute_error: 0.3254 - val_loss: 0.5223 - val_mean_absolute_error: 0.5223\n",
      "Epoch 25/150\n",
      "2/2 [==============================] - 0s 76ms/step - loss: 0.3260 - mean_absolute_error: 0.3260 - val_loss: 0.5208 - val_mean_absolute_error: 0.5208\n",
      "Epoch 26/150\n",
      "2/2 [==============================] - 0s 77ms/step - loss: 0.3184 - mean_absolute_error: 0.3184 - val_loss: 0.5193 - val_mean_absolute_error: 0.5193\n",
      "Epoch 27/150\n",
      "2/2 [==============================] - 0s 76ms/step - loss: 0.3263 - mean_absolute_error: 0.3263 - val_loss: 0.5178 - val_mean_absolute_error: 0.5178\n",
      "Epoch 28/150\n",
      "2/2 [==============================] - 0s 76ms/step - loss: 0.3205 - mean_absolute_error: 0.3205 - val_loss: 0.5163 - val_mean_absolute_error: 0.5163\n",
      "Epoch 29/150\n",
      "2/2 [==============================] - 0s 76ms/step - loss: 0.3157 - mean_absolute_error: 0.3157 - val_loss: 0.5148 - val_mean_absolute_error: 0.5148\n",
      "Epoch 30/150\n",
      "2/2 [==============================] - 0s 76ms/step - loss: 0.3246 - mean_absolute_error: 0.3246 - val_loss: 0.5134 - val_mean_absolute_error: 0.5134\n",
      "Epoch 31/150\n",
      "2/2 [==============================] - 0s 76ms/step - loss: 0.3166 - mean_absolute_error: 0.3166 - val_loss: 0.5120 - val_mean_absolute_error: 0.5120\n",
      "Epoch 32/150\n",
      "2/2 [==============================] - 0s 75ms/step - loss: 0.3086 - mean_absolute_error: 0.3086 - val_loss: 0.5106 - val_mean_absolute_error: 0.5106\n",
      "Epoch 33/150\n",
      "2/2 [==============================] - 0s 76ms/step - loss: 0.2992 - mean_absolute_error: 0.2992 - val_loss: 0.5093 - val_mean_absolute_error: 0.5093\n",
      "Epoch 34/150\n",
      "2/2 [==============================] - 0s 75ms/step - loss: 0.3108 - mean_absolute_error: 0.3108 - val_loss: 0.5080 - val_mean_absolute_error: 0.5080\n",
      "Epoch 35/150\n",
      "2/2 [==============================] - 0s 75ms/step - loss: 0.3094 - mean_absolute_error: 0.3094 - val_loss: 0.5067 - val_mean_absolute_error: 0.5067\n",
      "Epoch 36/150\n",
      "2/2 [==============================] - 0s 76ms/step - loss: 0.2974 - mean_absolute_error: 0.2974 - val_loss: 0.5054 - val_mean_absolute_error: 0.5054\n",
      "Epoch 37/150\n",
      "2/2 [==============================] - 0s 76ms/step - loss: 0.3072 - mean_absolute_error: 0.3072 - val_loss: 0.5042 - val_mean_absolute_error: 0.5042\n",
      "Epoch 38/150\n",
      "2/2 [==============================] - 0s 77ms/step - loss: 0.2995 - mean_absolute_error: 0.2995 - val_loss: 0.5029 - val_mean_absolute_error: 0.5029\n",
      "Epoch 39/150\n",
      "2/2 [==============================] - 0s 77ms/step - loss: 0.3141 - mean_absolute_error: 0.3141 - val_loss: 0.5016 - val_mean_absolute_error: 0.5016\n",
      "Epoch 40/150\n",
      "2/2 [==============================] - 0s 77ms/step - loss: 0.3061 - mean_absolute_error: 0.3061 - val_loss: 0.5003 - val_mean_absolute_error: 0.5003\n",
      "Epoch 41/150\n",
      "2/2 [==============================] - 0s 76ms/step - loss: 0.2839 - mean_absolute_error: 0.2839 - val_loss: 0.4991 - val_mean_absolute_error: 0.4991\n",
      "Epoch 42/150\n",
      "2/2 [==============================] - 0s 76ms/step - loss: 0.3040 - mean_absolute_error: 0.3040 - val_loss: 0.4979 - val_mean_absolute_error: 0.4979\n",
      "Epoch 43/150\n",
      "2/2 [==============================] - 0s 76ms/step - loss: 0.2956 - mean_absolute_error: 0.2956 - val_loss: 0.4968 - val_mean_absolute_error: 0.4968\n",
      "Epoch 44/150\n",
      "2/2 [==============================] - 0s 77ms/step - loss: 0.2872 - mean_absolute_error: 0.2872 - val_loss: 0.4956 - val_mean_absolute_error: 0.4956\n",
      "Epoch 45/150\n",
      "2/2 [==============================] - 0s 77ms/step - loss: 0.2922 - mean_absolute_error: 0.2922 - val_loss: 0.4945 - val_mean_absolute_error: 0.4945\n",
      "Epoch 46/150\n",
      "2/2 [==============================] - 0s 76ms/step - loss: 0.2925 - mean_absolute_error: 0.2925 - val_loss: 0.4933 - val_mean_absolute_error: 0.4933\n",
      "Epoch 47/150\n",
      "2/2 [==============================] - 0s 75ms/step - loss: 0.3079 - mean_absolute_error: 0.3079 - val_loss: 0.4921 - val_mean_absolute_error: 0.4921\n",
      "Epoch 48/150\n",
      "2/2 [==============================] - 0s 75ms/step - loss: 0.2971 - mean_absolute_error: 0.2971 - val_loss: 0.4908 - val_mean_absolute_error: 0.4908\n",
      "Epoch 49/150\n",
      "2/2 [==============================] - 0s 76ms/step - loss: 0.2962 - mean_absolute_error: 0.2962 - val_loss: 0.4896 - val_mean_absolute_error: 0.4896\n",
      "Epoch 50/150\n",
      "2/2 [==============================] - 0s 75ms/step - loss: 0.2911 - mean_absolute_error: 0.2911 - val_loss: 0.4884 - val_mean_absolute_error: 0.4884\n",
      "Epoch 51/150\n",
      "2/2 [==============================] - 0s 76ms/step - loss: 0.2898 - mean_absolute_error: 0.2898 - val_loss: 0.4873 - val_mean_absolute_error: 0.4873\n",
      "Epoch 52/150\n",
      "2/2 [==============================] - 0s 75ms/step - loss: 0.2919 - mean_absolute_error: 0.2919 - val_loss: 0.4863 - val_mean_absolute_error: 0.4863\n",
      "Epoch 53/150\n",
      "2/2 [==============================] - 0s 98ms/step - loss: 0.2806 - mean_absolute_error: 0.2806 - val_loss: 0.4852 - val_mean_absolute_error: 0.4852\n",
      "Epoch 54/150\n",
      "2/2 [==============================] - 0s 76ms/step - loss: 0.2862 - mean_absolute_error: 0.2862 - val_loss: 0.4841 - val_mean_absolute_error: 0.4841\n",
      "Epoch 55/150\n",
      "2/2 [==============================] - 0s 75ms/step - loss: 0.2981 - mean_absolute_error: 0.2981 - val_loss: 0.4830 - val_mean_absolute_error: 0.4830\n",
      "Epoch 56/150\n",
      "2/2 [==============================] - 0s 75ms/step - loss: 0.2832 - mean_absolute_error: 0.2832 - val_loss: 0.4820 - val_mean_absolute_error: 0.4820\n",
      "Epoch 57/150\n",
      "2/2 [==============================] - 0s 76ms/step - loss: 0.2811 - mean_absolute_error: 0.2811 - val_loss: 0.4810 - val_mean_absolute_error: 0.4810\n",
      "Epoch 58/150\n",
      "2/2 [==============================] - 0s 75ms/step - loss: 0.2907 - mean_absolute_error: 0.2907 - val_loss: 0.4800 - val_mean_absolute_error: 0.4800\n",
      "Epoch 59/150\n",
      "2/2 [==============================] - 0s 76ms/step - loss: 0.2880 - mean_absolute_error: 0.2880 - val_loss: 0.4790 - val_mean_absolute_error: 0.4790\n",
      "Epoch 60/150\n",
      "2/2 [==============================] - 0s 76ms/step - loss: 0.2699 - mean_absolute_error: 0.2699 - val_loss: 0.4781 - val_mean_absolute_error: 0.4781\n",
      "Epoch 61/150\n",
      "2/2 [==============================] - 0s 76ms/step - loss: 0.2914 - mean_absolute_error: 0.2914 - val_loss: 0.4771 - val_mean_absolute_error: 0.4771\n",
      "Epoch 62/150\n",
      "2/2 [==============================] - 0s 76ms/step - loss: 0.2953 - mean_absolute_error: 0.2953 - val_loss: 0.4762 - val_mean_absolute_error: 0.4762\n",
      "Epoch 63/150\n",
      "2/2 [==============================] - 0s 77ms/step - loss: 0.2914 - mean_absolute_error: 0.2914 - val_loss: 0.4753 - val_mean_absolute_error: 0.4753\n",
      "Epoch 64/150\n",
      "2/2 [==============================] - 0s 76ms/step - loss: 0.2841 - mean_absolute_error: 0.2841 - val_loss: 0.4744 - val_mean_absolute_error: 0.4744\n",
      "Epoch 65/150\n",
      "2/2 [==============================] - 0s 76ms/step - loss: 0.2880 - mean_absolute_error: 0.2880 - val_loss: 0.4736 - val_mean_absolute_error: 0.4736\n",
      "Epoch 66/150\n",
      "2/2 [==============================] - 0s 76ms/step - loss: 0.2861 - mean_absolute_error: 0.2861 - val_loss: 0.4727 - val_mean_absolute_error: 0.4727\n",
      "Epoch 67/150\n",
      "2/2 [==============================] - 0s 76ms/step - loss: 0.2729 - mean_absolute_error: 0.2729 - val_loss: 0.4717 - val_mean_absolute_error: 0.4717\n",
      "Epoch 68/150\n",
      "2/2 [==============================] - 0s 73ms/step - loss: 0.2674 - mean_absolute_error: 0.2674 - val_loss: 0.4700 - val_mean_absolute_error: 0.4700\n",
      "Epoch 69/150\n",
      "2/2 [==============================] - 0s 75ms/step - loss: 0.2875 - mean_absolute_error: 0.2875 - val_loss: 0.4679 - val_mean_absolute_error: 0.4679\n",
      "Epoch 70/150\n",
      "2/2 [==============================] - 0s 76ms/step - loss: 0.2860 - mean_absolute_error: 0.2860 - val_loss: 0.4644 - val_mean_absolute_error: 0.4644\n",
      "Epoch 71/150\n",
      "2/2 [==============================] - 0s 75ms/step - loss: 0.2877 - mean_absolute_error: 0.2877 - val_loss: 0.4581 - val_mean_absolute_error: 0.4581\n",
      "Epoch 72/150\n",
      "2/2 [==============================] - 0s 76ms/step - loss: 0.2814 - mean_absolute_error: 0.2814 - val_loss: 0.4514 - val_mean_absolute_error: 0.4514\n",
      "Epoch 73/150\n",
      "2/2 [==============================] - 0s 76ms/step - loss: 0.2792 - mean_absolute_error: 0.2792 - val_loss: 0.4455 - val_mean_absolute_error: 0.4455\n",
      "Epoch 74/150\n",
      "2/2 [==============================] - 0s 76ms/step - loss: 0.2840 - mean_absolute_error: 0.2840 - val_loss: 0.4398 - val_mean_absolute_error: 0.4398\n",
      "Epoch 75/150\n",
      "2/2 [==============================] - 0s 77ms/step - loss: 0.2836 - mean_absolute_error: 0.2836 - val_loss: 0.4344 - val_mean_absolute_error: 0.4344\n",
      "Epoch 76/150\n",
      "2/2 [==============================] - 0s 76ms/step - loss: 0.2708 - mean_absolute_error: 0.2708 - val_loss: 0.4280 - val_mean_absolute_error: 0.4280\n",
      "Epoch 77/150\n",
      "2/2 [==============================] - 0s 75ms/step - loss: 0.2755 - mean_absolute_error: 0.2755 - val_loss: 0.4222 - val_mean_absolute_error: 0.4222\n",
      "Epoch 78/150\n",
      "2/2 [==============================] - 0s 75ms/step - loss: 0.2738 - mean_absolute_error: 0.2738 - val_loss: 0.4167 - val_mean_absolute_error: 0.4167\n",
      "Epoch 79/150\n",
      "2/2 [==============================] - 0s 77ms/step - loss: 0.2774 - mean_absolute_error: 0.2774 - val_loss: 0.4117 - val_mean_absolute_error: 0.4117\n",
      "Epoch 80/150\n",
      "2/2 [==============================] - 0s 76ms/step - loss: 0.2766 - mean_absolute_error: 0.2766 - val_loss: 0.4074 - val_mean_absolute_error: 0.4074\n",
      "Epoch 81/150\n",
      "2/2 [==============================] - 0s 76ms/step - loss: 0.2645 - mean_absolute_error: 0.2645 - val_loss: 0.4031 - val_mean_absolute_error: 0.4031\n",
      "Epoch 82/150\n",
      "2/2 [==============================] - 0s 76ms/step - loss: 0.2732 - mean_absolute_error: 0.2732 - val_loss: 0.3985 - val_mean_absolute_error: 0.3985\n",
      "Epoch 83/150\n",
      "2/2 [==============================] - 0s 77ms/step - loss: 0.2647 - mean_absolute_error: 0.2647 - val_loss: 0.3947 - val_mean_absolute_error: 0.3947\n",
      "Epoch 84/150\n",
      "2/2 [==============================] - 0s 77ms/step - loss: 0.2729 - mean_absolute_error: 0.2729 - val_loss: 0.3915 - val_mean_absolute_error: 0.3915\n",
      "Epoch 85/150\n",
      "2/2 [==============================] - 0s 77ms/step - loss: 0.2745 - mean_absolute_error: 0.2745 - val_loss: 0.3874 - val_mean_absolute_error: 0.3874\n",
      "Epoch 86/150\n",
      "2/2 [==============================] - 0s 76ms/step - loss: 0.2628 - mean_absolute_error: 0.2628 - val_loss: 0.3822 - val_mean_absolute_error: 0.3822\n",
      "Epoch 87/150\n",
      "2/2 [==============================] - 0s 77ms/step - loss: 0.2595 - mean_absolute_error: 0.2595 - val_loss: 0.3758 - val_mean_absolute_error: 0.3758\n",
      "Epoch 88/150\n",
      "2/2 [==============================] - 0s 76ms/step - loss: 0.2700 - mean_absolute_error: 0.2700 - val_loss: 0.3694 - val_mean_absolute_error: 0.3694\n",
      "Epoch 89/150\n",
      "2/2 [==============================] - 0s 76ms/step - loss: 0.2733 - mean_absolute_error: 0.2733 - val_loss: 0.3635 - val_mean_absolute_error: 0.3635\n",
      "Epoch 90/150\n",
      "2/2 [==============================] - 0s 75ms/step - loss: 0.2700 - mean_absolute_error: 0.2700 - val_loss: 0.3581 - val_mean_absolute_error: 0.3581\n",
      "Epoch 91/150\n",
      "2/2 [==============================] - 0s 75ms/step - loss: 0.2855 - mean_absolute_error: 0.2855 - val_loss: 0.3530 - val_mean_absolute_error: 0.3530\n",
      "Epoch 92/150\n",
      "2/2 [==============================] - 0s 77ms/step - loss: 0.2666 - mean_absolute_error: 0.2666 - val_loss: 0.3471 - val_mean_absolute_error: 0.3471\n",
      "Epoch 93/150\n",
      "2/2 [==============================] - 0s 76ms/step - loss: 0.2719 - mean_absolute_error: 0.2719 - val_loss: 0.3430 - val_mean_absolute_error: 0.3430\n",
      "Epoch 94/150\n",
      "2/2 [==============================] - 0s 75ms/step - loss: 0.2756 - mean_absolute_error: 0.2756 - val_loss: 0.3403 - val_mean_absolute_error: 0.3403\n",
      "Epoch 95/150\n",
      "2/2 [==============================] - 0s 75ms/step - loss: 0.2764 - mean_absolute_error: 0.2764 - val_loss: 0.3388 - val_mean_absolute_error: 0.3388\n",
      "Epoch 96/150\n",
      "2/2 [==============================] - 0s 77ms/step - loss: 0.2748 - mean_absolute_error: 0.2748 - val_loss: 0.3374 - val_mean_absolute_error: 0.3374\n",
      "Epoch 97/150\n",
      "2/2 [==============================] - 0s 111ms/step - loss: 0.2617 - mean_absolute_error: 0.2617 - val_loss: 0.3360 - val_mean_absolute_error: 0.3360\n",
      "Epoch 98/150\n",
      "2/2 [==============================] - 0s 76ms/step - loss: 0.2705 - mean_absolute_error: 0.2705 - val_loss: 0.3345 - val_mean_absolute_error: 0.3345\n",
      "Epoch 99/150\n",
      "2/2 [==============================] - 0s 76ms/step - loss: 0.2643 - mean_absolute_error: 0.2643 - val_loss: 0.3331 - val_mean_absolute_error: 0.3331\n",
      "Epoch 100/150\n",
      "2/2 [==============================] - 0s 76ms/step - loss: 0.2539 - mean_absolute_error: 0.2539 - val_loss: 0.3319 - val_mean_absolute_error: 0.3319\n",
      "Epoch 101/150\n",
      "2/2 [==============================] - 0s 75ms/step - loss: 0.2694 - mean_absolute_error: 0.2694 - val_loss: 0.3306 - val_mean_absolute_error: 0.3306\n",
      "Epoch 102/150\n",
      "2/2 [==============================] - 0s 76ms/step - loss: 0.2686 - mean_absolute_error: 0.2686 - val_loss: 0.3292 - val_mean_absolute_error: 0.3292\n",
      "Epoch 103/150\n",
      "2/2 [==============================] - 0s 76ms/step - loss: 0.2750 - mean_absolute_error: 0.2750 - val_loss: 0.3268 - val_mean_absolute_error: 0.3268\n",
      "Epoch 104/150\n",
      "2/2 [==============================] - 0s 76ms/step - loss: 0.2554 - mean_absolute_error: 0.2554 - val_loss: 0.3232 - val_mean_absolute_error: 0.3232\n",
      "Epoch 105/150\n",
      "2/2 [==============================] - 0s 75ms/step - loss: 0.2703 - mean_absolute_error: 0.2703 - val_loss: 0.3198 - val_mean_absolute_error: 0.3198\n",
      "Epoch 106/150\n",
      "2/2 [==============================] - 0s 76ms/step - loss: 0.2671 - mean_absolute_error: 0.2671 - val_loss: 0.3168 - val_mean_absolute_error: 0.3168\n",
      "Epoch 107/150\n",
      "2/2 [==============================] - 0s 76ms/step - loss: 0.2725 - mean_absolute_error: 0.2725 - val_loss: 0.3141 - val_mean_absolute_error: 0.3141\n",
      "Epoch 108/150\n",
      "2/2 [==============================] - 0s 76ms/step - loss: 0.2664 - mean_absolute_error: 0.2664 - val_loss: 0.3116 - val_mean_absolute_error: 0.3116\n",
      "Epoch 109/150\n",
      "2/2 [==============================] - 0s 76ms/step - loss: 0.2632 - mean_absolute_error: 0.2632 - val_loss: 0.3090 - val_mean_absolute_error: 0.3090\n",
      "Epoch 110/150\n",
      "2/2 [==============================] - 0s 76ms/step - loss: 0.2587 - mean_absolute_error: 0.2587 - val_loss: 0.3069 - val_mean_absolute_error: 0.3069\n",
      "Epoch 111/150\n",
      "2/2 [==============================] - 0s 76ms/step - loss: 0.2599 - mean_absolute_error: 0.2599 - val_loss: 0.3056 - val_mean_absolute_error: 0.3056\n",
      "Epoch 112/150\n",
      "2/2 [==============================] - 0s 76ms/step - loss: 0.2646 - mean_absolute_error: 0.2646 - val_loss: 0.3043 - val_mean_absolute_error: 0.3043\n",
      "Epoch 113/150\n",
      "2/2 [==============================] - 0s 75ms/step - loss: 0.2582 - mean_absolute_error: 0.2582 - val_loss: 0.3028 - val_mean_absolute_error: 0.3028\n",
      "Epoch 114/150\n",
      "2/2 [==============================] - 0s 76ms/step - loss: 0.2586 - mean_absolute_error: 0.2586 - val_loss: 0.3012 - val_mean_absolute_error: 0.3012\n",
      "Epoch 115/150\n",
      "2/2 [==============================] - 0s 76ms/step - loss: 0.2710 - mean_absolute_error: 0.2710 - val_loss: 0.3000 - val_mean_absolute_error: 0.3000\n",
      "Epoch 116/150\n",
      "2/2 [==============================] - 0s 76ms/step - loss: 0.2513 - mean_absolute_error: 0.2513 - val_loss: 0.2991 - val_mean_absolute_error: 0.2991\n",
      "Epoch 117/150\n",
      "2/2 [==============================] - 0s 76ms/step - loss: 0.2675 - mean_absolute_error: 0.2675 - val_loss: 0.2978 - val_mean_absolute_error: 0.2978\n",
      "Epoch 118/150\n",
      "2/2 [==============================] - 0s 74ms/step - loss: 0.2573 - mean_absolute_error: 0.2573 - val_loss: 0.2957 - val_mean_absolute_error: 0.2957\n",
      "Epoch 119/150\n",
      "2/2 [==============================] - 0s 77ms/step - loss: 0.2641 - mean_absolute_error: 0.2641 - val_loss: 0.2935 - val_mean_absolute_error: 0.2935\n",
      "Epoch 120/150\n",
      "2/2 [==============================] - 0s 75ms/step - loss: 0.2615 - mean_absolute_error: 0.2615 - val_loss: 0.2909 - val_mean_absolute_error: 0.2909\n",
      "Epoch 121/150\n",
      "2/2 [==============================] - 0s 75ms/step - loss: 0.2545 - mean_absolute_error: 0.2545 - val_loss: 0.2886 - val_mean_absolute_error: 0.2886\n",
      "Epoch 122/150\n",
      "2/2 [==============================] - 0s 76ms/step - loss: 0.2604 - mean_absolute_error: 0.2604 - val_loss: 0.2858 - val_mean_absolute_error: 0.2858\n",
      "Epoch 123/150\n",
      "2/2 [==============================] - 0s 77ms/step - loss: 0.2589 - mean_absolute_error: 0.2589 - val_loss: 0.2837 - val_mean_absolute_error: 0.2837\n",
      "Epoch 124/150\n",
      "2/2 [==============================] - 0s 76ms/step - loss: 0.2697 - mean_absolute_error: 0.2697 - val_loss: 0.2823 - val_mean_absolute_error: 0.2823\n",
      "Epoch 125/150\n",
      "2/2 [==============================] - 0s 76ms/step - loss: 0.2626 - mean_absolute_error: 0.2626 - val_loss: 0.2811 - val_mean_absolute_error: 0.2811\n",
      "Epoch 126/150\n",
      "2/2 [==============================] - 0s 76ms/step - loss: 0.2574 - mean_absolute_error: 0.2574 - val_loss: 0.2796 - val_mean_absolute_error: 0.2796\n",
      "Epoch 127/150\n",
      "2/2 [==============================] - 0s 76ms/step - loss: 0.2618 - mean_absolute_error: 0.2618 - val_loss: 0.2779 - val_mean_absolute_error: 0.2779\n",
      "Epoch 128/150\n",
      "2/2 [==============================] - 0s 76ms/step - loss: 0.2483 - mean_absolute_error: 0.2483 - val_loss: 0.2763 - val_mean_absolute_error: 0.2763\n",
      "Epoch 129/150\n",
      "2/2 [==============================] - 0s 76ms/step - loss: 0.2674 - mean_absolute_error: 0.2674 - val_loss: 0.2747 - val_mean_absolute_error: 0.2747\n",
      "Epoch 130/150\n",
      "2/2 [==============================] - 0s 76ms/step - loss: 0.2626 - mean_absolute_error: 0.2626 - val_loss: 0.2734 - val_mean_absolute_error: 0.2734\n",
      "Epoch 131/150\n",
      "2/2 [==============================] - 0s 77ms/step - loss: 0.2487 - mean_absolute_error: 0.2487 - val_loss: 0.2723 - val_mean_absolute_error: 0.2723\n",
      "Epoch 132/150\n",
      "2/2 [==============================] - 0s 75ms/step - loss: 0.2535 - mean_absolute_error: 0.2535 - val_loss: 0.2713 - val_mean_absolute_error: 0.2713\n",
      "Epoch 133/150\n",
      "2/2 [==============================] - 0s 77ms/step - loss: 0.2632 - mean_absolute_error: 0.2632 - val_loss: 0.2703 - val_mean_absolute_error: 0.2703\n",
      "Epoch 134/150\n",
      "2/2 [==============================] - 0s 76ms/step - loss: 0.2629 - mean_absolute_error: 0.2629 - val_loss: 0.2698 - val_mean_absolute_error: 0.2698\n",
      "Epoch 135/150\n",
      "2/2 [==============================] - 0s 75ms/step - loss: 0.2642 - mean_absolute_error: 0.2642 - val_loss: 0.2693 - val_mean_absolute_error: 0.2693\n",
      "Epoch 136/150\n",
      "2/2 [==============================] - 0s 76ms/step - loss: 0.2566 - mean_absolute_error: 0.2566 - val_loss: 0.2690 - val_mean_absolute_error: 0.2690\n",
      "Epoch 137/150\n",
      "2/2 [==============================] - 0s 76ms/step - loss: 0.2567 - mean_absolute_error: 0.2567 - val_loss: 0.2682 - val_mean_absolute_error: 0.2682\n",
      "Epoch 138/150\n",
      "2/2 [==============================] - 0s 76ms/step - loss: 0.2519 - mean_absolute_error: 0.2519 - val_loss: 0.2672 - val_mean_absolute_error: 0.2672\n",
      "Epoch 139/150\n",
      "2/2 [==============================] - 0s 76ms/step - loss: 0.2573 - mean_absolute_error: 0.2573 - val_loss: 0.2661 - val_mean_absolute_error: 0.2661\n",
      "Epoch 140/150\n",
      "2/2 [==============================] - 0s 75ms/step - loss: 0.2615 - mean_absolute_error: 0.2615 - val_loss: 0.2651 - val_mean_absolute_error: 0.2651\n",
      "Epoch 141/150\n",
      "2/2 [==============================] - 0s 99ms/step - loss: 0.2506 - mean_absolute_error: 0.2506 - val_loss: 0.2640 - val_mean_absolute_error: 0.2640\n",
      "Epoch 142/150\n",
      "2/2 [==============================] - 0s 76ms/step - loss: 0.2604 - mean_absolute_error: 0.2604 - val_loss: 0.2632 - val_mean_absolute_error: 0.2632\n",
      "Epoch 143/150\n",
      "2/2 [==============================] - 0s 76ms/step - loss: 0.2401 - mean_absolute_error: 0.2401 - val_loss: 0.2625 - val_mean_absolute_error: 0.2625\n",
      "Epoch 144/150\n",
      "2/2 [==============================] - 0s 76ms/step - loss: 0.2595 - mean_absolute_error: 0.2595 - val_loss: 0.2622 - val_mean_absolute_error: 0.2622\n",
      "Epoch 145/150\n",
      "2/2 [==============================] - 0s 75ms/step - loss: 0.2534 - mean_absolute_error: 0.2534 - val_loss: 0.2621 - val_mean_absolute_error: 0.2621\n",
      "Epoch 146/150\n",
      "2/2 [==============================] - 0s 76ms/step - loss: 0.2574 - mean_absolute_error: 0.2574 - val_loss: 0.2621 - val_mean_absolute_error: 0.2621\n",
      "Epoch 147/150\n",
      "2/2 [==============================] - 0s 74ms/step - loss: 0.2496 - mean_absolute_error: 0.2496 - val_loss: 0.2620 - val_mean_absolute_error: 0.2620\n",
      "Epoch 148/150\n",
      "2/2 [==============================] - 0s 76ms/step - loss: 0.2660 - mean_absolute_error: 0.2660 - val_loss: 0.2620 - val_mean_absolute_error: 0.2620\n",
      "Epoch 149/150\n",
      "2/2 [==============================] - 0s 75ms/step - loss: 0.2542 - mean_absolute_error: 0.2542 - val_loss: 0.2620 - val_mean_absolute_error: 0.2620\n",
      "Epoch 150/150\n",
      "2/2 [==============================] - 0s 74ms/step - loss: 0.2603 - mean_absolute_error: 0.2603 - val_loss: 0.2622 - val_mean_absolute_error: 0.2622\n"
     ]
    }
   ],
   "source": [
    "model = aging_model\n",
    "\n",
    "# save the best performing model\n",
    "checkpointer = ModelCheckpoint(filepath='Result/saved_weights.hdf5', \n",
    "                               monitor='val_loss', verbose=0, \n",
    "                               save_best_only=True)\n",
    "\n",
    "st = time.time()\n",
    "# model training\n",
    "model.fit([x_train], y_train,\n",
    "          batch_size=60,\n",
    "          epochs=150, \n",
    "          verbose=1,\n",
    "          callbacks=[checkpointer],\n",
    "          validation_data=([x_valid], y_valid))\n",
    "rt = time.time()-st"
   ]
  },
  {
   "cell_type": "code",
   "execution_count": 13,
   "metadata": {},
   "outputs": [
    {
     "data": {
      "text/plain": [
       "25.359264373779297"
      ]
     },
     "execution_count": 13,
     "metadata": {},
     "output_type": "execute_result"
    }
   ],
   "source": [
    "rt"
   ]
  },
  {
   "cell_type": "code",
   "execution_count": 14,
   "metadata": {
    "tags": []
   },
   "outputs": [
    {
     "data": {
      "image/png": "[encoded data removed]",
      "text/plain": [
       "<Figure size 432x288 with 1 Axes>"
      ]
     },
     "metadata": {
      "needs_background": "light"
     },
     "output_type": "display_data"
    }
   ],
   "source": [
    "##### Step 6: plot train and validation loss #####\n",
    "history = model.history\n",
    "plt.plot(age_range*pd.Series(history.history['mean_absolute_error']))\n",
    "plt.plot(age_range*pd.Series(history.history['val_mean_absolute_error']))\n",
    "plt.title('model train vs validation loss')\n",
    "plt.ylabel('loss')\n",
    "plt.xlabel('epoch')\n",
    "plt.legend(['train', 'validation'], loc='upper right')\n",
    "plt.show()"
   ]
  },
  {
   "cell_type": "code",
   "execution_count": 15,
   "metadata": {},
   "outputs": [
    {
     "name": "stdout",
     "output_type": "stream",
     "text": [
      "count    38.000000\n",
      "mean     39.329406\n",
      "std      15.442524\n",
      "min      14.935036\n",
      "25%      26.694522\n",
      "50%      39.505935\n",
      "75%      52.529742\n",
      "max      63.372478\n",
      "dtype: float64\n"
     ]
    },
    {
     "data": {
      "text/plain": [
       "<AxesSubplot:ylabel='Frequency'>"
      ]
     },
     "execution_count": 15,
     "metadata": {},
     "output_type": "execute_result"
    },
    {
     "data": {
      "image/png": "[encoded data removed]",
      "text/plain": [
       "<Figure size 432x288 with 1 Axes>"
      ]
     },
     "metadata": {
      "needs_background": "light"
     },
     "output_type": "display_data"
    }
   ],
   "source": [
    "#### Step 7: test the final model #####\n",
    "final_model = model\n",
    "# load final model\n",
    "# final_model = load_model('Data/Final_weights.hdf5')\n",
    "x_test = x_valid\n",
    "y_test = y_valid\n",
    "\n",
    "# generate ROC and AUC\n",
    "y_scores = final_model.predict([x_test])\n",
    "y_scores = y_scores.reshape(y_scores.shape[0])\n",
    "errors = age_range * (pd.Series(y_scores)-pd.Series(y_valid)) + age_min\n",
    "print(errors.describe())\n",
    "errors.plot.hist()"
   ]
  },
  {
   "cell_type": "code",
   "execution_count": null,
   "metadata": {},
   "outputs": [],
   "source": []
  }
 ],
 "metadata": {
  "kernelspec": {
   "display_name": "Python 3",
   "language": "python",
   "name": "python3"
  },
  "language_info": {
   "codemirror_mode": {
    "name": "ipython",
    "version": 3
   },
   "file_extension": ".py",
   "mimetype": "text/x-python",
   "name": "python",
   "nbconvert_exporter": "python",
   "pygments_lexer": "ipython3",
   "version": "3.9.6"
  }
 },
 "nbformat": 4,
 "nbformat_minor": 4
}
