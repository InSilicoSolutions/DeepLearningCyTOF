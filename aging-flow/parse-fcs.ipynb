{
 "cells": [
  {
   "cell_type": "code",
   "execution_count": 1,
   "id": "e20e49c4-7f4b-4bb2-bf4a-353926b1b094",
   "metadata": {},
   "outputs": [],
   "source": [
    "%matplotlib widget"
   ]
  },
  {
   "cell_type": "code",
   "execution_count": 2,
   "id": "e9714950-8748-423c-8330-fea5bbfd359f",
   "metadata": {
    "collapsed": false,
    "jupyter": {
     "outputs_hidden": false
    }
   },
   "outputs": [],
   "source": [
    "import numpy as np\n",
    "import scipy as sp\n",
    "import pandas as pd\n",
    "import rpy2 as rp\n",
    "from rpy2.robjects.packages import importr\n",
    "from rpy2.robjects import pandas2ri\n",
    "from rpy2.robjects.conversion import localconverter\n",
    "import os \n",
    "import rpy2.robjects as ro\n",
    "import pickle\n",
    "from collections import Counter\n",
    "from pathlib import Path\n",
    "import csv\n",
    "import multiprocessing as mp\n",
    "import matplotlib.pyplot as plt\n",
    "import re\n",
    "import fcsparser\n",
    "import traceback\n",
    "import mpl_scatter_density\n",
    "from matplotlib.colors import LinearSegmentedColormap"
   ]
  },
  {
   "cell_type": "code",
   "execution_count": 3,
   "id": "b476aad9-72dc-434a-a05b-a715c95dae23",
   "metadata": {},
   "outputs": [],
   "source": [
    "# %config InlineBackend.figure_format = 'svg'\n",
    "plt.rcParams['figure.figsize'] = [9,6]"
   ]
  },
  {
   "cell_type": "code",
   "execution_count": 4,
   "id": "c35612eb-5c9a-40fb-8c23-c94ff4960458",
   "metadata": {},
   "outputs": [],
   "source": [
    "# Pacific Orange and Alexa Fluor 750\n",
    "pac = 'Pacific Orange-A'\n",
    "apc = 'APC-Alexa 750-A'\n",
    "eps = np.finfo(float).eps"
   ]
  },
  {
   "cell_type": "code",
   "execution_count": 5,
   "id": "af4669b4-0ed5-4cf0-963a-787dcdf68644",
   "metadata": {},
   "outputs": [
    {
     "name": "stdout",
     "output_type": "stream",
     "text": [
      "/home/ubuntu/a/aging/data\n",
      "/home/ubuntu/a/aging/data/ResultFiles/fcs-pickles\n",
      "/home/ubuntu/a/aging/data/ResultFiles/Flow_cytometry_result\n"
     ]
    }
   ],
   "source": [
    "base_dir = Path('../../aging/data')\n",
    "base_dir = base_dir.resolve()\n",
    "print(base_dir)\n",
    "pickle_dir = base_dir/'ResultFiles'/'fcs-pickles'\n",
    "pickle_dir.mkdir(exist_ok=True)\n",
    "print(pickle_dir)\n",
    "fcs_dir = base_dir/Path('ResultFiles/Flow_cytometry_result')\n",
    "print(fcs_dir)\n",
    "\n",
    "mfest_path = base_dir/Path('SDY420-DR40_Subject_2_Flow_cytometry_result.txt')\n",
    "mfest_all = pd.read_csv(mfest_path, sep='\\t')\n",
    "\n",
    "mfest = mfest_all"
   ]
  },
  {
   "cell_type": "code",
   "execution_count": 6,
   "id": "1ab5ee46-075a-48f6-aa87-5b0cf64e100c",
   "metadata": {},
   "outputs": [
    {
     "data": {
      "text/plain": [
       "PosixPath('/home/ubuntu/a/aging/data/ResultFiles/Flow_cytometry_result/RC4_09:23:11_RC4_09:23:11_S_11-029-0.533045.fcs')"
      ]
     },
     "execution_count": 6,
     "metadata": {},
     "output_type": "execute_result"
    }
   ],
   "source": [
    "for subject, df in mfest.groupby('Subject Accession'):\n",
    "    unq = df['File Name']\n",
    "    if len(df['File Name'].unique()) == 1:\n",
    "        fp = fcs_dir/df['File Name'].iloc[0]\n",
    "        break\n",
    "fp"
   ]
  },
  {
   "cell_type": "code",
   "execution_count": 7,
   "id": "18092641-7380-46a5-b83c-266e471908c1",
   "metadata": {},
   "outputs": [],
   "source": [
    "meta, df = fcsparser.parse(fp)"
   ]
  },
  {
   "cell_type": "code",
   "execution_count": 8,
   "id": "7dd39563-b647-4de9-95b4-185e29c5b068",
   "metadata": {},
   "outputs": [
    {
     "data": {
      "text/html": [
       "<div>\n",
       "<style scoped>\n",
       "    .dataframe tbody tr th:only-of-type {\n",
       "        vertical-align: middle;\n",
       "    }\n",
       "\n",
       "    .dataframe tbody tr th {\n",
       "        vertical-align: top;\n",
       "    }\n",
       "\n",
       "    .dataframe thead th {\n",
       "        text-align: right;\n",
       "    }\n",
       "</style>\n",
       "<table border=\"1\" class=\"dataframe\">\n",
       "  <thead>\n",
       "    <tr style=\"text-align: right;\">\n",
       "      <th></th>\n",
       "      <th>FSC-A</th>\n",
       "      <th>FSC-H</th>\n",
       "      <th>FSC-W</th>\n",
       "      <th>SSC-A</th>\n",
       "      <th>SSC-H</th>\n",
       "      <th>SSC-W</th>\n",
       "      <th>FITC-A</th>\n",
       "      <th>PE-A</th>\n",
       "      <th>PerCP-Cy5-5-A</th>\n",
       "      <th>PE-Cy7-A</th>\n",
       "      <th>Pacific Blue-A</th>\n",
       "      <th>APC-A</th>\n",
       "      <th>Alexa 700-A</th>\n",
       "      <th>APC-Alexa 750-A</th>\n",
       "      <th>Pacific Orange-A</th>\n",
       "      <th>Time</th>\n",
       "    </tr>\n",
       "  </thead>\n",
       "  <tbody>\n",
       "    <tr>\n",
       "      <th>0</th>\n",
       "      <td>58792.324219</td>\n",
       "      <td>56465.0</td>\n",
       "      <td>68237.210938</td>\n",
       "      <td>69706.257812</td>\n",
       "      <td>62101.0</td>\n",
       "      <td>73561.929688</td>\n",
       "      <td>1146.599976</td>\n",
       "      <td>1049.099976</td>\n",
       "      <td>5350.020020</td>\n",
       "      <td>11979.239258</td>\n",
       "      <td>8326.50</td>\n",
       "      <td>1200.599976</td>\n",
       "      <td>10231.320312</td>\n",
       "      <td>16353.919922</td>\n",
       "      <td>4732.50</td>\n",
       "      <td>0.000000</td>\n",
       "    </tr>\n",
       "    <tr>\n",
       "      <th>1</th>\n",
       "      <td>8219.520508</td>\n",
       "      <td>8188.0</td>\n",
       "      <td>65788.289062</td>\n",
       "      <td>4680.000000</td>\n",
       "      <td>4764.0</td>\n",
       "      <td>64380.453125</td>\n",
       "      <td>98.279999</td>\n",
       "      <td>103.739998</td>\n",
       "      <td>1129.439941</td>\n",
       "      <td>358.799988</td>\n",
       "      <td>258.00</td>\n",
       "      <td>116.840004</td>\n",
       "      <td>1073.640015</td>\n",
       "      <td>328.440002</td>\n",
       "      <td>691.50</td>\n",
       "      <td>0.000000</td>\n",
       "    </tr>\n",
       "    <tr>\n",
       "      <th>2</th>\n",
       "      <td>42192.000000</td>\n",
       "      <td>43388.0</td>\n",
       "      <td>63729.488281</td>\n",
       "      <td>21393.058594</td>\n",
       "      <td>20636.0</td>\n",
       "      <td>67940.273438</td>\n",
       "      <td>442.259979</td>\n",
       "      <td>667.679993</td>\n",
       "      <td>5346.899902</td>\n",
       "      <td>1516.319946</td>\n",
       "      <td>1377.75</td>\n",
       "      <td>159.160004</td>\n",
       "      <td>3040.600098</td>\n",
       "      <td>1479.359985</td>\n",
       "      <td>30405.75</td>\n",
       "      <td>0.000000</td>\n",
       "    </tr>\n",
       "    <tr>\n",
       "      <th>3</th>\n",
       "      <td>6335.280273</td>\n",
       "      <td>6360.0</td>\n",
       "      <td>65281.277344</td>\n",
       "      <td>4123.080078</td>\n",
       "      <td>4268.0</td>\n",
       "      <td>63310.726562</td>\n",
       "      <td>-22.619999</td>\n",
       "      <td>15.599999</td>\n",
       "      <td>294.059998</td>\n",
       "      <td>-4.680000</td>\n",
       "      <td>176.25</td>\n",
       "      <td>57.960003</td>\n",
       "      <td>1311.920044</td>\n",
       "      <td>1496.840088</td>\n",
       "      <td>27.00</td>\n",
       "      <td>0.000000</td>\n",
       "    </tr>\n",
       "    <tr>\n",
       "      <th>4</th>\n",
       "      <td>5550.479980</td>\n",
       "      <td>5498.0</td>\n",
       "      <td>66161.554688</td>\n",
       "      <td>22354.019531</td>\n",
       "      <td>22622.0</td>\n",
       "      <td>64759.664062</td>\n",
       "      <td>220.739990</td>\n",
       "      <td>258.959991</td>\n",
       "      <td>676.259949</td>\n",
       "      <td>256.619995</td>\n",
       "      <td>497.25</td>\n",
       "      <td>74.520004</td>\n",
       "      <td>2205.239990</td>\n",
       "      <td>816.040039</td>\n",
       "      <td>1213.50</td>\n",
       "      <td>0.100000</td>\n",
       "    </tr>\n",
       "    <tr>\n",
       "      <th>...</th>\n",
       "      <td>...</td>\n",
       "      <td>...</td>\n",
       "      <td>...</td>\n",
       "      <td>...</td>\n",
       "      <td>...</td>\n",
       "      <td>...</td>\n",
       "      <td>...</td>\n",
       "      <td>...</td>\n",
       "      <td>...</td>\n",
       "      <td>...</td>\n",
       "      <td>...</td>\n",
       "      <td>...</td>\n",
       "      <td>...</td>\n",
       "      <td>...</td>\n",
       "      <td>...</td>\n",
       "      <td>...</td>\n",
       "    </tr>\n",
       "    <tr>\n",
       "      <th>499995</th>\n",
       "      <td>35898.480469</td>\n",
       "      <td>38711.0</td>\n",
       "      <td>60774.535156</td>\n",
       "      <td>22856.339844</td>\n",
       "      <td>23015.0</td>\n",
       "      <td>65084.210938</td>\n",
       "      <td>209.039993</td>\n",
       "      <td>862.679993</td>\n",
       "      <td>2741.699951</td>\n",
       "      <td>893.879944</td>\n",
       "      <td>1288.50</td>\n",
       "      <td>400.200012</td>\n",
       "      <td>3559.479980</td>\n",
       "      <td>1736.040039</td>\n",
       "      <td>3163.50</td>\n",
       "      <td>16830.199219</td>\n",
       "    </tr>\n",
       "    <tr>\n",
       "      <th>499996</th>\n",
       "      <td>15829.920898</td>\n",
       "      <td>13649.0</td>\n",
       "      <td>76007.750000</td>\n",
       "      <td>40329.117188</td>\n",
       "      <td>39169.0</td>\n",
       "      <td>67477.062500</td>\n",
       "      <td>351.779999</td>\n",
       "      <td>404.819977</td>\n",
       "      <td>1463.279907</td>\n",
       "      <td>797.939941</td>\n",
       "      <td>816.00</td>\n",
       "      <td>230.919998</td>\n",
       "      <td>4362.640137</td>\n",
       "      <td>7077.560059</td>\n",
       "      <td>1535.25</td>\n",
       "      <td>16830.199219</td>\n",
       "    </tr>\n",
       "    <tr>\n",
       "      <th>499997</th>\n",
       "      <td>34140.960938</td>\n",
       "      <td>36684.0</td>\n",
       "      <td>60992.859375</td>\n",
       "      <td>18562.439453</td>\n",
       "      <td>18632.0</td>\n",
       "      <td>65291.328125</td>\n",
       "      <td>454.739990</td>\n",
       "      <td>708.239990</td>\n",
       "      <td>3226.859863</td>\n",
       "      <td>1173.119995</td>\n",
       "      <td>4810.50</td>\n",
       "      <td>517.040039</td>\n",
       "      <td>6069.240234</td>\n",
       "      <td>7034.320312</td>\n",
       "      <td>4003.50</td>\n",
       "      <td>16830.300781</td>\n",
       "    </tr>\n",
       "    <tr>\n",
       "      <th>499998</th>\n",
       "      <td>127583.281250</td>\n",
       "      <td>79608.0</td>\n",
       "      <td>105030.875000</td>\n",
       "      <td>172019.640625</td>\n",
       "      <td>111352.0</td>\n",
       "      <td>101241.820312</td>\n",
       "      <td>2242.500000</td>\n",
       "      <td>3721.379883</td>\n",
       "      <td>115587.414062</td>\n",
       "      <td>53174.937500</td>\n",
       "      <td>18510.75</td>\n",
       "      <td>7047.200195</td>\n",
       "      <td>104347.320312</td>\n",
       "      <td>115618.242188</td>\n",
       "      <td>24762.75</td>\n",
       "      <td>16830.300781</td>\n",
       "    </tr>\n",
       "    <tr>\n",
       "      <th>499999</th>\n",
       "      <td>55049.761719</td>\n",
       "      <td>54961.0</td>\n",
       "      <td>65641.843750</td>\n",
       "      <td>74539.140625</td>\n",
       "      <td>71905.0</td>\n",
       "      <td>67936.828125</td>\n",
       "      <td>802.619995</td>\n",
       "      <td>1037.399902</td>\n",
       "      <td>8062.859863</td>\n",
       "      <td>8250.059570</td>\n",
       "      <td>3647.25</td>\n",
       "      <td>1747.080078</td>\n",
       "      <td>22545.519531</td>\n",
       "      <td>74019.523438</td>\n",
       "      <td>4947.00</td>\n",
       "      <td>16830.400391</td>\n",
       "    </tr>\n",
       "  </tbody>\n",
       "</table>\n",
       "<p>500000 rows × 16 columns</p>\n",
       "</div>"
      ],
      "text/plain": [
       "                FSC-A    FSC-H          FSC-W          SSC-A     SSC-H  \\\n",
       "0        58792.324219  56465.0   68237.210938   69706.257812   62101.0   \n",
       "1         8219.520508   8188.0   65788.289062    4680.000000    4764.0   \n",
       "2        42192.000000  43388.0   63729.488281   21393.058594   20636.0   \n",
       "3         6335.280273   6360.0   65281.277344    4123.080078    4268.0   \n",
       "4         5550.479980   5498.0   66161.554688   22354.019531   22622.0   \n",
       "...               ...      ...            ...            ...       ...   \n",
       "499995   35898.480469  38711.0   60774.535156   22856.339844   23015.0   \n",
       "499996   15829.920898  13649.0   76007.750000   40329.117188   39169.0   \n",
       "499997   34140.960938  36684.0   60992.859375   18562.439453   18632.0   \n",
       "499998  127583.281250  79608.0  105030.875000  172019.640625  111352.0   \n",
       "499999   55049.761719  54961.0   65641.843750   74539.140625   71905.0   \n",
       "\n",
       "                SSC-W       FITC-A         PE-A  PerCP-Cy5-5-A      PE-Cy7-A  \\\n",
       "0        73561.929688  1146.599976  1049.099976    5350.020020  11979.239258   \n",
       "1        64380.453125    98.279999   103.739998    1129.439941    358.799988   \n",
       "2        67940.273438   442.259979   667.679993    5346.899902   1516.319946   \n",
       "3        63310.726562   -22.619999    15.599999     294.059998     -4.680000   \n",
       "4        64759.664062   220.739990   258.959991     676.259949    256.619995   \n",
       "...               ...          ...          ...            ...           ...   \n",
       "499995   65084.210938   209.039993   862.679993    2741.699951    893.879944   \n",
       "499996   67477.062500   351.779999   404.819977    1463.279907    797.939941   \n",
       "499997   65291.328125   454.739990   708.239990    3226.859863   1173.119995   \n",
       "499998  101241.820312  2242.500000  3721.379883  115587.414062  53174.937500   \n",
       "499999   67936.828125   802.619995  1037.399902    8062.859863   8250.059570   \n",
       "\n",
       "        Pacific Blue-A        APC-A    Alexa 700-A  APC-Alexa 750-A  \\\n",
       "0              8326.50  1200.599976   10231.320312     16353.919922   \n",
       "1               258.00   116.840004    1073.640015       328.440002   \n",
       "2              1377.75   159.160004    3040.600098      1479.359985   \n",
       "3               176.25    57.960003    1311.920044      1496.840088   \n",
       "4               497.25    74.520004    2205.239990       816.040039   \n",
       "...                ...          ...            ...              ...   \n",
       "499995         1288.50   400.200012    3559.479980      1736.040039   \n",
       "499996          816.00   230.919998    4362.640137      7077.560059   \n",
       "499997         4810.50   517.040039    6069.240234      7034.320312   \n",
       "499998        18510.75  7047.200195  104347.320312    115618.242188   \n",
       "499999         3647.25  1747.080078   22545.519531     74019.523438   \n",
       "\n",
       "        Pacific Orange-A          Time  \n",
       "0                4732.50      0.000000  \n",
       "1                 691.50      0.000000  \n",
       "2               30405.75      0.000000  \n",
       "3                  27.00      0.000000  \n",
       "4                1213.50      0.100000  \n",
       "...                  ...           ...  \n",
       "499995           3163.50  16830.199219  \n",
       "499996           1535.25  16830.199219  \n",
       "499997           4003.50  16830.300781  \n",
       "499998          24762.75  16830.300781  \n",
       "499999           4947.00  16830.400391  \n",
       "\n",
       "[500000 rows x 16 columns]"
      ]
     },
     "execution_count": 8,
     "metadata": {},
     "output_type": "execute_result"
    }
   ],
   "source": [
    "df"
   ]
  },
  {
   "cell_type": "code",
   "execution_count": 9,
   "id": "4a26a063-2b67-4737-a415-fcd2a5d8b31a",
   "metadata": {},
   "outputs": [],
   "source": [
    "asinh = lambda _: np.arcsinh(_/10)"
   ]
  },
  {
   "cell_type": "code",
   "execution_count": 10,
   "id": "3fb27bb2-0148-4cdb-ab95-eeffea246bef",
   "metadata": {},
   "outputs": [],
   "source": [
    "%matplotlib inline\n",
    "plt.rcParams['figure.figsize'] = [9,6]"
   ]
  },
  {
   "cell_type": "code",
   "execution_count": 11,
   "id": "b076c12e-cb32-4992-80e8-c791635cfdbd",
   "metadata": {},
   "outputs": [
    {
     "data": {
      "image/png": "[encoded data removed]",
      "text/plain": [
       "<Figure size 648x432 with 1 Axes>"
      ]
     },
     "metadata": {
      "needs_background": "light"
     },
     "output_type": "display_data"
    }
   ],
   "source": [
    "plt.hist(df[pac], bins=np.arange(0,50000,100))\n",
    "plt.show()"
   ]
  },
  {
   "cell_type": "code",
   "execution_count": 12,
   "id": "8dfe4a38-0bb0-4c4e-b360-8ece8c2e7242",
   "metadata": {},
   "outputs": [
    {
     "data": {
      "image/png": "[encoded data removed]",
      "text/plain": [
       "<Figure size 648x432 with 1 Axes>"
      ]
     },
     "metadata": {
      "needs_background": "light"
     },
     "output_type": "display_data"
    }
   ],
   "source": [
    "plt.hist(df[apc], bins=np.arange(0,50000,100))\n",
    "plt.show()"
   ]
  },
  {
   "cell_type": "code",
   "execution_count": 13,
   "id": "196a6b8c-5de9-481c-8b6b-3334e8728b00",
   "metadata": {},
   "outputs": [
    {
     "data": {
      "image/png": "[encoded data removed]",
      "text/plain": [
       "<Figure size 648x432 with 1 Axes>"
      ]
     },
     "metadata": {
      "needs_background": "light"
     },
     "output_type": "display_data"
    }
   ],
   "source": [
    "plt.hist(df[pac].apply(lambda _: np.log(np.clip(_, eps, None))), bins=np.arange(5,13,0.01))\n",
    "plt.show()"
   ]
  },
  {
   "cell_type": "code",
   "execution_count": 14,
   "id": "2667466c-c2d0-4cee-b927-16b40d700bf3",
   "metadata": {},
   "outputs": [
    {
     "data": {
      "image/png": "[encoded data removed]",
      "text/plain": [
       "<Figure size 648x432 with 1 Axes>"
      ]
     },
     "metadata": {
      "needs_background": "light"
     },
     "output_type": "display_data"
    }
   ],
   "source": [
    "plt.hist(df[apc].apply(np.arcsinh), bins=np.arange(5,13,0.01))\n",
    "plt.show()"
   ]
  },
  {
   "cell_type": "code",
   "execution_count": 15,
   "id": "e9b28959-22d9-48bc-8e33-4755e6de430f",
   "metadata": {},
   "outputs": [
    {
     "data": {
      "image/png": "[encoded data removed]",
      "text/plain": [
       "<Figure size 648x432 with 1 Axes>"
      ]
     },
     "metadata": {
      "needs_background": "light"
     },
     "output_type": "display_data"
    }
   ],
   "source": [
    "plt.hist(df[apc].apply(np.arcsinh), bins=np.arange(5,13,0.01))\n",
    "plt.show()"
   ]
  },
  {
   "cell_type": "code",
   "execution_count": 16,
   "id": "235e0932-886d-45dc-9d00-8cb070f7a137",
   "metadata": {},
   "outputs": [
    {
     "data": {
      "image/png": "[encoded data removed]",
      "text/plain": [
       "<Figure size 648x432 with 1 Axes>"
      ]
     },
     "metadata": {
      "needs_background": "light"
     },
     "output_type": "display_data"
    }
   ],
   "source": [
    "plt.hist(df[apc].apply(asinh), bins=np.arange(4,10,0.01))\n",
    "plt.show()"
   ]
  },
  {
   "cell_type": "code",
   "execution_count": 17,
   "id": "4894b5d5-bfda-4bb7-b99a-ab187b459fda",
   "metadata": {},
   "outputs": [],
   "source": [
    "redbow = LinearSegmentedColormap.from_list('white_viridis', [\n",
    "    (0, '#ffffff'),\n",
    "    (1e-20, '#0000ff'),\n",
    "    (0.2, '#00ffff'),\n",
    "    (0.4, '#00ff00'),\n",
    "    (0.6, '#ffff00'),\n",
    "    (0.8, '#ff0000'),\n",
    "    (1, '#000000'),\n",
    "], N=256)"
   ]
  },
  {
   "cell_type": "code",
   "execution_count": 18,
   "id": "3dabd92f-91bd-4147-84ae-6e341101b147",
   "metadata": {},
   "outputs": [],
   "source": [
    "def heatplot(df, x_label, y_label, f=None, title=None):\n",
    "    x = df[x_label]\n",
    "    y = df[y_label]\n",
    "    if f:\n",
    "        x = x.apply(f)\n",
    "        y = y.apply(f)\n",
    "    fig = plt.figure()\n",
    "    ax = fig.add_subplot(1,1,1, projection='scatter_density')\n",
    "    density = ax.scatter_density(x, y, cmap=redbow)\n",
    "    fig.colorbar(density, label='Points per pixel')\n",
    "    ax.set_xlabel(x_label)\n",
    "    ax.set_ylabel(y_label)\n",
    "    if title:\n",
    "        ax.set_title(title)\n",
    "    plt.show()"
   ]
  },
  {
   "cell_type": "code",
   "execution_count": 19,
   "id": "d77d132c-305f-49a3-a377-1c58062dfc97",
   "metadata": {},
   "outputs": [],
   "source": [
    "%matplotlib widget\n",
    "plt.rcParams['figure.figsize'] = [9,6]"
   ]
  },
  {
   "cell_type": "code",
   "execution_count": 20,
   "id": "351b4544-dd97-436f-bbcc-eb144ecd3e87",
   "metadata": {},
   "outputs": [
    {
     "data": {
      "application/vnd.jupyter.widget-view+json": {
       "model_id": "a6a27e4e6e344177a1458df492b936d2",
       "version_major": 2,
       "version_minor": 0
      },
      "text/plain": [
       "Canvas(toolbar=Toolbar(toolitems=[('Home', 'Reset original view', 'home', 'home'), ('Back', 'Back to previous …"
      ]
     },
     "metadata": {},
     "output_type": "display_data"
    },
    {
     "name": "stderr",
     "output_type": "stream",
     "text": [
      "/home/ubuntu/anaconda3/envs/tf/lib/python3.9/site-packages/mpl_scatter_density/generic_density_artist.py:77: RuntimeWarning: All-NaN slice encountered\n",
      "  vmin = self._density_vmin(array)\n",
      "/home/ubuntu/anaconda3/envs/tf/lib/python3.9/site-packages/mpl_scatter_density/generic_density_artist.py:82: RuntimeWarning: All-NaN slice encountered\n",
      "  vmax = self._density_vmax(array)\n"
     ]
    }
   ],
   "source": [
    "heatplot(df, pac, apc)"
   ]
  },
  {
   "cell_type": "code",
   "execution_count": 21,
   "id": "ed40431d-0bf6-459d-b244-a05585e7633d",
   "metadata": {},
   "outputs": [
    {
     "data": {
      "application/vnd.jupyter.widget-view+json": {
       "model_id": "53ef4d7f7feb4853a6c9b5b655726f33",
       "version_major": 2,
       "version_minor": 0
      },
      "text/plain": [
       "Canvas(toolbar=Toolbar(toolitems=[('Home', 'Reset original view', 'home', 'home'), ('Back', 'Back to previous …"
      ]
     },
     "metadata": {},
     "output_type": "display_data"
    }
   ],
   "source": [
    "heatplot(df, pac, apc, f=asinh)"
   ]
  },
  {
   "cell_type": "code",
   "execution_count": 22,
   "id": "91bb672b-ecfe-409e-86b3-d535fea95dd2",
   "metadata": {},
   "outputs": [
    {
     "data": {
      "application/vnd.jupyter.widget-view+json": {
       "model_id": "cece1a66a6fd4508af44d4ea2b6c177f",
       "version_major": 2,
       "version_minor": 0
      },
      "text/plain": [
       "Canvas(toolbar=Toolbar(toolitems=[('Home', 'Reset original view', 'home', 'home'), ('Back', 'Back to previous …"
      ]
     },
     "metadata": {},
     "output_type": "display_data"
    }
   ],
   "source": [
    "heatplot(df, 'FSC-W', 'FSC-A', f=asinh)"
   ]
  },
  {
   "cell_type": "code",
   "execution_count": 33,
   "id": "bfe74fd5-6873-4e6e-91a9-8767bbcd7519",
   "metadata": {},
   "outputs": [
    {
     "data": {
      "application/vnd.jupyter.widget-view+json": {
       "model_id": "defcafae87844e1d83a8642e3add3e74",
       "version_major": 2,
       "version_minor": 0
      },
      "text/plain": [
       "Canvas(toolbar=Toolbar(toolitems=[('Home', 'Reset original view', 'home', 'home'), ('Back', 'Back to previous …"
      ]
     },
     "metadata": {},
     "output_type": "display_data"
    }
   ],
   "source": [
    "heatplot(df, 'SSC-A', 'FSC-A', f=asinh)"
   ]
  },
  {
   "cell_type": "code",
   "execution_count": 34,
   "id": "06fbc565-36a1-46f4-a626-d01a0cba8fc6",
   "metadata": {},
   "outputs": [
    {
     "data": {
      "application/vnd.jupyter.widget-view+json": {
       "model_id": "ecfc1a7992be4e89a4d6435eb6141005",
       "version_major": 2,
       "version_minor": 0
      },
      "text/plain": [
       "Canvas(toolbar=Toolbar(toolitems=[('Home', 'Reset original view', 'home', 'home'), ('Back', 'Back to previous …"
      ]
     },
     "metadata": {},
     "output_type": "display_data"
    }
   ],
   "source": [
    "heatplot(df, 'SSC-A', pac, f=asinh)"
   ]
  },
  {
   "cell_type": "code",
   "execution_count": 25,
   "id": "f2221f9b-1e87-4488-b451-9bea2f56d924",
   "metadata": {},
   "outputs": [
    {
     "data": {
      "application/vnd.jupyter.widget-view+json": {
       "model_id": "ae13850beb8544d9a8853fe41128c4aa",
       "version_major": 2,
       "version_minor": 0
      },
      "text/plain": [
       "Canvas(toolbar=Toolbar(toolitems=[('Home', 'Reset original view', 'home', 'home'), ('Back', 'Back to previous …"
      ]
     },
     "metadata": {},
     "output_type": "display_data"
    }
   ],
   "source": [
    "heatplot(df, 'SSC-A', apc, f=np.arcsinh)"
   ]
  },
  {
   "cell_type": "code",
   "execution_count": 26,
   "id": "bd913851-0fc2-4068-8124-153f6bba6cba",
   "metadata": {},
   "outputs": [],
   "source": [
    "%matplotlib inline\n",
    "plt.rcParams['figure.figsize'] = [9,6]"
   ]
  },
  {
   "cell_type": "code",
   "execution_count": 27,
   "id": "34c62294-601f-49d8-8207-1a35519c698a",
   "metadata": {},
   "outputs": [
    {
     "data": {
      "image/png": "[encoded data removed]",
      "text/plain": [
       "<Figure size 648x432 with 1 Axes>"
      ]
     },
     "metadata": {
      "needs_background": "light"
     },
     "output_type": "display_data"
    }
   ],
   "source": [
    "plt.hist(df[pac]/df['SSC-A'])\n",
    "plt.show()"
   ]
  },
  {
   "cell_type": "code",
   "execution_count": 28,
   "id": "d3a5c8bd-72d2-48d4-9b15-1a2f2b49c48c",
   "metadata": {},
   "outputs": [
    {
     "data": {
      "image/png": "[encoded data removed]",
      "text/plain": [
       "<Figure size 648x432 with 1 Axes>"
      ]
     },
     "metadata": {
      "needs_background": "light"
     },
     "output_type": "display_data"
    }
   ],
   "source": [
    "plt.hist(df[pac].apply(asinh)/df['SSC-A'].apply(asinh), bins=np.arange(0.5, 1.1, 0.001))\n",
    "plt.show()"
   ]
  },
  {
   "cell_type": "code",
   "execution_count": 29,
   "id": "56c3f301-f3a2-4488-837e-55ecd57238ca",
   "metadata": {},
   "outputs": [
    {
     "data": {
      "image/png": "[encoded data removed]",
      "text/plain": [
       "<Figure size 648x432 with 1 Axes>"
      ]
     },
     "metadata": {
      "needs_background": "light"
     },
     "output_type": "display_data"
    }
   ],
   "source": [
    "plt.hist(df[apc].apply(asinh)/df['SSC-A'].apply(asinh), bins=np.arange(0.5, 1.1, 0.001))\n",
    "plt.show()"
   ]
  },
  {
   "cell_type": "code",
   "execution_count": 30,
   "id": "6b3ef318-2742-4af8-9e38-919b727843dc",
   "metadata": {},
   "outputs": [],
   "source": [
    "%matplotlib widget\n",
    "plt.rcParams['figure.figsize'] = [9,6]"
   ]
  },
  {
   "cell_type": "code",
   "execution_count": 31,
   "id": "68c1216b-6a71-42d4-ab0f-e797967035f1",
   "metadata": {},
   "outputs": [],
   "source": [
    "def heatplot_simple(x, y, xlabel=None, ylabel=None, title=None):\n",
    "    fig = plt.figure()\n",
    "    ax = fig.add_subplot(1,1,1, projection='scatter_density')\n",
    "    density = ax.scatter_density(x, y, cmap=redbow)\n",
    "    fig.colorbar(density, label='Points per pixel')\n",
    "    if xlabel:\n",
    "        ax.set_xlabel(x_label)\n",
    "    if ylabel:\n",
    "        ax.set_ylabel(y_label)\n",
    "    if title:\n",
    "        ax.set_title(title)\n",
    "    plt.show()"
   ]
  },
  {
   "cell_type": "code",
   "execution_count": 32,
   "id": "53a5698a-1121-42c8-a5a0-2a9be8791c42",
   "metadata": {},
   "outputs": [
    {
     "data": {
      "application/vnd.jupyter.widget-view+json": {
       "model_id": "3372748a75ed4cc5b46a32a0cd066bf8",
       "version_major": 2,
       "version_minor": 0
      },
      "text/plain": [
       "Canvas(toolbar=Toolbar(toolitems=[('Home', 'Reset original view', 'home', 'home'), ('Back', 'Back to previous …"
      ]
     },
     "metadata": {},
     "output_type": "display_data"
    }
   ],
   "source": [
    "heatplot_simple(df[pac].apply(asinh)/df['SSC-A'].apply(asinh), df[apc].apply(asinh)/df['SSC-A'].apply(asinh))"
   ]
  },
  {
   "cell_type": "code",
   "execution_count": null,
   "id": "c80c8f16-46ae-4bd4-83cc-421c86a31e08",
   "metadata": {},
   "outputs": [],
   "source": []
  }
 ],
 "metadata": {
  "kernelspec": {
   "display_name": "Python 3",
   "language": "python",
   "name": "python3"
  },
  "language_info": {
   "codemirror_mode": {
    "name": "ipython",
    "version": 3
   },
   "file_extension": ".py",
   "mimetype": "text/x-python",
   "name": "python",
   "nbconvert_exporter": "python",
   "pygments_lexer": "ipython3",
   "version": "3.9.6"
  }
 },
 "nbformat": 4,
 "nbformat_minor": 5
}
