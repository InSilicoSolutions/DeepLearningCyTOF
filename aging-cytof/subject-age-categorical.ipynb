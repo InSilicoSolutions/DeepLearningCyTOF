{
 "cells": [
  {
   "cell_type": "markdown",
   "metadata": {},
   "source": [
    "# Predict `Subject Age`"
   ]
  },
  {
   "cell_type": "code",
   "execution_count": 1,
   "metadata": {},
   "outputs": [],
   "source": [
    "%matplotlib inline"
   ]
  },
  {
   "cell_type": "code",
   "execution_count": 2,
   "metadata": {},
   "outputs": [
    {
     "name": "stderr",
     "output_type": "stream",
     "text": [
      "2021-09-02 15:12:28.460839: W tensorflow/stream_executor/platform/default/dso_loader.cc:64] Could not load dynamic library 'libcudart.so.11.0'; dlerror: libcudart.so.11.0: cannot open shared object file: No such file or directory\n",
      "2021-09-02 15:12:28.460906: I tensorflow/stream_executor/cuda/cudart_stub.cc:29] Ignore above cudart dlerror if you do not have a GPU set up on your machine.\n"
     ]
    }
   ],
   "source": [
    "##### Step 1: import functions #####\n",
    "import tensorflow as tf\n",
    "from tensorflow.keras.layers import Dense, Flatten, BatchNormalization, Activation, Conv2D, AveragePooling2D, Input, Softmax, GlobalAveragePooling2D\n",
    "from tensorflow.keras.models import load_model, Model, Sequential\n",
    "from tensorflow.keras.optimizers import Adam\n",
    "from tensorflow.keras.callbacks import ModelCheckpoint, EarlyStopping\n",
    "from tensorflow.keras.losses import SparseCategoricalCrossentropy\n",
    "from tensorflow.keras import backend as K\n",
    "from tensorflow.keras.utils import plot_model\n",
    "import pickle\n",
    "import pandas as pd\n",
    "import numpy as np\n",
    "from numpy.random import seed; seed(111)\n",
    "import random\n",
    "import matplotlib.pyplot as plt\n",
    "import seaborn as sns\n",
    "from tensorflow.random import set_seed; set_seed(111)\n",
    "from sklearn.metrics import roc_curve, auc, confusion_matrix\n",
    "from sklearn.preprocessing import normalize\n",
    "from six import StringIO  \n",
    "from sklearn.tree import export_graphviz, DecisionTreeRegressor\n",
    "from sklearn.model_selection import train_test_split\n",
    "from scipy.stats import ttest_ind\n",
    "from IPython.display import Image  \n",
    "import pydotplus\n",
    "import time\n",
    "from pathlib import Path\n",
    "import math"
   ]
  },
  {
   "cell_type": "code",
   "execution_count": 3,
   "metadata": {},
   "outputs": [],
   "source": [
    "# %config InlineBackend.figure_format = 'svg'\n",
    "plt.rcParams['figure.figsize'] = [9,6]"
   ]
  },
  {
   "cell_type": "code",
   "execution_count": 4,
   "metadata": {},
   "outputs": [],
   "source": [
    "#gpus = tf.config.list_physical_devices('GPU')\n",
    "#tf.config.experimental.set_memory_growth(gpus[0], True)"
   ]
  },
  {
   "cell_type": "code",
   "execution_count": 5,
   "metadata": {},
   "outputs": [],
   "source": [
    "phenotype = 'Subject Age'"
   ]
  },
  {
   "cell_type": "code",
   "execution_count": 6,
   "metadata": {},
   "outputs": [
    {
     "name": "stdout",
     "output_type": "stream",
     "text": [
      "Dimensions of cyto_data: (260, 10000, 27, 1)\n",
      "Dimensions of samples: (260, 86)\n",
      "Names of the makers: ['CELL_LENGTH' 'DEAD' 'CD19' 'CD4' 'CD8' 'IGD' 'CD85J' 'CD16' 'CD3' 'CD38'\n",
      " 'CD27' 'CD14' 'CD94' 'CCR7' 'CD45RA' 'CD20' 'CD127' 'CD33' 'CD28' 'CD24'\n",
      " 'CD161' 'TCRGD' 'CD56' 'HLADR' 'CD25' 'DNA1' 'DNA2']\n"
     ]
    }
   ],
   "source": [
    "#load data\n",
    "aging_dir = Path('../')\n",
    "\n",
    "with open(aging_dir/'aging-cytof-data.obj', 'rb') as f:\n",
    "    allData = pickle.load(f)\n",
    "samples = allData[\"samples\"]\n",
    "cyto_data = allData['expr_list']\n",
    "\n",
    "# Truncate cytodata\n",
    "cyto_data = cyto_data[ :, :10000]\n",
    "\n",
    "markers = allData[\"marker_names\"]\n",
    "\n",
    "print(f'Dimensions of cyto_data: {cyto_data.shape}')\n",
    "print(f'Dimensions of samples: {samples.shape}')\n",
    "print(f'Names of the makers: {markers.values}')"
   ]
  },
  {
   "cell_type": "code",
   "execution_count": 7,
   "metadata": {},
   "outputs": [
    {
     "data": {
      "text/plain": [
       "<AxesSubplot:ylabel='Frequency'>"
      ]
     },
     "execution_count": 7,
     "metadata": {},
     "output_type": "execute_result"
    },
    {
     "data": {
      "image/png": "[encoded data removed]",
      "text/plain": [
       "<Figure size 648x432 with 1 Axes>"
      ]
     },
     "metadata": {
      "needs_background": "light"
     },
     "output_type": "display_data"
    }
   ],
   "source": [
    "samples[phenotype].plot.hist()"
   ]
  },
  {
   "cell_type": "code",
   "execution_count": 8,
   "metadata": {},
   "outputs": [
    {
     "name": "stdout",
     "output_type": "stream",
     "text": [
      "Training Size: 160  Validation Size: 54\n"
     ]
    },
    {
     "data": {
      "image/png": "[encoded data removed]",
      "text/plain": [
       "<Figure size 648x432 with 1 Axes>"
      ]
     },
     "metadata": {
      "needs_background": "light"
     },
     "output_type": "display_data"
    },
    {
     "data": {
      "image/png": "[encoded data removed]",
      "text/plain": [
       "<Figure size 648x432 with 1 Axes>"
      ]
     },
     "metadata": {
      "needs_background": "light"
     },
     "output_type": "display_data"
    }
   ],
   "source": [
    "##### Step 3: split train, validation and test######\n",
    "#normed_cyto = np.array(list(map(lambda x: (x-x.min(0))/x.ptp(0), cyto_data)))\n",
    "x = []\n",
    "y = []\n",
    "for i, row in samples.iterrows():\n",
    "    #Take out the center samples to create a bigger young/old distinction\n",
    "    if math.isnan(row[phenotype]) or (row[phenotype] >= 65 and row[phenotype] <= 75):\n",
    "        continue\n",
    "    x.append(cyto_data[i][:10000])\n",
    "  \n",
    "    if row[phenotype] < 65:\n",
    "        y.append(row[phenotype])\n",
    "    else:\n",
    "        y.append(row[phenotype])\n",
    "\n",
    "age_range = max(y) - min(y)\n",
    "\n",
    "#normalize cyto_data??\n",
    "\n",
    "x = np.asarray(x)\n",
    "y = np.asarray(y)\n",
    "\n",
    "x_train, x_valid, y_train, y_valid = train_test_split(x, y, train_size=0.75)\n",
    "\n",
    "print(\"Training Size: \" + str(len(y_train)) + \"  Validation Size: \" + str(len(y_valid)))\n",
    "\n",
    "plt.hist(y_train)\n",
    "plt.title(\"Training\") \n",
    "plt.show()\n",
    "\n",
    "plt.hist(y_valid)\n",
    "plt.title(\"Validation\") \n",
    "plt.show()\n",
    "\n",
    "#Turn the problem into a catagorical call - old = 1\n",
    "for i in range(len(y_train)):\n",
    "    if y_train[i] > 65:\n",
    "        y_train[i] = 1\n",
    "    else:\n",
    "        y_train[i] = 0\n",
    "               \n",
    "for i in range(len(y_valid)):\n",
    "    if y_valid[i] > 65:\n",
    "        y_valid[i] = 1\n",
    "    else:\n",
    "        y_valid[i] = 0               \n",
    "    "
   ]
  },
  {
   "cell_type": "code",
   "execution_count": 9,
   "metadata": {},
   "outputs": [
    {
     "name": "stdout",
     "output_type": "stream",
     "text": [
      "Model: \"sequential\"\n",
      "_________________________________________________________________\n",
      "Layer (type)                 Output Shape              Param #   \n",
      "=================================================================\n",
      "conv2d (Conv2D)              (None, 10000, 1, 4)       112       \n",
      "_________________________________________________________________\n",
      "batch_normalization (BatchNo (None, 10000, 1, 4)       16        \n",
      "_________________________________________________________________\n",
      "activation (Activation)      (None, 10000, 1, 4)       0         \n",
      "_________________________________________________________________\n",
      "global_average_pooling2d (Gl (None, 4)                 0         \n",
      "_________________________________________________________________\n",
      "flatten (Flatten)            (None, 4)                 0         \n",
      "_________________________________________________________________\n",
      "dense (Dense)                (None, 3)                 15        \n",
      "_________________________________________________________________\n",
      "batch_normalization_1 (Batch (None, 3)                 12        \n",
      "_________________________________________________________________\n",
      "activation_1 (Activation)    (None, 3)                 0         \n",
      "_________________________________________________________________\n",
      "dense_1 (Dense)              (None, 1)                 4         \n",
      "=================================================================\n",
      "Total params: 159\n",
      "Trainable params: 145\n",
      "Non-trainable params: 14\n",
      "_________________________________________________________________\n"
     ]
    },
    {
     "name": "stderr",
     "output_type": "stream",
     "text": [
      "2021-09-02 15:12:44.779830: W tensorflow/stream_executor/platform/default/dso_loader.cc:64] Could not load dynamic library 'libcuda.so.1'; dlerror: libcuda.so.1: cannot open shared object file: No such file or directory\n",
      "2021-09-02 15:12:44.780031: W tensorflow/stream_executor/cuda/cuda_driver.cc:269] failed call to cuInit: UNKNOWN ERROR (303)\n",
      "2021-09-02 15:12:44.780349: I tensorflow/stream_executor/cuda/cuda_diagnostics.cc:156] kernel driver does not appear to be running on this host (DESKTOP-MN6AJ21): /proc/driver/nvidia/version does not exist\n",
      "2021-09-02 15:12:44.781497: I tensorflow/core/platform/cpu_feature_guard.cc:142] This TensorFlow binary is optimized with oneAPI Deep Neural Network Library (oneDNN) to use the following CPU instructions in performance-critical operations:  AVX2 AVX512F FMA\n",
      "To enable them in other operations, rebuild TensorFlow with the appropriate compiler flags.\n"
     ]
    }
   ],
   "source": [
    "model = Sequential([\n",
    "    Input(shape=x[0].shape),\n",
    "    Conv2D(4, kernel_size = (1, x.shape[2]), activation=None),\n",
    "    BatchNormalization(),\n",
    "    Activation('relu'),\n",
    "    #Conv2D(4, kernel_size = (1,1), activation=None),\n",
    "    #BatchNormalization(),\n",
    "    #Activation('relu'),\n",
    "    GlobalAveragePooling2D(),\n",
    "    #AveragePooling2D(pool_size = (x.shape[1], 1)),\n",
    "    Flatten(),\n",
    "    Dense(3, activation=None),\n",
    "    BatchNormalization(),\n",
    "    Activation('relu'),\n",
    "    Dense(1, activation='sigmoid'),\n",
    "])\n",
    "model.compile(loss='binary_crossentropy',\n",
    "              optimizer='adam',\n",
    "              metrics=['accuracy'])\n",
    "model.summary()"
   ]
  },
  {
   "cell_type": "code",
   "execution_count": 10,
   "metadata": {
    "scrolled": true,
    "tags": []
   },
   "outputs": [
    {
     "name": "stderr",
     "output_type": "stream",
     "text": [
      "2021-09-02 15:12:45.224765: I tensorflow/compiler/mlir/mlir_graph_optimization_pass.cc:185] None of the MLIR Optimization Passes are enabled (registered 2)\n"
     ]
    },
    {
     "name": "stdout",
     "output_type": "stream",
     "text": [
      "Epoch 1/200\n",
      "3/3 [==============================] - 1s 361ms/step - loss: 0.7403 - accuracy: 0.5562 - val_loss: 0.7480 - val_accuracy: 0.4074\n",
      "Epoch 2/200\n",
      "3/3 [==============================] - 0s 98ms/step - loss: 0.7123 - accuracy: 0.5938 - val_loss: 0.7413 - val_accuracy: 0.4074\n",
      "Epoch 3/200\n",
      "3/3 [==============================] - 0s 119ms/step - loss: 0.7069 - accuracy: 0.5562 - val_loss: 0.7348 - val_accuracy: 0.4074\n",
      "Epoch 4/200\n",
      "3/3 [==============================] - 0s 102ms/step - loss: 0.7013 - accuracy: 0.5750 - val_loss: 0.7291 - val_accuracy: 0.4074\n",
      "Epoch 5/200\n",
      "3/3 [==============================] - 0s 101ms/step - loss: 0.6791 - accuracy: 0.6000 - val_loss: 0.7238 - val_accuracy: 0.4074\n",
      "Epoch 6/200\n",
      "3/3 [==============================] - 0s 105ms/step - loss: 0.6676 - accuracy: 0.5875 - val_loss: 0.7192 - val_accuracy: 0.4074\n",
      "Epoch 7/200\n",
      "3/3 [==============================] - 0s 95ms/step - loss: 0.6592 - accuracy: 0.5813 - val_loss: 0.7146 - val_accuracy: 0.4074\n",
      "Epoch 8/200\n",
      "3/3 [==============================] - 0s 100ms/step - loss: 0.6560 - accuracy: 0.6125 - val_loss: 0.7105 - val_accuracy: 0.4074\n",
      "Epoch 9/200\n",
      "3/3 [==============================] - 0s 95ms/step - loss: 0.6336 - accuracy: 0.6062 - val_loss: 0.7071 - val_accuracy: 0.4074\n",
      "Epoch 10/200\n",
      "3/3 [==============================] - 0s 102ms/step - loss: 0.6321 - accuracy: 0.6125 - val_loss: 0.7037 - val_accuracy: 0.4074\n",
      "Epoch 11/200\n",
      "3/3 [==============================] - 0s 79ms/step - loss: 0.6294 - accuracy: 0.6250 - val_loss: 0.7005 - val_accuracy: 0.4074\n",
      "Epoch 12/200\n",
      "3/3 [==============================] - 0s 94ms/step - loss: 0.6229 - accuracy: 0.6562 - val_loss: 0.6975 - val_accuracy: 0.4074\n",
      "Epoch 13/200\n",
      "3/3 [==============================] - 0s 93ms/step - loss: 0.6245 - accuracy: 0.6438 - val_loss: 0.6949 - val_accuracy: 0.4259\n",
      "Epoch 14/200\n",
      "3/3 [==============================] - 0s 84ms/step - loss: 0.6156 - accuracy: 0.6500 - val_loss: 0.6929 - val_accuracy: 0.4259\n",
      "Epoch 15/200\n",
      "3/3 [==============================] - 0s 81ms/step - loss: 0.6062 - accuracy: 0.6500 - val_loss: 0.6909 - val_accuracy: 0.4444\n",
      "Epoch 16/200\n",
      "3/3 [==============================] - 0s 82ms/step - loss: 0.6073 - accuracy: 0.6750 - val_loss: 0.6889 - val_accuracy: 0.4444\n",
      "Epoch 17/200\n",
      "3/3 [==============================] - 0s 83ms/step - loss: 0.6102 - accuracy: 0.6562 - val_loss: 0.6872 - val_accuracy: 0.4444\n",
      "Epoch 18/200\n",
      "3/3 [==============================] - 0s 88ms/step - loss: 0.6015 - accuracy: 0.6812 - val_loss: 0.6856 - val_accuracy: 0.4630\n",
      "Epoch 19/200\n",
      "3/3 [==============================] - 0s 87ms/step - loss: 0.5970 - accuracy: 0.6812 - val_loss: 0.6846 - val_accuracy: 0.4630\n",
      "Epoch 20/200\n",
      "3/3 [==============================] - 0s 83ms/step - loss: 0.6011 - accuracy: 0.6875 - val_loss: 0.6841 - val_accuracy: 0.4815\n",
      "Epoch 21/200\n",
      "3/3 [==============================] - 0s 111ms/step - loss: 0.5859 - accuracy: 0.6938 - val_loss: 0.6837 - val_accuracy: 0.5000\n",
      "Epoch 22/200\n",
      "3/3 [==============================] - 0s 149ms/step - loss: 0.5877 - accuracy: 0.7000 - val_loss: 0.6840 - val_accuracy: 0.5000\n",
      "Epoch 23/200\n",
      "3/3 [==============================] - 0s 173ms/step - loss: 0.5825 - accuracy: 0.7188 - val_loss: 0.6843 - val_accuracy: 0.4815\n",
      "Epoch 24/200\n",
      "3/3 [==============================] - 1s 177ms/step - loss: 0.5811 - accuracy: 0.6875 - val_loss: 0.6846 - val_accuracy: 0.4630\n",
      "Epoch 25/200\n",
      "3/3 [==============================] - 0s 154ms/step - loss: 0.5779 - accuracy: 0.6812 - val_loss: 0.6851 - val_accuracy: 0.4444\n",
      "Epoch 26/200\n",
      "3/3 [==============================] - 0s 148ms/step - loss: 0.5754 - accuracy: 0.7000 - val_loss: 0.6854 - val_accuracy: 0.4444\n",
      "Epoch 27/200\n",
      "3/3 [==============================] - 0s 146ms/step - loss: 0.5748 - accuracy: 0.6938 - val_loss: 0.6858 - val_accuracy: 0.4444\n",
      "Epoch 28/200\n",
      "3/3 [==============================] - 0s 159ms/step - loss: 0.5788 - accuracy: 0.6938 - val_loss: 0.6860 - val_accuracy: 0.4444\n",
      "Epoch 29/200\n",
      "3/3 [==============================] - 1s 181ms/step - loss: 0.5679 - accuracy: 0.7188 - val_loss: 0.6857 - val_accuracy: 0.4444\n",
      "Epoch 30/200\n",
      "3/3 [==============================] - 1s 173ms/step - loss: 0.5692 - accuracy: 0.6938 - val_loss: 0.6855 - val_accuracy: 0.4444\n",
      "Epoch 31/200\n",
      "3/3 [==============================] - 0s 164ms/step - loss: 0.5606 - accuracy: 0.7500 - val_loss: 0.6857 - val_accuracy: 0.4630\n",
      "Epoch 32/200\n",
      "3/3 [==============================] - 0s 146ms/step - loss: 0.5592 - accuracy: 0.7437 - val_loss: 0.6860 - val_accuracy: 0.4630\n",
      "Epoch 33/200\n",
      "3/3 [==============================] - 0s 148ms/step - loss: 0.5535 - accuracy: 0.7375 - val_loss: 0.6859 - val_accuracy: 0.4815\n",
      "Epoch 34/200\n",
      "3/3 [==============================] - 0s 179ms/step - loss: 0.5536 - accuracy: 0.7188 - val_loss: 0.6858 - val_accuracy: 0.4630\n",
      "Epoch 35/200\n",
      "3/3 [==============================] - 0s 151ms/step - loss: 0.5551 - accuracy: 0.7000 - val_loss: 0.6853 - val_accuracy: 0.4815\n",
      "Epoch 36/200\n",
      "3/3 [==============================] - 0s 146ms/step - loss: 0.5455 - accuracy: 0.7500 - val_loss: 0.6848 - val_accuracy: 0.4815\n",
      "Epoch 37/200\n",
      "3/3 [==============================] - 0s 146ms/step - loss: 0.5435 - accuracy: 0.7375 - val_loss: 0.6840 - val_accuracy: 0.5185\n",
      "Epoch 38/200\n",
      "3/3 [==============================] - 0s 147ms/step - loss: 0.5463 - accuracy: 0.7500 - val_loss: 0.6831 - val_accuracy: 0.5185\n",
      "Epoch 39/200\n",
      "3/3 [==============================] - 0s 148ms/step - loss: 0.5408 - accuracy: 0.7437 - val_loss: 0.6824 - val_accuracy: 0.5370\n",
      "Epoch 40/200\n",
      "3/3 [==============================] - 0s 148ms/step - loss: 0.5358 - accuracy: 0.7500 - val_loss: 0.6815 - val_accuracy: 0.5370\n",
      "Epoch 41/200\n",
      "3/3 [==============================] - 0s 168ms/step - loss: 0.5344 - accuracy: 0.7625 - val_loss: 0.6806 - val_accuracy: 0.5370\n",
      "Epoch 42/200\n",
      "3/3 [==============================] - 0s 165ms/step - loss: 0.5310 - accuracy: 0.7625 - val_loss: 0.6797 - val_accuracy: 0.5556\n",
      "Epoch 43/200\n",
      "3/3 [==============================] - 0s 155ms/step - loss: 0.5347 - accuracy: 0.7625 - val_loss: 0.6789 - val_accuracy: 0.5741\n",
      "Epoch 44/200\n",
      "3/3 [==============================] - 0s 152ms/step - loss: 0.5241 - accuracy: 0.7625 - val_loss: 0.6783 - val_accuracy: 0.5741\n",
      "Epoch 45/200\n",
      "3/3 [==============================] - 0s 168ms/step - loss: 0.5240 - accuracy: 0.7500 - val_loss: 0.6769 - val_accuracy: 0.6111\n",
      "Epoch 46/200\n",
      "3/3 [==============================] - 0s 143ms/step - loss: 0.5148 - accuracy: 0.7750 - val_loss: 0.6753 - val_accuracy: 0.6111\n",
      "Epoch 47/200\n",
      "3/3 [==============================] - 0s 156ms/step - loss: 0.5171 - accuracy: 0.7750 - val_loss: 0.6736 - val_accuracy: 0.6111\n",
      "Epoch 48/200\n",
      "3/3 [==============================] - 0s 158ms/step - loss: 0.5165 - accuracy: 0.7688 - val_loss: 0.6712 - val_accuracy: 0.6481\n",
      "Epoch 49/200\n",
      "3/3 [==============================] - 0s 167ms/step - loss: 0.5161 - accuracy: 0.7688 - val_loss: 0.6694 - val_accuracy: 0.6481\n",
      "Epoch 50/200\n",
      "3/3 [==============================] - 0s 158ms/step - loss: 0.5140 - accuracy: 0.7750 - val_loss: 0.6673 - val_accuracy: 0.6481\n",
      "Epoch 51/200\n",
      "3/3 [==============================] - 0s 166ms/step - loss: 0.5097 - accuracy: 0.7937 - val_loss: 0.6655 - val_accuracy: 0.6852\n",
      "Epoch 52/200\n",
      "3/3 [==============================] - 0s 152ms/step - loss: 0.5096 - accuracy: 0.7812 - val_loss: 0.6638 - val_accuracy: 0.7037\n",
      "Epoch 53/200\n",
      "3/3 [==============================] - 0s 157ms/step - loss: 0.5109 - accuracy: 0.7688 - val_loss: 0.6621 - val_accuracy: 0.7037\n",
      "Epoch 54/200\n",
      "3/3 [==============================] - 0s 157ms/step - loss: 0.5010 - accuracy: 0.7875 - val_loss: 0.6604 - val_accuracy: 0.7037\n",
      "Epoch 55/200\n",
      "3/3 [==============================] - 0s 158ms/step - loss: 0.5047 - accuracy: 0.7812 - val_loss: 0.6586 - val_accuracy: 0.7037\n",
      "Epoch 56/200\n",
      "3/3 [==============================] - 0s 156ms/step - loss: 0.4954 - accuracy: 0.8000 - val_loss: 0.6572 - val_accuracy: 0.7037\n",
      "Epoch 57/200\n",
      "3/3 [==============================] - 0s 160ms/step - loss: 0.4958 - accuracy: 0.7875 - val_loss: 0.6553 - val_accuracy: 0.7037\n",
      "Epoch 58/200\n",
      "3/3 [==============================] - 0s 155ms/step - loss: 0.4953 - accuracy: 0.7875 - val_loss: 0.6533 - val_accuracy: 0.7037\n",
      "Epoch 59/200\n",
      "3/3 [==============================] - 0s 158ms/step - loss: 0.4921 - accuracy: 0.7750 - val_loss: 0.6515 - val_accuracy: 0.7037\n",
      "Epoch 60/200\n",
      "3/3 [==============================] - 0s 170ms/step - loss: 0.4825 - accuracy: 0.8000 - val_loss: 0.6492 - val_accuracy: 0.7037\n",
      "Epoch 61/200\n",
      "3/3 [==============================] - 1s 181ms/step - loss: 0.4834 - accuracy: 0.7937 - val_loss: 0.6458 - val_accuracy: 0.7037\n",
      "Epoch 62/200\n",
      "3/3 [==============================] - 0s 157ms/step - loss: 0.4768 - accuracy: 0.8188 - val_loss: 0.6424 - val_accuracy: 0.7037\n",
      "Epoch 63/200\n",
      "3/3 [==============================] - 0s 158ms/step - loss: 0.4716 - accuracy: 0.8250 - val_loss: 0.6395 - val_accuracy: 0.7037\n",
      "Epoch 64/200\n",
      "3/3 [==============================] - 0s 157ms/step - loss: 0.4748 - accuracy: 0.8188 - val_loss: 0.6361 - val_accuracy: 0.7037\n",
      "Epoch 65/200\n",
      "3/3 [==============================] - 1s 205ms/step - loss: 0.4675 - accuracy: 0.8125 - val_loss: 0.6326 - val_accuracy: 0.7222\n",
      "Epoch 66/200\n",
      "3/3 [==============================] - 1s 212ms/step - loss: 0.4672 - accuracy: 0.8000 - val_loss: 0.6297 - val_accuracy: 0.7222\n",
      "Epoch 67/200\n",
      "3/3 [==============================] - 1s 174ms/step - loss: 0.4651 - accuracy: 0.8125 - val_loss: 0.6275 - val_accuracy: 0.7222\n",
      "Epoch 68/200\n",
      "3/3 [==============================] - 1s 182ms/step - loss: 0.4637 - accuracy: 0.7875 - val_loss: 0.6243 - val_accuracy: 0.7037\n",
      "Epoch 69/200\n",
      "3/3 [==============================] - 1s 176ms/step - loss: 0.4556 - accuracy: 0.8438 - val_loss: 0.6215 - val_accuracy: 0.6852\n",
      "Epoch 70/200\n",
      "3/3 [==============================] - 1s 172ms/step - loss: 0.4516 - accuracy: 0.8062 - val_loss: 0.6191 - val_accuracy: 0.7037\n",
      "Epoch 71/200\n",
      "3/3 [==============================] - 1s 179ms/step - loss: 0.4439 - accuracy: 0.8313 - val_loss: 0.6170 - val_accuracy: 0.7037\n",
      "Epoch 72/200\n",
      "3/3 [==============================] - 1s 185ms/step - loss: 0.4446 - accuracy: 0.8250 - val_loss: 0.6143 - val_accuracy: 0.7037\n",
      "Epoch 73/200\n",
      "3/3 [==============================] - 1s 180ms/step - loss: 0.4392 - accuracy: 0.8250 - val_loss: 0.6109 - val_accuracy: 0.7037\n",
      "Epoch 74/200\n",
      "3/3 [==============================] - 1s 183ms/step - loss: 0.4434 - accuracy: 0.8125 - val_loss: 0.6090 - val_accuracy: 0.7037\n",
      "Epoch 75/200\n",
      "3/3 [==============================] - 1s 178ms/step - loss: 0.4327 - accuracy: 0.8188 - val_loss: 0.6081 - val_accuracy: 0.7222\n",
      "Epoch 76/200\n",
      "3/3 [==============================] - 1s 192ms/step - loss: 0.4370 - accuracy: 0.8188 - val_loss: 0.6073 - val_accuracy: 0.7222\n",
      "Epoch 77/200\n",
      "3/3 [==============================] - 1s 180ms/step - loss: 0.4324 - accuracy: 0.8438 - val_loss: 0.6084 - val_accuracy: 0.7222\n",
      "Epoch 78/200\n",
      "3/3 [==============================] - 1s 206ms/step - loss: 0.4196 - accuracy: 0.8313 - val_loss: 0.6066 - val_accuracy: 0.7037\n",
      "Epoch 79/200\n",
      "3/3 [==============================] - 1s 186ms/step - loss: 0.4218 - accuracy: 0.8375 - val_loss: 0.6009 - val_accuracy: 0.7222\n",
      "Epoch 80/200\n",
      "3/3 [==============================] - 1s 183ms/step - loss: 0.4133 - accuracy: 0.8313 - val_loss: 0.5968 - val_accuracy: 0.7778\n",
      "Epoch 81/200\n",
      "3/3 [==============================] - 1s 221ms/step - loss: 0.4133 - accuracy: 0.8375 - val_loss: 0.5916 - val_accuracy: 0.7778\n",
      "Epoch 82/200\n",
      "3/3 [==============================] - 1s 194ms/step - loss: 0.4084 - accuracy: 0.8562 - val_loss: 0.5941 - val_accuracy: 0.7778\n",
      "Epoch 83/200\n",
      "3/3 [==============================] - 1s 201ms/step - loss: 0.4072 - accuracy: 0.8438 - val_loss: 0.5917 - val_accuracy: 0.7778\n",
      "Epoch 84/200\n",
      "3/3 [==============================] - 1s 222ms/step - loss: 0.4094 - accuracy: 0.8500 - val_loss: 0.5894 - val_accuracy: 0.7778\n",
      "Epoch 85/200\n",
      "3/3 [==============================] - 1s 181ms/step - loss: 0.4026 - accuracy: 0.8438 - val_loss: 0.5879 - val_accuracy: 0.7963\n",
      "Epoch 86/200\n",
      "3/3 [==============================] - 1s 228ms/step - loss: 0.4042 - accuracy: 0.8313 - val_loss: 0.5823 - val_accuracy: 0.7778\n",
      "Epoch 87/200\n",
      "3/3 [==============================] - 1s 196ms/step - loss: 0.3966 - accuracy: 0.8313 - val_loss: 0.5819 - val_accuracy: 0.7963\n",
      "Epoch 88/200\n",
      "3/3 [==============================] - 1s 228ms/step - loss: 0.3896 - accuracy: 0.8687 - val_loss: 0.5728 - val_accuracy: 0.7778\n",
      "Epoch 89/200\n",
      "3/3 [==============================] - 1s 211ms/step - loss: 0.3873 - accuracy: 0.8438 - val_loss: 0.5666 - val_accuracy: 0.7778\n",
      "Epoch 90/200\n",
      "3/3 [==============================] - 1s 238ms/step - loss: 0.3831 - accuracy: 0.8375 - val_loss: 0.5542 - val_accuracy: 0.8333\n",
      "Epoch 91/200\n",
      "3/3 [==============================] - 1s 218ms/step - loss: 0.3806 - accuracy: 0.8750 - val_loss: 0.5512 - val_accuracy: 0.8333\n",
      "Epoch 92/200\n",
      "3/3 [==============================] - 1s 221ms/step - loss: 0.3828 - accuracy: 0.8562 - val_loss: 0.5433 - val_accuracy: 0.8333\n",
      "Epoch 93/200\n",
      "3/3 [==============================] - 1s 222ms/step - loss: 0.3776 - accuracy: 0.8500 - val_loss: 0.5400 - val_accuracy: 0.8333\n",
      "Epoch 94/200\n",
      "3/3 [==============================] - 1s 201ms/step - loss: 0.3746 - accuracy: 0.8625 - val_loss: 0.5414 - val_accuracy: 0.8148\n",
      "Epoch 95/200\n",
      "3/3 [==============================] - 1s 244ms/step - loss: 0.3680 - accuracy: 0.8625 - val_loss: 0.5424 - val_accuracy: 0.7778\n",
      "Epoch 96/200\n",
      "3/3 [==============================] - 1s 196ms/step - loss: 0.3707 - accuracy: 0.8625 - val_loss: 0.5409 - val_accuracy: 0.7778\n",
      "Epoch 97/200\n",
      "3/3 [==============================] - 1s 231ms/step - loss: 0.3676 - accuracy: 0.8687 - val_loss: 0.5422 - val_accuracy: 0.7963\n",
      "Epoch 98/200\n",
      "3/3 [==============================] - 1s 199ms/step - loss: 0.3678 - accuracy: 0.8625 - val_loss: 0.5435 - val_accuracy: 0.8148\n",
      "Epoch 99/200\n",
      "3/3 [==============================] - 1s 238ms/step - loss: 0.3584 - accuracy: 0.8687 - val_loss: 0.5401 - val_accuracy: 0.8148\n",
      "Epoch 100/200\n",
      "3/3 [==============================] - 1s 201ms/step - loss: 0.3538 - accuracy: 0.8813 - val_loss: 0.5296 - val_accuracy: 0.7963\n",
      "Epoch 101/200\n",
      "3/3 [==============================] - 1s 235ms/step - loss: 0.3632 - accuracy: 0.8625 - val_loss: 0.5187 - val_accuracy: 0.8148\n",
      "Epoch 102/200\n",
      "3/3 [==============================] - 1s 198ms/step - loss: 0.3574 - accuracy: 0.8687 - val_loss: 0.5141 - val_accuracy: 0.8148\n",
      "Epoch 103/200\n",
      "3/3 [==============================] - 1s 255ms/step - loss: 0.3478 - accuracy: 0.8813 - val_loss: 0.5094 - val_accuracy: 0.8148\n",
      "Epoch 104/200\n",
      "3/3 [==============================] - 1s 193ms/step - loss: 0.3551 - accuracy: 0.8625 - val_loss: 0.5071 - val_accuracy: 0.8148\n",
      "Epoch 105/200\n",
      "3/3 [==============================] - 1s 241ms/step - loss: 0.3486 - accuracy: 0.8562 - val_loss: 0.4999 - val_accuracy: 0.8333\n",
      "Epoch 106/200\n",
      "3/3 [==============================] - 1s 195ms/step - loss: 0.3685 - accuracy: 0.8438 - val_loss: 0.4933 - val_accuracy: 0.8519\n",
      "Epoch 107/200\n",
      "3/3 [==============================] - 1s 246ms/step - loss: 0.3407 - accuracy: 0.9000 - val_loss: 0.4917 - val_accuracy: 0.8519\n",
      "Epoch 108/200\n",
      "3/3 [==============================] - 1s 194ms/step - loss: 0.3417 - accuracy: 0.8750 - val_loss: 0.4934 - val_accuracy: 0.8333\n",
      "Epoch 109/200\n",
      "3/3 [==============================] - 1s 246ms/step - loss: 0.3373 - accuracy: 0.8875 - val_loss: 0.4924 - val_accuracy: 0.8333\n",
      "Epoch 110/200\n",
      "3/3 [==============================] - 1s 201ms/step - loss: 0.3349 - accuracy: 0.8875 - val_loss: 0.4834 - val_accuracy: 0.8333\n",
      "Epoch 111/200\n",
      "3/3 [==============================] - 1s 248ms/step - loss: 0.3314 - accuracy: 0.8938 - val_loss: 0.4802 - val_accuracy: 0.8333\n",
      "Epoch 112/200\n",
      "3/3 [==============================] - 1s 196ms/step - loss: 0.3383 - accuracy: 0.8750 - val_loss: 0.4745 - val_accuracy: 0.8519\n",
      "Epoch 113/200\n",
      "3/3 [==============================] - 1s 247ms/step - loss: 0.3250 - accuracy: 0.8875 - val_loss: 0.4672 - val_accuracy: 0.8519\n",
      "Epoch 114/200\n",
      "3/3 [==============================] - 1s 193ms/step - loss: 0.3219 - accuracy: 0.8813 - val_loss: 0.4647 - val_accuracy: 0.8519\n",
      "Epoch 115/200\n",
      "3/3 [==============================] - 1s 240ms/step - loss: 0.3211 - accuracy: 0.8875 - val_loss: 0.4627 - val_accuracy: 0.8519\n",
      "Epoch 116/200\n",
      "3/3 [==============================] - 1s 195ms/step - loss: 0.3262 - accuracy: 0.8813 - val_loss: 0.4619 - val_accuracy: 0.8519\n",
      "Epoch 117/200\n",
      "3/3 [==============================] - 1s 248ms/step - loss: 0.3181 - accuracy: 0.8875 - val_loss: 0.4590 - val_accuracy: 0.8519\n",
      "Epoch 118/200\n",
      "3/3 [==============================] - 1s 202ms/step - loss: 0.3222 - accuracy: 0.8938 - val_loss: 0.4522 - val_accuracy: 0.8519\n",
      "Epoch 119/200\n",
      "3/3 [==============================] - 1s 253ms/step - loss: 0.3252 - accuracy: 0.8813 - val_loss: 0.4542 - val_accuracy: 0.8519\n",
      "Epoch 120/200\n",
      "3/3 [==============================] - 1s 195ms/step - loss: 0.3168 - accuracy: 0.8875 - val_loss: 0.4590 - val_accuracy: 0.8519\n",
      "Epoch 121/200\n",
      "3/3 [==============================] - 1s 246ms/step - loss: 0.3183 - accuracy: 0.8875 - val_loss: 0.4597 - val_accuracy: 0.8519\n",
      "Epoch 122/200\n",
      "3/3 [==============================] - 1s 198ms/step - loss: 0.3084 - accuracy: 0.8625 - val_loss: 0.4591 - val_accuracy: 0.8519\n",
      "Epoch 123/200\n",
      "3/3 [==============================] - 1s 250ms/step - loss: 0.3106 - accuracy: 0.8750 - val_loss: 0.4574 - val_accuracy: 0.8519\n",
      "Epoch 124/200\n",
      "3/3 [==============================] - 1s 202ms/step - loss: 0.3067 - accuracy: 0.8938 - val_loss: 0.4560 - val_accuracy: 0.8519\n",
      "Epoch 125/200\n",
      "3/3 [==============================] - 1s 238ms/step - loss: 0.3062 - accuracy: 0.8687 - val_loss: 0.4547 - val_accuracy: 0.8519\n",
      "Epoch 126/200\n",
      "3/3 [==============================] - 1s 201ms/step - loss: 0.2984 - accuracy: 0.8938 - val_loss: 0.4533 - val_accuracy: 0.8519\n",
      "Epoch 127/200\n",
      "3/3 [==============================] - 1s 225ms/step - loss: 0.3053 - accuracy: 0.8938 - val_loss: 0.4540 - val_accuracy: 0.8519\n",
      "Epoch 128/200\n",
      "3/3 [==============================] - 1s 204ms/step - loss: 0.2959 - accuracy: 0.9062 - val_loss: 0.4542 - val_accuracy: 0.8704\n",
      "Epoch 129/200\n",
      "3/3 [==============================] - 1s 255ms/step - loss: 0.2947 - accuracy: 0.9000 - val_loss: 0.4492 - val_accuracy: 0.8519\n",
      "Epoch 130/200\n",
      "3/3 [==============================] - 1s 194ms/step - loss: 0.2901 - accuracy: 0.8938 - val_loss: 0.4469 - val_accuracy: 0.8519\n",
      "Epoch 131/200\n",
      "3/3 [==============================] - 1s 235ms/step - loss: 0.2926 - accuracy: 0.9000 - val_loss: 0.4433 - val_accuracy: 0.8519\n",
      "Epoch 132/200\n",
      "3/3 [==============================] - 1s 205ms/step - loss: 0.3149 - accuracy: 0.8813 - val_loss: 0.4398 - val_accuracy: 0.8519\n",
      "Epoch 133/200\n",
      "3/3 [==============================] - 1s 232ms/step - loss: 0.2933 - accuracy: 0.9000 - val_loss: 0.4379 - val_accuracy: 0.8333\n",
      "Epoch 134/200\n",
      "3/3 [==============================] - 1s 220ms/step - loss: 0.2859 - accuracy: 0.8938 - val_loss: 0.4336 - val_accuracy: 0.8519\n",
      "Epoch 135/200\n",
      "3/3 [==============================] - 1s 202ms/step - loss: 0.3036 - accuracy: 0.8750 - val_loss: 0.4276 - val_accuracy: 0.8519\n",
      "Epoch 136/200\n",
      "3/3 [==============================] - 1s 215ms/step - loss: 0.2848 - accuracy: 0.9062 - val_loss: 0.4207 - val_accuracy: 0.8519\n",
      "Epoch 137/200\n",
      "3/3 [==============================] - 1s 202ms/step - loss: 0.2819 - accuracy: 0.9000 - val_loss: 0.4168 - val_accuracy: 0.8519\n",
      "Epoch 138/200\n",
      "3/3 [==============================] - 1s 218ms/step - loss: 0.2770 - accuracy: 0.9000 - val_loss: 0.4146 - val_accuracy: 0.8519\n",
      "Epoch 139/200\n",
      "3/3 [==============================] - 1s 238ms/step - loss: 0.2804 - accuracy: 0.9125 - val_loss: 0.4170 - val_accuracy: 0.8704\n",
      "Epoch 140/200\n",
      "3/3 [==============================] - 1s 203ms/step - loss: 0.2733 - accuracy: 0.9062 - val_loss: 0.4224 - val_accuracy: 0.8889\n",
      "Epoch 141/200\n",
      "3/3 [==============================] - 1s 195ms/step - loss: 0.2753 - accuracy: 0.9062 - val_loss: 0.4225 - val_accuracy: 0.8889\n",
      "Epoch 142/200\n",
      "3/3 [==============================] - 1s 221ms/step - loss: 0.2845 - accuracy: 0.8813 - val_loss: 0.4311 - val_accuracy: 0.8704\n",
      "Epoch 143/200\n",
      "3/3 [==============================] - 1s 207ms/step - loss: 0.2803 - accuracy: 0.8750 - val_loss: 0.4374 - val_accuracy: 0.8704\n",
      "Epoch 144/200\n",
      "3/3 [==============================] - 1s 215ms/step - loss: 0.2707 - accuracy: 0.8938 - val_loss: 0.4470 - val_accuracy: 0.8519\n",
      "Epoch 145/200\n",
      "3/3 [==============================] - 1s 205ms/step - loss: 0.3160 - accuracy: 0.8500 - val_loss: 0.4468 - val_accuracy: 0.8519\n",
      "Epoch 146/200\n",
      "3/3 [==============================] - 1s 216ms/step - loss: 0.2974 - accuracy: 0.8750 - val_loss: 0.4410 - val_accuracy: 0.8519\n",
      "Epoch 147/200\n",
      "3/3 [==============================] - 1s 201ms/step - loss: 0.2634 - accuracy: 0.9000 - val_loss: 0.4350 - val_accuracy: 0.8704\n",
      "Epoch 148/200\n",
      "3/3 [==============================] - 1s 240ms/step - loss: 0.2907 - accuracy: 0.8687 - val_loss: 0.4216 - val_accuracy: 0.8704\n",
      "Epoch 149/200\n",
      "3/3 [==============================] - 1s 195ms/step - loss: 0.2625 - accuracy: 0.9125 - val_loss: 0.4154 - val_accuracy: 0.8704\n",
      "Epoch 150/200\n",
      "3/3 [==============================] - 1s 245ms/step - loss: 0.2629 - accuracy: 0.9187 - val_loss: 0.4131 - val_accuracy: 0.8704\n",
      "Epoch 151/200\n",
      "3/3 [==============================] - 1s 197ms/step - loss: 0.2634 - accuracy: 0.9187 - val_loss: 0.4145 - val_accuracy: 0.8704\n",
      "Epoch 152/200\n",
      "3/3 [==============================] - 1s 239ms/step - loss: 0.2626 - accuracy: 0.9125 - val_loss: 0.4090 - val_accuracy: 0.8889\n",
      "Epoch 153/200\n",
      "3/3 [==============================] - 1s 207ms/step - loss: 0.2648 - accuracy: 0.9062 - val_loss: 0.4120 - val_accuracy: 0.8889\n",
      "Epoch 154/200\n",
      "3/3 [==============================] - 1s 250ms/step - loss: 0.2536 - accuracy: 0.9250 - val_loss: 0.4245 - val_accuracy: 0.8704\n",
      "Epoch 155/200\n",
      "3/3 [==============================] - 1s 217ms/step - loss: 0.2575 - accuracy: 0.8938 - val_loss: 0.4291 - val_accuracy: 0.8519\n",
      "Epoch 156/200\n",
      "3/3 [==============================] - 1s 222ms/step - loss: 0.2543 - accuracy: 0.9000 - val_loss: 0.4331 - val_accuracy: 0.8519\n",
      "Epoch 157/200\n",
      "3/3 [==============================] - 1s 313ms/step - loss: 0.2645 - accuracy: 0.8750 - val_loss: 0.4335 - val_accuracy: 0.8519\n",
      "Epoch 158/200\n",
      "3/3 [==============================] - 1s 294ms/step - loss: 0.2487 - accuracy: 0.9187 - val_loss: 0.4276 - val_accuracy: 0.8519\n",
      "Epoch 159/200\n",
      "3/3 [==============================] - 1s 223ms/step - loss: 0.2517 - accuracy: 0.9187 - val_loss: 0.4118 - val_accuracy: 0.8519\n",
      "Epoch 160/200\n",
      "3/3 [==============================] - 1s 199ms/step - loss: 0.2459 - accuracy: 0.9187 - val_loss: 0.3919 - val_accuracy: 0.8519\n",
      "Epoch 161/200\n",
      "3/3 [==============================] - 1s 242ms/step - loss: 0.2432 - accuracy: 0.9312 - val_loss: 0.3888 - val_accuracy: 0.8889\n",
      "Epoch 162/200\n",
      "3/3 [==============================] - 1s 191ms/step - loss: 0.2420 - accuracy: 0.9312 - val_loss: 0.3997 - val_accuracy: 0.8519\n",
      "Epoch 163/200\n",
      "3/3 [==============================] - 1s 195ms/step - loss: 0.2428 - accuracy: 0.9125 - val_loss: 0.3953 - val_accuracy: 0.8704\n",
      "Epoch 164/200\n",
      "3/3 [==============================] - 1s 203ms/step - loss: 0.2458 - accuracy: 0.9062 - val_loss: 0.3757 - val_accuracy: 0.8889\n",
      "Epoch 165/200\n",
      "3/3 [==============================] - 1s 212ms/step - loss: 0.2616 - accuracy: 0.9000 - val_loss: 0.3684 - val_accuracy: 0.8704\n",
      "Epoch 166/200\n",
      "3/3 [==============================] - 1s 180ms/step - loss: 0.2343 - accuracy: 0.9312 - val_loss: 0.3671 - val_accuracy: 0.8704\n",
      "Epoch 167/200\n",
      "3/3 [==============================] - 1s 180ms/step - loss: 0.2423 - accuracy: 0.9250 - val_loss: 0.3656 - val_accuracy: 0.8704\n",
      "Epoch 168/200\n",
      "3/3 [==============================] - 1s 174ms/step - loss: 0.2435 - accuracy: 0.9187 - val_loss: 0.3661 - val_accuracy: 0.8704\n",
      "Epoch 169/200\n",
      "3/3 [==============================] - 1s 174ms/step - loss: 0.2325 - accuracy: 0.9312 - val_loss: 0.3662 - val_accuracy: 0.8704\n",
      "Epoch 170/200\n",
      "3/3 [==============================] - 0s 166ms/step - loss: 0.2298 - accuracy: 0.9187 - val_loss: 0.3703 - val_accuracy: 0.8704\n",
      "Epoch 171/200\n",
      "3/3 [==============================] - 1s 261ms/step - loss: 0.2321 - accuracy: 0.9312 - val_loss: 0.3716 - val_accuracy: 0.8519\n",
      "Epoch 172/200\n",
      "3/3 [==============================] - 1s 245ms/step - loss: 0.2371 - accuracy: 0.9125 - val_loss: 0.3666 - val_accuracy: 0.8704\n",
      "Epoch 173/200\n",
      "3/3 [==============================] - 1s 227ms/step - loss: 0.2259 - accuracy: 0.9250 - val_loss: 0.3666 - val_accuracy: 0.8704\n",
      "Epoch 174/200\n",
      "3/3 [==============================] - 1s 173ms/step - loss: 0.2269 - accuracy: 0.9250 - val_loss: 0.3636 - val_accuracy: 0.8704\n",
      "Epoch 175/200\n",
      "3/3 [==============================] - 1s 319ms/step - loss: 0.2321 - accuracy: 0.9375 - val_loss: 0.3678 - val_accuracy: 0.8704\n",
      "Epoch 176/200\n",
      "3/3 [==============================] - 1s 220ms/step - loss: 0.2323 - accuracy: 0.9062 - val_loss: 0.3770 - val_accuracy: 0.8704\n",
      "Epoch 177/200\n",
      "3/3 [==============================] - 1s 212ms/step - loss: 0.2226 - accuracy: 0.9312 - val_loss: 0.3786 - val_accuracy: 0.8704\n",
      "Epoch 178/200\n",
      "3/3 [==============================] - 1s 249ms/step - loss: 0.2297 - accuracy: 0.9125 - val_loss: 0.3755 - val_accuracy: 0.8889\n",
      "Epoch 179/200\n",
      "3/3 [==============================] - 1s 281ms/step - loss: 0.2286 - accuracy: 0.9250 - val_loss: 0.3918 - val_accuracy: 0.8519\n",
      "Epoch 180/200\n",
      "3/3 [==============================] - 1s 282ms/step - loss: 0.2294 - accuracy: 0.9062 - val_loss: 0.3866 - val_accuracy: 0.8519\n",
      "Epoch 181/200\n",
      "3/3 [==============================] - 1s 176ms/step - loss: 0.2212 - accuracy: 0.9250 - val_loss: 0.3790 - val_accuracy: 0.8704\n",
      "Epoch 182/200\n",
      "3/3 [==============================] - 0s 168ms/step - loss: 0.2271 - accuracy: 0.9187 - val_loss: 0.3838 - val_accuracy: 0.8519\n",
      "Epoch 183/200\n",
      "3/3 [==============================] - 1s 177ms/step - loss: 0.2268 - accuracy: 0.9125 - val_loss: 0.3889 - val_accuracy: 0.8519\n",
      "Epoch 184/200\n",
      "3/3 [==============================] - 0s 153ms/step - loss: 0.2143 - accuracy: 0.9375 - val_loss: 0.3716 - val_accuracy: 0.8704\n",
      "Epoch 185/200\n",
      "3/3 [==============================] - 0s 154ms/step - loss: 0.2447 - accuracy: 0.9062 - val_loss: 0.3590 - val_accuracy: 0.8704\n",
      "Epoch 186/200\n",
      "3/3 [==============================] - 0s 144ms/step - loss: 0.2150 - accuracy: 0.9125 - val_loss: 0.3572 - val_accuracy: 0.8704\n",
      "Epoch 187/200\n",
      "3/3 [==============================] - 0s 138ms/step - loss: 0.2160 - accuracy: 0.9312 - val_loss: 0.3637 - val_accuracy: 0.8704\n",
      "Epoch 188/200\n",
      "3/3 [==============================] - 0s 158ms/step - loss: 0.2214 - accuracy: 0.9250 - val_loss: 0.3735 - val_accuracy: 0.8519\n",
      "Epoch 189/200\n",
      "3/3 [==============================] - 0s 157ms/step - loss: 0.2138 - accuracy: 0.9312 - val_loss: 0.4136 - val_accuracy: 0.8333\n",
      "Epoch 190/200\n",
      "3/3 [==============================] - 0s 151ms/step - loss: 0.2277 - accuracy: 0.9187 - val_loss: 0.4005 - val_accuracy: 0.8333\n",
      "Epoch 191/200\n",
      "3/3 [==============================] - 0s 150ms/step - loss: 0.2141 - accuracy: 0.9062 - val_loss: 0.3863 - val_accuracy: 0.8519\n",
      "Epoch 192/200\n",
      "3/3 [==============================] - 0s 146ms/step - loss: 0.2380 - accuracy: 0.9062 - val_loss: 0.3824 - val_accuracy: 0.8704\n",
      "Epoch 193/200\n",
      "3/3 [==============================] - 0s 148ms/step - loss: 0.2041 - accuracy: 0.9312 - val_loss: 0.3769 - val_accuracy: 0.8519\n",
      "Epoch 194/200\n",
      "3/3 [==============================] - 0s 148ms/step - loss: 0.2221 - accuracy: 0.9000 - val_loss: 0.3627 - val_accuracy: 0.8704\n",
      "Epoch 195/200\n",
      "3/3 [==============================] - 0s 147ms/step - loss: 0.2168 - accuracy: 0.9187 - val_loss: 0.3493 - val_accuracy: 0.8704\n",
      "Epoch 196/200\n",
      "3/3 [==============================] - 0s 150ms/step - loss: 0.2117 - accuracy: 0.9250 - val_loss: 0.3473 - val_accuracy: 0.8704\n",
      "Epoch 197/200\n",
      "3/3 [==============================] - 0s 149ms/step - loss: 0.2044 - accuracy: 0.9125 - val_loss: 0.3488 - val_accuracy: 0.8704\n",
      "Epoch 198/200\n",
      "3/3 [==============================] - 0s 145ms/step - loss: 0.2231 - accuracy: 0.9000 - val_loss: 0.3601 - val_accuracy: 0.8519\n",
      "Epoch 199/200\n",
      "3/3 [==============================] - 0s 165ms/step - loss: 0.1977 - accuracy: 0.9312 - val_loss: 0.3972 - val_accuracy: 0.8333\n",
      "Epoch 200/200\n",
      "3/3 [==============================] - 1s 183ms/step - loss: 0.2625 - accuracy: 0.8750 - val_loss: 0.4162 - val_accuracy: 0.8333\n",
      "CPU times: user 9min 38s, sys: 20.7 s, total: 9min 59s\n",
      "Wall time: 1min 50s\n"
     ]
    }
   ],
   "source": [
    "%%time\n",
    "model_store = Path(f'Result/saved_weights_{phenotype}.hdf5')\n",
    "\n",
    "# save the best performing model\n",
    "checkpointer = ModelCheckpoint(filepath=model_store, \n",
    "                               monitor='accuracy', verbose=0, \n",
    "                               save_best_only=True)\n",
    "\n",
    "st = time.time()\n",
    "# model training\n",
    "model.fit([x_train], y_train,\n",
    "          batch_size=60,\n",
    "          epochs=200, \n",
    "          verbose=1,\n",
    "          callbacks=[checkpointer],\n",
    "          validation_data=([x_valid], y_valid))\n",
    "rt = time.time()-st"
   ]
  },
  {
   "cell_type": "code",
   "execution_count": 11,
   "metadata": {},
   "outputs": [
    {
     "data": {
      "text/plain": [
       "110.66774892807007"
      ]
     },
     "execution_count": 11,
     "metadata": {},
     "output_type": "execute_result"
    }
   ],
   "source": [
    "rt"
   ]
  },
  {
   "cell_type": "code",
   "execution_count": 12,
   "metadata": {
    "tags": []
   },
   "outputs": [
    {
     "data": {
      "image/png": "[encoded data removed]",
      "text/plain": [
       "<Figure size 648x432 with 1 Axes>"
      ]
     },
     "metadata": {
      "needs_background": "light"
     },
     "output_type": "display_data"
    }
   ],
   "source": [
    "#####  Plot train and validation accuracy #####\n",
    "history = model.history\n",
    "plt.plot(pd.Series(history.history['accuracy']))\n",
    "plt.plot(pd.Series(history.history['val_accuracy']))\n",
    "plt.title('model train vs accuracy')\n",
    "plt.ylabel('accuracy')\n",
    "plt.xlabel('epoch')\n",
    "plt.legend(['train', 'validation'], loc='upper right')\n",
    "plt.show()"
   ]
  },
  {
   "cell_type": "code",
   "execution_count": 13,
   "metadata": {},
   "outputs": [
    {
     "data": {
      "image/png": "[encoded data removed]",
      "text/plain": [
       "<Figure size 648x432 with 1 Axes>"
      ]
     },
     "metadata": {
      "needs_background": "light"
     },
     "output_type": "display_data"
    }
   ],
   "source": [
    "#### Test the final model #####\n",
    "final_model = load_model(model_store)\n",
    "x_test = x_valid\n",
    "y_test = y_valid\n",
    "y_scores = final_model.predict([x_test])\n",
    "y_scores = y_scores.reshape(y_scores.shape[0])\n",
    "plt.scatter(y_valid, y_scores)\n",
    "plt.xlabel('True Value')\n",
    "plt.ylabel('Prediction')\n",
    "plt.show()"
   ]
  },
  {
   "cell_type": "code",
   "execution_count": 14,
   "metadata": {},
   "outputs": [
    {
     "name": "stdout",
     "output_type": "stream",
     "text": [
      "\n",
      "Accuracy: 0.8703703703703703\n",
      "\n"
     ]
    },
    {
     "name": "stderr",
     "output_type": "stream",
     "text": [
      "/tmp/ipykernel_4935/3410360083.py:10: UserWarning: FixedFormatter should only be used together with FixedLocator\n",
      "  ax.set_xticklabels(['', 'Young', 'Old'])\n",
      "/tmp/ipykernel_4935/3410360083.py:11: UserWarning: FixedFormatter should only be used together with FixedLocator\n",
      "  ax.set_yticklabels(['', 'Young', 'Old'])\n"
     ]
    },
    {
     "data": {
      "image/png": "[encoded data removed]",
      "text/plain": [
       "<Figure size 540x540 with 1 Axes>"
      ]
     },
     "metadata": {
      "needs_background": "light"
     },
     "output_type": "display_data"
    }
   ],
   "source": [
    "y_scores = np.rint(y_scores).astype(int)\n",
    "cm = confusion_matrix(y_valid, y_scores)  \n",
    "\n",
    "print (\"\")\n",
    "print (\"Accuracy: \" + str((cm[0,0] + cm[1,1]) / sum(sum(cm))))\n",
    "print (\"\")\n",
    "\n",
    "fig, ax = plt.subplots(figsize=(7.5, 7.5))\n",
    "ax.matshow(cm, cmap=plt.cm.Blues, alpha=0.3)\n",
    "ax.set_xticklabels(['', 'Young', 'Old'])\n",
    "ax.set_yticklabels(['', 'Young', 'Old'])\n",
    "for i in range(cm.shape[0]):\n",
    "    for j in range(cm.shape[1]):\n",
    "        ax.text(x=j, y=i,s=cm[i, j], va='center', ha='center', size='xx-large')\n",
    " \n",
    "plt.xlabel('Predictions', fontsize=18)\n",
    "plt.ylabel('Actuals', fontsize=18)\n",
    "plt.title('Confusion Matrix', fontsize=18)\n",
    "plt.show()"
   ]
  },
  {
   "cell_type": "code",
   "execution_count": 15,
   "metadata": {},
   "outputs": [
    {
     "data": {
      "image/png": "[encoded data removed]",
      "text/plain": [
       "<Figure size 648x432 with 1 Axes>"
      ]
     },
     "metadata": {
      "needs_background": "light"
     },
     "output_type": "display_data"
    }
   ],
   "source": [
    "# generate ROC and AUC\n",
    "y_scores = final_model.predict([x_test])\n",
    "fpr, tpr, _ = roc_curve(y_test, y_scores)\n",
    "roc_auc = auc(fpr, tpr)\n",
    "\n",
    "# plot ROC curve\n",
    "plt.plot(fpr, tpr)\n",
    "#plt.plot([0, 1], [0, 1], 'k--')\n",
    "plt.xlabel('False Positive Rate')\n",
    "plt.ylabel('True Positive Rate')\n",
    "plt.title('ROC Curve   AUC = {0:.2f}'.format(roc_auc))\n",
    "plt.show()"
   ]
  },
  {
   "cell_type": "code",
   "execution_count": null,
   "metadata": {},
   "outputs": [],
   "source": []
  }
 ],
 "metadata": {
  "kernelspec": {
   "display_name": "Python 3 (ipykernel)",
   "language": "python",
   "name": "python3"
  },
  "language_info": {
   "codemirror_mode": {
    "name": "ipython",
    "version": 3
   },
   "file_extension": ".py",
   "mimetype": "text/x-python",
   "name": "python",
   "nbconvert_exporter": "python",
   "pygments_lexer": "ipython3",
   "version": "3.8.10"
  }
 },
 "nbformat": 4,
 "nbformat_minor": 4
}
