{
 "cells": [
  {
   "cell_type": "code",
   "execution_count": 6,
   "id": "dc525d37-4c30-476a-9c2d-15b23de8990e",
   "metadata": {},
   "outputs": [],
   "source": [
    "%matplotlib inline"
   ]
  },
  {
   "cell_type": "code",
   "execution_count": 14,
   "id": "49a2b675-522d-4938-986d-b0598e2f636a",
   "metadata": {},
   "outputs": [],
   "source": [
    "##### Step 1: import functions #####\n",
    "import pickle\n",
    "import pandas as pd\n",
    "import numpy as np\n",
    "from numpy.random import seed; seed(111)\n",
    "import random\n",
    "import matplotlib.pyplot as plt\n",
    "import seaborn as sns\n",
    "from tensorflow.random import set_seed; set_seed(111)\n",
    "from sklearn.metrics import roc_curve, auc\n",
    "from sklearn.preprocessing import normalize\n",
    "from six import StringIO  \n",
    "from sklearn.tree import export_graphviz, DecisionTreeRegressor\n",
    "from sklearn.model_selection import train_test_split\n",
    "from scipy.stats import ttest_ind\n",
    "from IPython.display import Image  \n",
    "import pydotplus\n",
    "import time\n",
    "from pathlib import Path\n",
    "import math\n",
    "from sklearn.preprocessing import StandardScaler"
   ]
  },
  {
   "cell_type": "code",
   "execution_count": 2,
   "id": "14576c8f-3466-4d1e-95ac-45c1632a931f",
   "metadata": {},
   "outputs": [],
   "source": [
    "# %config InlineBackend.figure_format = 'svg'\n",
    "plt.rcParams['figure.figsize'] = [9,6]"
   ]
  },
  {
   "cell_type": "code",
   "execution_count": 3,
   "id": "0a514c04-54c4-4a5c-907f-7db401c572c9",
   "metadata": {},
   "outputs": [],
   "source": [
    "phenotype = 'Glucose'"
   ]
  },
  {
   "cell_type": "code",
   "execution_count": 4,
   "id": "8677265e-b45b-43ad-a473-1fdec433bfbb",
   "metadata": {},
   "outputs": [
    {
     "name": "stdout",
     "output_type": "stream",
     "text": [
      "Dimensions of cyto_data: (260, 5000, 27, 1)\n",
      "Dimensions of samples: (260, 85)\n",
      "Names of the makers: ['CELL_LENGTH' 'DEAD' 'CD19' 'CD4' 'CD8' 'IGD' 'CD85J' 'CD16' 'CD3' 'CD38'\n",
      " 'CD27' 'CD14' 'CD94' 'CCR7' 'CD45RA' 'CD20' 'CD127' 'CD33' 'CD28' 'CD24'\n",
      " 'CD161' 'TCRGD' 'CD56' 'HLADR' 'CD25' 'DNA1' 'DNA2']\n"
     ]
    }
   ],
   "source": [
    "#load data\n",
    "aging_dir = Path('/home/ubuntu/a/aging')\n",
    "\n",
    "with open(aging_dir/'aging-cytof-data.obj', 'rb') as f:\n",
    "    allData = pickle.load(f)\n",
    "samples = allData[\"samples\"]\n",
    "cyto_data = allData['expr_list']\n",
    "# Truncate cytodata\n",
    "cyto_data = cyto_data[ :, :int(5e3)]\n",
    "markers = allData[\"marker_names\"]\n",
    "\n",
    "print(f'Dimensions of cyto_data: {cyto_data.shape}')\n",
    "print(f'Dimensions of samples: {samples.shape}')\n",
    "print(f'Names of the makers: {markers.values}')"
   ]
  },
  {
   "cell_type": "code",
   "execution_count": 10,
   "id": "e2d08783-b61a-4abb-b2b2-a89f1e0a8560",
   "metadata": {},
   "outputs": [
    {
     "name": "stdout",
     "output_type": "stream",
     "text": [
      "count    202.000000\n",
      "mean      90.009901\n",
      "std       20.171156\n",
      "min       56.000000\n",
      "25%       80.250000\n",
      "50%       87.000000\n",
      "75%       95.000000\n",
      "max      291.000000\n",
      "Name: Glucose, dtype: float64\n"
     ]
    },
    {
     "data": {
      "text/plain": [
       "<AxesSubplot:ylabel='Frequency'>"
      ]
     },
     "execution_count": 10,
     "metadata": {},
     "output_type": "execute_result"
    },
    {
     "data": {
      "image/png": "[encoded data removed]",
      "text/plain": [
       "<Figure size 432x288 with 1 Axes>"
      ]
     },
     "metadata": {
      "needs_background": "light"
     },
     "output_type": "display_data"
    }
   ],
   "source": [
    "print(samples[phenotype].describe())\n",
    "samples[phenotype].plot.hist(bins=50)"
   ]
  },
  {
   "cell_type": "code",
   "execution_count": 28,
   "id": "bf34ea4e-5219-4d3a-ab8b-739af5ada579",
   "metadata": {},
   "outputs": [],
   "source": [
    "##### Step 3: split train, validation and test######\n",
    "x = []\n",
    "y = []\n",
    "for i, row in samples.iterrows():\n",
    "    if math.isnan(row[phenotype]):\n",
    "        continue\n",
    "    x.append(cyto_data[i])\n",
    "    y.append(row[phenotype])\n",
    "age_range = max(y) - min(y)\n",
    "x = np.asarray(x)\n",
    "y_raw = np.asarray(y)\n",
    "\n",
    "\n",
    "x_train, x_valid, y_train, y_valid = train_test_split(x, y_raw)\n",
    "y_train = y_train.reshape(-1,1)\n",
    "y_valid = y_valid.reshape(-1,1)\n",
    "scaler = StandardScaler()\n",
    "scaler.fit(y_train)\n",
    "y_train = scaler.transform(y_train).reshape(1,-1)[0]\n",
    "y_valid = scaler.transform(y_valid).reshape(1,-1)[0]"
   ]
  },
  {
   "cell_type": "code",
   "execution_count": null,
   "id": "f5e1317c-62ec-4801-acf9-4bf2c26b85c5",
   "metadata": {},
   "outputs": [],
   "source": []
  }
 ],
 "metadata": {
  "kernelspec": {
   "display_name": "Python 3",
   "language": "python",
   "name": "python3"
  },
  "language_info": {
   "codemirror_mode": {
    "name": "ipython",
    "version": 3
   },
   "file_extension": ".py",
   "mimetype": "text/x-python",
   "name": "python",
   "nbconvert_exporter": "python",
   "pygments_lexer": "ipython3",
   "version": "3.9.6"
  }
 },
 "nbformat": 4,
 "nbformat_minor": 5
}
