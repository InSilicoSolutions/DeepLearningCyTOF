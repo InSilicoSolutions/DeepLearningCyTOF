{
 "cells": [
  {
   "cell_type": "markdown",
   "metadata": {},
   "source": [
    "# Predict `Subject Age`"
   ]
  },
  {
   "cell_type": "code",
   "execution_count": 1,
   "metadata": {},
   "outputs": [],
   "source": [
    "%matplotlib inline"
   ]
  },
  {
   "cell_type": "code",
   "execution_count": 5,
   "metadata": {},
   "outputs": [],
   "source": [
    "##### Step 1: import functions #####\n",
    "import tensorflow as tf\n",
    "from tensorflow.keras.layers import Dense, Flatten, BatchNormalization, Activation, Conv2D, AveragePooling2D, Input, Softmax\n",
    "from tensorflow.keras.models import load_model, Model, Sequential\n",
    "from tensorflow.keras.optimizers import Adam\n",
    "from tensorflow.keras.callbacks import ModelCheckpoint, EarlyStopping\n",
    "from tensorflow.keras.losses import SparseCategoricalCrossentropy\n",
    "from tensorflow.keras import backend as K\n",
    "from tensorflow.keras.utils import plot_model\n",
    "import pickle\n",
    "import pandas as pd\n",
    "import numpy as np\n",
    "from numpy.random import seed; seed(111)\n",
    "import random\n",
    "import matplotlib.pyplot as plt\n",
    "import seaborn as sns\n",
    "from tensorflow.random import set_seed; set_seed(111)\n",
    "from sklearn.metrics import roc_curve, auc\n",
    "from sklearn.preprocessing import normalize\n",
    "from six import StringIO  \n",
    "from sklearn.tree import export_graphviz, DecisionTreeRegressor\n",
    "from sklearn.model_selection import train_test_split\n",
    "from scipy.stats import ttest_ind\n",
    "from IPython.display import Image  \n",
    "import time\n",
    "from pathlib import Path"
   ]
  },
  {
   "cell_type": "code",
   "execution_count": 6,
   "metadata": {},
   "outputs": [],
   "source": [
    "# %config InlineBackend.figure_format = 'svg'\n",
    "plt.rcParams['figure.figsize'] = [9,6]"
   ]
  },
  {
   "cell_type": "code",
   "execution_count": 7,
   "metadata": {},
   "outputs": [
    {
     "name": "stderr",
     "output_type": "stream",
     "text": [
      "2021-09-06 00:55:37.020660: I tensorflow/compiler/jit/xla_cpu_device.cc:41] Not creating XLA devices, tf_xla_enable_xla_devices not set\n",
      "2021-09-06 00:55:37.021725: I tensorflow/stream_executor/platform/default/dso_loader.cc:49] Successfully opened dynamic library libcuda.so.1\n",
      "2021-09-06 00:55:37.150643: E tensorflow/stream_executor/cuda/cuda_driver.cc:328] failed call to cuInit: CUDA_ERROR_NO_DEVICE: no CUDA-capable device is detected\n",
      "2021-09-06 00:55:37.150691: I tensorflow/stream_executor/cuda/cuda_diagnostics.cc:156] kernel driver does not appear to be running on this host (ip-172-31-82-149): /proc/driver/nvidia/version does not exist\n"
     ]
    },
    {
     "ename": "IndexError",
     "evalue": "list index out of range",
     "output_type": "error",
     "traceback": [
      "\u001b[0;31m---------------------------------------------------------------------------\u001b[0m",
      "\u001b[0;31mIndexError\u001b[0m                                Traceback (most recent call last)",
      "\u001b[0;32m/tmp/ipykernel_3614/3216021123.py\u001b[0m in \u001b[0;36m<module>\u001b[0;34m\u001b[0m\n\u001b[1;32m      1\u001b[0m \u001b[0mgpus\u001b[0m \u001b[0;34m=\u001b[0m \u001b[0mtf\u001b[0m\u001b[0;34m.\u001b[0m\u001b[0mconfig\u001b[0m\u001b[0;34m.\u001b[0m\u001b[0mlist_physical_devices\u001b[0m\u001b[0;34m(\u001b[0m\u001b[0;34m'GPU'\u001b[0m\u001b[0;34m)\u001b[0m\u001b[0;34m\u001b[0m\u001b[0;34m\u001b[0m\u001b[0m\n\u001b[0;32m----> 2\u001b[0;31m \u001b[0mtf\u001b[0m\u001b[0;34m.\u001b[0m\u001b[0mconfig\u001b[0m\u001b[0;34m.\u001b[0m\u001b[0mexperimental\u001b[0m\u001b[0;34m.\u001b[0m\u001b[0mset_memory_growth\u001b[0m\u001b[0;34m(\u001b[0m\u001b[0mgpus\u001b[0m\u001b[0;34m[\u001b[0m\u001b[0;36m0\u001b[0m\u001b[0;34m]\u001b[0m\u001b[0;34m,\u001b[0m \u001b[0;32mTrue\u001b[0m\u001b[0;34m)\u001b[0m\u001b[0;34m\u001b[0m\u001b[0;34m\u001b[0m\u001b[0m\n\u001b[0m",
      "\u001b[0;31mIndexError\u001b[0m: list index out of range"
     ]
    }
   ],
   "source": [
    "gpus = tf.config.list_physical_devices('GPU')\n",
    "tf.config.experimental.set_memory_growth(gpus[0], True)"
   ]
  },
  {
   "cell_type": "code",
   "execution_count": 8,
   "metadata": {},
   "outputs": [],
   "source": [
    "phenotype = 'Subject Age'"
   ]
  },
  {
   "cell_type": "code",
   "execution_count": 9,
   "metadata": {},
   "outputs": [
    {
     "name": "stdout",
     "output_type": "stream",
     "text": [
      "Dimensions of cyto_data: (260, 5000, 27, 1)\n",
      "Dimensions of samples: (260, 85)\n",
      "Names of the makers: ['CELL_LENGTH' 'DEAD' 'CD19' 'CD4' 'CD8' 'IGD' 'CD85J' 'CD16' 'CD3' 'CD38'\n",
      " 'CD27' 'CD14' 'CD94' 'CCR7' 'CD45RA' 'CD20' 'CD127' 'CD33' 'CD28' 'CD24'\n",
      " 'CD161' 'TCRGD' 'CD56' 'HLADR' 'CD25' 'DNA1' 'DNA2']\n"
     ]
    }
   ],
   "source": [
    "#load data\n",
    "aging_dir = Path('/home/ubuntu/a/aging/aging')\n",
    "\n",
    "with open(aging_dir/'aging-cytof-data.obj', 'rb') as f:\n",
    "    allData = pickle.load(f)\n",
    "samples = allData[\"samples\"]\n",
    "cyto_data = allData['expr_list']\n",
    "# Truncate cytodata\n",
    "cyto_data = cyto_data[ :, :int(5e3)]\n",
    "markers = allData[\"marker_names\"]\n",
    "\n",
    "print(f'Dimensions of cyto_data: {cyto_data.shape}')\n",
    "print(f'Dimensions of samples: {samples.shape}')\n",
    "print(f'Names of the makers: {markers.values}')"
   ]
  },
  {
   "cell_type": "code",
   "execution_count": 10,
   "metadata": {},
   "outputs": [
    {
     "name": "stdout",
     "output_type": "stream",
     "text": [
      "count    260.000000\n",
      "mean      68.303846\n",
      "std       15.169696\n",
      "min       41.000000\n",
      "25%       55.000000\n",
      "50%       69.000000\n",
      "75%       82.000000\n",
      "max       90.000000\n",
      "Name: Subject Age, dtype: float64\n"
     ]
    },
    {
     "data": {
      "text/plain": [
       "<AxesSubplot:ylabel='Frequency'>"
      ]
     },
     "execution_count": 10,
     "metadata": {},
     "output_type": "execute_result"
    },
    {
     "data": {
      "image/png": "[encoded data removed]",
      "text/plain": [
       "<Figure size 648x432 with 1 Axes>"
      ]
     },
     "metadata": {
      "needs_background": "light"
     },
     "output_type": "display_data"
    }
   ],
   "source": [
    "print(samples[phenotype].describe())\n",
    "samples[phenotype].plot.hist()"
   ]
  },
  {
   "cell_type": "code",
   "execution_count": 11,
   "metadata": {},
   "outputs": [],
   "source": [
    "##### Step 3: split train, validation and test######\n",
    "x = []\n",
    "y = []\n",
    "for i, row in samples.iterrows():\n",
    "    x.append(cyto_data[i])\n",
    "    y.append(row[phenotype])\n",
    "age_range = max(y) - min(y)\n",
    "x = np.asarray(x)\n",
    "y_raw = np.asarray(y)\n",
    "age_min = min(y_raw)\n",
    "age_max = max(y_raw)\n",
    "age_range = age_max - age_min\n",
    "y = (y_raw - age_min) / age_range\n",
    "\n",
    "x_train, x_valid, y_train, y_valid = train_test_split(x, y)"
   ]
  },
  {
   "cell_type": "code",
   "execution_count": 12,
   "metadata": {},
   "outputs": [
    {
     "name": "stdout",
     "output_type": "stream",
     "text": [
      "Model: \"sequential\"\n",
      "_________________________________________________________________\n",
      "Layer (type)                 Output Shape              Param #   \n",
      "=================================================================\n",
      "conv2d (Conv2D)              (None, 5000, 1, 3)        84        \n",
      "_________________________________________________________________\n",
      "batch_normalization (BatchNo (None, 5000, 1, 3)        12        \n",
      "_________________________________________________________________\n",
      "activation (Activation)      (None, 5000, 1, 3)        0         \n",
      "_________________________________________________________________\n",
      "conv2d_1 (Conv2D)            (None, 5000, 1, 6)        24        \n",
      "_________________________________________________________________\n",
      "batch_normalization_1 (Batch (None, 5000, 1, 6)        24        \n",
      "_________________________________________________________________\n",
      "activation_1 (Activation)    (None, 5000, 1, 6)        0         \n",
      "_________________________________________________________________\n",
      "average_pooling2d (AveragePo (None, 1, 1, 6)           0         \n",
      "_________________________________________________________________\n",
      "flatten (Flatten)            (None, 6)                 0         \n",
      "_________________________________________________________________\n",
      "dense (Dense)                (None, 3)                 21        \n",
      "_________________________________________________________________\n",
      "batch_normalization_2 (Batch (None, 3)                 12        \n",
      "_________________________________________________________________\n",
      "activation_2 (Activation)    (None, 3)                 0         \n",
      "_________________________________________________________________\n",
      "dense_1 (Dense)              (None, 1)                 4         \n",
      "=================================================================\n",
      "Total params: 181\n",
      "Trainable params: 157\n",
      "Non-trainable params: 24\n",
      "_________________________________________________________________\n"
     ]
    },
    {
     "name": "stderr",
     "output_type": "stream",
     "text": [
      "2021-09-06 00:56:02.568587: I tensorflow/core/platform/cpu_feature_guard.cc:142] This TensorFlow binary is optimized with oneAPI Deep Neural Network Library (oneDNN) to use the following CPU instructions in performance-critical operations:  SSE4.1 SSE4.2 AVX AVX2 AVX512F FMA\n",
      "To enable them in other operations, rebuild TensorFlow with the appropriate compiler flags.\n",
      "2021-09-06 00:56:02.568863: I tensorflow/compiler/jit/xla_gpu_device.cc:99] Not creating XLA devices, tf_xla_enable_xla_devices not set\n"
     ]
    }
   ],
   "source": [
    "model = Sequential([\n",
    "    Input(shape=x[0].shape),\n",
    "    Conv2D(3, kernel_size = (1, x.shape[2]), activation=None),\n",
    "    BatchNormalization(),\n",
    "    Activation('relu'),\n",
    "    Conv2D(6, kernel_size = (1,1), activation=None),\n",
    "    BatchNormalization(),\n",
    "    Activation('relu'),\n",
    "    AveragePooling2D(pool_size = (x.shape[1], 1)),\n",
    "    Flatten(),\n",
    "    Dense(3, activation=None),\n",
    "    BatchNormalization(),\n",
    "    Activation('relu'),\n",
    "    Dense(1, activation=None),\n",
    "])\n",
    "model.compile(loss='mean_absolute_error',\n",
    "              optimizer='adam',\n",
    "              metrics=['mean_absolute_error'])\n",
    "model.summary()"
   ]
  },
  {
   "cell_type": "code",
   "execution_count": 13,
   "metadata": {
    "scrolled": true,
    "tags": []
   },
   "outputs": [
    {
     "name": "stderr",
     "output_type": "stream",
     "text": [
      "2021-09-06 00:56:05.603794: W tensorflow/core/framework/cpu_allocator_impl.cc:80] Allocation of 105300000 exceeds 10% of free system memory.\n",
      "2021-09-06 00:56:05.853404: I tensorflow/compiler/mlir/mlir_graph_optimization_pass.cc:116] None of the MLIR optimization passes are enabled (registered 2)\n",
      "2021-09-06 00:56:05.885915: I tensorflow/core/platform/profile_utils/cpu_utils.cc:112] CPU Frequency: 2999995000 Hz\n"
     ]
    },
    {
     "name": "stdout",
     "output_type": "stream",
     "text": [
      "Epoch 1/200\n"
     ]
    },
    {
     "name": "stderr",
     "output_type": "stream",
     "text": [
      "2021-09-06 00:56:06.512102: W tensorflow/core/framework/cpu_allocator_impl.cc:80] Allocation of 32400000 exceeds 10% of free system memory.\n",
      "2021-09-06 00:56:06.512106: W tensorflow/core/framework/cpu_allocator_impl.cc:80] Allocation of 32400000 exceeds 10% of free system memory.\n",
      "2021-09-06 00:56:06.512102: W tensorflow/core/framework/cpu_allocator_impl.cc:80] Allocation of 32400000 exceeds 10% of free system memory.\n",
      "2021-09-06 00:56:06.534122: W tensorflow/core/framework/cpu_allocator_impl.cc:80] Allocation of 32400000 exceeds 10% of free system memory.\n"
     ]
    },
    {
     "name": "stdout",
     "output_type": "stream",
     "text": [
      "4/4 [==============================] - 1s 212ms/step - loss: 0.3873 - mean_absolute_error: 0.3873 - val_loss: 0.5998 - val_mean_absolute_error: 0.5998\n",
      "Epoch 2/200\n",
      "4/4 [==============================] - 1s 131ms/step - loss: 0.3930 - mean_absolute_error: 0.3930 - val_loss: 0.5941 - val_mean_absolute_error: 0.5941\n",
      "Epoch 3/200\n",
      "4/4 [==============================] - 1s 130ms/step - loss: 0.3607 - mean_absolute_error: 0.3607 - val_loss: 0.5876 - val_mean_absolute_error: 0.5876\n",
      "Epoch 4/200\n",
      "4/4 [==============================] - 1s 130ms/step - loss: 0.3466 - mean_absolute_error: 0.3466 - val_loss: 0.5809 - val_mean_absolute_error: 0.5809\n",
      "Epoch 5/200\n",
      "4/4 [==============================] - 1s 127ms/step - loss: 0.3354 - mean_absolute_error: 0.3354 - val_loss: 0.5740 - val_mean_absolute_error: 0.5740\n",
      "Epoch 6/200\n",
      "4/4 [==============================] - 1s 138ms/step - loss: 0.3275 - mean_absolute_error: 0.3275 - val_loss: 0.5670 - val_mean_absolute_error: 0.5670\n",
      "Epoch 7/200\n",
      "4/4 [==============================] - 1s 126ms/step - loss: 0.3292 - mean_absolute_error: 0.3292 - val_loss: 0.5599 - val_mean_absolute_error: 0.5599\n",
      "Epoch 8/200\n",
      "4/4 [==============================] - 1s 125ms/step - loss: 0.3045 - mean_absolute_error: 0.3045 - val_loss: 0.5528 - val_mean_absolute_error: 0.5528\n",
      "Epoch 9/200\n",
      "4/4 [==============================] - 1s 128ms/step - loss: 0.3181 - mean_absolute_error: 0.3181 - val_loss: 0.5455 - val_mean_absolute_error: 0.5455\n",
      "Epoch 10/200\n",
      "4/4 [==============================] - 1s 128ms/step - loss: 0.2877 - mean_absolute_error: 0.2877 - val_loss: 0.5385 - val_mean_absolute_error: 0.5385\n",
      "Epoch 11/200\n",
      "4/4 [==============================] - 1s 127ms/step - loss: 0.2889 - mean_absolute_error: 0.2889 - val_loss: 0.5313 - val_mean_absolute_error: 0.5313\n",
      "Epoch 12/200\n",
      "4/4 [==============================] - 1s 128ms/step - loss: 0.2843 - mean_absolute_error: 0.2843 - val_loss: 0.5250 - val_mean_absolute_error: 0.5250\n",
      "Epoch 13/200\n",
      "4/4 [==============================] - 1s 122ms/step - loss: 0.2742 - mean_absolute_error: 0.2742 - val_loss: 0.5183 - val_mean_absolute_error: 0.5183\n",
      "Epoch 14/200\n",
      "4/4 [==============================] - 1s 127ms/step - loss: 0.2657 - mean_absolute_error: 0.2657 - val_loss: 0.5109 - val_mean_absolute_error: 0.5109\n",
      "Epoch 15/200\n",
      "4/4 [==============================] - 1s 129ms/step - loss: 0.2686 - mean_absolute_error: 0.2686 - val_loss: 0.5033 - val_mean_absolute_error: 0.5033\n",
      "Epoch 16/200\n",
      "4/4 [==============================] - 1s 128ms/step - loss: 0.2803 - mean_absolute_error: 0.2803 - val_loss: 0.4954 - val_mean_absolute_error: 0.4954\n",
      "Epoch 17/200\n",
      "4/4 [==============================] - 1s 128ms/step - loss: 0.2716 - mean_absolute_error: 0.2716 - val_loss: 0.4875 - val_mean_absolute_error: 0.4875\n",
      "Epoch 18/200\n",
      "4/4 [==============================] - 1s 127ms/step - loss: 0.2522 - mean_absolute_error: 0.2522 - val_loss: 0.4817 - val_mean_absolute_error: 0.4817\n",
      "Epoch 19/200\n",
      "4/4 [==============================] - 1s 129ms/step - loss: 0.2626 - mean_absolute_error: 0.2626 - val_loss: 0.4752 - val_mean_absolute_error: 0.4752\n",
      "Epoch 20/200\n",
      "4/4 [==============================] - 1s 131ms/step - loss: 0.2581 - mean_absolute_error: 0.2581 - val_loss: 0.4683 - val_mean_absolute_error: 0.4683\n",
      "Epoch 21/200\n",
      "4/4 [==============================] - 1s 128ms/step - loss: 0.2486 - mean_absolute_error: 0.2486 - val_loss: 0.4609 - val_mean_absolute_error: 0.4609\n",
      "Epoch 22/200\n",
      "4/4 [==============================] - 1s 125ms/step - loss: 0.2479 - mean_absolute_error: 0.2479 - val_loss: 0.4523 - val_mean_absolute_error: 0.4523\n",
      "Epoch 23/200\n",
      "4/4 [==============================] - 1s 126ms/step - loss: 0.2368 - mean_absolute_error: 0.2368 - val_loss: 0.4439 - val_mean_absolute_error: 0.4439\n",
      "Epoch 24/200\n",
      "4/4 [==============================] - 1s 129ms/step - loss: 0.2441 - mean_absolute_error: 0.2441 - val_loss: 0.4357 - val_mean_absolute_error: 0.4357\n",
      "Epoch 25/200\n",
      "4/4 [==============================] - 1s 127ms/step - loss: 0.2297 - mean_absolute_error: 0.2297 - val_loss: 0.4292 - val_mean_absolute_error: 0.4292\n",
      "Epoch 26/200\n",
      "4/4 [==============================] - 1s 128ms/step - loss: 0.2295 - mean_absolute_error: 0.2295 - val_loss: 0.4234 - val_mean_absolute_error: 0.4234\n",
      "Epoch 27/200\n",
      "4/4 [==============================] - 1s 127ms/step - loss: 0.2187 - mean_absolute_error: 0.2187 - val_loss: 0.4150 - val_mean_absolute_error: 0.4150\n",
      "Epoch 28/200\n",
      "4/4 [==============================] - 1s 125ms/step - loss: 0.2380 - mean_absolute_error: 0.2380 - val_loss: 0.4068 - val_mean_absolute_error: 0.4068\n",
      "Epoch 29/200\n",
      "4/4 [==============================] - 1s 129ms/step - loss: 0.2484 - mean_absolute_error: 0.2484 - val_loss: 0.4010 - val_mean_absolute_error: 0.4010\n",
      "Epoch 30/200\n",
      "4/4 [==============================] - 1s 127ms/step - loss: 0.2205 - mean_absolute_error: 0.2205 - val_loss: 0.3969 - val_mean_absolute_error: 0.3969\n",
      "Epoch 31/200\n",
      "4/4 [==============================] - 1s 130ms/step - loss: 0.2293 - mean_absolute_error: 0.2293 - val_loss: 0.3926 - val_mean_absolute_error: 0.3926\n",
      "Epoch 32/200\n",
      "4/4 [==============================] - 1s 128ms/step - loss: 0.2201 - mean_absolute_error: 0.2201 - val_loss: 0.3868 - val_mean_absolute_error: 0.3868\n",
      "Epoch 33/200\n",
      "4/4 [==============================] - 1s 128ms/step - loss: 0.2152 - mean_absolute_error: 0.2152 - val_loss: 0.3815 - val_mean_absolute_error: 0.3815\n",
      "Epoch 34/200\n",
      "4/4 [==============================] - 1s 128ms/step - loss: 0.2109 - mean_absolute_error: 0.2109 - val_loss: 0.3774 - val_mean_absolute_error: 0.3774\n",
      "Epoch 35/200\n",
      "4/4 [==============================] - 1s 126ms/step - loss: 0.2087 - mean_absolute_error: 0.2087 - val_loss: 0.3730 - val_mean_absolute_error: 0.3730\n",
      "Epoch 36/200\n",
      "4/4 [==============================] - 1s 125ms/step - loss: 0.2099 - mean_absolute_error: 0.2099 - val_loss: 0.3705 - val_mean_absolute_error: 0.3705\n",
      "Epoch 37/200\n",
      "4/4 [==============================] - 1s 127ms/step - loss: 0.2067 - mean_absolute_error: 0.2067 - val_loss: 0.3694 - val_mean_absolute_error: 0.3694\n",
      "Epoch 38/200\n",
      "4/4 [==============================] - 1s 126ms/step - loss: 0.2098 - mean_absolute_error: 0.2098 - val_loss: 0.3696 - val_mean_absolute_error: 0.3696\n",
      "Epoch 39/200\n",
      "4/4 [==============================] - 1s 127ms/step - loss: 0.2051 - mean_absolute_error: 0.2051 - val_loss: 0.3702 - val_mean_absolute_error: 0.3702\n",
      "Epoch 40/200\n",
      "4/4 [==============================] - 1s 130ms/step - loss: 0.2075 - mean_absolute_error: 0.2075 - val_loss: 0.3682 - val_mean_absolute_error: 0.3682\n",
      "Epoch 41/200\n",
      "4/4 [==============================] - 1s 125ms/step - loss: 0.2069 - mean_absolute_error: 0.2069 - val_loss: 0.3641 - val_mean_absolute_error: 0.3641\n",
      "Epoch 42/200\n",
      "4/4 [==============================] - 1s 125ms/step - loss: 0.2011 - mean_absolute_error: 0.2011 - val_loss: 0.3576 - val_mean_absolute_error: 0.3576\n",
      "Epoch 43/200\n",
      "4/4 [==============================] - 1s 125ms/step - loss: 0.2011 - mean_absolute_error: 0.2011 - val_loss: 0.3488 - val_mean_absolute_error: 0.3488\n",
      "Epoch 44/200\n",
      "4/4 [==============================] - 1s 124ms/step - loss: 0.2145 - mean_absolute_error: 0.2145 - val_loss: 0.3346 - val_mean_absolute_error: 0.3346\n",
      "Epoch 45/200\n",
      "4/4 [==============================] - 1s 124ms/step - loss: 0.2000 - mean_absolute_error: 0.2000 - val_loss: 0.3261 - val_mean_absolute_error: 0.3261\n",
      "Epoch 46/200\n",
      "4/4 [==============================] - 1s 125ms/step - loss: 0.1944 - mean_absolute_error: 0.1944 - val_loss: 0.3211 - val_mean_absolute_error: 0.3211\n",
      "Epoch 47/200\n",
      "4/4 [==============================] - 1s 125ms/step - loss: 0.1924 - mean_absolute_error: 0.1924 - val_loss: 0.3184 - val_mean_absolute_error: 0.3184\n",
      "Epoch 48/200\n",
      "4/4 [==============================] - 1s 127ms/step - loss: 0.1908 - mean_absolute_error: 0.1908 - val_loss: 0.3195 - val_mean_absolute_error: 0.3195\n",
      "Epoch 49/200\n",
      "4/4 [==============================] - 1s 125ms/step - loss: 0.1954 - mean_absolute_error: 0.1954 - val_loss: 0.3214 - val_mean_absolute_error: 0.3214\n",
      "Epoch 50/200\n",
      "4/4 [==============================] - 1s 129ms/step - loss: 0.2010 - mean_absolute_error: 0.2010 - val_loss: 0.3193 - val_mean_absolute_error: 0.3193\n",
      "Epoch 51/200\n",
      "4/4 [==============================] - 1s 129ms/step - loss: 0.1889 - mean_absolute_error: 0.1889 - val_loss: 0.3125 - val_mean_absolute_error: 0.3125\n",
      "Epoch 52/200\n",
      "4/4 [==============================] - 1s 126ms/step - loss: 0.1884 - mean_absolute_error: 0.1884 - val_loss: 0.3031 - val_mean_absolute_error: 0.3031\n",
      "Epoch 53/200\n",
      "4/4 [==============================] - 1s 124ms/step - loss: 0.1801 - mean_absolute_error: 0.1801 - val_loss: 0.2914 - val_mean_absolute_error: 0.2914\n",
      "Epoch 54/200\n",
      "4/4 [==============================] - 1s 128ms/step - loss: 0.1950 - mean_absolute_error: 0.1950 - val_loss: 0.2836 - val_mean_absolute_error: 0.2836\n",
      "Epoch 55/200\n",
      "4/4 [==============================] - 1s 123ms/step - loss: 0.1674 - mean_absolute_error: 0.1674 - val_loss: 0.2838 - val_mean_absolute_error: 0.2838\n",
      "Epoch 56/200\n",
      "4/4 [==============================] - 1s 123ms/step - loss: 0.1794 - mean_absolute_error: 0.1794 - val_loss: 0.2862 - val_mean_absolute_error: 0.2862\n",
      "Epoch 57/200\n",
      "4/4 [==============================] - 1s 127ms/step - loss: 0.1820 - mean_absolute_error: 0.1820 - val_loss: 0.2930 - val_mean_absolute_error: 0.2930\n",
      "Epoch 58/200\n",
      "4/4 [==============================] - 1s 126ms/step - loss: 0.1827 - mean_absolute_error: 0.1827 - val_loss: 0.2940 - val_mean_absolute_error: 0.2940\n",
      "Epoch 59/200\n",
      "4/4 [==============================] - 1s 124ms/step - loss: 0.1740 - mean_absolute_error: 0.1740 - val_loss: 0.2851 - val_mean_absolute_error: 0.2851\n",
      "Epoch 60/200\n",
      "4/4 [==============================] - 1s 125ms/step - loss: 0.1835 - mean_absolute_error: 0.1835 - val_loss: 0.2748 - val_mean_absolute_error: 0.2748\n",
      "Epoch 61/200\n",
      "4/4 [==============================] - 1s 126ms/step - loss: 0.1830 - mean_absolute_error: 0.1830 - val_loss: 0.2684 - val_mean_absolute_error: 0.2684\n",
      "Epoch 62/200\n",
      "4/4 [==============================] - 1s 128ms/step - loss: 0.1828 - mean_absolute_error: 0.1828 - val_loss: 0.2662 - val_mean_absolute_error: 0.2662\n",
      "Epoch 63/200\n",
      "4/4 [==============================] - 1s 126ms/step - loss: 0.1710 - mean_absolute_error: 0.1710 - val_loss: 0.2618 - val_mean_absolute_error: 0.2618\n",
      "Epoch 64/200\n",
      "4/4 [==============================] - 1s 124ms/step - loss: 0.1706 - mean_absolute_error: 0.1706 - val_loss: 0.2592 - val_mean_absolute_error: 0.2592\n",
      "Epoch 65/200\n",
      "4/4 [==============================] - 1s 126ms/step - loss: 0.1838 - mean_absolute_error: 0.1838 - val_loss: 0.2593 - val_mean_absolute_error: 0.2593\n",
      "Epoch 66/200\n",
      "4/4 [==============================] - 1s 126ms/step - loss: 0.1816 - mean_absolute_error: 0.1816 - val_loss: 0.2641 - val_mean_absolute_error: 0.2641\n",
      "Epoch 67/200\n",
      "4/4 [==============================] - 1s 132ms/step - loss: 0.1748 - mean_absolute_error: 0.1748 - val_loss: 0.2676 - val_mean_absolute_error: 0.2676\n",
      "Epoch 68/200\n",
      "4/4 [==============================] - 1s 124ms/step - loss: 0.1760 - mean_absolute_error: 0.1760 - val_loss: 0.2733 - val_mean_absolute_error: 0.2733\n",
      "Epoch 69/200\n",
      "4/4 [==============================] - 1s 124ms/step - loss: 0.1749 - mean_absolute_error: 0.1749 - val_loss: 0.2767 - val_mean_absolute_error: 0.2767\n",
      "Epoch 70/200\n",
      "4/4 [==============================] - 1s 124ms/step - loss: 0.1724 - mean_absolute_error: 0.1724 - val_loss: 0.2792 - val_mean_absolute_error: 0.2792\n",
      "Epoch 71/200\n",
      "4/4 [==============================] - 1s 125ms/step - loss: 0.1671 - mean_absolute_error: 0.1671 - val_loss: 0.2826 - val_mean_absolute_error: 0.2826\n",
      "Epoch 72/200\n",
      "4/4 [==============================] - 1s 127ms/step - loss: 0.1768 - mean_absolute_error: 0.1768 - val_loss: 0.2796 - val_mean_absolute_error: 0.2796\n",
      "Epoch 73/200\n",
      "4/4 [==============================] - 1s 123ms/step - loss: 0.1770 - mean_absolute_error: 0.1770 - val_loss: 0.2670 - val_mean_absolute_error: 0.2670\n",
      "Epoch 74/200\n",
      "4/4 [==============================] - 1s 127ms/step - loss: 0.1770 - mean_absolute_error: 0.1770 - val_loss: 0.2544 - val_mean_absolute_error: 0.2544\n",
      "Epoch 75/200\n",
      "4/4 [==============================] - 1s 125ms/step - loss: 0.1738 - mean_absolute_error: 0.1738 - val_loss: 0.2502 - val_mean_absolute_error: 0.2502\n",
      "Epoch 76/200\n",
      "4/4 [==============================] - 1s 123ms/step - loss: 0.1715 - mean_absolute_error: 0.1715 - val_loss: 0.2504 - val_mean_absolute_error: 0.2504\n",
      "Epoch 77/200\n",
      "4/4 [==============================] - 1s 124ms/step - loss: 0.1725 - mean_absolute_error: 0.1725 - val_loss: 0.2558 - val_mean_absolute_error: 0.2558\n",
      "Epoch 78/200\n",
      "4/4 [==============================] - 1s 125ms/step - loss: 0.1696 - mean_absolute_error: 0.1696 - val_loss: 0.2605 - val_mean_absolute_error: 0.2605\n",
      "Epoch 79/200\n",
      "4/4 [==============================] - 1s 125ms/step - loss: 0.1819 - mean_absolute_error: 0.1819 - val_loss: 0.2594 - val_mean_absolute_error: 0.2594\n",
      "Epoch 80/200\n",
      "4/4 [==============================] - 1s 128ms/step - loss: 0.1675 - mean_absolute_error: 0.1675 - val_loss: 0.2603 - val_mean_absolute_error: 0.2603\n",
      "Epoch 81/200\n",
      "4/4 [==============================] - 1s 125ms/step - loss: 0.1749 - mean_absolute_error: 0.1749 - val_loss: 0.2577 - val_mean_absolute_error: 0.2577\n",
      "Epoch 82/200\n",
      "4/4 [==============================] - 1s 125ms/step - loss: 0.1784 - mean_absolute_error: 0.1784 - val_loss: 0.2542 - val_mean_absolute_error: 0.2542\n",
      "Epoch 83/200\n",
      "4/4 [==============================] - 1s 140ms/step - loss: 0.1704 - mean_absolute_error: 0.1704 - val_loss: 0.2622 - val_mean_absolute_error: 0.2622\n",
      "Epoch 84/200\n",
      "4/4 [==============================] - 1s 126ms/step - loss: 0.1750 - mean_absolute_error: 0.1750 - val_loss: 0.2698 - val_mean_absolute_error: 0.2698\n",
      "Epoch 85/200\n",
      "4/4 [==============================] - 1s 125ms/step - loss: 0.1593 - mean_absolute_error: 0.1593 - val_loss: 0.2667 - val_mean_absolute_error: 0.2667\n",
      "Epoch 86/200\n",
      "4/4 [==============================] - 1s 124ms/step - loss: 0.1632 - mean_absolute_error: 0.1632 - val_loss: 0.2587 - val_mean_absolute_error: 0.2587\n",
      "Epoch 87/200\n",
      "4/4 [==============================] - 1s 126ms/step - loss: 0.1753 - mean_absolute_error: 0.1753 - val_loss: 0.2547 - val_mean_absolute_error: 0.2547\n",
      "Epoch 88/200\n",
      "4/4 [==============================] - 1s 125ms/step - loss: 0.1532 - mean_absolute_error: 0.1532 - val_loss: 0.2509 - val_mean_absolute_error: 0.2509\n",
      "Epoch 89/200\n",
      "4/4 [==============================] - 1s 124ms/step - loss: 0.1605 - mean_absolute_error: 0.1605 - val_loss: 0.2454 - val_mean_absolute_error: 0.2454\n",
      "Epoch 90/200\n",
      "4/4 [==============================] - 1s 125ms/step - loss: 0.1700 - mean_absolute_error: 0.1700 - val_loss: 0.2389 - val_mean_absolute_error: 0.2389\n",
      "Epoch 91/200\n",
      "4/4 [==============================] - 1s 128ms/step - loss: 0.1712 - mean_absolute_error: 0.1712 - val_loss: 0.2339 - val_mean_absolute_error: 0.2339\n",
      "Epoch 92/200\n",
      "4/4 [==============================] - 1s 127ms/step - loss: 0.1634 - mean_absolute_error: 0.1634 - val_loss: 0.2304 - val_mean_absolute_error: 0.2304\n",
      "Epoch 93/200\n",
      "4/4 [==============================] - 1s 124ms/step - loss: 0.1640 - mean_absolute_error: 0.1640 - val_loss: 0.2285 - val_mean_absolute_error: 0.2285\n",
      "Epoch 94/200\n",
      "4/4 [==============================] - 1s 130ms/step - loss: 0.1657 - mean_absolute_error: 0.1657 - val_loss: 0.2338 - val_mean_absolute_error: 0.2338\n",
      "Epoch 95/200\n",
      "4/4 [==============================] - 1s 122ms/step - loss: 0.1561 - mean_absolute_error: 0.1561 - val_loss: 0.2416 - val_mean_absolute_error: 0.2416\n",
      "Epoch 96/200\n",
      "4/4 [==============================] - 1s 126ms/step - loss: 0.1766 - mean_absolute_error: 0.1766 - val_loss: 0.2522 - val_mean_absolute_error: 0.2522\n",
      "Epoch 97/200\n",
      "4/4 [==============================] - 1s 126ms/step - loss: 0.1661 - mean_absolute_error: 0.1661 - val_loss: 0.2515 - val_mean_absolute_error: 0.2515\n",
      "Epoch 98/200\n",
      "4/4 [==============================] - 1s 124ms/step - loss: 0.1658 - mean_absolute_error: 0.1658 - val_loss: 0.2484 - val_mean_absolute_error: 0.2484\n",
      "Epoch 99/200\n",
      "4/4 [==============================] - 1s 126ms/step - loss: 0.1649 - mean_absolute_error: 0.1649 - val_loss: 0.2399 - val_mean_absolute_error: 0.2399\n",
      "Epoch 100/200\n",
      "4/4 [==============================] - 1s 127ms/step - loss: 0.1540 - mean_absolute_error: 0.1540 - val_loss: 0.2357 - val_mean_absolute_error: 0.2357\n",
      "Epoch 101/200\n",
      "4/4 [==============================] - 1s 124ms/step - loss: 0.1655 - mean_absolute_error: 0.1655 - val_loss: 0.2303 - val_mean_absolute_error: 0.2303\n",
      "Epoch 102/200\n",
      "4/4 [==============================] - 1s 127ms/step - loss: 0.1703 - mean_absolute_error: 0.1703 - val_loss: 0.2219 - val_mean_absolute_error: 0.2219\n",
      "Epoch 103/200\n",
      "4/4 [==============================] - 1s 126ms/step - loss: 0.1687 - mean_absolute_error: 0.1687 - val_loss: 0.2169 - val_mean_absolute_error: 0.2169\n",
      "Epoch 104/200\n",
      "4/4 [==============================] - 1s 124ms/step - loss: 0.1578 - mean_absolute_error: 0.1578 - val_loss: 0.2170 - val_mean_absolute_error: 0.2170\n",
      "Epoch 105/200\n",
      "4/4 [==============================] - 1s 125ms/step - loss: 0.1540 - mean_absolute_error: 0.1540 - val_loss: 0.2224 - val_mean_absolute_error: 0.2224\n",
      "Epoch 106/200\n",
      "4/4 [==============================] - 1s 124ms/step - loss: 0.1625 - mean_absolute_error: 0.1625 - val_loss: 0.2302 - val_mean_absolute_error: 0.2302\n",
      "Epoch 107/200\n",
      "4/4 [==============================] - 1s 123ms/step - loss: 0.1536 - mean_absolute_error: 0.1536 - val_loss: 0.2355 - val_mean_absolute_error: 0.2355\n",
      "Epoch 108/200\n",
      "4/4 [==============================] - 1s 124ms/step - loss: 0.1650 - mean_absolute_error: 0.1650 - val_loss: 0.2314 - val_mean_absolute_error: 0.2314\n",
      "Epoch 109/200\n",
      "4/4 [==============================] - 1s 128ms/step - loss: 0.1684 - mean_absolute_error: 0.1684 - val_loss: 0.2235 - val_mean_absolute_error: 0.2235\n",
      "Epoch 110/200\n",
      "4/4 [==============================] - 1s 127ms/step - loss: 0.1514 - mean_absolute_error: 0.1514 - val_loss: 0.2199 - val_mean_absolute_error: 0.2199\n",
      "Epoch 111/200\n",
      "4/4 [==============================] - 1s 123ms/step - loss: 0.1580 - mean_absolute_error: 0.1580 - val_loss: 0.2177 - val_mean_absolute_error: 0.2177\n",
      "Epoch 112/200\n",
      "4/4 [==============================] - 1s 125ms/step - loss: 0.1516 - mean_absolute_error: 0.1516 - val_loss: 0.2156 - val_mean_absolute_error: 0.2156\n",
      "Epoch 113/200\n",
      "4/4 [==============================] - 1s 127ms/step - loss: 0.1577 - mean_absolute_error: 0.1577 - val_loss: 0.2148 - val_mean_absolute_error: 0.2148\n",
      "Epoch 114/200\n",
      "4/4 [==============================] - 1s 126ms/step - loss: 0.1531 - mean_absolute_error: 0.1531 - val_loss: 0.2147 - val_mean_absolute_error: 0.2147\n",
      "Epoch 115/200\n",
      "4/4 [==============================] - 1s 124ms/step - loss: 0.1623 - mean_absolute_error: 0.1623 - val_loss: 0.2155 - val_mean_absolute_error: 0.2155\n",
      "Epoch 116/200\n",
      "4/4 [==============================] - 1s 126ms/step - loss: 0.1621 - mean_absolute_error: 0.1621 - val_loss: 0.2233 - val_mean_absolute_error: 0.2233\n",
      "Epoch 117/200\n",
      "4/4 [==============================] - 1s 127ms/step - loss: 0.1541 - mean_absolute_error: 0.1541 - val_loss: 0.2314 - val_mean_absolute_error: 0.2314\n",
      "Epoch 118/200\n",
      "4/4 [==============================] - 1s 128ms/step - loss: 0.1573 - mean_absolute_error: 0.1573 - val_loss: 0.2360 - val_mean_absolute_error: 0.2360\n",
      "Epoch 119/200\n",
      "4/4 [==============================] - 1s 128ms/step - loss: 0.1547 - mean_absolute_error: 0.1547 - val_loss: 0.2391 - val_mean_absolute_error: 0.2391\n",
      "Epoch 120/200\n",
      "4/4 [==============================] - 1s 127ms/step - loss: 0.1593 - mean_absolute_error: 0.1593 - val_loss: 0.2354 - val_mean_absolute_error: 0.2354\n",
      "Epoch 121/200\n",
      "4/4 [==============================] - 1s 126ms/step - loss: 0.1550 - mean_absolute_error: 0.1550 - val_loss: 0.2216 - val_mean_absolute_error: 0.2216\n",
      "Epoch 122/200\n",
      "4/4 [==============================] - 1s 130ms/step - loss: 0.1651 - mean_absolute_error: 0.1651 - val_loss: 0.2150 - val_mean_absolute_error: 0.2150\n",
      "Epoch 123/200\n",
      "4/4 [==============================] - 1s 129ms/step - loss: 0.1649 - mean_absolute_error: 0.1649 - val_loss: 0.2149 - val_mean_absolute_error: 0.2149\n",
      "Epoch 124/200\n",
      "4/4 [==============================] - 1s 126ms/step - loss: 0.1521 - mean_absolute_error: 0.1521 - val_loss: 0.2189 - val_mean_absolute_error: 0.2189\n",
      "Epoch 125/200\n",
      "4/4 [==============================] - 1s 124ms/step - loss: 0.1540 - mean_absolute_error: 0.1540 - val_loss: 0.2235 - val_mean_absolute_error: 0.2235\n",
      "Epoch 126/200\n",
      "4/4 [==============================] - 1s 125ms/step - loss: 0.1626 - mean_absolute_error: 0.1626 - val_loss: 0.2231 - val_mean_absolute_error: 0.2231\n",
      "Epoch 127/200\n",
      "4/4 [==============================] - 1s 126ms/step - loss: 0.1583 - mean_absolute_error: 0.1583 - val_loss: 0.2206 - val_mean_absolute_error: 0.2206\n",
      "Epoch 128/200\n",
      "4/4 [==============================] - 1s 127ms/step - loss: 0.1510 - mean_absolute_error: 0.1510 - val_loss: 0.2170 - val_mean_absolute_error: 0.2170\n",
      "Epoch 129/200\n",
      "4/4 [==============================] - 1s 124ms/step - loss: 0.1546 - mean_absolute_error: 0.1546 - val_loss: 0.2159 - val_mean_absolute_error: 0.2159\n",
      "Epoch 130/200\n",
      "4/4 [==============================] - 1s 128ms/step - loss: 0.1663 - mean_absolute_error: 0.1663 - val_loss: 0.2158 - val_mean_absolute_error: 0.2158\n",
      "Epoch 131/200\n",
      "4/4 [==============================] - 1s 126ms/step - loss: 0.1613 - mean_absolute_error: 0.1613 - val_loss: 0.2192 - val_mean_absolute_error: 0.2192\n",
      "Epoch 132/200\n",
      "4/4 [==============================] - 1s 126ms/step - loss: 0.1486 - mean_absolute_error: 0.1486 - val_loss: 0.2274 - val_mean_absolute_error: 0.2274\n",
      "Epoch 133/200\n",
      "4/4 [==============================] - 1s 126ms/step - loss: 0.1565 - mean_absolute_error: 0.1565 - val_loss: 0.2326 - val_mean_absolute_error: 0.2326\n",
      "Epoch 134/200\n",
      "4/4 [==============================] - 1s 125ms/step - loss: 0.1521 - mean_absolute_error: 0.1521 - val_loss: 0.2267 - val_mean_absolute_error: 0.2267\n",
      "Epoch 135/200\n",
      "4/4 [==============================] - 1s 124ms/step - loss: 0.1488 - mean_absolute_error: 0.1488 - val_loss: 0.2215 - val_mean_absolute_error: 0.2215\n",
      "Epoch 136/200\n",
      "4/4 [==============================] - 1s 129ms/step - loss: 0.1580 - mean_absolute_error: 0.1580 - val_loss: 0.2207 - val_mean_absolute_error: 0.2207\n",
      "Epoch 137/200\n",
      "4/4 [==============================] - 1s 125ms/step - loss: 0.1488 - mean_absolute_error: 0.1488 - val_loss: 0.2213 - val_mean_absolute_error: 0.2213\n",
      "Epoch 138/200\n",
      "4/4 [==============================] - 1s 127ms/step - loss: 0.1419 - mean_absolute_error: 0.1419 - val_loss: 0.2244 - val_mean_absolute_error: 0.2244\n",
      "Epoch 139/200\n",
      "4/4 [==============================] - 1s 123ms/step - loss: 0.1545 - mean_absolute_error: 0.1545 - val_loss: 0.2249 - val_mean_absolute_error: 0.2249\n",
      "Epoch 140/200\n",
      "4/4 [==============================] - 1s 125ms/step - loss: 0.1511 - mean_absolute_error: 0.1511 - val_loss: 0.2232 - val_mean_absolute_error: 0.2232\n",
      "Epoch 141/200\n",
      "4/4 [==============================] - 1s 127ms/step - loss: 0.1547 - mean_absolute_error: 0.1547 - val_loss: 0.2146 - val_mean_absolute_error: 0.2146\n",
      "Epoch 142/200\n",
      "4/4 [==============================] - 1s 124ms/step - loss: 0.1506 - mean_absolute_error: 0.1506 - val_loss: 0.2115 - val_mean_absolute_error: 0.2115\n",
      "Epoch 143/200\n",
      "4/4 [==============================] - 1s 127ms/step - loss: 0.1586 - mean_absolute_error: 0.1586 - val_loss: 0.2101 - val_mean_absolute_error: 0.2101\n",
      "Epoch 144/200\n",
      "4/4 [==============================] - 1s 124ms/step - loss: 0.1655 - mean_absolute_error: 0.1655 - val_loss: 0.2094 - val_mean_absolute_error: 0.2094\n",
      "Epoch 145/200\n",
      "4/4 [==============================] - 1s 124ms/step - loss: 0.1617 - mean_absolute_error: 0.1617 - val_loss: 0.2079 - val_mean_absolute_error: 0.2079\n",
      "Epoch 146/200\n",
      "4/4 [==============================] - 1s 124ms/step - loss: 0.1458 - mean_absolute_error: 0.1458 - val_loss: 0.2074 - val_mean_absolute_error: 0.2074\n",
      "Epoch 147/200\n",
      "4/4 [==============================] - 1s 125ms/step - loss: 0.1534 - mean_absolute_error: 0.1534 - val_loss: 0.2067 - val_mean_absolute_error: 0.2067\n",
      "Epoch 148/200\n",
      "4/4 [==============================] - 1s 126ms/step - loss: 0.1442 - mean_absolute_error: 0.1442 - val_loss: 0.2070 - val_mean_absolute_error: 0.2070\n",
      "Epoch 149/200\n",
      "4/4 [==============================] - 1s 124ms/step - loss: 0.1521 - mean_absolute_error: 0.1521 - val_loss: 0.2073 - val_mean_absolute_error: 0.2073\n",
      "Epoch 150/200\n",
      "4/4 [==============================] - 1s 125ms/step - loss: 0.1476 - mean_absolute_error: 0.1476 - val_loss: 0.2075 - val_mean_absolute_error: 0.2075\n",
      "Epoch 151/200\n",
      "4/4 [==============================] - 1s 126ms/step - loss: 0.1518 - mean_absolute_error: 0.1518 - val_loss: 0.2087 - val_mean_absolute_error: 0.2087\n",
      "Epoch 152/200\n",
      "4/4 [==============================] - 1s 127ms/step - loss: 0.1588 - mean_absolute_error: 0.1588 - val_loss: 0.2093 - val_mean_absolute_error: 0.2093\n",
      "Epoch 153/200\n",
      "4/4 [==============================] - 1s 128ms/step - loss: 0.1514 - mean_absolute_error: 0.1514 - val_loss: 0.2090 - val_mean_absolute_error: 0.2090\n",
      "Epoch 154/200\n",
      "4/4 [==============================] - 1s 126ms/step - loss: 0.1470 - mean_absolute_error: 0.1470 - val_loss: 0.2092 - val_mean_absolute_error: 0.2092\n",
      "Epoch 155/200\n",
      "4/4 [==============================] - 1s 126ms/step - loss: 0.1554 - mean_absolute_error: 0.1554 - val_loss: 0.2105 - val_mean_absolute_error: 0.2105\n",
      "Epoch 156/200\n",
      "4/4 [==============================] - 1s 126ms/step - loss: 0.1467 - mean_absolute_error: 0.1467 - val_loss: 0.2177 - val_mean_absolute_error: 0.2177\n",
      "Epoch 157/200\n",
      "4/4 [==============================] - 1s 130ms/step - loss: 0.1497 - mean_absolute_error: 0.1497 - val_loss: 0.2269 - val_mean_absolute_error: 0.2269\n",
      "Epoch 158/200\n",
      "4/4 [==============================] - 1s 127ms/step - loss: 0.1469 - mean_absolute_error: 0.1469 - val_loss: 0.2300 - val_mean_absolute_error: 0.2300\n",
      "Epoch 159/200\n",
      "4/4 [==============================] - 1s 125ms/step - loss: 0.1410 - mean_absolute_error: 0.1410 - val_loss: 0.2264 - val_mean_absolute_error: 0.2264\n",
      "Epoch 160/200\n",
      "4/4 [==============================] - 1s 125ms/step - loss: 0.1608 - mean_absolute_error: 0.1608 - val_loss: 0.2245 - val_mean_absolute_error: 0.2245\n",
      "Epoch 161/200\n",
      "4/4 [==============================] - 1s 129ms/step - loss: 0.1410 - mean_absolute_error: 0.1410 - val_loss: 0.2241 - val_mean_absolute_error: 0.2241\n",
      "Epoch 162/200\n",
      "4/4 [==============================] - 1s 123ms/step - loss: 0.1457 - mean_absolute_error: 0.1457 - val_loss: 0.2236 - val_mean_absolute_error: 0.2236\n",
      "Epoch 163/200\n",
      "4/4 [==============================] - 1s 124ms/step - loss: 0.1463 - mean_absolute_error: 0.1463 - val_loss: 0.2236 - val_mean_absolute_error: 0.2236\n",
      "Epoch 164/200\n",
      "4/4 [==============================] - 1s 127ms/step - loss: 0.1452 - mean_absolute_error: 0.1452 - val_loss: 0.2218 - val_mean_absolute_error: 0.2218\n",
      "Epoch 165/200\n",
      "4/4 [==============================] - 1s 124ms/step - loss: 0.1535 - mean_absolute_error: 0.1535 - val_loss: 0.2251 - val_mean_absolute_error: 0.2251\n",
      "Epoch 166/200\n",
      "4/4 [==============================] - 1s 122ms/step - loss: 0.1477 - mean_absolute_error: 0.1477 - val_loss: 0.2231 - val_mean_absolute_error: 0.2231\n",
      "Epoch 167/200\n",
      "4/4 [==============================] - 1s 129ms/step - loss: 0.1563 - mean_absolute_error: 0.1563 - val_loss: 0.2163 - val_mean_absolute_error: 0.2163\n",
      "Epoch 168/200\n",
      "4/4 [==============================] - 1s 123ms/step - loss: 0.1533 - mean_absolute_error: 0.1533 - val_loss: 0.2110 - val_mean_absolute_error: 0.2110\n",
      "Epoch 169/200\n",
      "4/4 [==============================] - 1s 123ms/step - loss: 0.1515 - mean_absolute_error: 0.1515 - val_loss: 0.2120 - val_mean_absolute_error: 0.2120\n",
      "Epoch 170/200\n",
      "4/4 [==============================] - 1s 131ms/step - loss: 0.1503 - mean_absolute_error: 0.1503 - val_loss: 0.2138 - val_mean_absolute_error: 0.2138\n",
      "Epoch 171/200\n",
      "4/4 [==============================] - 1s 126ms/step - loss: 0.1527 - mean_absolute_error: 0.1527 - val_loss: 0.2179 - val_mean_absolute_error: 0.2179\n",
      "Epoch 172/200\n",
      "4/4 [==============================] - 1s 127ms/step - loss: 0.1473 - mean_absolute_error: 0.1473 - val_loss: 0.2261 - val_mean_absolute_error: 0.2261\n",
      "Epoch 173/200\n",
      "4/4 [==============================] - 1s 126ms/step - loss: 0.1456 - mean_absolute_error: 0.1456 - val_loss: 0.2389 - val_mean_absolute_error: 0.2389\n",
      "Epoch 174/200\n",
      "4/4 [==============================] - 1s 125ms/step - loss: 0.1432 - mean_absolute_error: 0.1432 - val_loss: 0.2459 - val_mean_absolute_error: 0.2459\n",
      "Epoch 175/200\n",
      "4/4 [==============================] - 1s 125ms/step - loss: 0.1468 - mean_absolute_error: 0.1468 - val_loss: 0.2488 - val_mean_absolute_error: 0.2488\n",
      "Epoch 176/200\n",
      "4/4 [==============================] - 1s 128ms/step - loss: 0.1483 - mean_absolute_error: 0.1483 - val_loss: 0.2475 - val_mean_absolute_error: 0.2475\n",
      "Epoch 177/200\n",
      "4/4 [==============================] - 1s 123ms/step - loss: 0.1498 - mean_absolute_error: 0.1498 - val_loss: 0.2410 - val_mean_absolute_error: 0.2410\n",
      "Epoch 178/200\n",
      "4/4 [==============================] - 1s 125ms/step - loss: 0.1504 - mean_absolute_error: 0.1504 - val_loss: 0.2378 - val_mean_absolute_error: 0.2378\n",
      "Epoch 179/200\n",
      "4/4 [==============================] - 1s 127ms/step - loss: 0.1497 - mean_absolute_error: 0.1497 - val_loss: 0.2348 - val_mean_absolute_error: 0.2348\n",
      "Epoch 180/200\n",
      "4/4 [==============================] - 1s 123ms/step - loss: 0.1394 - mean_absolute_error: 0.1394 - val_loss: 0.2319 - val_mean_absolute_error: 0.2319\n",
      "Epoch 181/200\n",
      "4/4 [==============================] - 1s 126ms/step - loss: 0.1370 - mean_absolute_error: 0.1370 - val_loss: 0.2308 - val_mean_absolute_error: 0.2308\n",
      "Epoch 182/200\n",
      "4/4 [==============================] - 1s 123ms/step - loss: 0.1475 - mean_absolute_error: 0.1475 - val_loss: 0.2313 - val_mean_absolute_error: 0.2313\n",
      "Epoch 183/200\n",
      "4/4 [==============================] - 1s 126ms/step - loss: 0.1486 - mean_absolute_error: 0.1486 - val_loss: 0.2327 - val_mean_absolute_error: 0.2327\n",
      "Epoch 184/200\n",
      "4/4 [==============================] - 1s 125ms/step - loss: 0.1482 - mean_absolute_error: 0.1482 - val_loss: 0.2367 - val_mean_absolute_error: 0.2367\n",
      "Epoch 185/200\n",
      "4/4 [==============================] - 1s 127ms/step - loss: 0.1462 - mean_absolute_error: 0.1462 - val_loss: 0.2334 - val_mean_absolute_error: 0.2334\n",
      "Epoch 186/200\n",
      "4/4 [==============================] - 1s 124ms/step - loss: 0.1442 - mean_absolute_error: 0.1442 - val_loss: 0.2259 - val_mean_absolute_error: 0.2259\n",
      "Epoch 187/200\n",
      "4/4 [==============================] - 1s 124ms/step - loss: 0.1443 - mean_absolute_error: 0.1443 - val_loss: 0.2212 - val_mean_absolute_error: 0.2212\n",
      "Epoch 188/200\n",
      "4/4 [==============================] - 1s 126ms/step - loss: 0.1417 - mean_absolute_error: 0.1417 - val_loss: 0.2233 - val_mean_absolute_error: 0.2233\n",
      "Epoch 189/200\n",
      "4/4 [==============================] - 1s 126ms/step - loss: 0.1417 - mean_absolute_error: 0.1417 - val_loss: 0.2253 - val_mean_absolute_error: 0.2253\n",
      "Epoch 190/200\n",
      "4/4 [==============================] - 1s 124ms/step - loss: 0.1487 - mean_absolute_error: 0.1487 - val_loss: 0.2272 - val_mean_absolute_error: 0.2272\n",
      "Epoch 191/200\n",
      "4/4 [==============================] - 1s 124ms/step - loss: 0.1380 - mean_absolute_error: 0.1380 - val_loss: 0.2285 - val_mean_absolute_error: 0.2285\n",
      "Epoch 192/200\n",
      "4/4 [==============================] - 1s 127ms/step - loss: 0.1390 - mean_absolute_error: 0.1390 - val_loss: 0.2283 - val_mean_absolute_error: 0.2283\n",
      "Epoch 193/200\n",
      "4/4 [==============================] - 1s 128ms/step - loss: 0.1510 - mean_absolute_error: 0.1510 - val_loss: 0.2250 - val_mean_absolute_error: 0.2250\n",
      "Epoch 194/200\n",
      "4/4 [==============================] - 1s 127ms/step - loss: 0.1403 - mean_absolute_error: 0.1403 - val_loss: 0.2202 - val_mean_absolute_error: 0.2202\n",
      "Epoch 195/200\n",
      "4/4 [==============================] - 1s 124ms/step - loss: 0.1493 - mean_absolute_error: 0.1493 - val_loss: 0.2209 - val_mean_absolute_error: 0.2209\n",
      "Epoch 196/200\n",
      "4/4 [==============================] - 1s 126ms/step - loss: 0.1482 - mean_absolute_error: 0.1482 - val_loss: 0.2181 - val_mean_absolute_error: 0.2181\n",
      "Epoch 197/200\n",
      "4/4 [==============================] - 1s 122ms/step - loss: 0.1405 - mean_absolute_error: 0.1405 - val_loss: 0.2170 - val_mean_absolute_error: 0.2170\n",
      "Epoch 198/200\n",
      "4/4 [==============================] - 1s 125ms/step - loss: 0.1381 - mean_absolute_error: 0.1381 - val_loss: 0.2159 - val_mean_absolute_error: 0.2159\n",
      "Epoch 199/200\n",
      "4/4 [==============================] - 1s 126ms/step - loss: 0.1445 - mean_absolute_error: 0.1445 - val_loss: 0.2175 - val_mean_absolute_error: 0.2175\n",
      "Epoch 200/200\n",
      "4/4 [==============================] - 1s 125ms/step - loss: 0.1405 - mean_absolute_error: 0.1405 - val_loss: 0.2187 - val_mean_absolute_error: 0.2187\n",
      "CPU times: user 5min 32s, sys: 4.82 s, total: 5min 37s\n",
      "Wall time: 1min 47s\n"
     ]
    }
   ],
   "source": [
    "%%time\n",
    "model_store = Path(f'Result/saved_weights_{phenotype}.hdf5')\n",
    "\n",
    "# save the best performing model\n",
    "checkpointer = ModelCheckpoint(filepath=model_store, \n",
    "                               monitor='val_loss', verbose=0, \n",
    "                               save_best_only=True)\n",
    "\n",
    "st = time.time()\n",
    "# model training\n",
    "model.fit([x_train], y_train,\n",
    "          batch_size=60,\n",
    "          epochs=200, \n",
    "          verbose=1,\n",
    "          callbacks=[checkpointer],\n",
    "          validation_data=([x_valid], y_valid))\n",
    "rt = time.time()-st"
   ]
  },
  {
   "cell_type": "code",
   "execution_count": 14,
   "metadata": {},
   "outputs": [
    {
     "data": {
      "text/plain": [
       "107.06184983253479"
      ]
     },
     "execution_count": 14,
     "metadata": {},
     "output_type": "execute_result"
    }
   ],
   "source": [
    "rt"
   ]
  },
  {
   "cell_type": "code",
   "execution_count": 15,
   "metadata": {
    "tags": []
   },
   "outputs": [
    {
     "data": {
      "image/png": "[encoded data removed]",
      "text/plain": [
       "<Figure size 648x432 with 1 Axes>"
      ]
     },
     "metadata": {
      "needs_background": "light"
     },
     "output_type": "display_data"
    }
   ],
   "source": [
    "##### Step 6: plot train and validation loss #####\n",
    "history = model.history\n",
    "plt.plot(age_range*pd.Series(history.history['mean_absolute_error']))\n",
    "plt.plot(age_range*pd.Series(history.history['val_mean_absolute_error']))\n",
    "plt.title('model train vs validation loss')\n",
    "plt.ylabel('loss')\n",
    "plt.xlabel('epoch')\n",
    "plt.legend(['train', 'validation'], loc='upper right')\n",
    "plt.show()"
   ]
  },
  {
   "cell_type": "code",
   "execution_count": 16,
   "metadata": {},
   "outputs": [],
   "source": [
    "#### Step 7: test the final model #####\n",
    "final_model = load_model(model_store)\n",
    "x_test = x_valid\n",
    "y_test = y_valid\n",
    "y_scores = final_model.predict([x_test])\n",
    "y_scores = y_scores.reshape(y_scores.shape[0])"
   ]
  },
  {
   "cell_type": "code",
   "execution_count": 17,
   "metadata": {},
   "outputs": [
    {
     "data": {
      "text/plain": [
       "count    65.000000\n",
       "mean     -0.949201\n",
       "std      12.317975\n",
       "min     -31.485485\n",
       "25%      -8.376865\n",
       "50%      -1.617268\n",
       "75%       6.876638\n",
       "max      29.140199\n",
       "dtype: float64"
      ]
     },
     "execution_count": 17,
     "metadata": {},
     "output_type": "execute_result"
    }
   ],
   "source": [
    "errors = age_range * (pd.Series(y_test)-pd.Series(y_scores))\n",
    "errors.describe()"
   ]
  },
  {
   "cell_type": "code",
   "execution_count": 18,
   "metadata": {},
   "outputs": [
    {
     "data": {
      "image/png": "[encoded data removed]",
      "text/plain": [
       "<Figure size 648x432 with 1 Axes>"
      ]
     },
     "metadata": {
      "needs_background": "light"
     },
     "output_type": "display_data"
    }
   ],
   "source": [
    "plt.hist(errors)\n",
    "plt.title('Error Distribution')\n",
    "plt.xlabel('Actual - Predicted [Years]')\n",
    "plt.show()"
   ]
  },
  {
   "cell_type": "code",
   "execution_count": 19,
   "metadata": {},
   "outputs": [
    {
     "name": "stdout",
     "output_type": "stream",
     "text": [
      "[ 0.402583   43.17279581]\n"
     ]
    },
    {
     "data": {
      "image/png": "[encoded data removed]",
      "text/plain": [
       "<Figure size 648x432 with 1 Axes>"
      ]
     },
     "metadata": {
      "needs_background": "light"
     },
     "output_type": "display_data"
    }
   ],
   "source": [
    "age_true = y_test*age_range + age_min\n",
    "age_pred = y_scores*age_range + age_min\n",
    "plt.plot(age_true, age_pred,'b.')\n",
    "plt.axis('square')\n",
    "plt.xlim((40,95))\n",
    "plt.ylim((40,95))\n",
    "plt.xlabel('True Age')\n",
    "plt.ylabel('Predicted Age')\n",
    "plt.title('Prediction vs True')\n",
    "plt.plot([40,95],[40,95],'--k')\n",
    "coef = np.polyfit(age_true, age_pred, 1)\n",
    "print(coef)\n",
    "poly1d_fn = np.poly1d(coef)\n",
    "plt.plot([40,95], poly1d_fn([40,95]), '--b')\n",
    "plt.show()"
   ]
  },
  {
   "cell_type": "code",
   "execution_count": null,
   "metadata": {},
   "outputs": [],
   "source": []
  }
 ],
 "metadata": {
  "kernelspec": {
   "display_name": "tf",
   "language": "python",
   "name": "tf"
  },
  "language_info": {
   "codemirror_mode": {
    "name": "ipython",
    "version": 3
   },
   "file_extension": ".py",
   "mimetype": "text/x-python",
   "name": "python",
   "nbconvert_exporter": "python",
   "pygments_lexer": "ipython3",
   "version": "3.9.6"
  }
 },
 "nbformat": 4,
 "nbformat_minor": 4
}
