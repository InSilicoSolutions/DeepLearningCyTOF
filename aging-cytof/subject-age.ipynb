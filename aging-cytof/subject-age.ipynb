{
 "cells": [
  {
   "cell_type": "markdown",
   "metadata": {},
   "source": [
    "# Predict `Subject Age`"
   ]
  },
  {
   "cell_type": "code",
   "execution_count": 1,
   "metadata": {},
   "outputs": [],
   "source": [
    "%matplotlib inline"
   ]
  },
  {
   "cell_type": "code",
   "execution_count": 2,
   "metadata": {},
   "outputs": [],
   "source": [
    "import os\n",
    "os.environ['TF_CPP_MIN_LOG_LEVEL'] = '3'"
   ]
  },
  {
   "cell_type": "code",
   "execution_count": 3,
   "metadata": {},
   "outputs": [],
   "source": [
    "##### Step 1: import functions #####\n",
    "import tensorflow as tf\n",
    "from tensorflow.keras.layers import Dense, Flatten, BatchNormalization, Activation, Conv2D, AveragePooling2D, Input, Softmax\n",
    "from tensorflow.keras.models import load_model, Model, Sequential\n",
    "from tensorflow.keras.optimizers import Adam\n",
    "from tensorflow.keras.callbacks import ModelCheckpoint, EarlyStopping\n",
    "from tensorflow.keras.losses import SparseCategoricalCrossentropy\n",
    "from tensorflow.keras import backend as K\n",
    "from tensorflow.keras.utils import plot_model\n",
    "import pickle\n",
    "import pandas as pd\n",
    "import numpy as np\n",
    "from numpy.random import seed; seed(111)\n",
    "import random\n",
    "import matplotlib.pyplot as plt\n",
    "import seaborn as sns\n",
    "from tensorflow.random import set_seed; set_seed(111)\n",
    "from sklearn.metrics import roc_curve, auc\n",
    "from sklearn.preprocessing import normalize\n",
    "from six import StringIO  \n",
    "from sklearn.tree import export_graphviz, DecisionTreeRegressor\n",
    "from sklearn.model_selection import train_test_split\n",
    "from scipy.stats import ttest_ind\n",
    "from IPython.display import Image  \n",
    "import time\n",
    "from pathlib import Path"
   ]
  },
  {
   "cell_type": "code",
   "execution_count": 4,
   "metadata": {},
   "outputs": [],
   "source": [
    "# %config InlineBackend.figure_format = 'svg'\n",
    "plt.rcParams['figure.figsize'] = [9,6]"
   ]
  },
  {
   "cell_type": "code",
   "execution_count": 5,
   "metadata": {},
   "outputs": [],
   "source": [
    "gpus = tf.config.list_physical_devices('GPU')\n",
    "tf.config.experimental.set_memory_growth(gpus[0], True)"
   ]
  },
  {
   "cell_type": "code",
   "execution_count": 6,
   "metadata": {},
   "outputs": [],
   "source": [
    "phenotype = 'Subject Age'"
   ]
  },
  {
   "cell_type": "code",
   "execution_count": 7,
   "metadata": {},
   "outputs": [
    {
     "name": "stdout",
     "output_type": "stream",
     "text": [
      "Dimensions of cyto_data: (260, 5000, 27, 1)\n",
      "Dimensions of samples: (260, 85)\n",
      "Names of the makers: ['CELL_LENGTH' 'DEAD' 'CD19' 'CD4' 'CD8' 'IGD' 'CD85J' 'CD16' 'CD3' 'CD38'\n",
      " 'CD27' 'CD14' 'CD94' 'CCR7' 'CD45RA' 'CD20' 'CD127' 'CD33' 'CD28' 'CD24'\n",
      " 'CD161' 'TCRGD' 'CD56' 'HLADR' 'CD25' 'DNA1' 'DNA2']\n"
     ]
    }
   ],
   "source": [
    "#load data\n",
    "aging_dir = Path('/home/ubuntu/a/aging/aging')\n",
    "\n",
    "with open(aging_dir/'aging-cytof-data.obj', 'rb') as f:\n",
    "    allData = pickle.load(f)\n",
    "samples = allData[\"samples\"]\n",
    "cyto_data = allData['expr_list']\n",
    "# Truncate cytodata\n",
    "cyto_data = cyto_data[ :, :int(5e3)]\n",
    "markers = allData[\"marker_names\"]\n",
    "\n",
    "print(f'Dimensions of cyto_data: {cyto_data.shape}')\n",
    "print(f'Dimensions of samples: {samples.shape}')\n",
    "print(f'Names of the makers: {markers.values}')"
   ]
  },
  {
   "cell_type": "code",
   "execution_count": 8,
   "metadata": {},
   "outputs": [
    {
     "name": "stdout",
     "output_type": "stream",
     "text": [
      "count    260.000000\n",
      "mean      68.303846\n",
      "std       15.169696\n",
      "min       41.000000\n",
      "25%       55.000000\n",
      "50%       69.000000\n",
      "75%       82.000000\n",
      "max       90.000000\n",
      "Name: Subject Age, dtype: float64\n"
     ]
    },
    {
     "data": {
      "text/plain": [
       "<AxesSubplot:ylabel='Frequency'>"
      ]
     },
     "execution_count": 8,
     "metadata": {},
     "output_type": "execute_result"
    },
    {
     "data": {
      "image/png": "[encoded data removed]",
      "text/plain": [
       "<Figure size 648x432 with 1 Axes>"
      ]
     },
     "metadata": {
      "needs_background": "light"
     },
     "output_type": "display_data"
    }
   ],
   "source": [
    "print(samples[phenotype].describe())\n",
    "samples[phenotype].plot.hist()"
   ]
  },
  {
   "cell_type": "code",
   "execution_count": 9,
   "metadata": {},
   "outputs": [],
   "source": [
    "##### Step 3: split train, validation and test######\n",
    "x = []\n",
    "y = []\n",
    "for i, row in samples.iterrows():\n",
    "    x.append(cyto_data[i])\n",
    "    y.append(row[phenotype])\n",
    "age_range = max(y) - min(y)\n",
    "x = np.asarray(x)\n",
    "y_raw = np.asarray(y)\n",
    "age_min = min(y_raw)\n",
    "age_max = max(y_raw)\n",
    "age_range = age_max - age_min\n",
    "y = (y_raw - age_min) / age_range\n",
    "\n",
    "x_train, x_valid, y_train, y_valid = train_test_split(x, y)"
   ]
  },
  {
   "cell_type": "code",
   "execution_count": 109,
   "metadata": {},
   "outputs": [
    {
     "name": "stdout",
     "output_type": "stream",
     "text": [
      "Model: \"sequential_14\"\n",
      "_________________________________________________________________\n",
      "Layer (type)                 Output Shape              Param #   \n",
      "=================================================================\n",
      "conv2d_27 (Conv2D)           (None, 5000, 1, 4)        112       \n",
      "_________________________________________________________________\n",
      "batch_normalization_41 (Batc (None, 5000, 1, 4)        16        \n",
      "_________________________________________________________________\n",
      "activation_41 (Activation)   (None, 5000, 1, 4)        0         \n",
      "_________________________________________________________________\n",
      "conv2d_28 (Conv2D)           (None, 5000, 1, 8)        40        \n",
      "_________________________________________________________________\n",
      "batch_normalization_42 (Batc (None, 5000, 1, 8)        32        \n",
      "_________________________________________________________________\n",
      "activation_42 (Activation)   (None, 5000, 1, 8)        0         \n",
      "_________________________________________________________________\n",
      "average_pooling2d_14 (Averag (None, 1, 1, 8)           0         \n",
      "_________________________________________________________________\n",
      "flatten_14 (Flatten)         (None, 8)                 0         \n",
      "_________________________________________________________________\n",
      "dense_28 (Dense)             (None, 8)                 72        \n",
      "_________________________________________________________________\n",
      "batch_normalization_43 (Batc (None, 8)                 32        \n",
      "_________________________________________________________________\n",
      "activation_43 (Activation)   (None, 8)                 0         \n",
      "_________________________________________________________________\n",
      "dense_29 (Dense)             (None, 1)                 9         \n",
      "=================================================================\n",
      "Total params: 313\n",
      "Trainable params: 273\n",
      "Non-trainable params: 40\n",
      "_________________________________________________________________\n"
     ]
    }
   ],
   "source": [
    "model = Sequential([\n",
    "    Input(shape=x[0].shape),\n",
    "    Conv2D(4, kernel_size = (1, x.shape[2]), activation=None),\n",
    "    BatchNormalization(),\n",
    "    Activation('relu'),\n",
    "    Conv2D(8, kernel_size = (1,1), activation=None),\n",
    "    BatchNormalization(),\n",
    "    Activation('relu'),\n",
    "    AveragePooling2D(pool_size = (x.shape[1], 1)),\n",
    "    Flatten(),\n",
    "    Dense(8, activation=None),\n",
    "    BatchNormalization(),\n",
    "    Activation('relu'),\n",
    "    Dense(1, activation=None),\n",
    "])\n",
    "model.compile(loss='huber',\n",
    "              optimizer='adam',\n",
    "              metrics=['mean_absolute_error'])\n",
    "model.summary()"
   ]
  },
  {
   "cell_type": "code",
   "execution_count": 110,
   "metadata": {
    "scrolled": true,
    "tags": []
   },
   "outputs": [
    {
     "name": "stdout",
     "output_type": "stream",
     "text": [
      "Epoch 1/200\n",
      "20/20 [==============================] - 1s 19ms/step - loss: 0.4749 - mean_absolute_error: 0.8987 - val_loss: 0.2670 - val_mean_absolute_error: 0.6722\n",
      "Epoch 2/200\n",
      "20/20 [==============================] - 0s 8ms/step - loss: 0.3521 - mean_absolute_error: 0.7553 - val_loss: 0.2500 - val_mean_absolute_error: 0.6467\n",
      "Epoch 3/200\n",
      "20/20 [==============================] - 0s 7ms/step - loss: 0.2702 - mean_absolute_error: 0.6420 - val_loss: 0.2342 - val_mean_absolute_error: 0.6223\n",
      "Epoch 4/200\n",
      "20/20 [==============================] - 0s 7ms/step - loss: 0.2025 - mean_absolute_error: 0.5343 - val_loss: 0.2161 - val_mean_absolute_error: 0.5925\n",
      "Epoch 5/200\n",
      "20/20 [==============================] - 0s 7ms/step - loss: 0.1569 - mean_absolute_error: 0.4561 - val_loss: 0.1949 - val_mean_absolute_error: 0.5579\n",
      "Epoch 6/200\n",
      "20/20 [==============================] - 0s 7ms/step - loss: 0.1192 - mean_absolute_error: 0.3968 - val_loss: 0.1766 - val_mean_absolute_error: 0.5283\n",
      "Epoch 7/200\n",
      "20/20 [==============================] - 0s 7ms/step - loss: 0.0991 - mean_absolute_error: 0.3645 - val_loss: 0.1586 - val_mean_absolute_error: 0.4977\n",
      "Epoch 8/200\n",
      "20/20 [==============================] - 0s 6ms/step - loss: 0.0782 - mean_absolute_error: 0.3252 - val_loss: 0.1371 - val_mean_absolute_error: 0.4589\n",
      "Epoch 9/200\n",
      "20/20 [==============================] - 0s 6ms/step - loss: 0.0739 - mean_absolute_error: 0.3137 - val_loss: 0.1170 - val_mean_absolute_error: 0.4181\n",
      "Epoch 10/200\n",
      "20/20 [==============================] - 0s 6ms/step - loss: 0.0628 - mean_absolute_error: 0.2943 - val_loss: 0.1066 - val_mean_absolute_error: 0.3968\n",
      "Epoch 11/200\n",
      "20/20 [==============================] - 0s 6ms/step - loss: 0.0582 - mean_absolute_error: 0.2834 - val_loss: 0.0941 - val_mean_absolute_error: 0.3732\n",
      "Epoch 12/200\n",
      "20/20 [==============================] - 0s 6ms/step - loss: 0.0555 - mean_absolute_error: 0.2782 - val_loss: 0.0839 - val_mean_absolute_error: 0.3504\n",
      "Epoch 13/200\n",
      "20/20 [==============================] - 0s 6ms/step - loss: 0.0553 - mean_absolute_error: 0.2779 - val_loss: 0.0715 - val_mean_absolute_error: 0.3228\n",
      "Epoch 14/200\n",
      "20/20 [==============================] - 0s 6ms/step - loss: 0.0479 - mean_absolute_error: 0.2533 - val_loss: 0.0652 - val_mean_absolute_error: 0.3054\n",
      "Epoch 15/200\n",
      "20/20 [==============================] - 0s 6ms/step - loss: 0.0518 - mean_absolute_error: 0.2691 - val_loss: 0.0618 - val_mean_absolute_error: 0.2960\n",
      "Epoch 16/200\n",
      "20/20 [==============================] - 0s 6ms/step - loss: 0.0454 - mean_absolute_error: 0.2513 - val_loss: 0.0566 - val_mean_absolute_error: 0.2836\n",
      "Epoch 17/200\n",
      "20/20 [==============================] - 0s 7ms/step - loss: 0.0443 - mean_absolute_error: 0.2507 - val_loss: 0.0534 - val_mean_absolute_error: 0.2769\n",
      "Epoch 18/200\n",
      "20/20 [==============================] - 0s 6ms/step - loss: 0.0483 - mean_absolute_error: 0.2559 - val_loss: 0.0509 - val_mean_absolute_error: 0.2712\n",
      "Epoch 19/200\n",
      "20/20 [==============================] - 0s 6ms/step - loss: 0.0451 - mean_absolute_error: 0.2500 - val_loss: 0.0480 - val_mean_absolute_error: 0.2644\n",
      "Epoch 20/200\n",
      "20/20 [==============================] - 0s 6ms/step - loss: 0.0465 - mean_absolute_error: 0.2519 - val_loss: 0.0472 - val_mean_absolute_error: 0.2663\n",
      "Epoch 21/200\n",
      "20/20 [==============================] - 0s 6ms/step - loss: 0.0387 - mean_absolute_error: 0.2320 - val_loss: 0.0471 - val_mean_absolute_error: 0.2678\n",
      "Epoch 22/200\n",
      "20/20 [==============================] - 0s 6ms/step - loss: 0.0402 - mean_absolute_error: 0.2313 - val_loss: 0.0447 - val_mean_absolute_error: 0.2609\n",
      "Epoch 23/200\n",
      "20/20 [==============================] - 0s 6ms/step - loss: 0.0377 - mean_absolute_error: 0.2268 - val_loss: 0.0414 - val_mean_absolute_error: 0.2457\n",
      "Epoch 24/200\n",
      "20/20 [==============================] - 0s 6ms/step - loss: 0.0379 - mean_absolute_error: 0.2269 - val_loss: 0.0393 - val_mean_absolute_error: 0.2344\n",
      "Epoch 25/200\n",
      "20/20 [==============================] - 0s 6ms/step - loss: 0.0453 - mean_absolute_error: 0.2428 - val_loss: 0.0408 - val_mean_absolute_error: 0.2394\n",
      "Epoch 26/200\n",
      "20/20 [==============================] - 0s 6ms/step - loss: 0.0414 - mean_absolute_error: 0.2380 - val_loss: 0.0453 - val_mean_absolute_error: 0.2554\n",
      "Epoch 27/200\n",
      "20/20 [==============================] - 0s 6ms/step - loss: 0.0373 - mean_absolute_error: 0.2234 - val_loss: 0.0416 - val_mean_absolute_error: 0.2433\n",
      "Epoch 28/200\n",
      "20/20 [==============================] - 0s 6ms/step - loss: 0.0367 - mean_absolute_error: 0.2194 - val_loss: 0.0398 - val_mean_absolute_error: 0.2412\n",
      "Epoch 29/200\n",
      "20/20 [==============================] - 0s 6ms/step - loss: 0.0430 - mean_absolute_error: 0.2368 - val_loss: 0.0376 - val_mean_absolute_error: 0.2215\n",
      "Epoch 30/200\n",
      "20/20 [==============================] - 0s 6ms/step - loss: 0.0404 - mean_absolute_error: 0.2373 - val_loss: 0.0346 - val_mean_absolute_error: 0.2134\n",
      "Epoch 31/200\n",
      "20/20 [==============================] - 0s 6ms/step - loss: 0.0398 - mean_absolute_error: 0.2331 - val_loss: 0.0337 - val_mean_absolute_error: 0.2075\n",
      "Epoch 32/200\n",
      "20/20 [==============================] - 0s 6ms/step - loss: 0.0360 - mean_absolute_error: 0.2183 - val_loss: 0.0339 - val_mean_absolute_error: 0.2058\n",
      "Epoch 33/200\n",
      "20/20 [==============================] - 0s 6ms/step - loss: 0.0370 - mean_absolute_error: 0.2200 - val_loss: 0.0295 - val_mean_absolute_error: 0.1932\n",
      "Epoch 34/200\n",
      "20/20 [==============================] - 0s 6ms/step - loss: 0.0352 - mean_absolute_error: 0.2203 - val_loss: 0.0287 - val_mean_absolute_error: 0.1913\n",
      "Epoch 35/200\n",
      "20/20 [==============================] - 0s 6ms/step - loss: 0.0333 - mean_absolute_error: 0.2076 - val_loss: 0.0316 - val_mean_absolute_error: 0.2067\n",
      "Epoch 36/200\n",
      "20/20 [==============================] - 0s 6ms/step - loss: 0.0372 - mean_absolute_error: 0.2236 - val_loss: 0.0308 - val_mean_absolute_error: 0.2027\n",
      "Epoch 37/200\n",
      "20/20 [==============================] - 0s 6ms/step - loss: 0.0312 - mean_absolute_error: 0.2024 - val_loss: 0.0293 - val_mean_absolute_error: 0.1937\n",
      "Epoch 38/200\n",
      "20/20 [==============================] - 0s 6ms/step - loss: 0.0326 - mean_absolute_error: 0.2026 - val_loss: 0.0275 - val_mean_absolute_error: 0.1860\n",
      "Epoch 39/200\n",
      "20/20 [==============================] - 0s 6ms/step - loss: 0.0338 - mean_absolute_error: 0.2131 - val_loss: 0.0300 - val_mean_absolute_error: 0.1938\n",
      "Epoch 40/200\n",
      "20/20 [==============================] - 0s 6ms/step - loss: 0.0328 - mean_absolute_error: 0.2068 - val_loss: 0.0296 - val_mean_absolute_error: 0.1892\n",
      "Epoch 41/200\n",
      "20/20 [==============================] - 0s 6ms/step - loss: 0.0307 - mean_absolute_error: 0.2036 - val_loss: 0.0312 - val_mean_absolute_error: 0.1946\n",
      "Epoch 42/200\n",
      "20/20 [==============================] - 0s 6ms/step - loss: 0.0340 - mean_absolute_error: 0.2103 - val_loss: 0.0317 - val_mean_absolute_error: 0.2021\n",
      "Epoch 43/200\n",
      "20/20 [==============================] - 0s 6ms/step - loss: 0.0340 - mean_absolute_error: 0.2125 - val_loss: 0.0298 - val_mean_absolute_error: 0.1961\n",
      "Epoch 44/200\n",
      "20/20 [==============================] - 0s 6ms/step - loss: 0.0318 - mean_absolute_error: 0.2006 - val_loss: 0.0257 - val_mean_absolute_error: 0.1785\n",
      "Epoch 45/200\n",
      "20/20 [==============================] - 0s 6ms/step - loss: 0.0308 - mean_absolute_error: 0.2104 - val_loss: 0.0265 - val_mean_absolute_error: 0.1809\n",
      "Epoch 46/200\n",
      "20/20 [==============================] - 0s 6ms/step - loss: 0.0352 - mean_absolute_error: 0.2154 - val_loss: 0.0279 - val_mean_absolute_error: 0.1856\n",
      "Epoch 47/200\n",
      "20/20 [==============================] - 0s 6ms/step - loss: 0.0323 - mean_absolute_error: 0.2066 - val_loss: 0.0285 - val_mean_absolute_error: 0.1843\n",
      "Epoch 48/200\n",
      "20/20 [==============================] - 0s 6ms/step - loss: 0.0343 - mean_absolute_error: 0.2125 - val_loss: 0.0289 - val_mean_absolute_error: 0.1841\n",
      "Epoch 49/200\n",
      "20/20 [==============================] - 0s 6ms/step - loss: 0.0314 - mean_absolute_error: 0.1988 - val_loss: 0.0297 - val_mean_absolute_error: 0.1853\n",
      "Epoch 50/200\n",
      "20/20 [==============================] - 0s 6ms/step - loss: 0.0316 - mean_absolute_error: 0.2044 - val_loss: 0.0312 - val_mean_absolute_error: 0.1977\n",
      "Epoch 51/200\n",
      "20/20 [==============================] - 0s 6ms/step - loss: 0.0313 - mean_absolute_error: 0.1990 - val_loss: 0.0261 - val_mean_absolute_error: 0.1722\n",
      "Epoch 52/200\n",
      "20/20 [==============================] - 0s 6ms/step - loss: 0.0306 - mean_absolute_error: 0.2031 - val_loss: 0.0267 - val_mean_absolute_error: 0.1717\n",
      "Epoch 53/200\n",
      "20/20 [==============================] - 0s 6ms/step - loss: 0.0311 - mean_absolute_error: 0.1976 - val_loss: 0.0311 - val_mean_absolute_error: 0.1819\n",
      "Epoch 54/200\n",
      "20/20 [==============================] - 0s 6ms/step - loss: 0.0305 - mean_absolute_error: 0.1997 - val_loss: 0.0316 - val_mean_absolute_error: 0.1885\n",
      "Epoch 55/200\n",
      "20/20 [==============================] - 0s 6ms/step - loss: 0.0290 - mean_absolute_error: 0.1941 - val_loss: 0.0336 - val_mean_absolute_error: 0.2054\n",
      "Epoch 56/200\n",
      "20/20 [==============================] - 0s 6ms/step - loss: 0.0312 - mean_absolute_error: 0.1996 - val_loss: 0.0395 - val_mean_absolute_error: 0.2305\n",
      "Epoch 57/200\n",
      "20/20 [==============================] - 0s 6ms/step - loss: 0.0268 - mean_absolute_error: 0.1865 - val_loss: 0.0380 - val_mean_absolute_error: 0.2280\n",
      "Epoch 58/200\n",
      "20/20 [==============================] - 0s 7ms/step - loss: 0.0287 - mean_absolute_error: 0.1960 - val_loss: 0.0332 - val_mean_absolute_error: 0.2092\n",
      "Epoch 59/200\n",
      "20/20 [==============================] - 0s 6ms/step - loss: 0.0302 - mean_absolute_error: 0.1940 - val_loss: 0.0302 - val_mean_absolute_error: 0.1941\n",
      "Epoch 60/200\n",
      "20/20 [==============================] - 0s 6ms/step - loss: 0.0272 - mean_absolute_error: 0.1904 - val_loss: 0.0289 - val_mean_absolute_error: 0.1801\n",
      "Epoch 61/200\n",
      "20/20 [==============================] - 0s 6ms/step - loss: 0.0251 - mean_absolute_error: 0.1821 - val_loss: 0.0277 - val_mean_absolute_error: 0.1794\n",
      "Epoch 62/200\n",
      "20/20 [==============================] - 0s 6ms/step - loss: 0.0307 - mean_absolute_error: 0.2020 - val_loss: 0.0296 - val_mean_absolute_error: 0.1895\n",
      "Epoch 63/200\n",
      "20/20 [==============================] - 0s 6ms/step - loss: 0.0246 - mean_absolute_error: 0.1776 - val_loss: 0.0280 - val_mean_absolute_error: 0.1809\n",
      "Epoch 64/200\n",
      "20/20 [==============================] - 0s 6ms/step - loss: 0.0290 - mean_absolute_error: 0.1965 - val_loss: 0.0334 - val_mean_absolute_error: 0.2032\n",
      "Epoch 65/200\n",
      "20/20 [==============================] - 0s 6ms/step - loss: 0.0271 - mean_absolute_error: 0.1862 - val_loss: 0.0311 - val_mean_absolute_error: 0.1967\n",
      "Epoch 66/200\n",
      "20/20 [==============================] - 0s 6ms/step - loss: 0.0302 - mean_absolute_error: 0.1966 - val_loss: 0.0333 - val_mean_absolute_error: 0.2058\n",
      "Epoch 67/200\n",
      "20/20 [==============================] - 0s 6ms/step - loss: 0.0277 - mean_absolute_error: 0.1894 - val_loss: 0.0233 - val_mean_absolute_error: 0.1689\n",
      "Epoch 68/200\n",
      "20/20 [==============================] - 0s 6ms/step - loss: 0.0251 - mean_absolute_error: 0.1788 - val_loss: 0.0246 - val_mean_absolute_error: 0.1732\n",
      "Epoch 69/200\n",
      "20/20 [==============================] - 0s 6ms/step - loss: 0.0253 - mean_absolute_error: 0.1778 - val_loss: 0.0244 - val_mean_absolute_error: 0.1703\n",
      "Epoch 70/200\n",
      "20/20 [==============================] - 0s 6ms/step - loss: 0.0247 - mean_absolute_error: 0.1748 - val_loss: 0.0247 - val_mean_absolute_error: 0.1614\n",
      "Epoch 71/200\n",
      "20/20 [==============================] - 0s 6ms/step - loss: 0.0249 - mean_absolute_error: 0.1826 - val_loss: 0.0262 - val_mean_absolute_error: 0.1703\n",
      "Epoch 72/200\n",
      "20/20 [==============================] - 0s 6ms/step - loss: 0.0290 - mean_absolute_error: 0.1910 - val_loss: 0.0236 - val_mean_absolute_error: 0.1634\n",
      "Epoch 73/200\n",
      "20/20 [==============================] - 0s 6ms/step - loss: 0.0280 - mean_absolute_error: 0.1887 - val_loss: 0.0280 - val_mean_absolute_error: 0.1837\n",
      "Epoch 74/200\n",
      "20/20 [==============================] - 0s 7ms/step - loss: 0.0262 - mean_absolute_error: 0.1812 - val_loss: 0.0284 - val_mean_absolute_error: 0.1848\n",
      "Epoch 75/200\n",
      "20/20 [==============================] - 0s 6ms/step - loss: 0.0281 - mean_absolute_error: 0.1929 - val_loss: 0.0268 - val_mean_absolute_error: 0.1781\n",
      "Epoch 76/200\n",
      "20/20 [==============================] - 0s 6ms/step - loss: 0.0242 - mean_absolute_error: 0.1760 - val_loss: 0.0286 - val_mean_absolute_error: 0.1821\n",
      "Epoch 77/200\n",
      "20/20 [==============================] - 0s 6ms/step - loss: 0.0266 - mean_absolute_error: 0.1876 - val_loss: 0.0337 - val_mean_absolute_error: 0.2073\n",
      "Epoch 78/200\n",
      "20/20 [==============================] - 0s 6ms/step - loss: 0.0267 - mean_absolute_error: 0.1907 - val_loss: 0.0276 - val_mean_absolute_error: 0.1904\n",
      "Epoch 79/200\n",
      "20/20 [==============================] - 0s 6ms/step - loss: 0.0240 - mean_absolute_error: 0.1690 - val_loss: 0.0243 - val_mean_absolute_error: 0.1672\n",
      "Epoch 80/200\n",
      "20/20 [==============================] - 0s 6ms/step - loss: 0.0255 - mean_absolute_error: 0.1820 - val_loss: 0.0248 - val_mean_absolute_error: 0.1694\n",
      "Epoch 81/200\n",
      "20/20 [==============================] - 0s 6ms/step - loss: 0.0238 - mean_absolute_error: 0.1763 - val_loss: 0.0252 - val_mean_absolute_error: 0.1712\n",
      "Epoch 82/200\n",
      "20/20 [==============================] - 0s 6ms/step - loss: 0.0291 - mean_absolute_error: 0.1970 - val_loss: 0.0249 - val_mean_absolute_error: 0.1682\n",
      "Epoch 83/200\n",
      "20/20 [==============================] - 0s 6ms/step - loss: 0.0240 - mean_absolute_error: 0.1824 - val_loss: 0.0243 - val_mean_absolute_error: 0.1605\n",
      "Epoch 84/200\n",
      "20/20 [==============================] - 0s 6ms/step - loss: 0.0214 - mean_absolute_error: 0.1650 - val_loss: 0.0249 - val_mean_absolute_error: 0.1674\n",
      "Epoch 85/200\n",
      "20/20 [==============================] - 0s 6ms/step - loss: 0.0242 - mean_absolute_error: 0.1757 - val_loss: 0.0254 - val_mean_absolute_error: 0.1703\n",
      "Epoch 86/200\n",
      "20/20 [==============================] - 0s 6ms/step - loss: 0.0210 - mean_absolute_error: 0.1589 - val_loss: 0.0254 - val_mean_absolute_error: 0.1739\n",
      "Epoch 87/200\n",
      "20/20 [==============================] - 0s 6ms/step - loss: 0.0258 - mean_absolute_error: 0.1812 - val_loss: 0.0332 - val_mean_absolute_error: 0.2025\n",
      "Epoch 88/200\n",
      "20/20 [==============================] - 0s 6ms/step - loss: 0.0227 - mean_absolute_error: 0.1686 - val_loss: 0.0261 - val_mean_absolute_error: 0.1747\n",
      "Epoch 89/200\n",
      "20/20 [==============================] - 0s 6ms/step - loss: 0.0213 - mean_absolute_error: 0.1617 - val_loss: 0.0238 - val_mean_absolute_error: 0.1628\n",
      "Epoch 90/200\n",
      "20/20 [==============================] - 0s 6ms/step - loss: 0.0239 - mean_absolute_error: 0.1743 - val_loss: 0.0293 - val_mean_absolute_error: 0.1883\n",
      "Epoch 91/200\n",
      "20/20 [==============================] - 0s 7ms/step - loss: 0.0233 - mean_absolute_error: 0.1723 - val_loss: 0.0286 - val_mean_absolute_error: 0.1886\n",
      "Epoch 92/200\n",
      "20/20 [==============================] - 0s 7ms/step - loss: 0.0222 - mean_absolute_error: 0.1667 - val_loss: 0.0324 - val_mean_absolute_error: 0.2034\n",
      "Epoch 93/200\n",
      "20/20 [==============================] - 0s 6ms/step - loss: 0.0273 - mean_absolute_error: 0.1920 - val_loss: 0.0251 - val_mean_absolute_error: 0.1694\n",
      "Epoch 94/200\n",
      "20/20 [==============================] - 0s 6ms/step - loss: 0.0247 - mean_absolute_error: 0.1797 - val_loss: 0.0240 - val_mean_absolute_error: 0.1627\n",
      "Epoch 95/200\n",
      "20/20 [==============================] - 0s 6ms/step - loss: 0.0233 - mean_absolute_error: 0.1749 - val_loss: 0.0268 - val_mean_absolute_error: 0.1788\n",
      "Epoch 96/200\n",
      "20/20 [==============================] - 0s 6ms/step - loss: 0.0246 - mean_absolute_error: 0.1762 - val_loss: 0.0395 - val_mean_absolute_error: 0.2262\n",
      "Epoch 97/200\n",
      "20/20 [==============================] - 0s 6ms/step - loss: 0.0225 - mean_absolute_error: 0.1706 - val_loss: 0.0295 - val_mean_absolute_error: 0.1919\n",
      "Epoch 98/200\n",
      "20/20 [==============================] - 0s 6ms/step - loss: 0.0258 - mean_absolute_error: 0.1848 - val_loss: 0.0260 - val_mean_absolute_error: 0.1740\n",
      "Epoch 99/200\n",
      "20/20 [==============================] - 0s 6ms/step - loss: 0.0248 - mean_absolute_error: 0.1772 - val_loss: 0.0241 - val_mean_absolute_error: 0.1636\n",
      "Epoch 100/200\n",
      "20/20 [==============================] - 0s 6ms/step - loss: 0.0256 - mean_absolute_error: 0.1755 - val_loss: 0.0266 - val_mean_absolute_error: 0.1757\n",
      "Epoch 101/200\n",
      "20/20 [==============================] - 0s 6ms/step - loss: 0.0237 - mean_absolute_error: 0.1720 - val_loss: 0.0249 - val_mean_absolute_error: 0.1701\n",
      "Epoch 102/200\n",
      "20/20 [==============================] - 0s 6ms/step - loss: 0.0226 - mean_absolute_error: 0.1683 - val_loss: 0.0261 - val_mean_absolute_error: 0.1731\n",
      "Epoch 103/200\n",
      "20/20 [==============================] - 0s 6ms/step - loss: 0.0218 - mean_absolute_error: 0.1654 - val_loss: 0.0245 - val_mean_absolute_error: 0.1658\n",
      "Epoch 104/200\n",
      "20/20 [==============================] - 0s 6ms/step - loss: 0.0227 - mean_absolute_error: 0.1699 - val_loss: 0.0236 - val_mean_absolute_error: 0.1624\n",
      "Epoch 105/200\n",
      "20/20 [==============================] - 0s 6ms/step - loss: 0.0211 - mean_absolute_error: 0.1635 - val_loss: 0.0248 - val_mean_absolute_error: 0.1672\n",
      "Epoch 106/200\n",
      "20/20 [==============================] - 0s 6ms/step - loss: 0.0211 - mean_absolute_error: 0.1655 - val_loss: 0.0243 - val_mean_absolute_error: 0.1641\n",
      "Epoch 107/200\n",
      "20/20 [==============================] - 0s 6ms/step - loss: 0.0269 - mean_absolute_error: 0.1818 - val_loss: 0.0244 - val_mean_absolute_error: 0.1625\n",
      "Epoch 108/200\n",
      "20/20 [==============================] - 0s 6ms/step - loss: 0.0203 - mean_absolute_error: 0.1570 - val_loss: 0.0239 - val_mean_absolute_error: 0.1687\n",
      "Epoch 109/200\n",
      "20/20 [==============================] - 0s 6ms/step - loss: 0.0216 - mean_absolute_error: 0.1668 - val_loss: 0.0328 - val_mean_absolute_error: 0.2003\n",
      "Epoch 110/200\n",
      "20/20 [==============================] - 0s 6ms/step - loss: 0.0219 - mean_absolute_error: 0.1667 - val_loss: 0.0335 - val_mean_absolute_error: 0.2055\n",
      "Epoch 111/200\n",
      "20/20 [==============================] - 0s 6ms/step - loss: 0.0199 - mean_absolute_error: 0.1557 - val_loss: 0.0287 - val_mean_absolute_error: 0.1863\n",
      "Epoch 112/200\n",
      "20/20 [==============================] - 0s 6ms/step - loss: 0.0236 - mean_absolute_error: 0.1719 - val_loss: 0.0270 - val_mean_absolute_error: 0.1779\n",
      "Epoch 113/200\n",
      "20/20 [==============================] - 0s 7ms/step - loss: 0.0216 - mean_absolute_error: 0.1685 - val_loss: 0.0249 - val_mean_absolute_error: 0.1716\n",
      "Epoch 114/200\n",
      "20/20 [==============================] - 0s 6ms/step - loss: 0.0203 - mean_absolute_error: 0.1639 - val_loss: 0.0268 - val_mean_absolute_error: 0.1829\n",
      "Epoch 115/200\n",
      "20/20 [==============================] - 0s 6ms/step - loss: 0.0199 - mean_absolute_error: 0.1599 - val_loss: 0.0321 - val_mean_absolute_error: 0.1987\n",
      "Epoch 116/200\n",
      "20/20 [==============================] - 0s 6ms/step - loss: 0.0205 - mean_absolute_error: 0.1629 - val_loss: 0.0249 - val_mean_absolute_error: 0.1705\n",
      "Epoch 117/200\n",
      "20/20 [==============================] - 0s 6ms/step - loss: 0.0190 - mean_absolute_error: 0.1581 - val_loss: 0.0253 - val_mean_absolute_error: 0.1662\n",
      "Epoch 118/200\n",
      "20/20 [==============================] - 0s 6ms/step - loss: 0.0232 - mean_absolute_error: 0.1722 - val_loss: 0.0252 - val_mean_absolute_error: 0.1643\n",
      "Epoch 119/200\n",
      "20/20 [==============================] - 0s 6ms/step - loss: 0.0226 - mean_absolute_error: 0.1696 - val_loss: 0.0314 - val_mean_absolute_error: 0.1993\n",
      "Epoch 120/200\n",
      "20/20 [==============================] - 0s 6ms/step - loss: 0.0223 - mean_absolute_error: 0.1691 - val_loss: 0.0287 - val_mean_absolute_error: 0.1860\n",
      "Epoch 121/200\n",
      "20/20 [==============================] - 0s 6ms/step - loss: 0.0215 - mean_absolute_error: 0.1672 - val_loss: 0.0274 - val_mean_absolute_error: 0.1808\n",
      "Epoch 122/200\n",
      "20/20 [==============================] - 0s 6ms/step - loss: 0.0211 - mean_absolute_error: 0.1639 - val_loss: 0.0286 - val_mean_absolute_error: 0.1835\n",
      "Epoch 123/200\n",
      "20/20 [==============================] - 0s 6ms/step - loss: 0.0209 - mean_absolute_error: 0.1667 - val_loss: 0.0279 - val_mean_absolute_error: 0.1809\n",
      "Epoch 124/200\n",
      "20/20 [==============================] - 0s 6ms/step - loss: 0.0189 - mean_absolute_error: 0.1525 - val_loss: 0.0303 - val_mean_absolute_error: 0.1882\n",
      "Epoch 125/200\n",
      "20/20 [==============================] - 0s 6ms/step - loss: 0.0222 - mean_absolute_error: 0.1659 - val_loss: 0.0274 - val_mean_absolute_error: 0.1798\n",
      "Epoch 126/200\n",
      "20/20 [==============================] - 0s 6ms/step - loss: 0.0196 - mean_absolute_error: 0.1611 - val_loss: 0.0273 - val_mean_absolute_error: 0.1784\n",
      "Epoch 127/200\n",
      "20/20 [==============================] - 0s 6ms/step - loss: 0.0200 - mean_absolute_error: 0.1620 - val_loss: 0.0353 - val_mean_absolute_error: 0.2101\n",
      "Epoch 128/200\n",
      "20/20 [==============================] - 0s 6ms/step - loss: 0.0185 - mean_absolute_error: 0.1577 - val_loss: 0.0295 - val_mean_absolute_error: 0.1843\n",
      "Epoch 129/200\n",
      "20/20 [==============================] - 0s 6ms/step - loss: 0.0222 - mean_absolute_error: 0.1663 - val_loss: 0.0259 - val_mean_absolute_error: 0.1702\n",
      "Epoch 130/200\n",
      "20/20 [==============================] - 0s 6ms/step - loss: 0.0207 - mean_absolute_error: 0.1612 - val_loss: 0.0285 - val_mean_absolute_error: 0.1819\n",
      "Epoch 131/200\n",
      "20/20 [==============================] - 0s 7ms/step - loss: 0.0218 - mean_absolute_error: 0.1633 - val_loss: 0.0309 - val_mean_absolute_error: 0.1923\n",
      "Epoch 132/200\n",
      "20/20 [==============================] - 0s 6ms/step - loss: 0.0186 - mean_absolute_error: 0.1515 - val_loss: 0.0295 - val_mean_absolute_error: 0.1823\n",
      "Epoch 133/200\n",
      "20/20 [==============================] - 0s 6ms/step - loss: 0.0215 - mean_absolute_error: 0.1653 - val_loss: 0.0299 - val_mean_absolute_error: 0.1806\n",
      "Epoch 134/200\n",
      "20/20 [==============================] - 0s 6ms/step - loss: 0.0244 - mean_absolute_error: 0.1752 - val_loss: 0.0387 - val_mean_absolute_error: 0.2193\n",
      "Epoch 135/200\n",
      "20/20 [==============================] - 0s 6ms/step - loss: 0.0188 - mean_absolute_error: 0.1513 - val_loss: 0.0538 - val_mean_absolute_error: 0.2689\n",
      "Epoch 136/200\n",
      "20/20 [==============================] - 0s 6ms/step - loss: 0.0205 - mean_absolute_error: 0.1622 - val_loss: 0.0524 - val_mean_absolute_error: 0.2597\n",
      "Epoch 137/200\n",
      "20/20 [==============================] - 0s 6ms/step - loss: 0.0199 - mean_absolute_error: 0.1632 - val_loss: 0.0568 - val_mean_absolute_error: 0.2743\n",
      "Epoch 138/200\n",
      "20/20 [==============================] - 0s 6ms/step - loss: 0.0214 - mean_absolute_error: 0.1608 - val_loss: 0.0369 - val_mean_absolute_error: 0.2150\n",
      "Epoch 139/200\n",
      "20/20 [==============================] - 0s 6ms/step - loss: 0.0185 - mean_absolute_error: 0.1515 - val_loss: 0.0343 - val_mean_absolute_error: 0.1995\n",
      "Epoch 140/200\n",
      "20/20 [==============================] - 0s 6ms/step - loss: 0.0194 - mean_absolute_error: 0.1591 - val_loss: 0.0269 - val_mean_absolute_error: 0.1697\n",
      "Epoch 141/200\n",
      "20/20 [==============================] - 0s 6ms/step - loss: 0.0177 - mean_absolute_error: 0.1467 - val_loss: 0.0275 - val_mean_absolute_error: 0.1750\n",
      "Epoch 142/200\n",
      "20/20 [==============================] - 0s 6ms/step - loss: 0.0194 - mean_absolute_error: 0.1547 - val_loss: 0.0265 - val_mean_absolute_error: 0.1692\n",
      "Epoch 143/200\n",
      "20/20 [==============================] - 0s 6ms/step - loss: 0.0190 - mean_absolute_error: 0.1537 - val_loss: 0.0285 - val_mean_absolute_error: 0.1741\n",
      "Epoch 144/200\n",
      "20/20 [==============================] - 0s 6ms/step - loss: 0.0177 - mean_absolute_error: 0.1470 - val_loss: 0.0290 - val_mean_absolute_error: 0.1755\n",
      "Epoch 145/200\n",
      "20/20 [==============================] - 0s 6ms/step - loss: 0.0196 - mean_absolute_error: 0.1568 - val_loss: 0.0380 - val_mean_absolute_error: 0.2162\n",
      "Epoch 146/200\n",
      "20/20 [==============================] - 0s 6ms/step - loss: 0.0200 - mean_absolute_error: 0.1585 - val_loss: 0.0294 - val_mean_absolute_error: 0.1777\n",
      "Epoch 147/200\n",
      "20/20 [==============================] - 0s 6ms/step - loss: 0.0195 - mean_absolute_error: 0.1563 - val_loss: 0.0328 - val_mean_absolute_error: 0.1994\n",
      "Epoch 148/200\n",
      "20/20 [==============================] - 0s 6ms/step - loss: 0.0178 - mean_absolute_error: 0.1510 - val_loss: 0.0299 - val_mean_absolute_error: 0.1814\n",
      "Epoch 149/200\n",
      "20/20 [==============================] - 0s 6ms/step - loss: 0.0175 - mean_absolute_error: 0.1509 - val_loss: 0.0314 - val_mean_absolute_error: 0.1863\n",
      "Epoch 150/200\n",
      "20/20 [==============================] - 0s 6ms/step - loss: 0.0163 - mean_absolute_error: 0.1505 - val_loss: 0.0296 - val_mean_absolute_error: 0.1767\n",
      "Epoch 151/200\n",
      "20/20 [==============================] - 0s 6ms/step - loss: 0.0185 - mean_absolute_error: 0.1537 - val_loss: 0.0391 - val_mean_absolute_error: 0.2194\n",
      "Epoch 152/200\n",
      "20/20 [==============================] - 0s 6ms/step - loss: 0.0196 - mean_absolute_error: 0.1559 - val_loss: 0.0327 - val_mean_absolute_error: 0.1859\n",
      "Epoch 153/200\n",
      "20/20 [==============================] - 0s 6ms/step - loss: 0.0194 - mean_absolute_error: 0.1542 - val_loss: 0.0283 - val_mean_absolute_error: 0.1744\n",
      "Epoch 154/200\n",
      "20/20 [==============================] - 0s 6ms/step - loss: 0.0167 - mean_absolute_error: 0.1480 - val_loss: 0.0295 - val_mean_absolute_error: 0.1806\n",
      "Epoch 155/200\n",
      "20/20 [==============================] - 0s 6ms/step - loss: 0.0186 - mean_absolute_error: 0.1531 - val_loss: 0.0285 - val_mean_absolute_error: 0.1751\n",
      "Epoch 156/200\n",
      "20/20 [==============================] - 0s 6ms/step - loss: 0.0210 - mean_absolute_error: 0.1624 - val_loss: 0.0288 - val_mean_absolute_error: 0.1767\n",
      "Epoch 157/200\n",
      "20/20 [==============================] - 0s 6ms/step - loss: 0.0186 - mean_absolute_error: 0.1504 - val_loss: 0.0360 - val_mean_absolute_error: 0.2176\n",
      "Epoch 158/200\n",
      "20/20 [==============================] - 0s 6ms/step - loss: 0.0209 - mean_absolute_error: 0.1654 - val_loss: 0.0350 - val_mean_absolute_error: 0.1941\n",
      "Epoch 159/200\n",
      "20/20 [==============================] - 0s 6ms/step - loss: 0.0166 - mean_absolute_error: 0.1431 - val_loss: 0.0443 - val_mean_absolute_error: 0.2264\n",
      "Epoch 160/200\n",
      "20/20 [==============================] - 0s 6ms/step - loss: 0.0187 - mean_absolute_error: 0.1564 - val_loss: 0.0315 - val_mean_absolute_error: 0.1847\n",
      "Epoch 161/200\n",
      "20/20 [==============================] - 0s 6ms/step - loss: 0.0190 - mean_absolute_error: 0.1540 - val_loss: 0.0285 - val_mean_absolute_error: 0.1792\n",
      "Epoch 162/200\n",
      "20/20 [==============================] - 0s 6ms/step - loss: 0.0165 - mean_absolute_error: 0.1474 - val_loss: 0.0298 - val_mean_absolute_error: 0.1820\n",
      "Epoch 163/200\n",
      "20/20 [==============================] - 0s 6ms/step - loss: 0.0221 - mean_absolute_error: 0.1669 - val_loss: 0.0312 - val_mean_absolute_error: 0.1856\n",
      "Epoch 164/200\n",
      "20/20 [==============================] - 0s 6ms/step - loss: 0.0201 - mean_absolute_error: 0.1585 - val_loss: 0.0326 - val_mean_absolute_error: 0.1874\n",
      "Epoch 165/200\n",
      "20/20 [==============================] - 0s 6ms/step - loss: 0.0190 - mean_absolute_error: 0.1504 - val_loss: 0.0318 - val_mean_absolute_error: 0.1888\n",
      "Epoch 166/200\n",
      "20/20 [==============================] - 0s 6ms/step - loss: 0.0160 - mean_absolute_error: 0.1445 - val_loss: 0.0385 - val_mean_absolute_error: 0.2252\n",
      "Epoch 167/200\n",
      "20/20 [==============================] - 0s 6ms/step - loss: 0.0187 - mean_absolute_error: 0.1535 - val_loss: 0.0344 - val_mean_absolute_error: 0.2005\n",
      "Epoch 168/200\n",
      "20/20 [==============================] - 0s 6ms/step - loss: 0.0169 - mean_absolute_error: 0.1486 - val_loss: 0.0351 - val_mean_absolute_error: 0.1997\n",
      "Epoch 169/200\n",
      "20/20 [==============================] - 0s 6ms/step - loss: 0.0160 - mean_absolute_error: 0.1425 - val_loss: 0.0319 - val_mean_absolute_error: 0.1905\n",
      "Epoch 170/200\n",
      "20/20 [==============================] - 0s 7ms/step - loss: 0.0171 - mean_absolute_error: 0.1478 - val_loss: 0.0386 - val_mean_absolute_error: 0.2087\n",
      "Epoch 171/200\n",
      "20/20 [==============================] - 0s 6ms/step - loss: 0.0176 - mean_absolute_error: 0.1448 - val_loss: 0.0315 - val_mean_absolute_error: 0.1809\n",
      "Epoch 172/200\n",
      "20/20 [==============================] - 0s 6ms/step - loss: 0.0161 - mean_absolute_error: 0.1422 - val_loss: 0.0346 - val_mean_absolute_error: 0.1928\n",
      "Epoch 173/200\n",
      "20/20 [==============================] - 0s 6ms/step - loss: 0.0162 - mean_absolute_error: 0.1434 - val_loss: 0.0342 - val_mean_absolute_error: 0.2063\n",
      "Epoch 174/200\n",
      "20/20 [==============================] - 0s 6ms/step - loss: 0.0198 - mean_absolute_error: 0.1549 - val_loss: 0.0362 - val_mean_absolute_error: 0.1980\n",
      "Epoch 175/200\n",
      "20/20 [==============================] - 0s 6ms/step - loss: 0.0184 - mean_absolute_error: 0.1538 - val_loss: 0.0313 - val_mean_absolute_error: 0.1803\n",
      "Epoch 176/200\n",
      "20/20 [==============================] - 0s 6ms/step - loss: 0.0183 - mean_absolute_error: 0.1552 - val_loss: 0.0287 - val_mean_absolute_error: 0.1748\n",
      "Epoch 177/200\n",
      "20/20 [==============================] - 0s 6ms/step - loss: 0.0169 - mean_absolute_error: 0.1511 - val_loss: 0.0310 - val_mean_absolute_error: 0.1922\n",
      "Epoch 178/200\n",
      "20/20 [==============================] - 0s 6ms/step - loss: 0.0162 - mean_absolute_error: 0.1409 - val_loss: 0.0301 - val_mean_absolute_error: 0.1847\n",
      "Epoch 179/200\n",
      "20/20 [==============================] - 0s 6ms/step - loss: 0.0160 - mean_absolute_error: 0.1402 - val_loss: 0.0341 - val_mean_absolute_error: 0.1996\n",
      "Epoch 180/200\n",
      "20/20 [==============================] - 0s 6ms/step - loss: 0.0155 - mean_absolute_error: 0.1367 - val_loss: 0.0309 - val_mean_absolute_error: 0.1832\n",
      "Epoch 181/200\n",
      "20/20 [==============================] - 0s 6ms/step - loss: 0.0183 - mean_absolute_error: 0.1458 - val_loss: 0.0344 - val_mean_absolute_error: 0.1954\n",
      "Epoch 182/200\n",
      "20/20 [==============================] - 0s 6ms/step - loss: 0.0212 - mean_absolute_error: 0.1616 - val_loss: 0.0360 - val_mean_absolute_error: 0.2004\n",
      "Epoch 183/200\n",
      "20/20 [==============================] - 0s 6ms/step - loss: 0.0148 - mean_absolute_error: 0.1365 - val_loss: 0.0313 - val_mean_absolute_error: 0.1838\n",
      "Epoch 184/200\n",
      "20/20 [==============================] - 0s 6ms/step - loss: 0.0166 - mean_absolute_error: 0.1424 - val_loss: 0.0324 - val_mean_absolute_error: 0.1877\n",
      "Epoch 185/200\n",
      "20/20 [==============================] - 0s 6ms/step - loss: 0.0158 - mean_absolute_error: 0.1427 - val_loss: 0.0289 - val_mean_absolute_error: 0.1879\n",
      "Epoch 186/200\n",
      "20/20 [==============================] - 0s 6ms/step - loss: 0.0153 - mean_absolute_error: 0.1377 - val_loss: 0.0420 - val_mean_absolute_error: 0.2219\n",
      "Epoch 187/200\n",
      "20/20 [==============================] - 0s 6ms/step - loss: 0.0150 - mean_absolute_error: 0.1341 - val_loss: 0.0391 - val_mean_absolute_error: 0.2046\n",
      "Epoch 188/200\n",
      "20/20 [==============================] - 0s 6ms/step - loss: 0.0158 - mean_absolute_error: 0.1417 - val_loss: 0.0349 - val_mean_absolute_error: 0.1931\n",
      "Epoch 189/200\n",
      "20/20 [==============================] - 0s 6ms/step - loss: 0.0167 - mean_absolute_error: 0.1459 - val_loss: 0.0306 - val_mean_absolute_error: 0.1835\n",
      "Epoch 190/200\n",
      "20/20 [==============================] - 0s 6ms/step - loss: 0.0148 - mean_absolute_error: 0.1351 - val_loss: 0.0297 - val_mean_absolute_error: 0.1851\n",
      "Epoch 191/200\n",
      "20/20 [==============================] - 0s 6ms/step - loss: 0.0147 - mean_absolute_error: 0.1392 - val_loss: 0.0305 - val_mean_absolute_error: 0.1813\n",
      "Epoch 192/200\n",
      "20/20 [==============================] - 0s 6ms/step - loss: 0.0146 - mean_absolute_error: 0.1365 - val_loss: 0.0335 - val_mean_absolute_error: 0.1910\n",
      "Epoch 193/200\n",
      "20/20 [==============================] - 0s 6ms/step - loss: 0.0131 - mean_absolute_error: 0.1269 - val_loss: 0.0370 - val_mean_absolute_error: 0.2070\n",
      "Epoch 194/200\n",
      "20/20 [==============================] - 0s 6ms/step - loss: 0.0134 - mean_absolute_error: 0.1292 - val_loss: 0.0328 - val_mean_absolute_error: 0.2016\n",
      "Epoch 195/200\n",
      "20/20 [==============================] - 0s 6ms/step - loss: 0.0181 - mean_absolute_error: 0.1510 - val_loss: 0.0449 - val_mean_absolute_error: 0.2253\n",
      "Epoch 196/200\n",
      "20/20 [==============================] - 0s 6ms/step - loss: 0.0173 - mean_absolute_error: 0.1429 - val_loss: 0.0305 - val_mean_absolute_error: 0.1791\n",
      "Epoch 197/200\n",
      "20/20 [==============================] - 0s 6ms/step - loss: 0.0171 - mean_absolute_error: 0.1486 - val_loss: 0.0290 - val_mean_absolute_error: 0.1732\n",
      "Epoch 198/200\n",
      "20/20 [==============================] - 0s 6ms/step - loss: 0.0186 - mean_absolute_error: 0.1527 - val_loss: 0.0327 - val_mean_absolute_error: 0.1873\n",
      "Epoch 199/200\n",
      "20/20 [==============================] - 0s 6ms/step - loss: 0.0149 - mean_absolute_error: 0.1401 - val_loss: 0.0324 - val_mean_absolute_error: 0.1824\n",
      "Epoch 200/200\n",
      "20/20 [==============================] - 0s 6ms/step - loss: 0.0137 - mean_absolute_error: 0.1350 - val_loss: 0.0350 - val_mean_absolute_error: 0.1934\n",
      "CPU times: user 37.1 s, sys: 2.93 s, total: 40 s\n",
      "Wall time: 27.6 s\n"
     ]
    }
   ],
   "source": [
    "%%time\n",
    "model_store = Path(f'Result/saved_weights_{phenotype}.hdf5')\n",
    "\n",
    "# save the best performing model\n",
    "checkpointer = ModelCheckpoint(filepath=model_store, \n",
    "                               monitor='val_loss', verbose=0, \n",
    "                               save_best_only=True)\n",
    "\n",
    "st = time.time()\n",
    "# model training\n",
    "model.fit([x_train], y_train,\n",
    "          batch_size=10,\n",
    "          epochs=200, \n",
    "          verbose=1,\n",
    "          callbacks=[checkpointer],\n",
    "          validation_data=([x_valid], y_valid))\n",
    "rt = time.time()-st"
   ]
  },
  {
   "cell_type": "code",
   "execution_count": 111,
   "metadata": {},
   "outputs": [
    {
     "data": {
      "text/plain": [
       "27.559773921966553"
      ]
     },
     "execution_count": 111,
     "metadata": {},
     "output_type": "execute_result"
    }
   ],
   "source": [
    "rt"
   ]
  },
  {
   "cell_type": "code",
   "execution_count": 112,
   "metadata": {
    "tags": []
   },
   "outputs": [
    {
     "data": {
      "image/png": "[encoded data removed]",
      "text/plain": [
       "<Figure size 648x432 with 1 Axes>"
      ]
     },
     "metadata": {
      "needs_background": "light"
     },
     "output_type": "display_data"
    }
   ],
   "source": [
    "##### Step 6: plot train and validation loss #####\n",
    "history = model.history\n",
    "plt.plot(age_range*pd.Series(history.history['mean_absolute_error']))\n",
    "plt.plot(age_range*pd.Series(history.history['val_mean_absolute_error']))\n",
    "plt.title('model train vs validation loss')\n",
    "plt.ylabel('loss')\n",
    "plt.xlabel('epoch')\n",
    "plt.legend(['train', 'validation'], loc='upper right')\n",
    "plt.show()"
   ]
  },
  {
   "cell_type": "code",
   "execution_count": 113,
   "metadata": {},
   "outputs": [],
   "source": [
    "#### Step 7: test the final model #####\n",
    "final_model = load_model(model_store)\n",
    "x_test = x_valid\n",
    "y_test = y_valid\n",
    "y_scores = final_model.predict([x_test])\n",
    "y_scores = y_scores.reshape(y_scores.shape[0])"
   ]
  },
  {
   "cell_type": "code",
   "execution_count": 114,
   "metadata": {},
   "outputs": [
    {
     "data": {
      "text/plain": [
       "count    65.000000\n",
       "mean      3.116616\n",
       "std      10.184861\n",
       "min     -22.242418\n",
       "25%      -1.544630\n",
       "50%       3.029677\n",
       "75%      10.100791\n",
       "max      28.020656\n",
       "dtype: float64"
      ]
     },
     "execution_count": 114,
     "metadata": {},
     "output_type": "execute_result"
    }
   ],
   "source": [
    "errors = age_range * (pd.Series(y_test)-pd.Series(y_scores))\n",
    "errors.describe()"
   ]
  },
  {
   "cell_type": "code",
   "execution_count": 115,
   "metadata": {},
   "outputs": [
    {
     "data": {
      "image/png": "[encoded data removed]",
      "text/plain": [
       "<Figure size 648x432 with 1 Axes>"
      ]
     },
     "metadata": {
      "needs_background": "light"
     },
     "output_type": "display_data"
    }
   ],
   "source": [
    "plt.hist(errors)\n",
    "plt.title('Error Distribution')\n",
    "plt.xlabel('Actual - Predicted [Years]')\n",
    "plt.show()"
   ]
  },
  {
   "cell_type": "code",
   "execution_count": 116,
   "metadata": {},
   "outputs": [
    {
     "name": "stdout",
     "output_type": "stream",
     "text": [
      "[ 0.48108919 33.55840306]\n"
     ]
    },
    {
     "data": {
      "image/png": "[encoded data removed]",
      "text/plain": [
       "<Figure size 648x432 with 1 Axes>"
      ]
     },
     "metadata": {
      "needs_background": "light"
     },
     "output_type": "display_data"
    }
   ],
   "source": [
    "age_true = y_test*age_range + age_min\n",
    "age_pred = y_scores*age_range + age_min\n",
    "plt.plot(age_true, age_pred,'b.')\n",
    "plt.axis('square')\n",
    "plt.xlim((40,95))\n",
    "plt.ylim((40,95))\n",
    "plt.xlabel('True Age')\n",
    "plt.ylabel('Predicted Age')\n",
    "plt.title('Prediction vs True')\n",
    "plt.plot([40,95],[40,95],'--k')\n",
    "coef = np.polyfit(age_true, age_pred, 1)\n",
    "print(coef)\n",
    "poly1d_fn = np.poly1d(coef)\n",
    "plt.plot([40,95], poly1d_fn([40,95]), '--b')\n",
    "plt.show()"
   ]
  },
  {
   "cell_type": "code",
   "execution_count": null,
   "metadata": {},
   "outputs": [],
   "source": []
  }
 ],
 "metadata": {
  "kernelspec": {
   "display_name": "tf2",
   "language": "python",
   "name": "tf2"
  },
  "language_info": {
   "codemirror_mode": {
    "name": "ipython",
    "version": 3
   },
   "file_extension": ".py",
   "mimetype": "text/x-python",
   "name": "python",
   "nbconvert_exporter": "python",
   "pygments_lexer": "ipython3",
   "version": "3.9.6"
  }
 },
 "nbformat": 4,
 "nbformat_minor": 4
}
