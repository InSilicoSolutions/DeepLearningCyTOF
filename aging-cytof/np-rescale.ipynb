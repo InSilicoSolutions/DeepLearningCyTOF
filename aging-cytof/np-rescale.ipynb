{
 "cells": [
  {
   "cell_type": "markdown",
   "metadata": {},
   "source": [
    "# Predict `Subject Age`"
   ]
  },
  {
   "cell_type": "code",
   "execution_count": null,
   "metadata": {},
   "outputs": [],
   "source": [
    "%matplotlib inline"
   ]
  },
  {
   "cell_type": "code",
   "execution_count": null,
   "metadata": {},
   "outputs": [],
   "source": [
    "##### Step 1: import functions #####\n",
    "import tensorflow as tf\n",
    "from tensorflow.keras.layers import Dense, Flatten, BatchNormalization, Activation, Conv2D, AveragePooling2D, Input, Softmax\n",
    "from tensorflow.keras.models import load_model, Model, Sequential\n",
    "from tensorflow.keras.optimizers import Adam\n",
    "from tensorflow.keras.callbacks import ModelCheckpoint, EarlyStopping\n",
    "from tensorflow.keras.losses import SparseCategoricalCrossentropy\n",
    "from tensorflow.keras import backend as K\n",
    "from tensorflow.keras.utils import plot_model\n",
    "import pickle\n",
    "import pandas as pd\n",
    "import numpy as np\n",
    "from numpy.random import seed; seed(111)\n",
    "import random\n",
    "import matplotlib.pyplot as plt\n",
    "import seaborn as sns\n",
    "from tensorflow.random import set_seed; set_seed(111)\n",
    "from sklearn.metrics import roc_curve, auc\n",
    "from sklearn.preprocessing import normalize\n",
    "from six import StringIO  \n",
    "from sklearn.tree import export_graphviz, DecisionTreeRegressor\n",
    "from sklearn.model_selection import train_test_split\n",
    "from scipy.stats import ttest_ind\n",
    "from IPython.display import Image  \n",
    "import pydotplus\n",
    "import time\n",
    "from pathlib import Path"
   ]
  },
  {
   "cell_type": "code",
   "execution_count": null,
   "metadata": {},
   "outputs": [],
   "source": [
    "# %config InlineBackend.figure_format = 'svg'\n",
    "plt.rcParams['figure.figsize'] = [9,6]"
   ]
  },
  {
   "cell_type": "code",
   "execution_count": null,
   "metadata": {},
   "outputs": [],
   "source": [
    "gpus = tf.config.list_physical_devices('GPU')\n",
    "tf.config.experimental.set_memory_growth(gpus[0], True)"
   ]
  },
  {
   "cell_type": "code",
   "execution_count": null,
   "metadata": {},
   "outputs": [],
   "source": [
    "phenotype = 'Subject Age'"
   ]
  },
  {
   "cell_type": "code",
   "execution_count": null,
   "metadata": {},
   "outputs": [
    {
     "name": "stdout",
     "output_type": "stream",
     "text": [
      "Dimensions of cyto_data: (260, 5000, 27, 1)\n",
      "Dimensions of samples: (260, 85)\n",
      "Names of the makers: ['CELL_LENGTH' 'DEAD' 'CD19' 'CD4' 'CD8' 'IGD' 'CD85J' 'CD16' 'CD3' 'CD38'\n",
      " 'CD27' 'CD14' 'CD94' 'CCR7' 'CD45RA' 'CD20' 'CD127' 'CD33' 'CD28' 'CD24'\n",
      " 'CD161' 'TCRGD' 'CD56' 'HLADR' 'CD25' 'DNA1' 'DNA2']\n"
     ]
    }
   ],
   "source": [
    "#load data\n",
    "aging_dir = Path('/home/ubuntu/a/aging')\n",
    "\n",
    "with open(aging_dir/'aging-cytof-data.obj', 'rb') as f:\n",
    "    allData = pickle.load(f)\n",
    "samples = allData[\"samples\"]\n",
    "cyto_data = allData['expr_list']\n",
    "# Truncate cytodata\n",
    "cyto_data = cyto_data[ :, :int(5e3)]\n",
    "markers = allData[\"marker_names\"]\n",
    "\n",
    "print(f'Dimensions of cyto_data: {cyto_data.shape}')\n",
    "print(f'Dimensions of samples: {samples.shape}')\n",
    "print(f'Names of the makers: {markers.values}')"
   ]
  },
  {
   "cell_type": "code",
   "execution_count": null,
   "metadata": {},
   "outputs": [
    {
     "name": "stdout",
     "output_type": "stream",
     "text": [
      "count    260.000000\n",
      "mean      68.303846\n",
      "std       15.169696\n",
      "min       41.000000\n",
      "25%       55.000000\n",
      "50%       69.000000\n",
      "75%       82.000000\n",
      "max       90.000000\n",
      "Name: Subject Age, dtype: float64\n"
     ]
    },
    {
     "data": {
      "text/plain": [
       "<AxesSubplot:ylabel='Frequency'>"
      ]
     },
     "execution_count": 7,
     "metadata": {},
     "output_type": "execute_result"
    },
    {
     "data": {
      "image/png": "[encoded data removed]",
      "text/plain": [
       "<Figure size 648x432 with 1 Axes>"
      ]
     },
     "metadata": {
      "needs_background": "light"
     },
     "output_type": "display_data"
    }
   ],
   "source": [
    "print(samples[phenotype].describe())\n",
    "samples[phenotype].plot.hist()"
   ]
  },
  {
   "cell_type": "code",
   "execution_count": null,
   "metadata": {},
   "outputs": [
    {
     "data": {
      "text/plain": [
       "(260, 5000, 27, 1)"
      ]
     },
     "execution_count": 8,
     "metadata": {},
     "output_type": "execute_result"
    }
   ],
   "source": [
    "a = cyto_data\n",
    "a.shape"
   ]
  },
  {
   "cell_type": "code",
   "execution_count": null,
   "metadata": {},
   "outputs": [
    {
     "data": {
      "text/plain": [
       "(260, 5000, 1)"
      ]
     },
     "execution_count": 13,
     "metadata": {},
     "output_type": "execute_result"
    }
   ],
   "source": [
    "a.min(2).shape"
   ]
  },
  {
   "cell_type": "code",
   "execution_count": null,
   "metadata": {},
   "outputs": [
    {
     "data": {
      "text/plain": [
       "array([-0.18031569])"
      ]
     },
     "execution_count": 14,
     "metadata": {},
     "output_type": "execute_result"
    }
   ],
   "source": [
    "a.min(2)[0][0]"
   ]
  },
  {
   "cell_type": "code",
   "execution_count": null,
   "metadata": {},
   "outputs": [
    {
     "name": "stdout",
     "output_type": "stream",
     "text": [
      "(5000, 1)\n"
     ]
    },
    {
     "data": {
      "text/plain": [
       "array([[2.35092572],\n",
       "       [2.69916161],\n",
       "       [2.09471255],\n",
       "       ...,\n",
       "       [2.09471255],\n",
       "       [2.18742176],\n",
       "       [2.35092572]])"
      ]
     },
     "execution_count": 27,
     "metadata": {},
     "output_type": "execute_result"
    }
   ],
   "source": [
    "c = a[0,:,0]\n",
    "print(c.shape)\n",
    "c"
   ]
  },
  {
   "cell_type": "code",
   "execution_count": null,
   "metadata": {},
   "outputs": [
    {
     "data": {
      "text/plain": [
       "array([1.44363548])"
      ]
     },
     "execution_count": 28,
     "metadata": {},
     "output_type": "execute_result"
    }
   ],
   "source": [
    "cm = c.min(0)\n",
    "cm"
   ]
  },
  {
   "cell_type": "code",
   "execution_count": null,
   "metadata": {},
   "outputs": [
    {
     "data": {
      "text/plain": [
       "array([[0.90729024],\n",
       "       [1.25552613],\n",
       "       [0.65107707],\n",
       "       ...,\n",
       "       [0.65107707],\n",
       "       [0.74378629],\n",
       "       [0.90729024]])"
      ]
     },
     "execution_count": 30,
     "metadata": {},
     "output_type": "execute_result"
    }
   ],
   "source": [
    "c-cm"
   ]
  },
  {
   "cell_type": "code",
   "execution_count": null,
   "metadata": {},
   "outputs": [
    {
     "data": {
      "text/plain": [
       "array([1.44363548])"
      ]
     },
     "execution_count": 36,
     "metadata": {},
     "output_type": "execute_result"
    }
   ],
   "source": [
    "a.min(1)[0][0]"
   ]
  },
  {
   "cell_type": "code",
   "execution_count": null,
   "metadata": {},
   "outputs": [
    {
     "ename": "ValueError",
     "evalue": "operands could not be broadcast together with shapes (260,5000,27,1) (260,27,1) ",
     "output_type": "error",
     "traceback": [
      "\u001b[0;31m---------------------------------------------------------------------------\u001b[0m",
      "\u001b[0;31mValueError\u001b[0m                                Traceback (most recent call last)",
      "\u001b[0;32m<ipython-input-37-6dc13b15e7d2>\u001b[0m in \u001b[0;36m<module>\u001b[0;34m\u001b[0m\n\u001b[0;32m----> 1\u001b[0;31m \u001b[0ma\u001b[0m\u001b[0;34m-\u001b[0m\u001b[0ma\u001b[0m\u001b[0;34m.\u001b[0m\u001b[0mmin\u001b[0m\u001b[0;34m(\u001b[0m\u001b[0;36m1\u001b[0m\u001b[0;34m)\u001b[0m\u001b[0;34m\u001b[0m\u001b[0;34m\u001b[0m\u001b[0m\n\u001b[0m",
      "\u001b[0;31mValueError\u001b[0m: operands could not be broadcast together with shapes (260,5000,27,1) (260,27,1) "
     ]
    }
   ],
   "source": [
    "a-a.min(1)"
   ]
  },
  {
   "cell_type": "code",
   "execution_count": null,
   "metadata": {},
   "outputs": [
    {
     "data": {
      "text/plain": [
       "(5000, 27, 1)"
      ]
     },
     "execution_count": 38,
     "metadata": {},
     "output_type": "execute_result"
    }
   ],
   "source": [
    "b=a[0]\n",
    "b.shape"
   ]
  },
  {
   "cell_type": "code",
   "execution_count": null,
   "metadata": {},
   "outputs": [
    {
     "data": {
      "text/plain": [
       "array([1.44363548])"
      ]
     },
     "execution_count": 39,
     "metadata": {},
     "output_type": "execute_result"
    }
   ],
   "source": [
    "b.min(0)[0]"
   ]
  },
  {
   "cell_type": "code",
   "execution_count": null,
   "metadata": {},
   "outputs": [
    {
     "data": {
      "text/plain": [
       "array([[[ 2.35092572],\n",
       "        [-0.10675904],\n",
       "        [-0.17587138],\n",
       "        ...,\n",
       "        [-0.05599354],\n",
       "        [ 4.39221377],\n",
       "        [ 5.15072445]],\n",
       "\n",
       "       [[ 2.69916161],\n",
       "        [-0.10019732],\n",
       "        [-0.19617459],\n",
       "        ...,\n",
       "        [-0.18278234],\n",
       "        [ 3.81487871],\n",
       "        [ 4.37430716]],\n",
       "\n",
       "       [[ 2.09471255],\n",
       "        [-0.18636861],\n",
       "        [-0.14411605],\n",
       "        ...,\n",
       "        [-0.12561546],\n",
       "        [ 4.17630258],\n",
       "        [ 5.26233433]],\n",
       "\n",
       "       ...,\n",
       "\n",
       "       [[ 2.09471255],\n",
       "        [-0.16359327],\n",
       "        [-0.07867508],\n",
       "        ...,\n",
       "        [-0.04051353],\n",
       "        [ 4.40301115],\n",
       "        [ 4.89954781]],\n",
       "\n",
       "       [[ 2.18742176],\n",
       "        [ 4.24421675],\n",
       "        [-0.13060638],\n",
       "        ...,\n",
       "        [-0.04906191],\n",
       "        [ 5.08445263],\n",
       "        [ 5.54177817]],\n",
       "\n",
       "       [[ 2.35092572],\n",
       "        [ 1.48376719],\n",
       "        [-0.08848496],\n",
       "        ...,\n",
       "        [-0.13364054],\n",
       "        [ 3.89215252],\n",
       "        [ 5.12389994]]])"
      ]
     },
     "execution_count": 41,
     "metadata": {},
     "output_type": "execute_result"
    }
   ],
   "source": [
    "b"
   ]
  },
  {
   "cell_type": "code",
   "execution_count": null,
   "metadata": {},
   "outputs": [
    {
     "data": {
      "text/plain": [
       "array([[[4.63217235e-01],\n",
       "        [1.22251421e-02],\n",
       "        [6.80668810e-03],\n",
       "        ...,\n",
       "        [2.57460677e-02],\n",
       "        [6.28204424e-01],\n",
       "        [6.87687111e-01]],\n",
       "\n",
       "       [[6.41009144e-01],\n",
       "        [1.30991375e-02],\n",
       "        [7.37239539e-04],\n",
       "        ...,\n",
       "        [2.86252265e-03],\n",
       "        [5.49070641e-01],\n",
       "        [5.87846368e-01]],\n",
       "\n",
       "       [[3.32407543e-01],\n",
       "        [1.62146756e-03],\n",
       "        [1.62996387e-02],\n",
       "        ...,\n",
       "        [1.31803190e-02],\n",
       "        [5.98610050e-01],\n",
       "        [7.02039203e-01]],\n",
       "\n",
       "       ...,\n",
       "\n",
       "       [[3.32407543e-01],\n",
       "        [4.65505085e-03],\n",
       "        [3.58625834e-02],\n",
       "        ...,\n",
       "        [2.85399864e-02],\n",
       "        [6.29684393e-01],\n",
       "        [6.55387904e-01]],\n",
       "\n",
       "       [[3.79740253e-01],\n",
       "        [5.91757634e-01],\n",
       "        [2.03382236e-02],\n",
       "        ...,\n",
       "        [2.69971261e-02],\n",
       "        [7.23087765e-01],\n",
       "        [7.37973334e-01]],\n",
       "\n",
       "       [[4.63217235e-01],\n",
       "        [2.24076845e-01],\n",
       "        [3.29300150e-02],\n",
       "        ...,\n",
       "        [1.17319065e-02],\n",
       "        [5.59662357e-01],\n",
       "        [6.84237703e-01]]])"
      ]
     },
     "execution_count": 43,
     "metadata": {},
     "output_type": "execute_result"
    }
   ],
   "source": [
    "(b-b.min(0))/b.ptp(0)"
   ]
  },
  {
   "cell_type": "code",
   "execution_count": null,
   "metadata": {},
   "outputs": [
    {
     "data": {
      "text/plain": [
       "0.46321723540368925"
      ]
     },
     "execution_count": 55,
     "metadata": {},
     "output_type": "execute_result"
    }
   ],
   "source": [
    "np.array(list(map(lambda x: (x-x.min(0))/x.ptp(0), cyto_data)))[0][0][0][0]"
   ]
  },
  {
   "cell_type": "code",
   "execution_count": null,
   "metadata": {},
   "outputs": [
    {
     "data": {
      "text/plain": [
       "(5000, 27)"
      ]
     },
     "execution_count": 62,
     "metadata": {},
     "output_type": "execute_result"
    }
   ],
   "source": [
    "a1 = a[0].reshape(5000,27)\n",
    "a1.shape"
   ]
  },
  {
   "cell_type": "code",
   "execution_count": null,
   "metadata": {},
   "outputs": [
    {
     "name": "stdout",
     "output_type": "stream",
     "text": [
      "1.4436354751788103 1.9586711703017843\n"
     ]
    }
   ],
   "source": [
    "a1c1min = a1.min(0)[0]\n",
    "a1c1ptp = a1.ptp(0)[0]\n",
    "print(a1c1min, a1c1ptp)"
   ]
  },
  {
   "cell_type": "code",
   "execution_count": null,
   "metadata": {},
   "outputs": [
    {
     "data": {
      "text/plain": [
       "0.46321723540368925"
      ]
     },
     "execution_count": 66,
     "metadata": {},
     "output_type": "execute_result"
    }
   ],
   "source": [
    "(a[0][0][0][0] - a1c1min)/a1c1ptp"
   ]
  },
  {
   "cell_type": "code",
   "execution_count": null,
   "metadata": {},
   "outputs": [],
   "source": []
  },
  {
   "cell_type": "code",
   "execution_count": null,
   "metadata": {},
   "outputs": [
    {
     "name": "stdout",
     "output_type": "stream",
     "text": [
      "(195, 5000, 27, 1) (65, 5000, 27, 1)\n"
     ]
    }
   ],
   "source": [
    "##### Step 3: split train, validation and test######\n",
    "x = []\n",
    "y = []\n",
    "for i, row in samples.iterrows():\n",
    "    x.append(cyto_data[i])\n",
    "    y.append(row[phenotype])\n",
    "age_range = max(y) - min(y)\n",
    "x = np.asarray(x)\n",
    "y_raw = np.asarray(y)\n",
    "age_min = min(y_raw)\n",
    "age_max = max(y_raw)\n",
    "age_range = age_max - age_min\n",
    "y = (y_raw - age_min) / age_range\n",
    "\n",
    "x_train, x_valid, y_train, y_valid = train_test_split(x, y)"
   ]
  },
  {
   "cell_type": "code",
   "execution_count": null,
   "metadata": {},
   "outputs": [
    {
     "name": "stdout",
     "output_type": "stream",
     "text": [
      "Model: \"sequential\"\n",
      "_________________________________________________________________\n",
      "Layer (type)                 Output Shape              Param #   \n",
      "=================================================================\n",
      "conv2d (Conv2D)              (None, 5000, 1, 3)        84        \n",
      "_________________________________________________________________\n",
      "batch_normalization (BatchNo (None, 5000, 1, 3)        12        \n",
      "_________________________________________________________________\n",
      "activation (Activation)      (None, 5000, 1, 3)        0         \n",
      "_________________________________________________________________\n",
      "conv2d_1 (Conv2D)            (None, 5000, 1, 6)        24        \n",
      "_________________________________________________________________\n",
      "batch_normalization_1 (Batch (None, 5000, 1, 6)        24        \n",
      "_________________________________________________________________\n",
      "activation_1 (Activation)    (None, 5000, 1, 6)        0         \n",
      "_________________________________________________________________\n",
      "average_pooling2d (AveragePo (None, 1, 1, 6)           0         \n",
      "_________________________________________________________________\n",
      "flatten (Flatten)            (None, 6)                 0         \n",
      "_________________________________________________________________\n",
      "dense (Dense)                (None, 3)                 21        \n",
      "_________________________________________________________________\n",
      "batch_normalization_2 (Batch (None, 3)                 12        \n",
      "_________________________________________________________________\n",
      "activation_2 (Activation)    (None, 3)                 0         \n",
      "_________________________________________________________________\n",
      "dense_1 (Dense)              (None, 1)                 4         \n",
      "=================================================================\n",
      "Total params: 181\n",
      "Trainable params: 157\n",
      "Non-trainable params: 24\n",
      "_________________________________________________________________\n"
     ]
    }
   ],
   "source": [
    "model = Sequential([\n",
    "    Input(shape=x[0].shape),\n",
    "    Conv2D(3, kernel_size = (1, x.shape[2]), activation=None),\n",
    "    BatchNormalization(),\n",
    "    Activation('relu'),\n",
    "    Conv2D(6, kernel_size = (1,1), activation=None),\n",
    "    BatchNormalization(),\n",
    "    Activation('relu'),\n",
    "    AveragePooling2D(pool_size = (x.shape[1], 1)),\n",
    "    Flatten(),\n",
    "    Dense(3, activation=None),\n",
    "    BatchNormalization(),\n",
    "    Activation('relu'),\n",
    "    Dense(1, activation=None),\n",
    "])\n",
    "model.compile(loss='mean_absolute_error',\n",
    "              optimizer='adam',\n",
    "              metrics=['mean_absolute_error'])\n",
    "model.summary()"
   ]
  },
  {
   "cell_type": "code",
   "execution_count": null,
   "metadata": {
    "scrolled": true,
    "tags": []
   },
   "outputs": [
    {
     "name": "stdout",
     "output_type": "stream",
     "text": [
      "Epoch 1/200\n",
      "4/4 [==============================] - 5s 152ms/step - loss: 0.9608 - mean_absolute_error: 0.9608 - val_loss: 0.8493 - val_mean_absolute_error: 0.8493\n",
      "Epoch 2/200\n",
      "4/4 [==============================] - 0s 27ms/step - loss: 0.9456 - mean_absolute_error: 0.9456 - val_loss: 0.8496 - val_mean_absolute_error: 0.8496\n",
      "Epoch 3/200\n",
      "4/4 [==============================] - 0s 26ms/step - loss: 0.9403 - mean_absolute_error: 0.9403 - val_loss: 0.8498 - val_mean_absolute_error: 0.8498\n",
      "Epoch 4/200\n",
      "4/4 [==============================] - 0s 25ms/step - loss: 0.9109 - mean_absolute_error: 0.9109 - val_loss: 0.8499 - val_mean_absolute_error: 0.8499\n",
      "Epoch 5/200\n",
      "4/4 [==============================] - 0s 25ms/step - loss: 0.8851 - mean_absolute_error: 0.8851 - val_loss: 0.8499 - val_mean_absolute_error: 0.8499\n",
      "Epoch 6/200\n",
      "4/4 [==============================] - 0s 25ms/step - loss: 0.8971 - mean_absolute_error: 0.8971 - val_loss: 0.8500 - val_mean_absolute_error: 0.8500\n",
      "Epoch 7/200\n",
      "4/4 [==============================] - 0s 27ms/step - loss: 0.8572 - mean_absolute_error: 0.8572 - val_loss: 0.8501 - val_mean_absolute_error: 0.8501\n",
      "Epoch 8/200\n",
      "4/4 [==============================] - 0s 25ms/step - loss: 0.8816 - mean_absolute_error: 0.8816 - val_loss: 0.8500 - val_mean_absolute_error: 0.8500\n",
      "Epoch 9/200\n",
      "4/4 [==============================] - 0s 24ms/step - loss: 0.8894 - mean_absolute_error: 0.8894 - val_loss: 0.8500 - val_mean_absolute_error: 0.8500\n",
      "Epoch 10/200\n",
      "4/4 [==============================] - 0s 25ms/step - loss: 0.8776 - mean_absolute_error: 0.8776 - val_loss: 0.8499 - val_mean_absolute_error: 0.8499\n",
      "Epoch 11/200\n",
      "4/4 [==============================] - 0s 25ms/step - loss: 0.8674 - mean_absolute_error: 0.8674 - val_loss: 0.8496 - val_mean_absolute_error: 0.8496\n",
      "Epoch 12/200\n",
      "4/4 [==============================] - 0s 26ms/step - loss: 0.8806 - mean_absolute_error: 0.8806 - val_loss: 0.8493 - val_mean_absolute_error: 0.8493\n",
      "Epoch 13/200\n",
      "4/4 [==============================] - 0s 26ms/step - loss: 0.8563 - mean_absolute_error: 0.8563 - val_loss: 0.8490 - val_mean_absolute_error: 0.8490\n",
      "Epoch 14/200\n",
      "4/4 [==============================] - 0s 24ms/step - loss: 0.8120 - mean_absolute_error: 0.8120 - val_loss: 0.8486 - val_mean_absolute_error: 0.8486\n",
      "Epoch 15/200\n",
      "4/4 [==============================] - 0s 24ms/step - loss: 0.8312 - mean_absolute_error: 0.8312 - val_loss: 0.8481 - val_mean_absolute_error: 0.8481\n",
      "Epoch 16/200\n",
      "4/4 [==============================] - 0s 24ms/step - loss: 0.7988 - mean_absolute_error: 0.7988 - val_loss: 0.8477 - val_mean_absolute_error: 0.8477\n",
      "Epoch 17/200\n",
      "4/4 [==============================] - 0s 26ms/step - loss: 0.7986 - mean_absolute_error: 0.7986 - val_loss: 0.8473 - val_mean_absolute_error: 0.8473\n",
      "Epoch 18/200\n",
      "4/4 [==============================] - 0s 26ms/step - loss: 0.8065 - mean_absolute_error: 0.8065 - val_loss: 0.8468 - val_mean_absolute_error: 0.8468\n",
      "Epoch 19/200\n",
      "4/4 [==============================] - 0s 26ms/step - loss: 0.8034 - mean_absolute_error: 0.8034 - val_loss: 0.8462 - val_mean_absolute_error: 0.8462\n",
      "Epoch 20/200\n",
      "4/4 [==============================] - 0s 25ms/step - loss: 0.8268 - mean_absolute_error: 0.8268 - val_loss: 0.8455 - val_mean_absolute_error: 0.8455\n",
      "Epoch 21/200\n",
      "4/4 [==============================] - 0s 26ms/step - loss: 0.7949 - mean_absolute_error: 0.7949 - val_loss: 0.8446 - val_mean_absolute_error: 0.8446\n",
      "Epoch 22/200\n",
      "4/4 [==============================] - 0s 27ms/step - loss: 0.7660 - mean_absolute_error: 0.7660 - val_loss: 0.8437 - val_mean_absolute_error: 0.8437\n",
      "Epoch 23/200\n",
      "4/4 [==============================] - 0s 25ms/step - loss: 0.7590 - mean_absolute_error: 0.7590 - val_loss: 0.8427 - val_mean_absolute_error: 0.8427\n",
      "Epoch 24/200\n",
      "4/4 [==============================] - 0s 26ms/step - loss: 0.7987 - mean_absolute_error: 0.7987 - val_loss: 0.8418 - val_mean_absolute_error: 0.8418\n",
      "Epoch 25/200\n",
      "4/4 [==============================] - 0s 26ms/step - loss: 0.7736 - mean_absolute_error: 0.7736 - val_loss: 0.8412 - val_mean_absolute_error: 0.8412\n",
      "Epoch 26/200\n",
      "4/4 [==============================] - 0s 25ms/step - loss: 0.7622 - mean_absolute_error: 0.7622 - val_loss: 0.8407 - val_mean_absolute_error: 0.8407\n",
      "Epoch 27/200\n",
      "4/4 [==============================] - 0s 25ms/step - loss: 0.7378 - mean_absolute_error: 0.7378 - val_loss: 0.8399 - val_mean_absolute_error: 0.8399\n",
      "Epoch 28/200\n",
      "4/4 [==============================] - 0s 24ms/step - loss: 0.7566 - mean_absolute_error: 0.7566 - val_loss: 0.8389 - val_mean_absolute_error: 0.8389\n",
      "Epoch 29/200\n",
      "4/4 [==============================] - 0s 26ms/step - loss: 0.7243 - mean_absolute_error: 0.7243 - val_loss: 0.8378 - val_mean_absolute_error: 0.8378\n",
      "Epoch 30/200\n",
      "4/4 [==============================] - 0s 24ms/step - loss: 0.7410 - mean_absolute_error: 0.7410 - val_loss: 0.8366 - val_mean_absolute_error: 0.8366\n",
      "Epoch 31/200\n",
      "4/4 [==============================] - 0s 25ms/step - loss: 0.7279 - mean_absolute_error: 0.7279 - val_loss: 0.8353 - val_mean_absolute_error: 0.8353\n",
      "Epoch 32/200\n",
      "4/4 [==============================] - 0s 26ms/step - loss: 0.7229 - mean_absolute_error: 0.7229 - val_loss: 0.8339 - val_mean_absolute_error: 0.8339\n",
      "Epoch 33/200\n",
      "4/4 [==============================] - 0s 25ms/step - loss: 0.7279 - mean_absolute_error: 0.7279 - val_loss: 0.8323 - val_mean_absolute_error: 0.8323\n",
      "Epoch 34/200\n",
      "4/4 [==============================] - 0s 25ms/step - loss: 0.6949 - mean_absolute_error: 0.6949 - val_loss: 0.8306 - val_mean_absolute_error: 0.8306\n",
      "Epoch 35/200\n",
      "4/4 [==============================] - 0s 25ms/step - loss: 0.7021 - mean_absolute_error: 0.7021 - val_loss: 0.8296 - val_mean_absolute_error: 0.8296\n",
      "Epoch 36/200\n",
      "4/4 [==============================] - 0s 24ms/step - loss: 0.6884 - mean_absolute_error: 0.6884 - val_loss: 0.8284 - val_mean_absolute_error: 0.8284\n",
      "Epoch 37/200\n",
      "4/4 [==============================] - 0s 24ms/step - loss: 0.6809 - mean_absolute_error: 0.6809 - val_loss: 0.8269 - val_mean_absolute_error: 0.8269\n",
      "Epoch 38/200\n",
      "4/4 [==============================] - 0s 25ms/step - loss: 0.7172 - mean_absolute_error: 0.7172 - val_loss: 0.8251 - val_mean_absolute_error: 0.8251\n",
      "Epoch 39/200\n",
      "4/4 [==============================] - 0s 24ms/step - loss: 0.7272 - mean_absolute_error: 0.7272 - val_loss: 0.8231 - val_mean_absolute_error: 0.8231\n",
      "Epoch 40/200\n",
      "4/4 [==============================] - 0s 26ms/step - loss: 0.6805 - mean_absolute_error: 0.6805 - val_loss: 0.8212 - val_mean_absolute_error: 0.8212\n",
      "Epoch 41/200\n",
      "4/4 [==============================] - 0s 26ms/step - loss: 0.6909 - mean_absolute_error: 0.6909 - val_loss: 0.8195 - val_mean_absolute_error: 0.8195\n",
      "Epoch 42/200\n",
      "4/4 [==============================] - 0s 26ms/step - loss: 0.6747 - mean_absolute_error: 0.6747 - val_loss: 0.8182 - val_mean_absolute_error: 0.8182\n",
      "Epoch 43/200\n",
      "4/4 [==============================] - 0s 25ms/step - loss: 0.6767 - mean_absolute_error: 0.6767 - val_loss: 0.8168 - val_mean_absolute_error: 0.8168\n",
      "Epoch 44/200\n",
      "4/4 [==============================] - 0s 26ms/step - loss: 0.6959 - mean_absolute_error: 0.6959 - val_loss: 0.8152 - val_mean_absolute_error: 0.8152\n",
      "Epoch 45/200\n",
      "4/4 [==============================] - 0s 27ms/step - loss: 0.6411 - mean_absolute_error: 0.6411 - val_loss: 0.8131 - val_mean_absolute_error: 0.8131\n",
      "Epoch 46/200\n",
      "4/4 [==============================] - 0s 26ms/step - loss: 0.6641 - mean_absolute_error: 0.6641 - val_loss: 0.8113 - val_mean_absolute_error: 0.8113\n",
      "Epoch 47/200\n",
      "4/4 [==============================] - 0s 25ms/step - loss: 0.6766 - mean_absolute_error: 0.6766 - val_loss: 0.8099 - val_mean_absolute_error: 0.8099\n",
      "Epoch 48/200\n",
      "4/4 [==============================] - 0s 28ms/step - loss: 0.6848 - mean_absolute_error: 0.6848 - val_loss: 0.8085 - val_mean_absolute_error: 0.8085\n",
      "Epoch 49/200\n",
      "4/4 [==============================] - 0s 25ms/step - loss: 0.6761 - mean_absolute_error: 0.6761 - val_loss: 0.8070 - val_mean_absolute_error: 0.8070\n",
      "Epoch 50/200\n",
      "4/4 [==============================] - 0s 25ms/step - loss: 0.6658 - mean_absolute_error: 0.6658 - val_loss: 0.8052 - val_mean_absolute_error: 0.8052\n",
      "Epoch 51/200\n",
      "4/4 [==============================] - 0s 25ms/step - loss: 0.6658 - mean_absolute_error: 0.6658 - val_loss: 0.8029 - val_mean_absolute_error: 0.8029\n",
      "Epoch 52/200\n",
      "4/4 [==============================] - 0s 24ms/step - loss: 0.6500 - mean_absolute_error: 0.6500 - val_loss: 0.7996 - val_mean_absolute_error: 0.7996\n",
      "Epoch 53/200\n",
      "4/4 [==============================] - 0s 27ms/step - loss: 0.6548 - mean_absolute_error: 0.6548 - val_loss: 0.7962 - val_mean_absolute_error: 0.7962\n",
      "Epoch 54/200\n",
      "4/4 [==============================] - 0s 27ms/step - loss: 0.6924 - mean_absolute_error: 0.6924 - val_loss: 0.7940 - val_mean_absolute_error: 0.7940\n",
      "Epoch 55/200\n",
      "4/4 [==============================] - 0s 26ms/step - loss: 0.6522 - mean_absolute_error: 0.6522 - val_loss: 0.7918 - val_mean_absolute_error: 0.7918\n",
      "Epoch 56/200\n",
      "4/4 [==============================] - 0s 25ms/step - loss: 0.6370 - mean_absolute_error: 0.6370 - val_loss: 0.7891 - val_mean_absolute_error: 0.7891\n",
      "Epoch 57/200\n",
      "4/4 [==============================] - 0s 25ms/step - loss: 0.6413 - mean_absolute_error: 0.6413 - val_loss: 0.7868 - val_mean_absolute_error: 0.7868\n",
      "Epoch 58/200\n",
      "4/4 [==============================] - 0s 26ms/step - loss: 0.6186 - mean_absolute_error: 0.6186 - val_loss: 0.7848 - val_mean_absolute_error: 0.7848\n",
      "Epoch 59/200\n",
      "4/4 [==============================] - 0s 25ms/step - loss: 0.6018 - mean_absolute_error: 0.6018 - val_loss: 0.7825 - val_mean_absolute_error: 0.7825\n",
      "Epoch 60/200\n",
      "4/4 [==============================] - 0s 25ms/step - loss: 0.6489 - mean_absolute_error: 0.6489 - val_loss: 0.7811 - val_mean_absolute_error: 0.7811\n",
      "Epoch 61/200\n",
      "4/4 [==============================] - 0s 25ms/step - loss: 0.6292 - mean_absolute_error: 0.6292 - val_loss: 0.7794 - val_mean_absolute_error: 0.7794\n",
      "Epoch 62/200\n",
      "4/4 [==============================] - 0s 26ms/step - loss: 0.6129 - mean_absolute_error: 0.6129 - val_loss: 0.7774 - val_mean_absolute_error: 0.7774\n",
      "Epoch 63/200\n",
      "4/4 [==============================] - 0s 26ms/step - loss: 0.6264 - mean_absolute_error: 0.6264 - val_loss: 0.7754 - val_mean_absolute_error: 0.7754\n",
      "Epoch 64/200\n",
      "4/4 [==============================] - 0s 26ms/step - loss: 0.6199 - mean_absolute_error: 0.6199 - val_loss: 0.7735 - val_mean_absolute_error: 0.7735\n",
      "Epoch 65/200\n",
      "4/4 [==============================] - 0s 26ms/step - loss: 0.6395 - mean_absolute_error: 0.6395 - val_loss: 0.7711 - val_mean_absolute_error: 0.7711\n",
      "Epoch 66/200\n",
      "4/4 [==============================] - 0s 26ms/step - loss: 0.6068 - mean_absolute_error: 0.6068 - val_loss: 0.7686 - val_mean_absolute_error: 0.7686\n",
      "Epoch 67/200\n",
      "4/4 [==============================] - 0s 26ms/step - loss: 0.6228 - mean_absolute_error: 0.6228 - val_loss: 0.7659 - val_mean_absolute_error: 0.7659\n",
      "Epoch 68/200\n",
      "4/4 [==============================] - 0s 25ms/step - loss: 0.6121 - mean_absolute_error: 0.6121 - val_loss: 0.7633 - val_mean_absolute_error: 0.7633\n",
      "Epoch 69/200\n",
      "4/4 [==============================] - 0s 26ms/step - loss: 0.6250 - mean_absolute_error: 0.6250 - val_loss: 0.7599 - val_mean_absolute_error: 0.7599\n",
      "Epoch 70/200\n",
      "4/4 [==============================] - 0s 26ms/step - loss: 0.6343 - mean_absolute_error: 0.6343 - val_loss: 0.7564 - val_mean_absolute_error: 0.7564\n",
      "Epoch 71/200\n",
      "4/4 [==============================] - 0s 25ms/step - loss: 0.6217 - mean_absolute_error: 0.6217 - val_loss: 0.7526 - val_mean_absolute_error: 0.7526\n",
      "Epoch 72/200\n",
      "4/4 [==============================] - 0s 26ms/step - loss: 0.6069 - mean_absolute_error: 0.6069 - val_loss: 0.7488 - val_mean_absolute_error: 0.7488\n",
      "Epoch 73/200\n",
      "4/4 [==============================] - 0s 25ms/step - loss: 0.6071 - mean_absolute_error: 0.6071 - val_loss: 0.7455 - val_mean_absolute_error: 0.7455\n",
      "Epoch 74/200\n",
      "4/4 [==============================] - 0s 25ms/step - loss: 0.6284 - mean_absolute_error: 0.6284 - val_loss: 0.7432 - val_mean_absolute_error: 0.7432\n",
      "Epoch 75/200\n",
      "4/4 [==============================] - 0s 27ms/step - loss: 0.5907 - mean_absolute_error: 0.5907 - val_loss: 0.7411 - val_mean_absolute_error: 0.7411\n",
      "Epoch 76/200\n",
      "4/4 [==============================] - 0s 27ms/step - loss: 0.5985 - mean_absolute_error: 0.5985 - val_loss: 0.7388 - val_mean_absolute_error: 0.7388\n",
      "Epoch 77/200\n",
      "4/4 [==============================] - 0s 27ms/step - loss: 0.6282 - mean_absolute_error: 0.6282 - val_loss: 0.7368 - val_mean_absolute_error: 0.7368\n",
      "Epoch 78/200\n",
      "4/4 [==============================] - 0s 26ms/step - loss: 0.6281 - mean_absolute_error: 0.6281 - val_loss: 0.7356 - val_mean_absolute_error: 0.7356\n",
      "Epoch 79/200\n",
      "4/4 [==============================] - 0s 26ms/step - loss: 0.5859 - mean_absolute_error: 0.5859 - val_loss: 0.7340 - val_mean_absolute_error: 0.7340\n",
      "Epoch 80/200\n",
      "4/4 [==============================] - 0s 26ms/step - loss: 0.6043 - mean_absolute_error: 0.6043 - val_loss: 0.7338 - val_mean_absolute_error: 0.7338\n",
      "Epoch 81/200\n",
      "4/4 [==============================] - 0s 26ms/step - loss: 0.5924 - mean_absolute_error: 0.5924 - val_loss: 0.7345 - val_mean_absolute_error: 0.7345\n",
      "Epoch 82/200\n",
      "4/4 [==============================] - 0s 26ms/step - loss: 0.5681 - mean_absolute_error: 0.5681 - val_loss: 0.7337 - val_mean_absolute_error: 0.7337\n",
      "Epoch 83/200\n",
      "4/4 [==============================] - 0s 26ms/step - loss: 0.5522 - mean_absolute_error: 0.5522 - val_loss: 0.7301 - val_mean_absolute_error: 0.7301\n",
      "Epoch 84/200\n",
      "4/4 [==============================] - 0s 25ms/step - loss: 0.5877 - mean_absolute_error: 0.5877 - val_loss: 0.7273 - val_mean_absolute_error: 0.7273\n",
      "Epoch 85/200\n",
      "4/4 [==============================] - 0s 26ms/step - loss: 0.5818 - mean_absolute_error: 0.5818 - val_loss: 0.7260 - val_mean_absolute_error: 0.7260\n",
      "Epoch 86/200\n",
      "4/4 [==============================] - 0s 26ms/step - loss: 0.5892 - mean_absolute_error: 0.5892 - val_loss: 0.7241 - val_mean_absolute_error: 0.7241\n",
      "Epoch 87/200\n",
      "4/4 [==============================] - 0s 26ms/step - loss: 0.5814 - mean_absolute_error: 0.5814 - val_loss: 0.7220 - val_mean_absolute_error: 0.7220\n",
      "Epoch 88/200\n",
      "4/4 [==============================] - 0s 26ms/step - loss: 0.5942 - mean_absolute_error: 0.5942 - val_loss: 0.7186 - val_mean_absolute_error: 0.7186\n",
      "Epoch 89/200\n",
      "4/4 [==============================] - 0s 26ms/step - loss: 0.6365 - mean_absolute_error: 0.6365 - val_loss: 0.7162 - val_mean_absolute_error: 0.7162\n",
      "Epoch 90/200\n",
      "4/4 [==============================] - 0s 26ms/step - loss: 0.5876 - mean_absolute_error: 0.5876 - val_loss: 0.7135 - val_mean_absolute_error: 0.7135\n",
      "Epoch 91/200\n",
      "4/4 [==============================] - 0s 26ms/step - loss: 0.5618 - mean_absolute_error: 0.5618 - val_loss: 0.7103 - val_mean_absolute_error: 0.7103\n",
      "Epoch 92/200\n",
      "4/4 [==============================] - 0s 25ms/step - loss: 0.5809 - mean_absolute_error: 0.5809 - val_loss: 0.7077 - val_mean_absolute_error: 0.7077\n",
      "Epoch 93/200\n",
      "4/4 [==============================] - 0s 26ms/step - loss: 0.5591 - mean_absolute_error: 0.5591 - val_loss: 0.7077 - val_mean_absolute_error: 0.7077\n",
      "Epoch 94/200\n",
      "4/4 [==============================] - 0s 25ms/step - loss: 0.5524 - mean_absolute_error: 0.5524 - val_loss: 0.7085 - val_mean_absolute_error: 0.7085\n",
      "Epoch 95/200\n",
      "4/4 [==============================] - 0s 26ms/step - loss: 0.5677 - mean_absolute_error: 0.5677 - val_loss: 0.7098 - val_mean_absolute_error: 0.7098\n",
      "Epoch 96/200\n",
      "4/4 [==============================] - 0s 25ms/step - loss: 0.5602 - mean_absolute_error: 0.5602 - val_loss: 0.7121 - val_mean_absolute_error: 0.7121\n",
      "Epoch 97/200\n",
      "4/4 [==============================] - 0s 24ms/step - loss: 0.5659 - mean_absolute_error: 0.5659 - val_loss: 0.7070 - val_mean_absolute_error: 0.7070\n",
      "Epoch 98/200\n",
      "4/4 [==============================] - 0s 24ms/step - loss: 0.5635 - mean_absolute_error: 0.5635 - val_loss: 0.6990 - val_mean_absolute_error: 0.6990\n",
      "Epoch 99/200\n",
      "4/4 [==============================] - 0s 25ms/step - loss: 0.5713 - mean_absolute_error: 0.5713 - val_loss: 0.6939 - val_mean_absolute_error: 0.6939\n",
      "Epoch 100/200\n",
      "4/4 [==============================] - 0s 25ms/step - loss: 0.5511 - mean_absolute_error: 0.5511 - val_loss: 0.6939 - val_mean_absolute_error: 0.6939\n",
      "Epoch 101/200\n",
      "4/4 [==============================] - 0s 25ms/step - loss: 0.5900 - mean_absolute_error: 0.5900 - val_loss: 0.6926 - val_mean_absolute_error: 0.6926\n",
      "Epoch 102/200\n",
      "4/4 [==============================] - 0s 25ms/step - loss: 0.5535 - mean_absolute_error: 0.5535 - val_loss: 0.6909 - val_mean_absolute_error: 0.6909\n",
      "Epoch 103/200\n",
      "4/4 [==============================] - 0s 25ms/step - loss: 0.5725 - mean_absolute_error: 0.5725 - val_loss: 0.6917 - val_mean_absolute_error: 0.6917\n",
      "Epoch 104/200\n",
      "4/4 [==============================] - 0s 24ms/step - loss: 0.5563 - mean_absolute_error: 0.5563 - val_loss: 0.6915 - val_mean_absolute_error: 0.6915\n",
      "Epoch 105/200\n",
      "4/4 [==============================] - 0s 26ms/step - loss: 0.5610 - mean_absolute_error: 0.5610 - val_loss: 0.6921 - val_mean_absolute_error: 0.6921\n",
      "Epoch 106/200\n",
      "4/4 [==============================] - 0s 25ms/step - loss: 0.5653 - mean_absolute_error: 0.5653 - val_loss: 0.6932 - val_mean_absolute_error: 0.6932\n",
      "Epoch 107/200\n",
      "4/4 [==============================] - 0s 25ms/step - loss: 0.5417 - mean_absolute_error: 0.5417 - val_loss: 0.6931 - val_mean_absolute_error: 0.6931\n",
      "Epoch 108/200\n",
      "4/4 [==============================] - 0s 23ms/step - loss: 0.5653 - mean_absolute_error: 0.5653 - val_loss: 0.6895 - val_mean_absolute_error: 0.6895\n",
      "Epoch 109/200\n",
      "4/4 [==============================] - 0s 23ms/step - loss: 0.5717 - mean_absolute_error: 0.5717 - val_loss: 0.6853 - val_mean_absolute_error: 0.6853\n",
      "Epoch 110/200\n",
      "4/4 [==============================] - 0s 23ms/step - loss: 0.5341 - mean_absolute_error: 0.5341 - val_loss: 0.6823 - val_mean_absolute_error: 0.6823\n",
      "Epoch 111/200\n",
      "4/4 [==============================] - 0s 25ms/step - loss: 0.5725 - mean_absolute_error: 0.5725 - val_loss: 0.6808 - val_mean_absolute_error: 0.6808\n",
      "Epoch 112/200\n",
      "4/4 [==============================] - 0s 23ms/step - loss: 0.5470 - mean_absolute_error: 0.5470 - val_loss: 0.6798 - val_mean_absolute_error: 0.6798\n",
      "Epoch 113/200\n",
      "4/4 [==============================] - 0s 25ms/step - loss: 0.5553 - mean_absolute_error: 0.5553 - val_loss: 0.6828 - val_mean_absolute_error: 0.6828\n",
      "Epoch 114/200\n",
      "4/4 [==============================] - 0s 24ms/step - loss: 0.5400 - mean_absolute_error: 0.5400 - val_loss: 0.6982 - val_mean_absolute_error: 0.6982\n",
      "Epoch 115/200\n",
      "4/4 [==============================] - 0s 25ms/step - loss: 0.5625 - mean_absolute_error: 0.5625 - val_loss: 0.7148 - val_mean_absolute_error: 0.7148\n",
      "Epoch 116/200\n",
      "4/4 [==============================] - 0s 24ms/step - loss: 0.5615 - mean_absolute_error: 0.5615 - val_loss: 0.7200 - val_mean_absolute_error: 0.7200\n",
      "Epoch 117/200\n",
      "4/4 [==============================] - 0s 24ms/step - loss: 0.5315 - mean_absolute_error: 0.5315 - val_loss: 0.7127 - val_mean_absolute_error: 0.7127\n",
      "Epoch 118/200\n",
      "4/4 [==============================] - 0s 25ms/step - loss: 0.5208 - mean_absolute_error: 0.5208 - val_loss: 0.6995 - val_mean_absolute_error: 0.6995\n",
      "Epoch 119/200\n",
      "4/4 [==============================] - 0s 23ms/step - loss: 0.5544 - mean_absolute_error: 0.5544 - val_loss: 0.6832 - val_mean_absolute_error: 0.6832\n",
      "Epoch 120/200\n",
      "4/4 [==============================] - 0s 24ms/step - loss: 0.5562 - mean_absolute_error: 0.5562 - val_loss: 0.6713 - val_mean_absolute_error: 0.6713\n",
      "Epoch 121/200\n",
      "4/4 [==============================] - 0s 25ms/step - loss: 0.5640 - mean_absolute_error: 0.5640 - val_loss: 0.6698 - val_mean_absolute_error: 0.6698\n",
      "Epoch 122/200\n",
      "4/4 [==============================] - 0s 24ms/step - loss: 0.5468 - mean_absolute_error: 0.5468 - val_loss: 0.6744 - val_mean_absolute_error: 0.6744\n",
      "Epoch 123/200\n",
      "4/4 [==============================] - 0s 25ms/step - loss: 0.5460 - mean_absolute_error: 0.5460 - val_loss: 0.6791 - val_mean_absolute_error: 0.6791\n",
      "Epoch 124/200\n",
      "4/4 [==============================] - 0s 24ms/step - loss: 0.5466 - mean_absolute_error: 0.5466 - val_loss: 0.6899 - val_mean_absolute_error: 0.6899\n",
      "Epoch 125/200\n",
      "4/4 [==============================] - 0s 24ms/step - loss: 0.5477 - mean_absolute_error: 0.5477 - val_loss: 0.6835 - val_mean_absolute_error: 0.6835\n",
      "Epoch 126/200\n",
      "4/4 [==============================] - 0s 25ms/step - loss: 0.5351 - mean_absolute_error: 0.5351 - val_loss: 0.6872 - val_mean_absolute_error: 0.6872\n",
      "Epoch 127/200\n",
      "4/4 [==============================] - 0s 24ms/step - loss: 0.5702 - mean_absolute_error: 0.5702 - val_loss: 0.6957 - val_mean_absolute_error: 0.6957\n",
      "Epoch 128/200\n",
      "4/4 [==============================] - 0s 25ms/step - loss: 0.5304 - mean_absolute_error: 0.5304 - val_loss: 0.6983 - val_mean_absolute_error: 0.6983\n",
      "Epoch 129/200\n",
      "4/4 [==============================] - 0s 24ms/step - loss: 0.5240 - mean_absolute_error: 0.5240 - val_loss: 0.6890 - val_mean_absolute_error: 0.6890\n",
      "Epoch 130/200\n",
      "4/4 [==============================] - 0s 24ms/step - loss: 0.5414 - mean_absolute_error: 0.5414 - val_loss: 0.6786 - val_mean_absolute_error: 0.6786\n",
      "Epoch 131/200\n",
      "4/4 [==============================] - 0s 25ms/step - loss: 0.5167 - mean_absolute_error: 0.5167 - val_loss: 0.6736 - val_mean_absolute_error: 0.6736\n",
      "Epoch 132/200\n",
      "4/4 [==============================] - 0s 25ms/step - loss: 0.5197 - mean_absolute_error: 0.5197 - val_loss: 0.6733 - val_mean_absolute_error: 0.6733\n",
      "Epoch 133/200\n",
      "4/4 [==============================] - 0s 26ms/step - loss: 0.5223 - mean_absolute_error: 0.5223 - val_loss: 0.6724 - val_mean_absolute_error: 0.6724\n",
      "Epoch 134/200\n",
      "4/4 [==============================] - 0s 24ms/step - loss: 0.5339 - mean_absolute_error: 0.5339 - val_loss: 0.6712 - val_mean_absolute_error: 0.6712\n",
      "Epoch 135/200\n",
      "4/4 [==============================] - 0s 25ms/step - loss: 0.5486 - mean_absolute_error: 0.5486 - val_loss: 0.6773 - val_mean_absolute_error: 0.6773\n",
      "Epoch 136/200\n",
      "4/4 [==============================] - 0s 31ms/step - loss: 0.5248 - mean_absolute_error: 0.5248 - val_loss: 0.6910 - val_mean_absolute_error: 0.6910\n",
      "Epoch 137/200\n",
      "4/4 [==============================] - 0s 25ms/step - loss: 0.5291 - mean_absolute_error: 0.5291 - val_loss: 0.7042 - val_mean_absolute_error: 0.7042\n",
      "Epoch 138/200\n",
      "4/4 [==============================] - 0s 24ms/step - loss: 0.5286 - mean_absolute_error: 0.5286 - val_loss: 0.7050 - val_mean_absolute_error: 0.7050\n",
      "Epoch 139/200\n",
      "4/4 [==============================] - 0s 24ms/step - loss: 0.5243 - mean_absolute_error: 0.5243 - val_loss: 0.6979 - val_mean_absolute_error: 0.6979\n",
      "Epoch 140/200\n",
      "4/4 [==============================] - 0s 24ms/step - loss: 0.5150 - mean_absolute_error: 0.5150 - val_loss: 0.7051 - val_mean_absolute_error: 0.7051\n",
      "Epoch 141/200\n",
      "4/4 [==============================] - 0s 24ms/step - loss: 0.5173 - mean_absolute_error: 0.5173 - val_loss: 0.7167 - val_mean_absolute_error: 0.7167\n",
      "Epoch 142/200\n",
      "4/4 [==============================] - 0s 24ms/step - loss: 0.5406 - mean_absolute_error: 0.5406 - val_loss: 0.7274 - val_mean_absolute_error: 0.7274\n",
      "Epoch 143/200\n",
      "4/4 [==============================] - 0s 24ms/step - loss: 0.5209 - mean_absolute_error: 0.5209 - val_loss: 0.7409 - val_mean_absolute_error: 0.7409\n",
      "Epoch 144/200\n",
      "4/4 [==============================] - 0s 24ms/step - loss: 0.5135 - mean_absolute_error: 0.5135 - val_loss: 0.7543 - val_mean_absolute_error: 0.7543\n",
      "Epoch 145/200\n",
      "4/4 [==============================] - 0s 26ms/step - loss: 0.5256 - mean_absolute_error: 0.5256 - val_loss: 0.7542 - val_mean_absolute_error: 0.7542\n",
      "Epoch 146/200\n",
      "4/4 [==============================] - 0s 25ms/step - loss: 0.5396 - mean_absolute_error: 0.5396 - val_loss: 0.7581 - val_mean_absolute_error: 0.7581\n",
      "Epoch 147/200\n",
      "4/4 [==============================] - 0s 25ms/step - loss: 0.5528 - mean_absolute_error: 0.5528 - val_loss: 0.7512 - val_mean_absolute_error: 0.7512\n",
      "Epoch 148/200\n",
      "4/4 [==============================] - 0s 26ms/step - loss: 0.5025 - mean_absolute_error: 0.5025 - val_loss: 0.7199 - val_mean_absolute_error: 0.7199\n",
      "Epoch 149/200\n",
      "4/4 [==============================] - 0s 25ms/step - loss: 0.5197 - mean_absolute_error: 0.5197 - val_loss: 0.6841 - val_mean_absolute_error: 0.6841\n",
      "Epoch 150/200\n",
      "4/4 [==============================] - 0s 25ms/step - loss: 0.5108 - mean_absolute_error: 0.5108 - val_loss: 0.6638 - val_mean_absolute_error: 0.6638\n",
      "Epoch 151/200\n",
      "4/4 [==============================] - 0s 26ms/step - loss: 0.5225 - mean_absolute_error: 0.5225 - val_loss: 0.6532 - val_mean_absolute_error: 0.6532\n",
      "Epoch 152/200\n",
      "4/4 [==============================] - 0s 25ms/step - loss: 0.5056 - mean_absolute_error: 0.5056 - val_loss: 0.6547 - val_mean_absolute_error: 0.6547\n",
      "Epoch 153/200\n",
      "4/4 [==============================] - 0s 27ms/step - loss: 0.5172 - mean_absolute_error: 0.5172 - val_loss: 0.6442 - val_mean_absolute_error: 0.6442\n",
      "Epoch 154/200\n",
      "4/4 [==============================] - 0s 24ms/step - loss: 0.5348 - mean_absolute_error: 0.5348 - val_loss: 0.6414 - val_mean_absolute_error: 0.6414\n",
      "Epoch 155/200\n",
      "4/4 [==============================] - 0s 25ms/step - loss: 0.4976 - mean_absolute_error: 0.4976 - val_loss: 0.6422 - val_mean_absolute_error: 0.6422\n",
      "Epoch 156/200\n",
      "4/4 [==============================] - 0s 25ms/step - loss: 0.5175 - mean_absolute_error: 0.5175 - val_loss: 0.6492 - val_mean_absolute_error: 0.6492\n",
      "Epoch 157/200\n",
      "4/4 [==============================] - 0s 27ms/step - loss: 0.5093 - mean_absolute_error: 0.5093 - val_loss: 0.6699 - val_mean_absolute_error: 0.6699\n",
      "Epoch 158/200\n",
      "4/4 [==============================] - 0s 26ms/step - loss: 0.5585 - mean_absolute_error: 0.5585 - val_loss: 0.6773 - val_mean_absolute_error: 0.6773\n",
      "Epoch 159/200\n",
      "4/4 [==============================] - 0s 25ms/step - loss: 0.5186 - mean_absolute_error: 0.5186 - val_loss: 0.6678 - val_mean_absolute_error: 0.6678\n",
      "Epoch 160/200\n",
      "4/4 [==============================] - 0s 24ms/step - loss: 0.5361 - mean_absolute_error: 0.5361 - val_loss: 0.6571 - val_mean_absolute_error: 0.6571\n",
      "Epoch 161/200\n",
      "4/4 [==============================] - 0s 25ms/step - loss: 0.5106 - mean_absolute_error: 0.5106 - val_loss: 0.6451 - val_mean_absolute_error: 0.6451\n",
      "Epoch 162/200\n",
      "4/4 [==============================] - 0s 24ms/step - loss: 0.5222 - mean_absolute_error: 0.5222 - val_loss: 0.6459 - val_mean_absolute_error: 0.6459\n",
      "Epoch 163/200\n",
      "4/4 [==============================] - 0s 25ms/step - loss: 0.4910 - mean_absolute_error: 0.4910 - val_loss: 0.6562 - val_mean_absolute_error: 0.6562\n",
      "Epoch 164/200\n",
      "4/4 [==============================] - 0s 25ms/step - loss: 0.5481 - mean_absolute_error: 0.5481 - val_loss: 0.6715 - val_mean_absolute_error: 0.6715\n",
      "Epoch 165/200\n",
      "4/4 [==============================] - 0s 24ms/step - loss: 0.5045 - mean_absolute_error: 0.5045 - val_loss: 0.6744 - val_mean_absolute_error: 0.6744\n",
      "Epoch 166/200\n",
      "4/4 [==============================] - 0s 25ms/step - loss: 0.4865 - mean_absolute_error: 0.4865 - val_loss: 0.6658 - val_mean_absolute_error: 0.6658\n",
      "Epoch 167/200\n",
      "4/4 [==============================] - 0s 24ms/step - loss: 0.5041 - mean_absolute_error: 0.5041 - val_loss: 0.6575 - val_mean_absolute_error: 0.6575\n",
      "Epoch 168/200\n",
      "4/4 [==============================] - 0s 25ms/step - loss: 0.4976 - mean_absolute_error: 0.4976 - val_loss: 0.6429 - val_mean_absolute_error: 0.6429\n",
      "Epoch 169/200\n",
      "4/4 [==============================] - 0s 24ms/step - loss: 0.4719 - mean_absolute_error: 0.4719 - val_loss: 0.6436 - val_mean_absolute_error: 0.6436\n",
      "Epoch 170/200\n",
      "4/4 [==============================] - 0s 26ms/step - loss: 0.5250 - mean_absolute_error: 0.5250 - val_loss: 0.6529 - val_mean_absolute_error: 0.6529\n",
      "Epoch 171/200\n",
      "4/4 [==============================] - 0s 25ms/step - loss: 0.5174 - mean_absolute_error: 0.5174 - val_loss: 0.6611 - val_mean_absolute_error: 0.6611\n",
      "Epoch 172/200\n",
      "4/4 [==============================] - 0s 25ms/step - loss: 0.4994 - mean_absolute_error: 0.4994 - val_loss: 0.6861 - val_mean_absolute_error: 0.6861\n",
      "Epoch 173/200\n",
      "4/4 [==============================] - 0s 25ms/step - loss: 0.4918 - mean_absolute_error: 0.4918 - val_loss: 0.6999 - val_mean_absolute_error: 0.6999\n",
      "Epoch 174/200\n",
      "4/4 [==============================] - 0s 26ms/step - loss: 0.4887 - mean_absolute_error: 0.4887 - val_loss: 0.7106 - val_mean_absolute_error: 0.7106\n",
      "Epoch 175/200\n",
      "4/4 [==============================] - 0s 25ms/step - loss: 0.4997 - mean_absolute_error: 0.4997 - val_loss: 0.7112 - val_mean_absolute_error: 0.7112\n",
      "Epoch 176/200\n",
      "4/4 [==============================] - 0s 26ms/step - loss: 0.4887 - mean_absolute_error: 0.4887 - val_loss: 0.6995 - val_mean_absolute_error: 0.6995\n",
      "Epoch 177/200\n",
      "4/4 [==============================] - 0s 24ms/step - loss: 0.4956 - mean_absolute_error: 0.4956 - val_loss: 0.6792 - val_mean_absolute_error: 0.6792\n",
      "Epoch 178/200\n",
      "4/4 [==============================] - 0s 25ms/step - loss: 0.4755 - mean_absolute_error: 0.4755 - val_loss: 0.6818 - val_mean_absolute_error: 0.6818\n",
      "Epoch 179/200\n",
      "4/4 [==============================] - 0s 24ms/step - loss: 0.4987 - mean_absolute_error: 0.4987 - val_loss: 0.6904 - val_mean_absolute_error: 0.6904\n",
      "Epoch 180/200\n",
      "4/4 [==============================] - 0s 25ms/step - loss: 0.4536 - mean_absolute_error: 0.4536 - val_loss: 0.7104 - val_mean_absolute_error: 0.7104\n",
      "Epoch 181/200\n",
      "4/4 [==============================] - 0s 24ms/step - loss: 0.4853 - mean_absolute_error: 0.4853 - val_loss: 0.7340 - val_mean_absolute_error: 0.7340\n",
      "Epoch 182/200\n",
      "4/4 [==============================] - 0s 24ms/step - loss: 0.4989 - mean_absolute_error: 0.4989 - val_loss: 0.7385 - val_mean_absolute_error: 0.7385\n",
      "Epoch 183/200\n",
      "4/4 [==============================] - 0s 25ms/step - loss: 0.4847 - mean_absolute_error: 0.4847 - val_loss: 0.7452 - val_mean_absolute_error: 0.7452\n",
      "Epoch 184/200\n",
      "4/4 [==============================] - 0s 25ms/step - loss: 0.4939 - mean_absolute_error: 0.4939 - val_loss: 0.7587 - val_mean_absolute_error: 0.7587\n",
      "Epoch 185/200\n",
      "4/4 [==============================] - 0s 26ms/step - loss: 0.4743 - mean_absolute_error: 0.4743 - val_loss: 0.7667 - val_mean_absolute_error: 0.7667\n",
      "Epoch 186/200\n",
      "4/4 [==============================] - 0s 27ms/step - loss: 0.4702 - mean_absolute_error: 0.4702 - val_loss: 0.7451 - val_mean_absolute_error: 0.7451\n",
      "Epoch 187/200\n",
      "4/4 [==============================] - 0s 24ms/step - loss: 0.5129 - mean_absolute_error: 0.5129 - val_loss: 0.7258 - val_mean_absolute_error: 0.7258\n",
      "Epoch 188/200\n",
      "4/4 [==============================] - 0s 23ms/step - loss: 0.4895 - mean_absolute_error: 0.4895 - val_loss: 0.7263 - val_mean_absolute_error: 0.7263\n",
      "Epoch 189/200\n",
      "4/4 [==============================] - 0s 24ms/step - loss: 0.4939 - mean_absolute_error: 0.4939 - val_loss: 0.7461 - val_mean_absolute_error: 0.7461\n",
      "Epoch 190/200\n",
      "4/4 [==============================] - 0s 25ms/step - loss: 0.4850 - mean_absolute_error: 0.4850 - val_loss: 0.7456 - val_mean_absolute_error: 0.7456\n",
      "Epoch 191/200\n",
      "4/4 [==============================] - 0s 25ms/step - loss: 0.5266 - mean_absolute_error: 0.5266 - val_loss: 0.7434 - val_mean_absolute_error: 0.7434\n",
      "Epoch 192/200\n",
      "4/4 [==============================] - 0s 25ms/step - loss: 0.4827 - mean_absolute_error: 0.4827 - val_loss: 0.7080 - val_mean_absolute_error: 0.7080\n",
      "Epoch 193/200\n",
      "4/4 [==============================] - 0s 24ms/step - loss: 0.4868 - mean_absolute_error: 0.4868 - val_loss: 0.6655 - val_mean_absolute_error: 0.6655\n",
      "Epoch 194/200\n",
      "4/4 [==============================] - 0s 25ms/step - loss: 0.4624 - mean_absolute_error: 0.4624 - val_loss: 0.6647 - val_mean_absolute_error: 0.6647\n",
      "Epoch 195/200\n",
      "4/4 [==============================] - 0s 25ms/step - loss: 0.4954 - mean_absolute_error: 0.4954 - val_loss: 0.6734 - val_mean_absolute_error: 0.6734\n",
      "Epoch 196/200\n",
      "4/4 [==============================] - 0s 24ms/step - loss: 0.4848 - mean_absolute_error: 0.4848 - val_loss: 0.6669 - val_mean_absolute_error: 0.6669\n",
      "Epoch 197/200\n",
      "4/4 [==============================] - 0s 25ms/step - loss: 0.4810 - mean_absolute_error: 0.4810 - val_loss: 0.6536 - val_mean_absolute_error: 0.6536\n",
      "Epoch 198/200\n",
      "4/4 [==============================] - 0s 25ms/step - loss: 0.4427 - mean_absolute_error: 0.4427 - val_loss: 0.6455 - val_mean_absolute_error: 0.6455\n",
      "Epoch 199/200\n",
      "4/4 [==============================] - 0s 23ms/step - loss: 0.4736 - mean_absolute_error: 0.4736 - val_loss: 0.6456 - val_mean_absolute_error: 0.6456\n",
      "Epoch 200/200\n",
      "4/4 [==============================] - 0s 25ms/step - loss: 0.4821 - mean_absolute_error: 0.4821 - val_loss: 0.6466 - val_mean_absolute_error: 0.6466\n",
      "CPU times: user 30.6 s, sys: 6.47 s, total: 37.1 s\n",
      "Wall time: 25.7 s\n"
     ]
    }
   ],
   "source": [
    "%%time\n",
    "model_store = Path(f'Result/saved_weights_{phenotype}.hdf5')\n",
    "\n",
    "# save the best performing model\n",
    "checkpointer = ModelCheckpoint(filepath=model_store, \n",
    "                               monitor='val_loss', verbose=0, \n",
    "                               save_best_only=True)\n",
    "\n",
    "st = time.time()\n",
    "# model training\n",
    "model.fit([x_train], y_train,\n",
    "          batch_size=60,\n",
    "          epochs=200, \n",
    "          verbose=1,\n",
    "          callbacks=[checkpointer],\n",
    "          validation_data=([x_valid], y_valid))\n",
    "rt = time.time()-st"
   ]
  },
  {
   "cell_type": "code",
   "execution_count": null,
   "metadata": {},
   "outputs": [
    {
     "data": {
      "text/plain": [
       "25.657243251800537"
      ]
     },
     "execution_count": 15,
     "metadata": {},
     "output_type": "execute_result"
    }
   ],
   "source": [
    "rt"
   ]
  },
  {
   "cell_type": "code",
   "execution_count": null,
   "metadata": {
    "tags": []
   },
   "outputs": [
    {
     "data": {
      "image/png": "[encoded data removed]",
      "text/plain": [
       "<Figure size 648x432 with 1 Axes>"
      ]
     },
     "metadata": {
      "needs_background": "light"
     },
     "output_type": "display_data"
    }
   ],
   "source": [
    "##### Step 6: plot train and validation loss #####\n",
    "history = model.history\n",
    "plt.plot(age_range*pd.Series(history.history['mean_absolute_error']))\n",
    "plt.plot(age_range*pd.Series(history.history['val_mean_absolute_error']))\n",
    "plt.title('model train vs validation loss')\n",
    "plt.ylabel('loss')\n",
    "plt.xlabel('epoch')\n",
    "plt.legend(['train', 'validation'], loc='upper right')\n",
    "plt.show()"
   ]
  },
  {
   "cell_type": "code",
   "execution_count": null,
   "metadata": {},
   "outputs": [
    {
     "data": {
      "text/plain": [
       "count    65.000000\n",
       "mean      2.250081\n",
       "std      12.456877\n",
       "min     -18.937424\n",
       "25%      -6.271919\n",
       "50%       0.404343\n",
       "75%      10.898132\n",
       "max      38.640190\n",
       "dtype: float64"
      ]
     },
     "execution_count": 17,
     "metadata": {},
     "output_type": "execute_result"
    }
   ],
   "source": [
    "#### Step 7: test the final model #####\n",
    "final_model = load_model(model_store)\n",
    "x_test = x_valid\n",
    "y_test = y_valid\n",
    "y_scores = final_model.predict([x_test])\n",
    "y_scores = y_scores.reshape(y_scores.shape[0])"
   ]
  },
  {
   "cell_type": "code",
   "execution_count": null,
   "metadata": {},
   "outputs": [
    {
     "data": {
      "text/plain": [
       "count    65.000000\n",
       "mean     -0.833844\n",
       "std      12.727778\n",
       "min     -30.716756\n",
       "25%     -10.602103\n",
       "50%      -1.498725\n",
       "75%       6.566408\n",
       "max      29.643600\n",
       "dtype: float64"
      ]
     },
     "execution_count": 14,
     "metadata": {},
     "output_type": "execute_result"
    }
   ],
   "source": [
    "errors = age_range * (pd.Series(y_test)-pd.Series(y_scores))\n",
    "errors.describe()"
   ]
  },
  {
   "cell_type": "code",
   "execution_count": null,
   "metadata": {},
   "outputs": [
    {
     "data": {
      "image/png": "[encoded data removed]",
      "text/plain": [
       "<Figure size 648x432 with 1 Axes>"
      ]
     },
     "metadata": {
      "needs_background": "light"
     },
     "output_type": "display_data"
    }
   ],
   "source": [
    "plt.hist(errors)\n",
    "plt.title('Error Distribution')\n",
    "plt.xlabel('Actual - Predicted [Years]')\n",
    "plt.show()"
   ]
  },
  {
   "cell_type": "code",
   "execution_count": null,
   "metadata": {},
   "outputs": [
    {
     "name": "stdout",
     "output_type": "stream",
     "text": [
      "[ 0.32713579 48.34645497]\n"
     ]
    },
    {
     "data": {
      "image/png": "[encoded data removed]",
      "text/plain": [
       "<Figure size 648x432 with 1 Axes>"
      ]
     },
     "metadata": {
      "needs_background": "light"
     },
     "output_type": "display_data"
    }
   ],
   "source": [
    "age_true = y_test*age_range + age_min\n",
    "age_pred = y_scores*age_range + age_min\n",
    "plt.plot(age_true, age_pred,'b.')\n",
    "plt.axis('square')\n",
    "plt.xlim((40,95))\n",
    "plt.ylim((40,95))\n",
    "plt.xlabel('True Age')\n",
    "plt.ylabel('Predicted Age')\n",
    "plt.title('Prediction vs True')\n",
    "plt.plot([40,95],[40,95],'--k')\n",
    "coef = np.polyfit(age_true, age_pred, 1)\n",
    "print(coef)\n",
    "poly1d_fn = np.poly1d(coef)\n",
    "plt.plot([40,95], poly1d_fn([40,95]), '--b')\n",
    "plt.show()"
   ]
  },
  {
   "cell_type": "code",
   "execution_count": null,
   "metadata": {},
   "outputs": [],
   "source": []
  }
 ],
 "metadata": {
  "kernelspec": {
   "display_name": "Python 3",
   "language": "python",
   "name": "python3"
  },
  "language_info": {
   "codemirror_mode": {
    "name": "ipython",
    "version": 3
   },
   "file_extension": ".py",
   "mimetype": "text/x-python",
   "name": "python",
   "nbconvert_exporter": "python",
   "pygments_lexer": "ipython3",
   "version": "3.9.6"
  }
 },
 "nbformat": 4,
 "nbformat_minor": 4
}
