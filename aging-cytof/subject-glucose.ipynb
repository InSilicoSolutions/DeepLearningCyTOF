{
 "cells": [
  {
   "cell_type": "markdown",
   "metadata": {},
   "source": [
    "# Predict `Subject Age`"
   ]
  },
  {
   "cell_type": "code",
   "execution_count": 1,
   "metadata": {},
   "outputs": [],
   "source": [
    "%matplotlib inline"
   ]
  },
  {
   "cell_type": "code",
   "execution_count": 2,
   "metadata": {},
   "outputs": [],
   "source": [
    "##### Step 1: import functions #####\n",
    "import tensorflow as tf\n",
    "from tensorflow.keras.layers import Dense, Flatten, BatchNormalization, Activation, Conv2D, AveragePooling2D, Input, Softmax\n",
    "from tensorflow.keras.models import load_model, Model, Sequential\n",
    "from tensorflow.keras.optimizers import Adam\n",
    "from tensorflow.keras.callbacks import ModelCheckpoint, EarlyStopping\n",
    "from tensorflow.keras.losses import SparseCategoricalCrossentropy\n",
    "from tensorflow.keras import backend as K\n",
    "from tensorflow.keras.utils import plot_model\n",
    "import pickle\n",
    "import pandas as pd\n",
    "import numpy as np\n",
    "from numpy.random import seed; seed(111)\n",
    "import random\n",
    "import matplotlib.pyplot as plt\n",
    "import seaborn as sns\n",
    "from tensorflow.random import set_seed; set_seed(111)\n",
    "from sklearn.metrics import roc_curve, auc\n",
    "from sklearn.preprocessing import normalize\n",
    "from six import StringIO  \n",
    "from sklearn.tree import export_graphviz, DecisionTreeRegressor\n",
    "from sklearn.model_selection import train_test_split\n",
    "from scipy.stats import ttest_ind\n",
    "from IPython.display import Image  \n",
    "import pydotplus\n",
    "import time\n",
    "from pathlib import Path\n",
    "import math"
   ]
  },
  {
   "cell_type": "code",
   "execution_count": 3,
   "metadata": {},
   "outputs": [],
   "source": [
    "# %config InlineBackend.figure_format = 'svg'\n",
    "plt.rcParams['figure.figsize'] = [9,6]"
   ]
  },
  {
   "cell_type": "code",
   "execution_count": 4,
   "metadata": {},
   "outputs": [],
   "source": [
    "gpus = tf.config.list_physical_devices('GPU')\n",
    "tf.config.experimental.set_memory_growth(gpus[0], True)"
   ]
  },
  {
   "cell_type": "code",
   "execution_count": 5,
   "metadata": {},
   "outputs": [],
   "source": [
    "phenotype = 'Glucose'"
   ]
  },
  {
   "cell_type": "code",
   "execution_count": 6,
   "metadata": {},
   "outputs": [
    {
     "name": "stdout",
     "output_type": "stream",
     "text": [
      "Dimensions of cyto_data: (260, 5000, 27, 1)\n",
      "Dimensions of samples: (260, 85)\n",
      "Names of the makers: ['CELL_LENGTH' 'DEAD' 'CD19' 'CD4' 'CD8' 'IGD' 'CD85J' 'CD16' 'CD3' 'CD38'\n",
      " 'CD27' 'CD14' 'CD94' 'CCR7' 'CD45RA' 'CD20' 'CD127' 'CD33' 'CD28' 'CD24'\n",
      " 'CD161' 'TCRGD' 'CD56' 'HLADR' 'CD25' 'DNA1' 'DNA2']\n"
     ]
    }
   ],
   "source": [
    "#load data\n",
    "aging_dir = Path('/home/ubuntu/a/aging')\n",
    "\n",
    "with open(aging_dir/'aging-cytof-data.obj', 'rb') as f:\n",
    "    allData = pickle.load(f)\n",
    "samples = allData[\"samples\"]\n",
    "cyto_data = allData['expr_list']\n",
    "# Truncate cytodata\n",
    "cyto_data = cyto_data[ :, :int(5e3)]\n",
    "markers = allData[\"marker_names\"]\n",
    "\n",
    "print(f'Dimensions of cyto_data: {cyto_data.shape}')\n",
    "print(f'Dimensions of samples: {samples.shape}')\n",
    "print(f'Names of the makers: {markers.values}')"
   ]
  },
  {
   "cell_type": "code",
   "execution_count": 7,
   "metadata": {},
   "outputs": [
    {
     "name": "stdout",
     "output_type": "stream",
     "text": [
      "count    202.000000\n",
      "mean      90.009901\n",
      "std       20.171156\n",
      "min       56.000000\n",
      "25%       80.250000\n",
      "50%       87.000000\n",
      "75%       95.000000\n",
      "max      291.000000\n",
      "Name: Glucose, dtype: float64\n"
     ]
    },
    {
     "data": {
      "text/plain": [
       "<AxesSubplot:ylabel='Frequency'>"
      ]
     },
     "execution_count": 7,
     "metadata": {},
     "output_type": "execute_result"
    },
    {
     "data": {
      "image/png": "[encoded data removed]",
      "text/plain": [
       "<Figure size 648x432 with 1 Axes>"
      ]
     },
     "metadata": {
      "needs_background": "light"
     },
     "output_type": "display_data"
    }
   ],
   "source": [
    "print(samples[phenotype].describe())\n",
    "samples[phenotype].plot.hist()"
   ]
  },
  {
   "cell_type": "code",
   "execution_count": 8,
   "metadata": {},
   "outputs": [
    {
     "data": {
      "text/plain": [
       "202"
      ]
     },
     "execution_count": 8,
     "metadata": {},
     "output_type": "execute_result"
    }
   ],
   "source": [
    "##### Step 3: split train, validation and test######\n",
    "x = []\n",
    "y = []\n",
    "for i, row in samples.iterrows():\n",
    "    if math.isnan(row[phenotype]):\n",
    "        continue\n",
    "    x.append(cyto_data[i])\n",
    "    y.append(row[phenotype])\n",
    "age_range = max(y) - min(y)\n",
    "x = np.asarray(x)\n",
    "y_raw = np.asarray(y)\n",
    "age_min = min(y_raw)\n",
    "age_max = max(y_raw)\n",
    "age_range = age_max - age_min\n",
    "y = (y_raw - age_min) / age_range\n",
    "\n",
    "x_train, x_valid, y_train, y_valid = train_test_split(x, y)\n",
    "len(y)"
   ]
  },
  {
   "cell_type": "code",
   "execution_count": 9,
   "metadata": {},
   "outputs": [
    {
     "name": "stdout",
     "output_type": "stream",
     "text": [
      "Model: \"sequential\"\n",
      "_________________________________________________________________\n",
      "Layer (type)                 Output Shape              Param #   \n",
      "=================================================================\n",
      "conv2d (Conv2D)              (None, 5000, 1, 3)        84        \n",
      "_________________________________________________________________\n",
      "batch_normalization (BatchNo (None, 5000, 1, 3)        12        \n",
      "_________________________________________________________________\n",
      "activation (Activation)      (None, 5000, 1, 3)        0         \n",
      "_________________________________________________________________\n",
      "conv2d_1 (Conv2D)            (None, 5000, 1, 6)        24        \n",
      "_________________________________________________________________\n",
      "batch_normalization_1 (Batch (None, 5000, 1, 6)        24        \n",
      "_________________________________________________________________\n",
      "activation_1 (Activation)    (None, 5000, 1, 6)        0         \n",
      "_________________________________________________________________\n",
      "average_pooling2d (AveragePo (None, 1, 1, 6)           0         \n",
      "_________________________________________________________________\n",
      "flatten (Flatten)            (None, 6)                 0         \n",
      "_________________________________________________________________\n",
      "dense (Dense)                (None, 3)                 21        \n",
      "_________________________________________________________________\n",
      "batch_normalization_2 (Batch (None, 3)                 12        \n",
      "_________________________________________________________________\n",
      "activation_2 (Activation)    (None, 3)                 0         \n",
      "_________________________________________________________________\n",
      "dense_1 (Dense)              (None, 1)                 4         \n",
      "=================================================================\n",
      "Total params: 181\n",
      "Trainable params: 157\n",
      "Non-trainable params: 24\n",
      "_________________________________________________________________\n"
     ]
    }
   ],
   "source": [
    "model = Sequential([\n",
    "    Input(shape=x[0].shape),\n",
    "    Conv2D(3, kernel_size = (1, x.shape[2]), activation=None),\n",
    "    BatchNormalization(),\n",
    "    Activation('relu'),\n",
    "    Conv2D(6, kernel_size = (1,1), activation=None),\n",
    "    BatchNormalization(),\n",
    "    Activation('relu'),\n",
    "    AveragePooling2D(pool_size = (x.shape[1], 1)),\n",
    "    Flatten(),\n",
    "    Dense(3, activation=None),\n",
    "    BatchNormalization(),\n",
    "    Activation('relu'),\n",
    "    Dense(1, activation=None),\n",
    "])\n",
    "model.compile(loss='mean_absolute_error',\n",
    "              optimizer='adam',\n",
    "              metrics=['mean_absolute_error'])\n",
    "model.summary()"
   ]
  },
  {
   "cell_type": "code",
   "execution_count": 10,
   "metadata": {
    "scrolled": true,
    "tags": []
   },
   "outputs": [
    {
     "name": "stdout",
     "output_type": "stream",
     "text": [
      "Epoch 1/200\n",
      "3/3 [==============================] - 4s 437ms/step - loss: 0.2358 - mean_absolute_error: 0.2358 - val_loss: 0.1494 - val_mean_absolute_error: 0.1494\n",
      "Epoch 2/200\n",
      "3/3 [==============================] - 0s 37ms/step - loss: 0.2277 - mean_absolute_error: 0.2277 - val_loss: 0.1522 - val_mean_absolute_error: 0.1522\n",
      "Epoch 3/200\n",
      "3/3 [==============================] - 0s 39ms/step - loss: 0.2185 - mean_absolute_error: 0.2185 - val_loss: 0.1547 - val_mean_absolute_error: 0.1547\n",
      "Epoch 4/200\n",
      "3/3 [==============================] - 0s 40ms/step - loss: 0.2091 - mean_absolute_error: 0.2091 - val_loss: 0.1570 - val_mean_absolute_error: 0.1570\n",
      "Epoch 5/200\n",
      "3/3 [==============================] - 0s 38ms/step - loss: 0.2000 - mean_absolute_error: 0.2000 - val_loss: 0.1594 - val_mean_absolute_error: 0.1594\n",
      "Epoch 6/200\n",
      "3/3 [==============================] - 0s 38ms/step - loss: 0.1885 - mean_absolute_error: 0.1885 - val_loss: 0.1619 - val_mean_absolute_error: 0.1619\n",
      "Epoch 7/200\n",
      "3/3 [==============================] - 0s 38ms/step - loss: 0.1773 - mean_absolute_error: 0.1773 - val_loss: 0.1646 - val_mean_absolute_error: 0.1646\n",
      "Epoch 8/200\n",
      "3/3 [==============================] - 0s 37ms/step - loss: 0.1724 - mean_absolute_error: 0.1724 - val_loss: 0.1672 - val_mean_absolute_error: 0.1672\n",
      "Epoch 9/200\n",
      "3/3 [==============================] - 0s 41ms/step - loss: 0.1598 - mean_absolute_error: 0.1598 - val_loss: 0.1696 - val_mean_absolute_error: 0.1696\n",
      "Epoch 10/200\n",
      "3/3 [==============================] - 0s 36ms/step - loss: 0.1541 - mean_absolute_error: 0.1541 - val_loss: 0.1720 - val_mean_absolute_error: 0.1720\n",
      "Epoch 11/200\n",
      "3/3 [==============================] - 0s 40ms/step - loss: 0.1486 - mean_absolute_error: 0.1486 - val_loss: 0.1745 - val_mean_absolute_error: 0.1745\n",
      "Epoch 12/200\n",
      "3/3 [==============================] - 0s 35ms/step - loss: 0.1399 - mean_absolute_error: 0.1399 - val_loss: 0.1771 - val_mean_absolute_error: 0.1771\n",
      "Epoch 13/200\n",
      "3/3 [==============================] - 0s 35ms/step - loss: 0.1387 - mean_absolute_error: 0.1387 - val_loss: 0.1795 - val_mean_absolute_error: 0.1795\n",
      "Epoch 14/200\n",
      "3/3 [==============================] - 0s 40ms/step - loss: 0.1364 - mean_absolute_error: 0.1364 - val_loss: 0.1815 - val_mean_absolute_error: 0.1815\n",
      "Epoch 15/200\n",
      "3/3 [==============================] - 0s 32ms/step - loss: 0.1312 - mean_absolute_error: 0.1312 - val_loss: 0.1832 - val_mean_absolute_error: 0.1832\n",
      "Epoch 16/200\n",
      "3/3 [==============================] - 0s 37ms/step - loss: 0.1277 - mean_absolute_error: 0.1277 - val_loss: 0.1846 - val_mean_absolute_error: 0.1846\n",
      "Epoch 17/200\n",
      "3/3 [==============================] - 0s 35ms/step - loss: 0.1303 - mean_absolute_error: 0.1303 - val_loss: 0.1857 - val_mean_absolute_error: 0.1857\n",
      "Epoch 18/200\n",
      "3/3 [==============================] - 0s 33ms/step - loss: 0.1248 - mean_absolute_error: 0.1248 - val_loss: 0.1866 - val_mean_absolute_error: 0.1866\n",
      "Epoch 19/200\n",
      "3/3 [==============================] - 0s 39ms/step - loss: 0.1225 - mean_absolute_error: 0.1225 - val_loss: 0.1872 - val_mean_absolute_error: 0.1872\n",
      "Epoch 20/200\n",
      "3/3 [==============================] - 0s 32ms/step - loss: 0.1225 - mean_absolute_error: 0.1225 - val_loss: 0.1878 - val_mean_absolute_error: 0.1878\n",
      "Epoch 21/200\n",
      "3/3 [==============================] - 0s 35ms/step - loss: 0.1213 - mean_absolute_error: 0.1213 - val_loss: 0.1886 - val_mean_absolute_error: 0.1886\n",
      "Epoch 22/200\n",
      "3/3 [==============================] - 0s 38ms/step - loss: 0.1092 - mean_absolute_error: 0.1092 - val_loss: 0.1892 - val_mean_absolute_error: 0.1892\n",
      "Epoch 23/200\n",
      "3/3 [==============================] - 0s 34ms/step - loss: 0.1160 - mean_absolute_error: 0.1160 - val_loss: 0.1895 - val_mean_absolute_error: 0.1895\n",
      "Epoch 24/200\n",
      "3/3 [==============================] - 0s 36ms/step - loss: 0.1071 - mean_absolute_error: 0.1071 - val_loss: 0.1897 - val_mean_absolute_error: 0.1897\n",
      "Epoch 25/200\n",
      "3/3 [==============================] - 0s 35ms/step - loss: 0.1120 - mean_absolute_error: 0.1120 - val_loss: 0.1897 - val_mean_absolute_error: 0.1897\n",
      "Epoch 26/200\n",
      "3/3 [==============================] - 0s 32ms/step - loss: 0.1043 - mean_absolute_error: 0.1043 - val_loss: 0.1897 - val_mean_absolute_error: 0.1897\n",
      "Epoch 27/200\n",
      "3/3 [==============================] - 0s 36ms/step - loss: 0.1029 - mean_absolute_error: 0.1029 - val_loss: 0.1895 - val_mean_absolute_error: 0.1895\n",
      "Epoch 28/200\n",
      "3/3 [==============================] - 0s 36ms/step - loss: 0.1034 - mean_absolute_error: 0.1034 - val_loss: 0.1887 - val_mean_absolute_error: 0.1887\n",
      "Epoch 29/200\n",
      "3/3 [==============================] - 0s 36ms/step - loss: 0.0969 - mean_absolute_error: 0.0969 - val_loss: 0.1877 - val_mean_absolute_error: 0.1877\n",
      "Epoch 30/200\n",
      "3/3 [==============================] - 0s 37ms/step - loss: 0.1063 - mean_absolute_error: 0.1063 - val_loss: 0.1870 - val_mean_absolute_error: 0.1870\n",
      "Epoch 31/200\n",
      "3/3 [==============================] - 0s 32ms/step - loss: 0.0990 - mean_absolute_error: 0.0990 - val_loss: 0.1864 - val_mean_absolute_error: 0.1864\n",
      "Epoch 32/200\n",
      "3/3 [==============================] - 0s 40ms/step - loss: 0.1020 - mean_absolute_error: 0.1020 - val_loss: 0.1855 - val_mean_absolute_error: 0.1855\n",
      "Epoch 33/200\n",
      "3/3 [==============================] - 0s 34ms/step - loss: 0.0968 - mean_absolute_error: 0.0968 - val_loss: 0.1845 - val_mean_absolute_error: 0.1845\n",
      "Epoch 34/200\n",
      "3/3 [==============================] - 0s 32ms/step - loss: 0.0942 - mean_absolute_error: 0.0942 - val_loss: 0.1831 - val_mean_absolute_error: 0.1831\n",
      "Epoch 35/200\n",
      "3/3 [==============================] - 0s 38ms/step - loss: 0.0890 - mean_absolute_error: 0.0890 - val_loss: 0.1809 - val_mean_absolute_error: 0.1809\n",
      "Epoch 36/200\n",
      "3/3 [==============================] - 0s 36ms/step - loss: 0.0909 - mean_absolute_error: 0.0909 - val_loss: 0.1784 - val_mean_absolute_error: 0.1784\n",
      "Epoch 37/200\n",
      "3/3 [==============================] - 0s 33ms/step - loss: 0.0890 - mean_absolute_error: 0.0890 - val_loss: 0.1763 - val_mean_absolute_error: 0.1763\n",
      "Epoch 38/200\n",
      "3/3 [==============================] - 0s 39ms/step - loss: 0.0841 - mean_absolute_error: 0.0841 - val_loss: 0.1750 - val_mean_absolute_error: 0.1750\n",
      "Epoch 39/200\n",
      "3/3 [==============================] - 0s 35ms/step - loss: 0.0880 - mean_absolute_error: 0.0880 - val_loss: 0.1737 - val_mean_absolute_error: 0.1737\n",
      "Epoch 40/200\n",
      "3/3 [==============================] - 0s 35ms/step - loss: 0.0867 - mean_absolute_error: 0.0867 - val_loss: 0.1722 - val_mean_absolute_error: 0.1722\n",
      "Epoch 41/200\n",
      "3/3 [==============================] - 0s 35ms/step - loss: 0.0852 - mean_absolute_error: 0.0852 - val_loss: 0.1698 - val_mean_absolute_error: 0.1698\n",
      "Epoch 42/200\n",
      "3/3 [==============================] - 0s 34ms/step - loss: 0.0832 - mean_absolute_error: 0.0832 - val_loss: 0.1679 - val_mean_absolute_error: 0.1679\n",
      "Epoch 43/200\n",
      "3/3 [==============================] - 0s 38ms/step - loss: 0.0802 - mean_absolute_error: 0.0802 - val_loss: 0.1663 - val_mean_absolute_error: 0.1663\n",
      "Epoch 44/200\n",
      "3/3 [==============================] - 0s 38ms/step - loss: 0.0801 - mean_absolute_error: 0.0801 - val_loss: 0.1648 - val_mean_absolute_error: 0.1648\n",
      "Epoch 45/200\n",
      "3/3 [==============================] - 0s 37ms/step - loss: 0.0840 - mean_absolute_error: 0.0840 - val_loss: 0.1631 - val_mean_absolute_error: 0.1631\n",
      "Epoch 46/200\n",
      "3/3 [==============================] - 0s 38ms/step - loss: 0.0818 - mean_absolute_error: 0.0818 - val_loss: 0.1613 - val_mean_absolute_error: 0.1613\n",
      "Epoch 47/200\n",
      "3/3 [==============================] - 0s 38ms/step - loss: 0.0765 - mean_absolute_error: 0.0765 - val_loss: 0.1594 - val_mean_absolute_error: 0.1594\n",
      "Epoch 48/200\n",
      "3/3 [==============================] - 0s 39ms/step - loss: 0.0759 - mean_absolute_error: 0.0759 - val_loss: 0.1580 - val_mean_absolute_error: 0.1580\n",
      "Epoch 49/200\n",
      "3/3 [==============================] - 0s 42ms/step - loss: 0.0737 - mean_absolute_error: 0.0737 - val_loss: 0.1562 - val_mean_absolute_error: 0.1562\n",
      "Epoch 50/200\n",
      "3/3 [==============================] - 0s 41ms/step - loss: 0.0769 - mean_absolute_error: 0.0769 - val_loss: 0.1546 - val_mean_absolute_error: 0.1546\n",
      "Epoch 51/200\n",
      "3/3 [==============================] - 0s 42ms/step - loss: 0.0708 - mean_absolute_error: 0.0708 - val_loss: 0.1533 - val_mean_absolute_error: 0.1533\n",
      "Epoch 52/200\n",
      "3/3 [==============================] - 0s 40ms/step - loss: 0.0665 - mean_absolute_error: 0.0665 - val_loss: 0.1513 - val_mean_absolute_error: 0.1513\n",
      "Epoch 53/200\n",
      "3/3 [==============================] - 0s 36ms/step - loss: 0.0762 - mean_absolute_error: 0.0762 - val_loss: 0.1489 - val_mean_absolute_error: 0.1489\n",
      "Epoch 54/200\n",
      "3/3 [==============================] - 0s 38ms/step - loss: 0.0696 - mean_absolute_error: 0.0696 - val_loss: 0.1473 - val_mean_absolute_error: 0.1473\n",
      "Epoch 55/200\n",
      "3/3 [==============================] - 0s 34ms/step - loss: 0.0665 - mean_absolute_error: 0.0665 - val_loss: 0.1457 - val_mean_absolute_error: 0.1457\n",
      "Epoch 56/200\n",
      "3/3 [==============================] - 0s 36ms/step - loss: 0.0701 - mean_absolute_error: 0.0701 - val_loss: 0.1440 - val_mean_absolute_error: 0.1440\n",
      "Epoch 57/200\n",
      "3/3 [==============================] - 0s 37ms/step - loss: 0.0697 - mean_absolute_error: 0.0697 - val_loss: 0.1424 - val_mean_absolute_error: 0.1424\n",
      "Epoch 58/200\n",
      "3/3 [==============================] - 0s 41ms/step - loss: 0.0634 - mean_absolute_error: 0.0634 - val_loss: 0.1414 - val_mean_absolute_error: 0.1414\n",
      "Epoch 59/200\n",
      "3/3 [==============================] - 0s 38ms/step - loss: 0.0675 - mean_absolute_error: 0.0675 - val_loss: 0.1404 - val_mean_absolute_error: 0.1404\n",
      "Epoch 60/200\n",
      "3/3 [==============================] - 0s 35ms/step - loss: 0.0768 - mean_absolute_error: 0.0768 - val_loss: 0.1405 - val_mean_absolute_error: 0.1405\n",
      "Epoch 61/200\n",
      "3/3 [==============================] - 0s 38ms/step - loss: 0.0685 - mean_absolute_error: 0.0685 - val_loss: 0.1408 - val_mean_absolute_error: 0.1408\n",
      "Epoch 62/200\n",
      "3/3 [==============================] - 0s 32ms/step - loss: 0.0695 - mean_absolute_error: 0.0695 - val_loss: 0.1411 - val_mean_absolute_error: 0.1411\n",
      "Epoch 63/200\n",
      "3/3 [==============================] - 0s 34ms/step - loss: 0.0663 - mean_absolute_error: 0.0663 - val_loss: 0.1401 - val_mean_absolute_error: 0.1401\n",
      "Epoch 64/200\n",
      "3/3 [==============================] - 0s 37ms/step - loss: 0.0635 - mean_absolute_error: 0.0635 - val_loss: 0.1380 - val_mean_absolute_error: 0.1380\n",
      "Epoch 65/200\n",
      "3/3 [==============================] - 0s 38ms/step - loss: 0.0676 - mean_absolute_error: 0.0676 - val_loss: 0.1365 - val_mean_absolute_error: 0.1365\n",
      "Epoch 66/200\n",
      "3/3 [==============================] - 0s 36ms/step - loss: 0.0661 - mean_absolute_error: 0.0661 - val_loss: 0.1354 - val_mean_absolute_error: 0.1354\n",
      "Epoch 67/200\n",
      "3/3 [==============================] - 0s 37ms/step - loss: 0.0661 - mean_absolute_error: 0.0661 - val_loss: 0.1331 - val_mean_absolute_error: 0.1331\n",
      "Epoch 68/200\n",
      "3/3 [==============================] - 0s 33ms/step - loss: 0.0675 - mean_absolute_error: 0.0675 - val_loss: 0.1301 - val_mean_absolute_error: 0.1301\n",
      "Epoch 69/200\n",
      "3/3 [==============================] - 0s 34ms/step - loss: 0.0645 - mean_absolute_error: 0.0645 - val_loss: 0.1286 - val_mean_absolute_error: 0.1286\n",
      "Epoch 70/200\n",
      "3/3 [==============================] - 0s 34ms/step - loss: 0.0627 - mean_absolute_error: 0.0627 - val_loss: 0.1275 - val_mean_absolute_error: 0.1275\n",
      "Epoch 71/200\n",
      "3/3 [==============================] - 0s 32ms/step - loss: 0.0648 - mean_absolute_error: 0.0648 - val_loss: 0.1263 - val_mean_absolute_error: 0.1263\n",
      "Epoch 72/200\n",
      "3/3 [==============================] - 0s 36ms/step - loss: 0.0599 - mean_absolute_error: 0.0599 - val_loss: 0.1242 - val_mean_absolute_error: 0.1242\n",
      "Epoch 73/200\n",
      "3/3 [==============================] - 0s 38ms/step - loss: 0.0670 - mean_absolute_error: 0.0670 - val_loss: 0.1215 - val_mean_absolute_error: 0.1215\n",
      "Epoch 74/200\n",
      "3/3 [==============================] - 0s 38ms/step - loss: 0.0610 - mean_absolute_error: 0.0610 - val_loss: 0.1209 - val_mean_absolute_error: 0.1209\n",
      "Epoch 75/200\n",
      "3/3 [==============================] - 0s 38ms/step - loss: 0.0624 - mean_absolute_error: 0.0624 - val_loss: 0.1213 - val_mean_absolute_error: 0.1213\n",
      "Epoch 76/200\n",
      "3/3 [==============================] - 0s 39ms/step - loss: 0.0612 - mean_absolute_error: 0.0612 - val_loss: 0.1211 - val_mean_absolute_error: 0.1211\n",
      "Epoch 77/200\n",
      "3/3 [==============================] - 0s 39ms/step - loss: 0.0637 - mean_absolute_error: 0.0637 - val_loss: 0.1203 - val_mean_absolute_error: 0.1203\n",
      "Epoch 78/200\n",
      "3/3 [==============================] - 0s 37ms/step - loss: 0.0591 - mean_absolute_error: 0.0591 - val_loss: 0.1213 - val_mean_absolute_error: 0.1213\n",
      "Epoch 79/200\n",
      "3/3 [==============================] - 0s 37ms/step - loss: 0.0604 - mean_absolute_error: 0.0604 - val_loss: 0.1206 - val_mean_absolute_error: 0.1206\n",
      "Epoch 80/200\n",
      "3/3 [==============================] - 0s 34ms/step - loss: 0.0609 - mean_absolute_error: 0.0609 - val_loss: 0.1183 - val_mean_absolute_error: 0.1183\n",
      "Epoch 81/200\n",
      "3/3 [==============================] - 0s 34ms/step - loss: 0.0609 - mean_absolute_error: 0.0609 - val_loss: 0.1165 - val_mean_absolute_error: 0.1165\n",
      "Epoch 82/200\n",
      "3/3 [==============================] - 0s 35ms/step - loss: 0.0594 - mean_absolute_error: 0.0594 - val_loss: 0.1143 - val_mean_absolute_error: 0.1143\n",
      "Epoch 83/200\n",
      "3/3 [==============================] - 0s 36ms/step - loss: 0.0632 - mean_absolute_error: 0.0632 - val_loss: 0.1132 - val_mean_absolute_error: 0.1132\n",
      "Epoch 84/200\n",
      "3/3 [==============================] - 0s 37ms/step - loss: 0.0669 - mean_absolute_error: 0.0669 - val_loss: 0.1123 - val_mean_absolute_error: 0.1123\n",
      "Epoch 85/200\n",
      "3/3 [==============================] - 0s 34ms/step - loss: 0.0561 - mean_absolute_error: 0.0561 - val_loss: 0.1090 - val_mean_absolute_error: 0.1090\n",
      "Epoch 86/200\n",
      "3/3 [==============================] - 0s 34ms/step - loss: 0.0587 - mean_absolute_error: 0.0587 - val_loss: 0.1061 - val_mean_absolute_error: 0.1061\n",
      "Epoch 87/200\n",
      "3/3 [==============================] - 0s 43ms/step - loss: 0.0605 - mean_absolute_error: 0.0605 - val_loss: 0.1036 - val_mean_absolute_error: 0.1036\n",
      "Epoch 88/200\n",
      "3/3 [==============================] - 0s 36ms/step - loss: 0.0567 - mean_absolute_error: 0.0567 - val_loss: 0.1012 - val_mean_absolute_error: 0.1012\n",
      "Epoch 89/200\n",
      "3/3 [==============================] - 0s 36ms/step - loss: 0.0594 - mean_absolute_error: 0.0594 - val_loss: 0.0995 - val_mean_absolute_error: 0.0995\n",
      "Epoch 90/200\n",
      "3/3 [==============================] - 0s 36ms/step - loss: 0.0551 - mean_absolute_error: 0.0551 - val_loss: 0.0985 - val_mean_absolute_error: 0.0985\n",
      "Epoch 91/200\n",
      "3/3 [==============================] - 0s 33ms/step - loss: 0.0558 - mean_absolute_error: 0.0558 - val_loss: 0.0967 - val_mean_absolute_error: 0.0967\n",
      "Epoch 92/200\n",
      "3/3 [==============================] - 0s 36ms/step - loss: 0.0577 - mean_absolute_error: 0.0577 - val_loss: 0.0973 - val_mean_absolute_error: 0.0973\n",
      "Epoch 93/200\n",
      "3/3 [==============================] - 0s 33ms/step - loss: 0.0586 - mean_absolute_error: 0.0586 - val_loss: 0.0974 - val_mean_absolute_error: 0.0974\n",
      "Epoch 94/200\n",
      "3/3 [==============================] - 0s 40ms/step - loss: 0.0582 - mean_absolute_error: 0.0582 - val_loss: 0.0974 - val_mean_absolute_error: 0.0974\n",
      "Epoch 95/200\n",
      "3/3 [==============================] - 0s 36ms/step - loss: 0.0598 - mean_absolute_error: 0.0598 - val_loss: 0.0970 - val_mean_absolute_error: 0.0970\n",
      "Epoch 96/200\n",
      "3/3 [==============================] - 0s 39ms/step - loss: 0.0541 - mean_absolute_error: 0.0541 - val_loss: 0.0968 - val_mean_absolute_error: 0.0968\n",
      "Epoch 97/200\n",
      "3/3 [==============================] - 0s 35ms/step - loss: 0.0640 - mean_absolute_error: 0.0640 - val_loss: 0.0957 - val_mean_absolute_error: 0.0957\n",
      "Epoch 98/200\n",
      "3/3 [==============================] - 0s 32ms/step - loss: 0.0540 - mean_absolute_error: 0.0540 - val_loss: 0.0966 - val_mean_absolute_error: 0.0966\n",
      "Epoch 99/200\n",
      "3/3 [==============================] - 0s 34ms/step - loss: 0.0601 - mean_absolute_error: 0.0601 - val_loss: 0.0973 - val_mean_absolute_error: 0.0973\n",
      "Epoch 100/200\n",
      "3/3 [==============================] - 0s 37ms/step - loss: 0.0562 - mean_absolute_error: 0.0562 - val_loss: 0.0977 - val_mean_absolute_error: 0.0977\n",
      "Epoch 101/200\n",
      "3/3 [==============================] - 0s 40ms/step - loss: 0.0549 - mean_absolute_error: 0.0549 - val_loss: 0.0970 - val_mean_absolute_error: 0.0970\n",
      "Epoch 102/200\n",
      "3/3 [==============================] - 0s 37ms/step - loss: 0.0552 - mean_absolute_error: 0.0552 - val_loss: 0.0958 - val_mean_absolute_error: 0.0958\n",
      "Epoch 103/200\n",
      "3/3 [==============================] - 0s 40ms/step - loss: 0.0574 - mean_absolute_error: 0.0574 - val_loss: 0.0912 - val_mean_absolute_error: 0.0912\n",
      "Epoch 104/200\n",
      "3/3 [==============================] - 0s 34ms/step - loss: 0.0601 - mean_absolute_error: 0.0601 - val_loss: 0.0881 - val_mean_absolute_error: 0.0881\n",
      "Epoch 105/200\n",
      "3/3 [==============================] - 0s 43ms/step - loss: 0.0567 - mean_absolute_error: 0.0567 - val_loss: 0.0871 - val_mean_absolute_error: 0.0871\n",
      "Epoch 106/200\n",
      "3/3 [==============================] - 0s 41ms/step - loss: 0.0533 - mean_absolute_error: 0.0533 - val_loss: 0.0882 - val_mean_absolute_error: 0.0882\n",
      "Epoch 107/200\n",
      "3/3 [==============================] - 0s 42ms/step - loss: 0.0555 - mean_absolute_error: 0.0555 - val_loss: 0.0877 - val_mean_absolute_error: 0.0877\n",
      "Epoch 108/200\n",
      "3/3 [==============================] - 0s 37ms/step - loss: 0.0590 - mean_absolute_error: 0.0590 - val_loss: 0.0884 - val_mean_absolute_error: 0.0884\n",
      "Epoch 109/200\n",
      "3/3 [==============================] - 0s 37ms/step - loss: 0.0502 - mean_absolute_error: 0.0502 - val_loss: 0.0879 - val_mean_absolute_error: 0.0879\n",
      "Epoch 110/200\n",
      "3/3 [==============================] - 0s 40ms/step - loss: 0.0543 - mean_absolute_error: 0.0543 - val_loss: 0.0865 - val_mean_absolute_error: 0.0865\n",
      "Epoch 111/200\n",
      "3/3 [==============================] - 0s 40ms/step - loss: 0.0542 - mean_absolute_error: 0.0542 - val_loss: 0.0839 - val_mean_absolute_error: 0.0839\n",
      "Epoch 112/200\n",
      "3/3 [==============================] - 0s 36ms/step - loss: 0.0509 - mean_absolute_error: 0.0509 - val_loss: 0.0817 - val_mean_absolute_error: 0.0817\n",
      "Epoch 113/200\n",
      "3/3 [==============================] - 0s 38ms/step - loss: 0.0515 - mean_absolute_error: 0.0515 - val_loss: 0.0800 - val_mean_absolute_error: 0.0800\n",
      "Epoch 114/200\n",
      "3/3 [==============================] - 0s 39ms/step - loss: 0.0566 - mean_absolute_error: 0.0566 - val_loss: 0.0784 - val_mean_absolute_error: 0.0784\n",
      "Epoch 115/200\n",
      "3/3 [==============================] - 0s 37ms/step - loss: 0.0549 - mean_absolute_error: 0.0549 - val_loss: 0.0783 - val_mean_absolute_error: 0.0783\n",
      "Epoch 116/200\n",
      "3/3 [==============================] - 0s 37ms/step - loss: 0.0498 - mean_absolute_error: 0.0498 - val_loss: 0.0756 - val_mean_absolute_error: 0.0756\n",
      "Epoch 117/200\n",
      "3/3 [==============================] - 0s 36ms/step - loss: 0.0543 - mean_absolute_error: 0.0543 - val_loss: 0.0732 - val_mean_absolute_error: 0.0732\n",
      "Epoch 118/200\n",
      "3/3 [==============================] - 0s 35ms/step - loss: 0.0543 - mean_absolute_error: 0.0543 - val_loss: 0.0711 - val_mean_absolute_error: 0.0711\n",
      "Epoch 119/200\n",
      "3/3 [==============================] - 0s 36ms/step - loss: 0.0551 - mean_absolute_error: 0.0551 - val_loss: 0.0683 - val_mean_absolute_error: 0.0683\n",
      "Epoch 120/200\n",
      "3/3 [==============================] - 0s 33ms/step - loss: 0.0548 - mean_absolute_error: 0.0548 - val_loss: 0.0657 - val_mean_absolute_error: 0.0657\n",
      "Epoch 121/200\n",
      "3/3 [==============================] - 0s 38ms/step - loss: 0.0560 - mean_absolute_error: 0.0560 - val_loss: 0.0662 - val_mean_absolute_error: 0.0662\n",
      "Epoch 122/200\n",
      "3/3 [==============================] - 0s 36ms/step - loss: 0.0490 - mean_absolute_error: 0.0490 - val_loss: 0.0661 - val_mean_absolute_error: 0.0661\n",
      "Epoch 123/200\n",
      "3/3 [==============================] - 0s 38ms/step - loss: 0.0464 - mean_absolute_error: 0.0464 - val_loss: 0.0661 - val_mean_absolute_error: 0.0661\n",
      "Epoch 124/200\n",
      "3/3 [==============================] - 0s 32ms/step - loss: 0.0488 - mean_absolute_error: 0.0488 - val_loss: 0.0662 - val_mean_absolute_error: 0.0662\n",
      "Epoch 125/200\n",
      "3/3 [==============================] - 0s 35ms/step - loss: 0.0558 - mean_absolute_error: 0.0558 - val_loss: 0.0674 - val_mean_absolute_error: 0.0674\n",
      "Epoch 126/200\n",
      "3/3 [==============================] - 0s 36ms/step - loss: 0.0509 - mean_absolute_error: 0.0509 - val_loss: 0.0680 - val_mean_absolute_error: 0.0680\n",
      "Epoch 127/200\n",
      "3/3 [==============================] - 0s 35ms/step - loss: 0.0461 - mean_absolute_error: 0.0461 - val_loss: 0.0674 - val_mean_absolute_error: 0.0674\n",
      "Epoch 128/200\n",
      "3/3 [==============================] - 0s 34ms/step - loss: 0.0484 - mean_absolute_error: 0.0484 - val_loss: 0.0654 - val_mean_absolute_error: 0.0654\n",
      "Epoch 129/200\n",
      "3/3 [==============================] - 0s 40ms/step - loss: 0.0519 - mean_absolute_error: 0.0519 - val_loss: 0.0637 - val_mean_absolute_error: 0.0637\n",
      "Epoch 130/200\n",
      "3/3 [==============================] - 0s 37ms/step - loss: 0.0536 - mean_absolute_error: 0.0536 - val_loss: 0.0622 - val_mean_absolute_error: 0.0622\n",
      "Epoch 131/200\n",
      "3/3 [==============================] - 0s 36ms/step - loss: 0.0586 - mean_absolute_error: 0.0586 - val_loss: 0.0626 - val_mean_absolute_error: 0.0626\n",
      "Epoch 132/200\n",
      "3/3 [==============================] - 0s 37ms/step - loss: 0.0543 - mean_absolute_error: 0.0543 - val_loss: 0.0632 - val_mean_absolute_error: 0.0632\n",
      "Epoch 133/200\n",
      "3/3 [==============================] - 0s 38ms/step - loss: 0.0508 - mean_absolute_error: 0.0508 - val_loss: 0.0626 - val_mean_absolute_error: 0.0626\n",
      "Epoch 134/200\n",
      "3/3 [==============================] - 0s 37ms/step - loss: 0.0480 - mean_absolute_error: 0.0480 - val_loss: 0.0624 - val_mean_absolute_error: 0.0624\n",
      "Epoch 135/200\n",
      "3/3 [==============================] - 0s 37ms/step - loss: 0.0514 - mean_absolute_error: 0.0514 - val_loss: 0.0630 - val_mean_absolute_error: 0.0630\n",
      "Epoch 136/200\n",
      "3/3 [==============================] - 0s 37ms/step - loss: 0.0515 - mean_absolute_error: 0.0515 - val_loss: 0.0650 - val_mean_absolute_error: 0.0650\n",
      "Epoch 137/200\n",
      "3/3 [==============================] - 0s 35ms/step - loss: 0.0472 - mean_absolute_error: 0.0472 - val_loss: 0.0657 - val_mean_absolute_error: 0.0657\n",
      "Epoch 138/200\n",
      "3/3 [==============================] - 0s 32ms/step - loss: 0.0514 - mean_absolute_error: 0.0514 - val_loss: 0.0670 - val_mean_absolute_error: 0.0670\n",
      "Epoch 139/200\n",
      "3/3 [==============================] - 0s 37ms/step - loss: 0.0495 - mean_absolute_error: 0.0495 - val_loss: 0.0669 - val_mean_absolute_error: 0.0669\n",
      "Epoch 140/200\n",
      "3/3 [==============================] - 0s 35ms/step - loss: 0.0465 - mean_absolute_error: 0.0465 - val_loss: 0.0657 - val_mean_absolute_error: 0.0657\n",
      "Epoch 141/200\n",
      "3/3 [==============================] - 0s 35ms/step - loss: 0.0533 - mean_absolute_error: 0.0533 - val_loss: 0.0624 - val_mean_absolute_error: 0.0624\n",
      "Epoch 142/200\n",
      "3/3 [==============================] - 0s 37ms/step - loss: 0.0489 - mean_absolute_error: 0.0489 - val_loss: 0.0599 - val_mean_absolute_error: 0.0599\n",
      "Epoch 143/200\n",
      "3/3 [==============================] - 0s 37ms/step - loss: 0.0476 - mean_absolute_error: 0.0476 - val_loss: 0.0593 - val_mean_absolute_error: 0.0593\n",
      "Epoch 144/200\n",
      "3/3 [==============================] - 0s 36ms/step - loss: 0.0504 - mean_absolute_error: 0.0504 - val_loss: 0.0605 - val_mean_absolute_error: 0.0605\n",
      "Epoch 145/200\n",
      "3/3 [==============================] - 0s 35ms/step - loss: 0.0503 - mean_absolute_error: 0.0503 - val_loss: 0.0635 - val_mean_absolute_error: 0.0635\n",
      "Epoch 146/200\n",
      "3/3 [==============================] - 0s 32ms/step - loss: 0.0512 - mean_absolute_error: 0.0512 - val_loss: 0.0676 - val_mean_absolute_error: 0.0676\n",
      "Epoch 147/200\n",
      "3/3 [==============================] - 0s 35ms/step - loss: 0.0472 - mean_absolute_error: 0.0472 - val_loss: 0.0709 - val_mean_absolute_error: 0.0709\n",
      "Epoch 148/200\n",
      "3/3 [==============================] - 0s 34ms/step - loss: 0.0505 - mean_absolute_error: 0.0505 - val_loss: 0.0720 - val_mean_absolute_error: 0.0720\n",
      "Epoch 149/200\n",
      "3/3 [==============================] - 0s 35ms/step - loss: 0.0475 - mean_absolute_error: 0.0475 - val_loss: 0.0732 - val_mean_absolute_error: 0.0732\n",
      "Epoch 150/200\n",
      "3/3 [==============================] - 0s 44ms/step - loss: 0.0478 - mean_absolute_error: 0.0478 - val_loss: 0.0720 - val_mean_absolute_error: 0.0720\n",
      "Epoch 151/200\n",
      "3/3 [==============================] - 0s 39ms/step - loss: 0.0519 - mean_absolute_error: 0.0519 - val_loss: 0.0689 - val_mean_absolute_error: 0.0689\n",
      "Epoch 152/200\n",
      "3/3 [==============================] - 0s 38ms/step - loss: 0.0479 - mean_absolute_error: 0.0479 - val_loss: 0.0666 - val_mean_absolute_error: 0.0666\n",
      "Epoch 153/200\n",
      "3/3 [==============================] - 0s 36ms/step - loss: 0.0429 - mean_absolute_error: 0.0429 - val_loss: 0.0643 - val_mean_absolute_error: 0.0643\n",
      "Epoch 154/200\n",
      "3/3 [==============================] - 0s 36ms/step - loss: 0.0490 - mean_absolute_error: 0.0490 - val_loss: 0.0643 - val_mean_absolute_error: 0.0643\n",
      "Epoch 155/200\n",
      "3/3 [==============================] - 0s 36ms/step - loss: 0.0483 - mean_absolute_error: 0.0483 - val_loss: 0.0648 - val_mean_absolute_error: 0.0648\n",
      "Epoch 156/200\n",
      "3/3 [==============================] - 0s 36ms/step - loss: 0.0444 - mean_absolute_error: 0.0444 - val_loss: 0.0646 - val_mean_absolute_error: 0.0646\n",
      "Epoch 157/200\n",
      "3/3 [==============================] - 0s 38ms/step - loss: 0.0477 - mean_absolute_error: 0.0477 - val_loss: 0.0656 - val_mean_absolute_error: 0.0656\n",
      "Epoch 158/200\n",
      "3/3 [==============================] - 0s 35ms/step - loss: 0.0452 - mean_absolute_error: 0.0452 - val_loss: 0.0657 - val_mean_absolute_error: 0.0657\n",
      "Epoch 159/200\n",
      "3/3 [==============================] - 0s 36ms/step - loss: 0.0457 - mean_absolute_error: 0.0457 - val_loss: 0.0642 - val_mean_absolute_error: 0.0642\n",
      "Epoch 160/200\n",
      "3/3 [==============================] - 0s 37ms/step - loss: 0.0524 - mean_absolute_error: 0.0524 - val_loss: 0.0613 - val_mean_absolute_error: 0.0613\n",
      "Epoch 161/200\n",
      "3/3 [==============================] - 0s 39ms/step - loss: 0.0505 - mean_absolute_error: 0.0505 - val_loss: 0.0598 - val_mean_absolute_error: 0.0598\n",
      "Epoch 162/200\n",
      "3/3 [==============================] - 0s 37ms/step - loss: 0.0508 - mean_absolute_error: 0.0508 - val_loss: 0.0596 - val_mean_absolute_error: 0.0596\n",
      "Epoch 163/200\n",
      "3/3 [==============================] - 0s 37ms/step - loss: 0.0492 - mean_absolute_error: 0.0492 - val_loss: 0.0598 - val_mean_absolute_error: 0.0598\n",
      "Epoch 164/200\n",
      "3/3 [==============================] - 0s 37ms/step - loss: 0.0489 - mean_absolute_error: 0.0489 - val_loss: 0.0619 - val_mean_absolute_error: 0.0619\n",
      "Epoch 165/200\n",
      "3/3 [==============================] - 0s 36ms/step - loss: 0.0479 - mean_absolute_error: 0.0479 - val_loss: 0.0655 - val_mean_absolute_error: 0.0655\n",
      "Epoch 166/200\n",
      "3/3 [==============================] - 0s 36ms/step - loss: 0.0449 - mean_absolute_error: 0.0449 - val_loss: 0.0685 - val_mean_absolute_error: 0.0685\n",
      "Epoch 167/200\n",
      "3/3 [==============================] - 0s 36ms/step - loss: 0.0448 - mean_absolute_error: 0.0448 - val_loss: 0.0682 - val_mean_absolute_error: 0.0682\n",
      "Epoch 168/200\n",
      "3/3 [==============================] - 0s 37ms/step - loss: 0.0504 - mean_absolute_error: 0.0504 - val_loss: 0.0690 - val_mean_absolute_error: 0.0690\n",
      "Epoch 169/200\n",
      "3/3 [==============================] - 0s 37ms/step - loss: 0.0464 - mean_absolute_error: 0.0464 - val_loss: 0.0713 - val_mean_absolute_error: 0.0713\n",
      "Epoch 170/200\n",
      "3/3 [==============================] - 0s 37ms/step - loss: 0.0462 - mean_absolute_error: 0.0462 - val_loss: 0.0719 - val_mean_absolute_error: 0.0719\n",
      "Epoch 171/200\n",
      "3/3 [==============================] - 0s 37ms/step - loss: 0.0436 - mean_absolute_error: 0.0436 - val_loss: 0.0737 - val_mean_absolute_error: 0.0737\n",
      "Epoch 172/200\n",
      "3/3 [==============================] - 0s 38ms/step - loss: 0.0494 - mean_absolute_error: 0.0494 - val_loss: 0.0734 - val_mean_absolute_error: 0.0734\n",
      "Epoch 173/200\n",
      "3/3 [==============================] - 0s 36ms/step - loss: 0.0426 - mean_absolute_error: 0.0426 - val_loss: 0.0750 - val_mean_absolute_error: 0.0750\n",
      "Epoch 174/200\n",
      "3/3 [==============================] - 0s 36ms/step - loss: 0.0461 - mean_absolute_error: 0.0461 - val_loss: 0.0778 - val_mean_absolute_error: 0.0778\n",
      "Epoch 175/200\n",
      "3/3 [==============================] - 0s 38ms/step - loss: 0.0463 - mean_absolute_error: 0.0463 - val_loss: 0.0779 - val_mean_absolute_error: 0.0779\n",
      "Epoch 176/200\n",
      "3/3 [==============================] - 0s 35ms/step - loss: 0.0475 - mean_absolute_error: 0.0475 - val_loss: 0.0787 - val_mean_absolute_error: 0.0787\n",
      "Epoch 177/200\n",
      "3/3 [==============================] - 0s 34ms/step - loss: 0.0478 - mean_absolute_error: 0.0478 - val_loss: 0.0796 - val_mean_absolute_error: 0.0796\n",
      "Epoch 178/200\n",
      "3/3 [==============================] - 0s 35ms/step - loss: 0.0445 - mean_absolute_error: 0.0445 - val_loss: 0.0761 - val_mean_absolute_error: 0.0761\n",
      "Epoch 179/200\n",
      "3/3 [==============================] - 0s 38ms/step - loss: 0.0416 - mean_absolute_error: 0.0416 - val_loss: 0.0696 - val_mean_absolute_error: 0.0696\n",
      "Epoch 180/200\n",
      "3/3 [==============================] - 0s 34ms/step - loss: 0.0513 - mean_absolute_error: 0.0513 - val_loss: 0.0644 - val_mean_absolute_error: 0.0644\n",
      "Epoch 181/200\n",
      "3/3 [==============================] - 0s 36ms/step - loss: 0.0446 - mean_absolute_error: 0.0446 - val_loss: 0.0625 - val_mean_absolute_error: 0.0625\n",
      "Epoch 182/200\n",
      "3/3 [==============================] - 0s 39ms/step - loss: 0.0450 - mean_absolute_error: 0.0450 - val_loss: 0.0623 - val_mean_absolute_error: 0.0623\n",
      "Epoch 183/200\n",
      "3/3 [==============================] - 0s 38ms/step - loss: 0.0477 - mean_absolute_error: 0.0477 - val_loss: 0.0629 - val_mean_absolute_error: 0.0629\n",
      "Epoch 184/200\n",
      "3/3 [==============================] - 0s 36ms/step - loss: 0.0445 - mean_absolute_error: 0.0445 - val_loss: 0.0646 - val_mean_absolute_error: 0.0646\n",
      "Epoch 185/200\n",
      "3/3 [==============================] - 0s 36ms/step - loss: 0.0494 - mean_absolute_error: 0.0494 - val_loss: 0.0664 - val_mean_absolute_error: 0.0664\n",
      "Epoch 186/200\n",
      "3/3 [==============================] - 0s 35ms/step - loss: 0.0418 - mean_absolute_error: 0.0418 - val_loss: 0.0659 - val_mean_absolute_error: 0.0659\n",
      "Epoch 187/200\n",
      "3/3 [==============================] - 0s 38ms/step - loss: 0.0505 - mean_absolute_error: 0.0505 - val_loss: 0.0641 - val_mean_absolute_error: 0.0641\n",
      "Epoch 188/200\n",
      "3/3 [==============================] - 0s 37ms/step - loss: 0.0456 - mean_absolute_error: 0.0456 - val_loss: 0.0619 - val_mean_absolute_error: 0.0619\n",
      "Epoch 189/200\n",
      "3/3 [==============================] - 0s 36ms/step - loss: 0.0464 - mean_absolute_error: 0.0464 - val_loss: 0.0605 - val_mean_absolute_error: 0.0605\n",
      "Epoch 190/200\n",
      "3/3 [==============================] - 0s 38ms/step - loss: 0.0481 - mean_absolute_error: 0.0481 - val_loss: 0.0596 - val_mean_absolute_error: 0.0596\n",
      "Epoch 191/200\n",
      "3/3 [==============================] - 0s 33ms/step - loss: 0.0402 - mean_absolute_error: 0.0402 - val_loss: 0.0590 - val_mean_absolute_error: 0.0590\n",
      "Epoch 192/200\n",
      "3/3 [==============================] - 0s 36ms/step - loss: 0.0429 - mean_absolute_error: 0.0429 - val_loss: 0.0585 - val_mean_absolute_error: 0.0585\n",
      "Epoch 193/200\n",
      "3/3 [==============================] - 0s 34ms/step - loss: 0.0427 - mean_absolute_error: 0.0427 - val_loss: 0.0581 - val_mean_absolute_error: 0.0581\n",
      "Epoch 194/200\n",
      "3/3 [==============================] - 0s 40ms/step - loss: 0.0475 - mean_absolute_error: 0.0475 - val_loss: 0.0577 - val_mean_absolute_error: 0.0577\n",
      "Epoch 195/200\n",
      "3/3 [==============================] - 0s 36ms/step - loss: 0.0436 - mean_absolute_error: 0.0436 - val_loss: 0.0572 - val_mean_absolute_error: 0.0572\n",
      "Epoch 196/200\n",
      "3/3 [==============================] - 0s 40ms/step - loss: 0.0433 - mean_absolute_error: 0.0433 - val_loss: 0.0567 - val_mean_absolute_error: 0.0567\n",
      "Epoch 197/200\n",
      "3/3 [==============================] - 0s 37ms/step - loss: 0.0399 - mean_absolute_error: 0.0399 - val_loss: 0.0564 - val_mean_absolute_error: 0.0564\n",
      "Epoch 198/200\n",
      "3/3 [==============================] - 0s 36ms/step - loss: 0.0441 - mean_absolute_error: 0.0441 - val_loss: 0.0565 - val_mean_absolute_error: 0.0565\n",
      "Epoch 199/200\n",
      "3/3 [==============================] - 0s 36ms/step - loss: 0.0415 - mean_absolute_error: 0.0415 - val_loss: 0.0569 - val_mean_absolute_error: 0.0569\n",
      "Epoch 200/200\n",
      "3/3 [==============================] - 0s 36ms/step - loss: 0.0399 - mean_absolute_error: 0.0399 - val_loss: 0.0574 - val_mean_absolute_error: 0.0574\n",
      "CPU times: user 27.7 s, sys: 6.83 s, total: 34.6 s\n",
      "Wall time: 24.1 s\n"
     ]
    }
   ],
   "source": [
    "%%time\n",
    "model_store = Path(f'Result/saved_weights_{phenotype}.hdf5')\n",
    "\n",
    "# save the best performing model\n",
    "checkpointer = ModelCheckpoint(filepath=model_store, \n",
    "                               monitor='val_loss', verbose=0, \n",
    "                               save_best_only=True)\n",
    "\n",
    "st = time.time()\n",
    "# model training\n",
    "model.fit([x_train], y_train,\n",
    "          batch_size=60,\n",
    "          epochs=200, \n",
    "          verbose=1,\n",
    "          callbacks=[checkpointer],\n",
    "          validation_data=([x_valid], y_valid))\n",
    "rt = time.time()-st"
   ]
  },
  {
   "cell_type": "code",
   "execution_count": 11,
   "metadata": {},
   "outputs": [
    {
     "data": {
      "text/plain": [
       "24.127426385879517"
      ]
     },
     "execution_count": 11,
     "metadata": {},
     "output_type": "execute_result"
    }
   ],
   "source": [
    "rt"
   ]
  },
  {
   "cell_type": "code",
   "execution_count": 12,
   "metadata": {
    "tags": []
   },
   "outputs": [
    {
     "data": {
      "image/png": "[encoded data removed]",
      "text/plain": [
       "<Figure size 648x432 with 1 Axes>"
      ]
     },
     "metadata": {
      "needs_background": "light"
     },
     "output_type": "display_data"
    }
   ],
   "source": [
    "##### Step 6: plot train and validation loss #####\n",
    "history = model.history\n",
    "plt.plot(age_range*pd.Series(history.history['mean_absolute_error']))\n",
    "plt.plot(age_range*pd.Series(history.history['val_mean_absolute_error']))\n",
    "plt.title('model train vs validation loss')\n",
    "plt.ylabel('loss')\n",
    "plt.xlabel('epoch')\n",
    "plt.legend(['train', 'validation'], loc='upper right')\n",
    "plt.show()"
   ]
  },
  {
   "cell_type": "code",
   "execution_count": 13,
   "metadata": {},
   "outputs": [],
   "source": [
    "#### Step 7: test the final model #####\n",
    "final_model = load_model(model_store)\n",
    "x_test = x_valid\n",
    "y_test = y_valid\n",
    "y_scores = final_model.predict([x_test])\n",
    "y_scores = y_scores.reshape(y_scores.shape[0])"
   ]
  },
  {
   "cell_type": "code",
   "execution_count": 14,
   "metadata": {},
   "outputs": [
    {
     "data": {
      "text/plain": [
       "count    51.000000\n",
       "mean      4.340826\n",
       "std      19.494917\n",
       "min     -29.438596\n",
       "25%      -7.126470\n",
       "50%       1.100148\n",
       "75%      12.020058\n",
       "max      74.236795\n",
       "dtype: float64"
      ]
     },
     "execution_count": 14,
     "metadata": {},
     "output_type": "execute_result"
    }
   ],
   "source": [
    "errors = age_range * (pd.Series(y_test)-pd.Series(y_scores))\n",
    "errors.describe()"
   ]
  },
  {
   "cell_type": "code",
   "execution_count": 15,
   "metadata": {},
   "outputs": [
    {
     "data": {
      "image/png": "[encoded data removed]",
      "text/plain": [
       "<Figure size 648x432 with 1 Axes>"
      ]
     },
     "metadata": {
      "needs_background": "light"
     },
     "output_type": "display_data"
    }
   ],
   "source": [
    "plt.hist(errors)\n",
    "plt.title('Error Distribution')\n",
    "plt.xlabel('Actual - Predicted [Years]')\n",
    "plt.show()"
   ]
  },
  {
   "cell_type": "code",
   "execution_count": 16,
   "metadata": {},
   "outputs": [
    {
     "name": "stdout",
     "output_type": "stream",
     "text": [
      "[2.75397827e-02 8.38288993e+01]\n"
     ]
    },
    {
     "data": {
      "image/png": "[encoded data removed]",
      "text/plain": [
       "<Figure size 648x432 with 1 Axes>"
      ]
     },
     "metadata": {
      "needs_background": "light"
     },
     "output_type": "display_data"
    }
   ],
   "source": [
    "age_true = y_test*age_range + age_min\n",
    "age_pred = y_scores*age_range + age_min\n",
    "plt.plot(age_true, age_pred,'b.')\n",
    "plt.axis('square')\n",
    "limits = (min(min(age_true), min(age_pred)), max(max(age_true), max(age_pred)))\n",
    "limits = (limits[0] - 0.1*(limits[1] - limits[0]), limits[1] + 0.1*(limits[1] - limits[0]))\n",
    "plt.xlim(limits)\n",
    "plt.ylim(limits)\n",
    "plt.xlabel('True Age')\n",
    "plt.ylabel('Predicted Age')\n",
    "plt.title('Prediction vs True')\n",
    "plt.plot(limits,limits,'--k')\n",
    "coef = np.polyfit(age_true, age_pred, 1)\n",
    "print(coef)\n",
    "poly1d_fn = np.poly1d(coef)\n",
    "plt.plot(limits, poly1d_fn(limits), '--b')\n",
    "plt.show()"
   ]
  },
  {
   "cell_type": "code",
   "execution_count": null,
   "metadata": {},
   "outputs": [],
   "source": []
  }
 ],
 "metadata": {
  "kernelspec": {
   "display_name": "Python 3",
   "language": "python",
   "name": "python3"
  },
  "language_info": {
   "codemirror_mode": {
    "name": "ipython",
    "version": 3
   },
   "file_extension": ".py",
   "mimetype": "text/x-python",
   "name": "python",
   "nbconvert_exporter": "python",
   "pygments_lexer": "ipython3",
   "version": "3.9.6"
  }
 },
 "nbformat": 4,
 "nbformat_minor": 4
}
