{
 "cells": [
  {
   "cell_type": "markdown",
   "metadata": {},
   "source": [
    "# Predict `Glucose`"
   ]
  },
  {
   "cell_type": "code",
   "execution_count": 1,
   "metadata": {},
   "outputs": [],
   "source": [
    "%matplotlib inline"
   ]
  },
  {
   "cell_type": "code",
   "execution_count": 2,
   "metadata": {},
   "outputs": [],
   "source": [
    "##### Step 1: import functions #####\n",
    "import tensorflow as tf\n",
    "from tensorflow.keras.layers import Dense, Flatten, BatchNormalization, Activation, Conv2D, AveragePooling2D, Input, Softmax\n",
    "from tensorflow.keras.models import load_model, Model, Sequential\n",
    "from tensorflow.keras.optimizers import Adam\n",
    "from tensorflow.keras.callbacks import ModelCheckpoint, EarlyStopping\n",
    "from tensorflow.keras.losses import SparseCategoricalCrossentropy\n",
    "from tensorflow.keras import backend as K\n",
    "from tensorflow.keras.utils import plot_model\n",
    "import pickle\n",
    "import pandas as pd\n",
    "import numpy as np\n",
    "# from numpy.random import seed; seed(111)\n",
    "import random\n",
    "import matplotlib.pyplot as plt\n",
    "import seaborn as sns\n",
    "# from tensorflow.random import set_seed; set_seed(111)\n",
    "from sklearn.metrics import roc_curve, auc\n",
    "from sklearn.preprocessing import normalize\n",
    "from six import StringIO  \n",
    "from sklearn.tree import export_graphviz, DecisionTreeRegressor\n",
    "from sklearn.model_selection import train_test_split\n",
    "from scipy.stats import ttest_ind\n",
    "from IPython.display import Image  \n",
    "import pydotplus\n",
    "import time\n",
    "from pathlib import Path\n",
    "import math\n",
    "from sklearn.preprocessing import StandardScaler"
   ]
  },
  {
   "cell_type": "code",
   "execution_count": 3,
   "metadata": {},
   "outputs": [],
   "source": [
    "%matplotlib inline"
   ]
  },
  {
   "cell_type": "code",
   "execution_count": 4,
   "metadata": {},
   "outputs": [],
   "source": [
    "# %config InlineBackend.figure_format = 'svg'\n",
    "plt.rcParams['figure.figsize'] = [9,6]"
   ]
  },
  {
   "cell_type": "code",
   "execution_count": 5,
   "metadata": {},
   "outputs": [],
   "source": [
    "gpus = tf.config.list_physical_devices('GPU')\n",
    "tf.config.experimental.set_memory_growth(gpus[0], True)"
   ]
  },
  {
   "cell_type": "code",
   "execution_count": 6,
   "metadata": {},
   "outputs": [],
   "source": [
    "phenotype = 'WBC'"
   ]
  },
  {
   "cell_type": "code",
   "execution_count": 7,
   "metadata": {},
   "outputs": [
    {
     "name": "stdout",
     "output_type": "stream",
     "text": [
      "Dimensions of cyto_data: (260, 10000, 27, 1)\n",
      "Dimensions of samples: (260, 85)\n",
      "Names of the makers: ['CELL_LENGTH' 'DEAD' 'CD19' 'CD4' 'CD8' 'IGD' 'CD85J' 'CD16' 'CD3' 'CD38'\n",
      " 'CD27' 'CD14' 'CD94' 'CCR7' 'CD45RA' 'CD20' 'CD127' 'CD33' 'CD28' 'CD24'\n",
      " 'CD161' 'TCRGD' 'CD56' 'HLADR' 'CD25' 'DNA1' 'DNA2']\n"
     ]
    }
   ],
   "source": [
    "#load data\n",
    "aging_dir = Path('/home/ubuntu/a/aging')\n",
    "\n",
    "with open(aging_dir/'aging-cytof-data.obj', 'rb') as f:\n",
    "    allData = pickle.load(f)\n",
    "samples = allData[\"samples\"]\n",
    "cyto_data = allData['expr_list']\n",
    "# Truncate cytodata\n",
    "cyto_data = cyto_data[ :, :int(10e3)]\n",
    "markers = allData[\"marker_names\"]\n",
    "\n",
    "print(f'Dimensions of cyto_data: {cyto_data.shape}')\n",
    "print(f'Dimensions of samples: {samples.shape}')\n",
    "print(f'Names of the makers: {markers.values}')"
   ]
  },
  {
   "cell_type": "code",
   "execution_count": 8,
   "metadata": {},
   "outputs": [
    {
     "name": "stdout",
     "output_type": "stream",
     "text": [
      "count    202.000000\n",
      "mean       5.601485\n",
      "std        1.376978\n",
      "min        2.700000\n",
      "25%        4.700000\n",
      "50%        5.450000\n",
      "75%        6.375000\n",
      "max       12.500000\n",
      "Name: WBC, dtype: float64\n"
     ]
    },
    {
     "data": {
      "text/plain": [
       "<AxesSubplot:ylabel='Frequency'>"
      ]
     },
     "execution_count": 8,
     "metadata": {},
     "output_type": "execute_result"
    },
    {
     "data": {
      "image/png": "[encoded data removed]",
      "text/plain": [
       "<Figure size 648x432 with 1 Axes>"
      ]
     },
     "metadata": {
      "needs_background": "light"
     },
     "output_type": "display_data"
    }
   ],
   "source": [
    "print(samples[phenotype].describe())\n",
    "samples[phenotype].plot.hist(bins=50)"
   ]
  },
  {
   "cell_type": "code",
   "execution_count": 9,
   "metadata": {},
   "outputs": [
    {
     "name": "stdout",
     "output_type": "stream",
     "text": [
      "(151, 10000, 27, 1) (51, 10000, 27, 1)\n"
     ]
    }
   ],
   "source": [
    "##### Step 3: split train, validation and test######\n",
    "x = []\n",
    "y = []\n",
    "for i, row in samples.iterrows():\n",
    "    if math.isnan(row[phenotype]):\n",
    "        continue\n",
    "    phenval = row[phenotype]\n",
    "    x.append(cyto_data[i])\n",
    "    y.append(phenval)\n",
    "x = np.asarray(x)\n",
    "y_raw = np.asarray(y)\n",
    "\n",
    "x_train, x_valid, y_train, y_valid = train_test_split(x, y_raw)\n",
    "\n",
    "y_train = y_train.reshape(-1,1)\n",
    "y_valid = y_valid.reshape(-1,1)\n",
    "scaler = StandardScaler()\n",
    "scaler.fit(y_train)\n",
    "y_train = scaler.transform(y_train).reshape(1,-1)[0]\n",
    "y_valid = scaler.transform(y_valid).reshape(1,-1)[0]\n",
    "print(x_train.shape, x_valid.shape)"
   ]
  },
  {
   "cell_type": "code",
   "execution_count": 10,
   "metadata": {},
   "outputs": [
    {
     "data": {
      "image/png": "[encoded data removed]",
      "text/plain": [
       "<Figure size 648x432 with 2 Axes>"
      ]
     },
     "metadata": {
      "needs_background": "light"
     },
     "output_type": "display_data"
    }
   ],
   "source": [
    "fig, axes = plt.subplots(1,2)\n",
    "axes[0].hist(y_train, bins=10)\n",
    "axes[0].set_title('Train')\n",
    "axes[1].hist(y_valid, bins=10)\n",
    "axes[1].set_title('Valid')\n",
    "plt.show()"
   ]
  },
  {
   "cell_type": "code",
   "execution_count": 23,
   "metadata": {},
   "outputs": [
    {
     "name": "stdout",
     "output_type": "stream",
     "text": [
      "Model: \"sequential_1\"\n",
      "_________________________________________________________________\n",
      "Layer (type)                 Output Shape              Param #   \n",
      "=================================================================\n",
      "conv2d_2 (Conv2D)            (None, 10000, 1, 3)       84        \n",
      "_________________________________________________________________\n",
      "batch_normalization_3 (Batch (None, 10000, 1, 3)       12        \n",
      "_________________________________________________________________\n",
      "activation_3 (Activation)    (None, 10000, 1, 3)       0         \n",
      "_________________________________________________________________\n",
      "conv2d_3 (Conv2D)            (None, 10000, 1, 6)       24        \n",
      "_________________________________________________________________\n",
      "batch_normalization_4 (Batch (None, 10000, 1, 6)       24        \n",
      "_________________________________________________________________\n",
      "activation_4 (Activation)    (None, 10000, 1, 6)       0         \n",
      "_________________________________________________________________\n",
      "average_pooling2d_1 (Average (None, 1, 1, 6)           0         \n",
      "_________________________________________________________________\n",
      "flatten_1 (Flatten)          (None, 6)                 0         \n",
      "_________________________________________________________________\n",
      "dense_2 (Dense)              (None, 3)                 21        \n",
      "_________________________________________________________________\n",
      "batch_normalization_5 (Batch (None, 3)                 12        \n",
      "_________________________________________________________________\n",
      "activation_5 (Activation)    (None, 3)                 0         \n",
      "_________________________________________________________________\n",
      "dense_3 (Dense)              (None, 1)                 4         \n",
      "=================================================================\n",
      "Total params: 181\n",
      "Trainable params: 157\n",
      "Non-trainable params: 24\n",
      "_________________________________________________________________\n"
     ]
    }
   ],
   "source": [
    "model = Sequential([\n",
    "    Input(shape=x[0].shape),\n",
    "    Conv2D(3, kernel_size = (1, x.shape[2]), activation=None),\n",
    "    BatchNormalization(),\n",
    "    Activation('relu'),\n",
    "    Conv2D(6, kernel_size = (1,1), activation=None),\n",
    "    BatchNormalization(),\n",
    "    Activation('relu'),\n",
    "    AveragePooling2D(pool_size = (x.shape[1], 1)),\n",
    "    Flatten(),\n",
    "    Dense(3, activation=None),\n",
    "    BatchNormalization(),\n",
    "    Activation('relu'),\n",
    "    Dense(1, activation=None),\n",
    "])\n",
    "model.compile(loss='mean_absolute_error',\n",
    "              optimizer='adam',\n",
    "              metrics=['mean_absolute_error'])\n",
    "model.summary()"
   ]
  },
  {
   "cell_type": "code",
   "execution_count": 24,
   "metadata": {
    "scrolled": true,
    "tags": []
   },
   "outputs": [
    {
     "name": "stdout",
     "output_type": "stream",
     "text": [
      "Epoch 1/200\n",
      "3/3 [==============================] - 1s 152ms/step - loss: 0.9383 - mean_absolute_error: 0.9383 - val_loss: 0.7772 - val_mean_absolute_error: 0.7772\n",
      "Epoch 2/200\n",
      "3/3 [==============================] - 0s 60ms/step - loss: 0.9348 - mean_absolute_error: 0.9348 - val_loss: 0.7731 - val_mean_absolute_error: 0.7731\n",
      "Epoch 3/200\n",
      "3/3 [==============================] - 0s 56ms/step - loss: 0.9153 - mean_absolute_error: 0.9153 - val_loss: 0.7712 - val_mean_absolute_error: 0.7712\n",
      "Epoch 4/200\n",
      "3/3 [==============================] - 0s 56ms/step - loss: 0.9567 - mean_absolute_error: 0.9567 - val_loss: 0.7691 - val_mean_absolute_error: 0.7691\n",
      "Epoch 5/200\n",
      "3/3 [==============================] - 0s 55ms/step - loss: 0.8948 - mean_absolute_error: 0.8948 - val_loss: 0.7683 - val_mean_absolute_error: 0.7683\n",
      "Epoch 6/200\n",
      "3/3 [==============================] - 0s 49ms/step - loss: 0.9096 - mean_absolute_error: 0.9096 - val_loss: 0.7681 - val_mean_absolute_error: 0.7681\n",
      "Epoch 7/200\n",
      "3/3 [==============================] - 0s 52ms/step - loss: 0.8740 - mean_absolute_error: 0.8740 - val_loss: 0.7689 - val_mean_absolute_error: 0.7689\n",
      "Epoch 8/200\n",
      "3/3 [==============================] - 0s 51ms/step - loss: 0.9152 - mean_absolute_error: 0.9152 - val_loss: 0.7696 - val_mean_absolute_error: 0.7696\n",
      "Epoch 9/200\n",
      "3/3 [==============================] - 0s 50ms/step - loss: 0.8602 - mean_absolute_error: 0.8602 - val_loss: 0.7704 - val_mean_absolute_error: 0.7704\n",
      "Epoch 10/200\n",
      "3/3 [==============================] - 0s 47ms/step - loss: 0.8711 - mean_absolute_error: 0.8711 - val_loss: 0.7716 - val_mean_absolute_error: 0.7716\n",
      "Epoch 11/200\n",
      "3/3 [==============================] - 0s 49ms/step - loss: 0.8438 - mean_absolute_error: 0.8438 - val_loss: 0.7728 - val_mean_absolute_error: 0.7728\n",
      "Epoch 12/200\n",
      "3/3 [==============================] - 0s 49ms/step - loss: 0.8260 - mean_absolute_error: 0.8260 - val_loss: 0.7737 - val_mean_absolute_error: 0.7737\n",
      "Epoch 13/200\n",
      "3/3 [==============================] - 0s 50ms/step - loss: 0.8469 - mean_absolute_error: 0.8469 - val_loss: 0.7747 - val_mean_absolute_error: 0.7747\n",
      "Epoch 14/200\n",
      "3/3 [==============================] - 0s 50ms/step - loss: 0.8515 - mean_absolute_error: 0.8515 - val_loss: 0.7758 - val_mean_absolute_error: 0.7758\n",
      "Epoch 15/200\n",
      "3/3 [==============================] - 0s 49ms/step - loss: 0.8616 - mean_absolute_error: 0.8616 - val_loss: 0.7764 - val_mean_absolute_error: 0.7764\n",
      "Epoch 16/200\n",
      "3/3 [==============================] - 0s 50ms/step - loss: 0.8200 - mean_absolute_error: 0.8200 - val_loss: 0.7765 - val_mean_absolute_error: 0.7765\n",
      "Epoch 17/200\n",
      "3/3 [==============================] - 0s 49ms/step - loss: 0.8022 - mean_absolute_error: 0.8022 - val_loss: 0.7759 - val_mean_absolute_error: 0.7759\n",
      "Epoch 18/200\n",
      "3/3 [==============================] - 0s 49ms/step - loss: 0.8173 - mean_absolute_error: 0.8173 - val_loss: 0.7757 - val_mean_absolute_error: 0.7757\n",
      "Epoch 19/200\n",
      "3/3 [==============================] - 0s 49ms/step - loss: 0.7901 - mean_absolute_error: 0.7901 - val_loss: 0.7755 - val_mean_absolute_error: 0.7755\n",
      "Epoch 20/200\n",
      "3/3 [==============================] - 0s 49ms/step - loss: 0.8140 - mean_absolute_error: 0.8140 - val_loss: 0.7754 - val_mean_absolute_error: 0.7754\n",
      "Epoch 21/200\n",
      "3/3 [==============================] - 0s 46ms/step - loss: 0.8258 - mean_absolute_error: 0.8258 - val_loss: 0.7756 - val_mean_absolute_error: 0.7756\n",
      "Epoch 22/200\n",
      "3/3 [==============================] - 0s 50ms/step - loss: 0.7760 - mean_absolute_error: 0.7760 - val_loss: 0.7756 - val_mean_absolute_error: 0.7756\n",
      "Epoch 23/200\n",
      "3/3 [==============================] - 0s 49ms/step - loss: 0.7973 - mean_absolute_error: 0.7973 - val_loss: 0.7754 - val_mean_absolute_error: 0.7754\n",
      "Epoch 24/200\n",
      "3/3 [==============================] - 0s 49ms/step - loss: 0.7870 - mean_absolute_error: 0.7870 - val_loss: 0.7755 - val_mean_absolute_error: 0.7755\n",
      "Epoch 25/200\n",
      "3/3 [==============================] - 0s 50ms/step - loss: 0.7944 - mean_absolute_error: 0.7944 - val_loss: 0.7753 - val_mean_absolute_error: 0.7753\n",
      "Epoch 26/200\n",
      "3/3 [==============================] - 0s 46ms/step - loss: 0.7987 - mean_absolute_error: 0.7987 - val_loss: 0.7753 - val_mean_absolute_error: 0.7753\n",
      "Epoch 27/200\n",
      "3/3 [==============================] - 0s 46ms/step - loss: 0.7992 - mean_absolute_error: 0.7992 - val_loss: 0.7754 - val_mean_absolute_error: 0.7754\n",
      "Epoch 28/200\n",
      "3/3 [==============================] - 0s 49ms/step - loss: 0.7820 - mean_absolute_error: 0.7820 - val_loss: 0.7753 - val_mean_absolute_error: 0.7753\n",
      "Epoch 29/200\n",
      "3/3 [==============================] - 0s 50ms/step - loss: 0.8135 - mean_absolute_error: 0.8135 - val_loss: 0.7752 - val_mean_absolute_error: 0.7752\n",
      "Epoch 30/200\n",
      "3/3 [==============================] - 0s 46ms/step - loss: 0.7340 - mean_absolute_error: 0.7340 - val_loss: 0.7755 - val_mean_absolute_error: 0.7755\n",
      "Epoch 31/200\n",
      "3/3 [==============================] - 0s 50ms/step - loss: 0.7477 - mean_absolute_error: 0.7477 - val_loss: 0.7755 - val_mean_absolute_error: 0.7755\n",
      "Epoch 32/200\n",
      "3/3 [==============================] - 0s 49ms/step - loss: 0.7878 - mean_absolute_error: 0.7878 - val_loss: 0.7754 - val_mean_absolute_error: 0.7754\n",
      "Epoch 33/200\n",
      "3/3 [==============================] - 0s 47ms/step - loss: 0.7362 - mean_absolute_error: 0.7362 - val_loss: 0.7755 - val_mean_absolute_error: 0.7755\n",
      "Epoch 34/200\n",
      "3/3 [==============================] - 0s 47ms/step - loss: 0.7589 - mean_absolute_error: 0.7589 - val_loss: 0.7755 - val_mean_absolute_error: 0.7755\n",
      "Epoch 35/200\n",
      "3/3 [==============================] - 0s 50ms/step - loss: 0.7277 - mean_absolute_error: 0.7277 - val_loss: 0.7758 - val_mean_absolute_error: 0.7758\n",
      "Epoch 36/200\n",
      "3/3 [==============================] - 0s 49ms/step - loss: 0.7616 - mean_absolute_error: 0.7616 - val_loss: 0.7759 - val_mean_absolute_error: 0.7759\n",
      "Epoch 37/200\n",
      "3/3 [==============================] - 0s 46ms/step - loss: 0.7159 - mean_absolute_error: 0.7159 - val_loss: 0.7759 - val_mean_absolute_error: 0.7759\n",
      "Epoch 38/200\n",
      "3/3 [==============================] - 0s 48ms/step - loss: 0.7316 - mean_absolute_error: 0.7316 - val_loss: 0.7758 - val_mean_absolute_error: 0.7758\n",
      "Epoch 39/200\n",
      "3/3 [==============================] - 0s 50ms/step - loss: 0.7505 - mean_absolute_error: 0.7505 - val_loss: 0.7762 - val_mean_absolute_error: 0.7762\n",
      "Epoch 40/200\n",
      "3/3 [==============================] - 0s 50ms/step - loss: 0.7317 - mean_absolute_error: 0.7317 - val_loss: 0.7769 - val_mean_absolute_error: 0.7769\n",
      "Epoch 41/200\n",
      "3/3 [==============================] - 0s 45ms/step - loss: 0.7226 - mean_absolute_error: 0.7226 - val_loss: 0.7774 - val_mean_absolute_error: 0.7774\n",
      "Epoch 42/200\n",
      "3/3 [==============================] - 0s 49ms/step - loss: 0.7139 - mean_absolute_error: 0.7139 - val_loss: 0.7775 - val_mean_absolute_error: 0.7775\n",
      "Epoch 43/200\n",
      "3/3 [==============================] - 0s 53ms/step - loss: 0.7280 - mean_absolute_error: 0.7280 - val_loss: 0.7775 - val_mean_absolute_error: 0.7775\n",
      "Epoch 44/200\n",
      "3/3 [==============================] - 0s 49ms/step - loss: 0.7278 - mean_absolute_error: 0.7278 - val_loss: 0.7775 - val_mean_absolute_error: 0.7775\n",
      "Epoch 45/200\n",
      "3/3 [==============================] - 0s 49ms/step - loss: 0.7205 - mean_absolute_error: 0.7205 - val_loss: 0.7774 - val_mean_absolute_error: 0.7774\n",
      "Epoch 46/200\n",
      "3/3 [==============================] - 0s 50ms/step - loss: 0.7149 - mean_absolute_error: 0.7149 - val_loss: 0.7774 - val_mean_absolute_error: 0.7774\n",
      "Epoch 47/200\n",
      "3/3 [==============================] - 0s 49ms/step - loss: 0.7427 - mean_absolute_error: 0.7427 - val_loss: 0.7779 - val_mean_absolute_error: 0.7779\n",
      "Epoch 48/200\n",
      "3/3 [==============================] - 0s 49ms/step - loss: 0.7311 - mean_absolute_error: 0.7311 - val_loss: 0.7795 - val_mean_absolute_error: 0.7795\n",
      "Epoch 49/200\n",
      "3/3 [==============================] - 0s 49ms/step - loss: 0.6911 - mean_absolute_error: 0.6911 - val_loss: 0.7817 - val_mean_absolute_error: 0.7817\n",
      "Epoch 50/200\n",
      "3/3 [==============================] - 0s 46ms/step - loss: 0.7085 - mean_absolute_error: 0.7085 - val_loss: 0.7826 - val_mean_absolute_error: 0.7826\n",
      "Epoch 51/200\n",
      "3/3 [==============================] - 0s 49ms/step - loss: 0.6915 - mean_absolute_error: 0.6915 - val_loss: 0.7831 - val_mean_absolute_error: 0.7831\n",
      "Epoch 52/200\n",
      "3/3 [==============================] - 0s 49ms/step - loss: 0.7184 - mean_absolute_error: 0.7184 - val_loss: 0.7833 - val_mean_absolute_error: 0.7833\n",
      "Epoch 53/200\n",
      "3/3 [==============================] - 0s 46ms/step - loss: 0.7415 - mean_absolute_error: 0.7415 - val_loss: 0.7834 - val_mean_absolute_error: 0.7834\n",
      "Epoch 54/200\n",
      "3/3 [==============================] - 0s 51ms/step - loss: 0.6925 - mean_absolute_error: 0.6925 - val_loss: 0.7838 - val_mean_absolute_error: 0.7838\n",
      "Epoch 55/200\n",
      "3/3 [==============================] - 0s 49ms/step - loss: 0.6865 - mean_absolute_error: 0.6865 - val_loss: 0.7846 - val_mean_absolute_error: 0.7846\n",
      "Epoch 56/200\n",
      "3/3 [==============================] - 0s 50ms/step - loss: 0.7030 - mean_absolute_error: 0.7030 - val_loss: 0.7845 - val_mean_absolute_error: 0.7845\n",
      "Epoch 57/200\n",
      "3/3 [==============================] - 0s 47ms/step - loss: 0.6751 - mean_absolute_error: 0.6751 - val_loss: 0.7843 - val_mean_absolute_error: 0.7843\n",
      "Epoch 58/200\n",
      "3/3 [==============================] - 0s 50ms/step - loss: 0.6926 - mean_absolute_error: 0.6926 - val_loss: 0.7840 - val_mean_absolute_error: 0.7840\n",
      "Epoch 59/200\n",
      "3/3 [==============================] - 0s 46ms/step - loss: 0.7076 - mean_absolute_error: 0.7076 - val_loss: 0.7833 - val_mean_absolute_error: 0.7833\n",
      "Epoch 60/200\n",
      "3/3 [==============================] - 0s 50ms/step - loss: 0.6762 - mean_absolute_error: 0.6762 - val_loss: 0.7829 - val_mean_absolute_error: 0.7829\n",
      "Epoch 61/200\n",
      "3/3 [==============================] - 0s 50ms/step - loss: 0.6824 - mean_absolute_error: 0.6824 - val_loss: 0.7829 - val_mean_absolute_error: 0.7829\n",
      "Epoch 62/200\n",
      "3/3 [==============================] - 0s 49ms/step - loss: 0.6896 - mean_absolute_error: 0.6896 - val_loss: 0.7825 - val_mean_absolute_error: 0.7825\n",
      "Epoch 63/200\n",
      "3/3 [==============================] - 0s 50ms/step - loss: 0.6786 - mean_absolute_error: 0.6786 - val_loss: 0.7814 - val_mean_absolute_error: 0.7814\n",
      "Epoch 64/200\n",
      "3/3 [==============================] - 0s 50ms/step - loss: 0.6894 - mean_absolute_error: 0.6894 - val_loss: 0.7809 - val_mean_absolute_error: 0.7809\n",
      "Epoch 65/200\n",
      "3/3 [==============================] - 0s 50ms/step - loss: 0.6720 - mean_absolute_error: 0.6720 - val_loss: 0.7805 - val_mean_absolute_error: 0.7805\n",
      "Epoch 66/200\n",
      "3/3 [==============================] - 0s 50ms/step - loss: 0.6613 - mean_absolute_error: 0.6613 - val_loss: 0.7797 - val_mean_absolute_error: 0.7797\n",
      "Epoch 67/200\n",
      "3/3 [==============================] - 0s 50ms/step - loss: 0.6535 - mean_absolute_error: 0.6535 - val_loss: 0.7791 - val_mean_absolute_error: 0.7791\n",
      "Epoch 68/200\n",
      "3/3 [==============================] - 0s 49ms/step - loss: 0.7091 - mean_absolute_error: 0.7091 - val_loss: 0.7786 - val_mean_absolute_error: 0.7786\n",
      "Epoch 69/200\n",
      "3/3 [==============================] - 0s 49ms/step - loss: 0.6688 - mean_absolute_error: 0.6688 - val_loss: 0.7786 - val_mean_absolute_error: 0.7786\n",
      "Epoch 70/200\n",
      "3/3 [==============================] - 0s 50ms/step - loss: 0.6524 - mean_absolute_error: 0.6524 - val_loss: 0.7784 - val_mean_absolute_error: 0.7784\n",
      "Epoch 71/200\n",
      "3/3 [==============================] - 0s 55ms/step - loss: 0.6895 - mean_absolute_error: 0.6895 - val_loss: 0.7780 - val_mean_absolute_error: 0.7780\n",
      "Epoch 72/200\n",
      "3/3 [==============================] - 0s 50ms/step - loss: 0.6796 - mean_absolute_error: 0.6796 - val_loss: 0.7771 - val_mean_absolute_error: 0.7771\n",
      "Epoch 73/200\n",
      "3/3 [==============================] - 0s 49ms/step - loss: 0.6622 - mean_absolute_error: 0.6622 - val_loss: 0.7767 - val_mean_absolute_error: 0.7767\n",
      "Epoch 74/200\n",
      "3/3 [==============================] - 0s 46ms/step - loss: 0.6889 - mean_absolute_error: 0.6889 - val_loss: 0.7767 - val_mean_absolute_error: 0.7767\n",
      "Epoch 75/200\n",
      "3/3 [==============================] - 0s 50ms/step - loss: 0.6434 - mean_absolute_error: 0.6434 - val_loss: 0.7769 - val_mean_absolute_error: 0.7769\n",
      "Epoch 76/200\n",
      "3/3 [==============================] - 0s 50ms/step - loss: 0.6898 - mean_absolute_error: 0.6898 - val_loss: 0.7777 - val_mean_absolute_error: 0.7777\n",
      "Epoch 77/200\n",
      "3/3 [==============================] - 0s 50ms/step - loss: 0.6741 - mean_absolute_error: 0.6741 - val_loss: 0.7790 - val_mean_absolute_error: 0.7790\n",
      "Epoch 78/200\n",
      "3/3 [==============================] - 0s 50ms/step - loss: 0.6784 - mean_absolute_error: 0.6784 - val_loss: 0.7796 - val_mean_absolute_error: 0.7796\n",
      "Epoch 79/200\n",
      "3/3 [==============================] - 0s 49ms/step - loss: 0.6685 - mean_absolute_error: 0.6685 - val_loss: 0.7798 - val_mean_absolute_error: 0.7798\n",
      "Epoch 80/200\n",
      "3/3 [==============================] - 0s 46ms/step - loss: 0.6469 - mean_absolute_error: 0.6469 - val_loss: 0.7808 - val_mean_absolute_error: 0.7808\n",
      "Epoch 81/200\n",
      "3/3 [==============================] - 0s 50ms/step - loss: 0.6753 - mean_absolute_error: 0.6753 - val_loss: 0.7808 - val_mean_absolute_error: 0.7808\n",
      "Epoch 82/200\n",
      "3/3 [==============================] - 0s 50ms/step - loss: 0.6889 - mean_absolute_error: 0.6889 - val_loss: 0.7813 - val_mean_absolute_error: 0.7813\n",
      "Epoch 83/200\n",
      "3/3 [==============================] - 0s 50ms/step - loss: 0.6789 - mean_absolute_error: 0.6789 - val_loss: 0.7823 - val_mean_absolute_error: 0.7823\n",
      "Epoch 84/200\n",
      "3/3 [==============================] - 0s 50ms/step - loss: 0.6370 - mean_absolute_error: 0.6370 - val_loss: 0.7829 - val_mean_absolute_error: 0.7829\n",
      "Epoch 85/200\n",
      "3/3 [==============================] - 0s 50ms/step - loss: 0.6649 - mean_absolute_error: 0.6649 - val_loss: 0.7833 - val_mean_absolute_error: 0.7833\n",
      "Epoch 86/200\n",
      "3/3 [==============================] - 0s 50ms/step - loss: 0.6740 - mean_absolute_error: 0.6740 - val_loss: 0.7836 - val_mean_absolute_error: 0.7836\n",
      "Epoch 87/200\n",
      "3/3 [==============================] - 0s 46ms/step - loss: 0.6891 - mean_absolute_error: 0.6891 - val_loss: 0.7847 - val_mean_absolute_error: 0.7847\n",
      "Epoch 88/200\n",
      "3/3 [==============================] - 0s 49ms/step - loss: 0.7229 - mean_absolute_error: 0.7229 - val_loss: 0.7874 - val_mean_absolute_error: 0.7874\n",
      "Epoch 89/200\n",
      "3/3 [==============================] - 0s 46ms/step - loss: 0.6502 - mean_absolute_error: 0.6502 - val_loss: 0.7896 - val_mean_absolute_error: 0.7896\n",
      "Epoch 90/200\n",
      "3/3 [==============================] - 0s 50ms/step - loss: 0.6714 - mean_absolute_error: 0.6714 - val_loss: 0.7897 - val_mean_absolute_error: 0.7897\n",
      "Epoch 91/200\n",
      "3/3 [==============================] - 0s 50ms/step - loss: 0.6510 - mean_absolute_error: 0.6510 - val_loss: 0.7887 - val_mean_absolute_error: 0.7887\n",
      "Epoch 92/200\n",
      "3/3 [==============================] - 0s 49ms/step - loss: 0.6815 - mean_absolute_error: 0.6815 - val_loss: 0.7891 - val_mean_absolute_error: 0.7891\n",
      "Epoch 93/200\n",
      "3/3 [==============================] - 0s 49ms/step - loss: 0.6850 - mean_absolute_error: 0.6850 - val_loss: 0.7897 - val_mean_absolute_error: 0.7897\n",
      "Epoch 94/200\n",
      "3/3 [==============================] - 0s 50ms/step - loss: 0.7110 - mean_absolute_error: 0.7110 - val_loss: 0.7917 - val_mean_absolute_error: 0.7917\n",
      "Epoch 95/200\n",
      "3/3 [==============================] - 0s 50ms/step - loss: 0.6687 - mean_absolute_error: 0.6687 - val_loss: 0.7937 - val_mean_absolute_error: 0.7937\n",
      "Epoch 96/200\n",
      "3/3 [==============================] - 0s 47ms/step - loss: 0.6400 - mean_absolute_error: 0.6400 - val_loss: 0.7968 - val_mean_absolute_error: 0.7968\n",
      "Epoch 97/200\n",
      "3/3 [==============================] - 0s 50ms/step - loss: 0.6822 - mean_absolute_error: 0.6822 - val_loss: 0.7974 - val_mean_absolute_error: 0.7974\n",
      "Epoch 98/200\n",
      "3/3 [==============================] - 0s 50ms/step - loss: 0.6387 - mean_absolute_error: 0.6387 - val_loss: 0.7968 - val_mean_absolute_error: 0.7968\n",
      "Epoch 99/200\n",
      "3/3 [==============================] - 0s 50ms/step - loss: 0.6368 - mean_absolute_error: 0.6368 - val_loss: 0.7959 - val_mean_absolute_error: 0.7959\n",
      "Epoch 100/200\n",
      "3/3 [==============================] - 0s 51ms/step - loss: 0.6658 - mean_absolute_error: 0.6658 - val_loss: 0.7964 - val_mean_absolute_error: 0.7964\n",
      "Epoch 101/200\n",
      "3/3 [==============================] - 0s 47ms/step - loss: 0.6496 - mean_absolute_error: 0.6496 - val_loss: 0.7973 - val_mean_absolute_error: 0.7973\n",
      "Epoch 102/200\n",
      "3/3 [==============================] - 0s 50ms/step - loss: 0.6847 - mean_absolute_error: 0.6847 - val_loss: 0.7984 - val_mean_absolute_error: 0.7984\n",
      "Epoch 103/200\n",
      "3/3 [==============================] - 0s 50ms/step - loss: 0.6848 - mean_absolute_error: 0.6848 - val_loss: 0.7994 - val_mean_absolute_error: 0.7994\n",
      "Epoch 104/200\n",
      "3/3 [==============================] - 0s 51ms/step - loss: 0.6347 - mean_absolute_error: 0.6347 - val_loss: 0.7997 - val_mean_absolute_error: 0.7997\n",
      "Epoch 105/200\n",
      "3/3 [==============================] - 0s 50ms/step - loss: 0.6438 - mean_absolute_error: 0.6438 - val_loss: 0.7995 - val_mean_absolute_error: 0.7995\n",
      "Epoch 106/200\n",
      "3/3 [==============================] - 0s 50ms/step - loss: 0.6777 - mean_absolute_error: 0.6777 - val_loss: 0.8000 - val_mean_absolute_error: 0.8000\n",
      "Epoch 107/200\n",
      "3/3 [==============================] - 0s 49ms/step - loss: 0.6492 - mean_absolute_error: 0.6492 - val_loss: 0.8003 - val_mean_absolute_error: 0.8003\n",
      "Epoch 108/200\n",
      "3/3 [==============================] - 0s 50ms/step - loss: 0.6751 - mean_absolute_error: 0.6751 - val_loss: 0.7988 - val_mean_absolute_error: 0.7988\n",
      "Epoch 109/200\n",
      "3/3 [==============================] - 0s 50ms/step - loss: 0.6448 - mean_absolute_error: 0.6448 - val_loss: 0.7980 - val_mean_absolute_error: 0.7980\n",
      "Epoch 110/200\n",
      "3/3 [==============================] - 0s 49ms/step - loss: 0.6778 - mean_absolute_error: 0.6778 - val_loss: 0.7975 - val_mean_absolute_error: 0.7975\n",
      "Epoch 111/200\n",
      "3/3 [==============================] - 0s 49ms/step - loss: 0.6701 - mean_absolute_error: 0.6701 - val_loss: 0.7990 - val_mean_absolute_error: 0.7990\n",
      "Epoch 112/200\n",
      "3/3 [==============================] - 0s 50ms/step - loss: 0.6063 - mean_absolute_error: 0.6063 - val_loss: 0.8001 - val_mean_absolute_error: 0.8001\n",
      "Epoch 113/200\n",
      "3/3 [==============================] - 0s 50ms/step - loss: 0.6913 - mean_absolute_error: 0.6913 - val_loss: 0.8024 - val_mean_absolute_error: 0.8024\n",
      "Epoch 114/200\n",
      "3/3 [==============================] - 0s 50ms/step - loss: 0.6717 - mean_absolute_error: 0.6717 - val_loss: 0.8051 - val_mean_absolute_error: 0.8051\n",
      "Epoch 115/200\n",
      "3/3 [==============================] - 0s 50ms/step - loss: 0.6456 - mean_absolute_error: 0.6456 - val_loss: 0.8086 - val_mean_absolute_error: 0.8086\n",
      "Epoch 116/200\n",
      "3/3 [==============================] - 0s 49ms/step - loss: 0.6478 - mean_absolute_error: 0.6478 - val_loss: 0.8126 - val_mean_absolute_error: 0.8126\n",
      "Epoch 117/200\n",
      "3/3 [==============================] - 0s 47ms/step - loss: 0.6231 - mean_absolute_error: 0.6231 - val_loss: 0.8144 - val_mean_absolute_error: 0.8144\n",
      "Epoch 118/200\n",
      "3/3 [==============================] - 0s 50ms/step - loss: 0.6302 - mean_absolute_error: 0.6302 - val_loss: 0.8168 - val_mean_absolute_error: 0.8168\n",
      "Epoch 119/200\n",
      "3/3 [==============================] - 0s 49ms/step - loss: 0.6678 - mean_absolute_error: 0.6678 - val_loss: 0.8179 - val_mean_absolute_error: 0.8179\n",
      "Epoch 120/200\n",
      "3/3 [==============================] - 0s 50ms/step - loss: 0.6413 - mean_absolute_error: 0.6413 - val_loss: 0.8181 - val_mean_absolute_error: 0.8181\n",
      "Epoch 121/200\n",
      "3/3 [==============================] - 0s 50ms/step - loss: 0.6526 - mean_absolute_error: 0.6526 - val_loss: 0.8149 - val_mean_absolute_error: 0.8149\n",
      "Epoch 122/200\n",
      "3/3 [==============================] - 0s 49ms/step - loss: 0.7026 - mean_absolute_error: 0.7026 - val_loss: 0.8113 - val_mean_absolute_error: 0.8113\n",
      "Epoch 123/200\n",
      "3/3 [==============================] - 0s 49ms/step - loss: 0.6222 - mean_absolute_error: 0.6222 - val_loss: 0.8075 - val_mean_absolute_error: 0.8075\n",
      "Epoch 124/200\n",
      "3/3 [==============================] - 0s 51ms/step - loss: 0.6583 - mean_absolute_error: 0.6583 - val_loss: 0.8083 - val_mean_absolute_error: 0.8083\n",
      "Epoch 125/200\n",
      "3/3 [==============================] - 0s 48ms/step - loss: 0.6576 - mean_absolute_error: 0.6576 - val_loss: 0.8104 - val_mean_absolute_error: 0.8104\n",
      "Epoch 126/200\n",
      "3/3 [==============================] - 0s 46ms/step - loss: 0.6708 - mean_absolute_error: 0.6708 - val_loss: 0.8127 - val_mean_absolute_error: 0.8127\n",
      "Epoch 127/200\n",
      "3/3 [==============================] - 0s 45ms/step - loss: 0.6428 - mean_absolute_error: 0.6428 - val_loss: 0.8173 - val_mean_absolute_error: 0.8173\n",
      "Epoch 128/200\n",
      "3/3 [==============================] - 0s 50ms/step - loss: 0.6668 - mean_absolute_error: 0.6668 - val_loss: 0.8193 - val_mean_absolute_error: 0.8193\n",
      "Epoch 129/200\n",
      "3/3 [==============================] - 0s 50ms/step - loss: 0.6567 - mean_absolute_error: 0.6567 - val_loss: 0.8184 - val_mean_absolute_error: 0.8184\n",
      "Epoch 130/200\n",
      "3/3 [==============================] - 0s 47ms/step - loss: 0.6785 - mean_absolute_error: 0.6785 - val_loss: 0.8183 - val_mean_absolute_error: 0.8183\n",
      "Epoch 131/200\n",
      "3/3 [==============================] - 0s 49ms/step - loss: 0.6674 - mean_absolute_error: 0.6674 - val_loss: 0.8184 - val_mean_absolute_error: 0.8184\n",
      "Epoch 132/200\n",
      "3/3 [==============================] - 0s 49ms/step - loss: 0.6635 - mean_absolute_error: 0.6635 - val_loss: 0.8176 - val_mean_absolute_error: 0.8176\n",
      "Epoch 133/200\n",
      "3/3 [==============================] - 0s 50ms/step - loss: 0.6453 - mean_absolute_error: 0.6453 - val_loss: 0.8161 - val_mean_absolute_error: 0.8161\n",
      "Epoch 134/200\n",
      "3/3 [==============================] - 0s 50ms/step - loss: 0.6770 - mean_absolute_error: 0.6770 - val_loss: 0.8140 - val_mean_absolute_error: 0.8140\n",
      "Epoch 135/200\n",
      "3/3 [==============================] - 0s 46ms/step - loss: 0.6117 - mean_absolute_error: 0.6117 - val_loss: 0.8116 - val_mean_absolute_error: 0.8116\n",
      "Epoch 136/200\n",
      "3/3 [==============================] - 0s 50ms/step - loss: 0.6083 - mean_absolute_error: 0.6083 - val_loss: 0.8102 - val_mean_absolute_error: 0.8102\n",
      "Epoch 137/200\n",
      "3/3 [==============================] - 0s 49ms/step - loss: 0.6320 - mean_absolute_error: 0.6320 - val_loss: 0.8106 - val_mean_absolute_error: 0.8106\n",
      "Epoch 138/200\n",
      "3/3 [==============================] - 0s 47ms/step - loss: 0.6175 - mean_absolute_error: 0.6175 - val_loss: 0.8119 - val_mean_absolute_error: 0.8119\n",
      "Epoch 139/200\n",
      "3/3 [==============================] - 0s 46ms/step - loss: 0.6245 - mean_absolute_error: 0.6245 - val_loss: 0.8126 - val_mean_absolute_error: 0.8126\n",
      "Epoch 140/200\n",
      "3/3 [==============================] - 0s 47ms/step - loss: 0.6318 - mean_absolute_error: 0.6318 - val_loss: 0.8144 - val_mean_absolute_error: 0.8144\n",
      "Epoch 141/200\n",
      "3/3 [==============================] - 0s 49ms/step - loss: 0.6396 - mean_absolute_error: 0.6396 - val_loss: 0.8140 - val_mean_absolute_error: 0.8140\n",
      "Epoch 142/200\n",
      "3/3 [==============================] - 0s 49ms/step - loss: 0.6026 - mean_absolute_error: 0.6026 - val_loss: 0.8143 - val_mean_absolute_error: 0.8143\n",
      "Epoch 143/200\n",
      "3/3 [==============================] - 0s 50ms/step - loss: 0.6458 - mean_absolute_error: 0.6458 - val_loss: 0.8140 - val_mean_absolute_error: 0.8140\n",
      "Epoch 144/200\n",
      "3/3 [==============================] - 0s 50ms/step - loss: 0.6420 - mean_absolute_error: 0.6420 - val_loss: 0.8153 - val_mean_absolute_error: 0.8153\n",
      "Epoch 145/200\n",
      "3/3 [==============================] - 0s 49ms/step - loss: 0.6504 - mean_absolute_error: 0.6504 - val_loss: 0.8171 - val_mean_absolute_error: 0.8171\n",
      "Epoch 146/200\n",
      "3/3 [==============================] - 0s 50ms/step - loss: 0.6416 - mean_absolute_error: 0.6416 - val_loss: 0.8189 - val_mean_absolute_error: 0.8189\n",
      "Epoch 147/200\n",
      "3/3 [==============================] - 0s 50ms/step - loss: 0.6569 - mean_absolute_error: 0.6569 - val_loss: 0.8179 - val_mean_absolute_error: 0.8179\n",
      "Epoch 148/200\n",
      "3/3 [==============================] - 0s 49ms/step - loss: 0.6481 - mean_absolute_error: 0.6481 - val_loss: 0.8155 - val_mean_absolute_error: 0.8155\n",
      "Epoch 149/200\n",
      "3/3 [==============================] - 0s 50ms/step - loss: 0.6305 - mean_absolute_error: 0.6305 - val_loss: 0.8146 - val_mean_absolute_error: 0.8146\n",
      "Epoch 150/200\n",
      "3/3 [==============================] - 0s 50ms/step - loss: 0.6560 - mean_absolute_error: 0.6560 - val_loss: 0.8170 - val_mean_absolute_error: 0.8170\n",
      "Epoch 151/200\n",
      "3/3 [==============================] - 0s 50ms/step - loss: 0.6039 - mean_absolute_error: 0.6039 - val_loss: 0.8190 - val_mean_absolute_error: 0.8190\n",
      "Epoch 152/200\n",
      "3/3 [==============================] - 0s 50ms/step - loss: 0.6430 - mean_absolute_error: 0.6430 - val_loss: 0.8231 - val_mean_absolute_error: 0.8231\n",
      "Epoch 153/200\n",
      "3/3 [==============================] - 0s 49ms/step - loss: 0.6313 - mean_absolute_error: 0.6313 - val_loss: 0.8275 - val_mean_absolute_error: 0.8275\n",
      "Epoch 154/200\n",
      "3/3 [==============================] - 0s 49ms/step - loss: 0.6228 - mean_absolute_error: 0.6228 - val_loss: 0.8291 - val_mean_absolute_error: 0.8291\n",
      "Epoch 155/200\n",
      "3/3 [==============================] - 0s 48ms/step - loss: 0.6427 - mean_absolute_error: 0.6427 - val_loss: 0.8300 - val_mean_absolute_error: 0.8300\n",
      "Epoch 156/200\n",
      "3/3 [==============================] - 0s 49ms/step - loss: 0.6453 - mean_absolute_error: 0.6453 - val_loss: 0.8316 - val_mean_absolute_error: 0.8316\n",
      "Epoch 157/200\n",
      "3/3 [==============================] - 0s 46ms/step - loss: 0.6322 - mean_absolute_error: 0.6322 - val_loss: 0.8329 - val_mean_absolute_error: 0.8329\n",
      "Epoch 158/200\n",
      "3/3 [==============================] - 0s 50ms/step - loss: 0.6303 - mean_absolute_error: 0.6303 - val_loss: 0.8353 - val_mean_absolute_error: 0.8353\n",
      "Epoch 159/200\n",
      "3/3 [==============================] - 0s 46ms/step - loss: 0.6623 - mean_absolute_error: 0.6623 - val_loss: 0.8363 - val_mean_absolute_error: 0.8363\n",
      "Epoch 160/200\n",
      "3/3 [==============================] - 0s 49ms/step - loss: 0.6777 - mean_absolute_error: 0.6777 - val_loss: 0.8298 - val_mean_absolute_error: 0.8298\n",
      "Epoch 161/200\n",
      "3/3 [==============================] - 0s 46ms/step - loss: 0.6503 - mean_absolute_error: 0.6503 - val_loss: 0.8244 - val_mean_absolute_error: 0.8244\n",
      "Epoch 162/200\n",
      "3/3 [==============================] - 0s 49ms/step - loss: 0.6139 - mean_absolute_error: 0.6139 - val_loss: 0.8234 - val_mean_absolute_error: 0.8234\n",
      "Epoch 163/200\n",
      "3/3 [==============================] - 0s 49ms/step - loss: 0.5931 - mean_absolute_error: 0.5931 - val_loss: 0.8227 - val_mean_absolute_error: 0.8227\n",
      "Epoch 164/200\n",
      "3/3 [==============================] - 0s 49ms/step - loss: 0.6419 - mean_absolute_error: 0.6419 - val_loss: 0.8204 - val_mean_absolute_error: 0.8204\n",
      "Epoch 165/200\n",
      "3/3 [==============================] - 0s 46ms/step - loss: 0.6334 - mean_absolute_error: 0.6334 - val_loss: 0.8175 - val_mean_absolute_error: 0.8175\n",
      "Epoch 166/200\n",
      "3/3 [==============================] - 0s 51ms/step - loss: 0.6223 - mean_absolute_error: 0.6223 - val_loss: 0.8155 - val_mean_absolute_error: 0.8155\n",
      "Epoch 167/200\n",
      "3/3 [==============================] - 0s 47ms/step - loss: 0.6638 - mean_absolute_error: 0.6638 - val_loss: 0.8152 - val_mean_absolute_error: 0.8152\n",
      "Epoch 168/200\n",
      "3/3 [==============================] - 0s 50ms/step - loss: 0.6499 - mean_absolute_error: 0.6499 - val_loss: 0.8103 - val_mean_absolute_error: 0.8103\n",
      "Epoch 169/200\n",
      "3/3 [==============================] - 0s 50ms/step - loss: 0.6170 - mean_absolute_error: 0.6170 - val_loss: 0.8056 - val_mean_absolute_error: 0.8056\n",
      "Epoch 170/200\n",
      "3/3 [==============================] - 0s 49ms/step - loss: 0.6441 - mean_absolute_error: 0.6441 - val_loss: 0.8058 - val_mean_absolute_error: 0.8058\n",
      "Epoch 171/200\n",
      "3/3 [==============================] - 0s 49ms/step - loss: 0.6111 - mean_absolute_error: 0.6111 - val_loss: 0.8060 - val_mean_absolute_error: 0.8060\n",
      "Epoch 172/200\n",
      "3/3 [==============================] - 0s 50ms/step - loss: 0.6629 - mean_absolute_error: 0.6629 - val_loss: 0.8071 - val_mean_absolute_error: 0.8071\n",
      "Epoch 173/200\n",
      "3/3 [==============================] - 0s 49ms/step - loss: 0.6224 - mean_absolute_error: 0.6224 - val_loss: 0.8090 - val_mean_absolute_error: 0.8090\n",
      "Epoch 174/200\n",
      "3/3 [==============================] - 0s 50ms/step - loss: 0.6648 - mean_absolute_error: 0.6648 - val_loss: 0.8158 - val_mean_absolute_error: 0.8158\n",
      "Epoch 175/200\n",
      "3/3 [==============================] - 0s 50ms/step - loss: 0.6187 - mean_absolute_error: 0.6187 - val_loss: 0.8202 - val_mean_absolute_error: 0.8202\n",
      "Epoch 176/200\n",
      "3/3 [==============================] - 0s 48ms/step - loss: 0.6094 - mean_absolute_error: 0.6094 - val_loss: 0.8210 - val_mean_absolute_error: 0.8210\n",
      "Epoch 177/200\n",
      "3/3 [==============================] - 0s 50ms/step - loss: 0.6333 - mean_absolute_error: 0.6333 - val_loss: 0.8214 - val_mean_absolute_error: 0.8214\n",
      "Epoch 178/200\n",
      "3/3 [==============================] - 0s 46ms/step - loss: 0.5931 - mean_absolute_error: 0.5931 - val_loss: 0.8220 - val_mean_absolute_error: 0.8220\n",
      "Epoch 179/200\n",
      "3/3 [==============================] - 0s 46ms/step - loss: 0.6000 - mean_absolute_error: 0.6000 - val_loss: 0.8224 - val_mean_absolute_error: 0.8224\n",
      "Epoch 180/200\n",
      "3/3 [==============================] - 0s 48ms/step - loss: 0.6296 - mean_absolute_error: 0.6296 - val_loss: 0.8230 - val_mean_absolute_error: 0.8230\n",
      "Epoch 181/200\n",
      "3/3 [==============================] - 0s 50ms/step - loss: 0.6255 - mean_absolute_error: 0.6255 - val_loss: 0.8229 - val_mean_absolute_error: 0.8229\n",
      "Epoch 182/200\n",
      "3/3 [==============================] - 0s 49ms/step - loss: 0.6416 - mean_absolute_error: 0.6416 - val_loss: 0.8242 - val_mean_absolute_error: 0.8242\n",
      "Epoch 183/200\n",
      "3/3 [==============================] - 0s 48ms/step - loss: 0.6320 - mean_absolute_error: 0.6320 - val_loss: 0.8244 - val_mean_absolute_error: 0.8244\n",
      "Epoch 184/200\n",
      "3/3 [==============================] - 0s 50ms/step - loss: 0.6192 - mean_absolute_error: 0.6192 - val_loss: 0.8251 - val_mean_absolute_error: 0.8251\n",
      "Epoch 185/200\n",
      "3/3 [==============================] - 0s 49ms/step - loss: 0.6346 - mean_absolute_error: 0.6346 - val_loss: 0.8252 - val_mean_absolute_error: 0.8252\n",
      "Epoch 186/200\n",
      "3/3 [==============================] - 0s 49ms/step - loss: 0.6172 - mean_absolute_error: 0.6172 - val_loss: 0.8255 - val_mean_absolute_error: 0.8255\n",
      "Epoch 187/200\n",
      "3/3 [==============================] - 0s 46ms/step - loss: 0.6398 - mean_absolute_error: 0.6398 - val_loss: 0.8257 - val_mean_absolute_error: 0.8257\n",
      "Epoch 188/200\n",
      "3/3 [==============================] - 0s 49ms/step - loss: 0.6196 - mean_absolute_error: 0.6196 - val_loss: 0.8246 - val_mean_absolute_error: 0.8246\n",
      "Epoch 189/200\n",
      "3/3 [==============================] - 0s 49ms/step - loss: 0.6022 - mean_absolute_error: 0.6022 - val_loss: 0.8231 - val_mean_absolute_error: 0.8231\n",
      "Epoch 190/200\n",
      "3/3 [==============================] - 0s 50ms/step - loss: 0.6394 - mean_absolute_error: 0.6394 - val_loss: 0.8237 - val_mean_absolute_error: 0.8237\n",
      "Epoch 191/200\n",
      "3/3 [==============================] - 0s 49ms/step - loss: 0.6221 - mean_absolute_error: 0.6221 - val_loss: 0.8235 - val_mean_absolute_error: 0.8235\n",
      "Epoch 192/200\n",
      "3/3 [==============================] - 0s 50ms/step - loss: 0.6314 - mean_absolute_error: 0.6314 - val_loss: 0.8220 - val_mean_absolute_error: 0.8220\n",
      "Epoch 193/200\n",
      "3/3 [==============================] - 0s 51ms/step - loss: 0.5917 - mean_absolute_error: 0.5917 - val_loss: 0.8200 - val_mean_absolute_error: 0.8200\n",
      "Epoch 194/200\n",
      "3/3 [==============================] - 0s 48ms/step - loss: 0.6417 - mean_absolute_error: 0.6417 - val_loss: 0.8179 - val_mean_absolute_error: 0.8179\n",
      "Epoch 195/200\n",
      "3/3 [==============================] - 0s 51ms/step - loss: 0.6041 - mean_absolute_error: 0.6041 - val_loss: 0.8138 - val_mean_absolute_error: 0.8138\n",
      "Epoch 196/200\n",
      "3/3 [==============================] - 0s 50ms/step - loss: 0.6360 - mean_absolute_error: 0.6360 - val_loss: 0.8126 - val_mean_absolute_error: 0.8126\n",
      "Epoch 197/200\n",
      "3/3 [==============================] - 0s 49ms/step - loss: 0.6085 - mean_absolute_error: 0.6085 - val_loss: 0.8138 - val_mean_absolute_error: 0.8138\n",
      "Epoch 198/200\n",
      "3/3 [==============================] - 0s 46ms/step - loss: 0.5743 - mean_absolute_error: 0.5743 - val_loss: 0.8225 - val_mean_absolute_error: 0.8225\n",
      "Epoch 199/200\n",
      "3/3 [==============================] - 0s 48ms/step - loss: 0.6230 - mean_absolute_error: 0.6230 - val_loss: 0.8251 - val_mean_absolute_error: 0.8251\n",
      "Epoch 200/200\n",
      "3/3 [==============================] - 0s 47ms/step - loss: 0.6449 - mean_absolute_error: 0.6449 - val_loss: 0.8273 - val_mean_absolute_error: 0.8273\n",
      "CPU times: user 34.7 s, sys: 21.9 s, total: 56.6 s\n",
      "Wall time: 26.4 s\n"
     ]
    }
   ],
   "source": [
    "%%time\n",
    "model_store = Path(f'Result/saved_weights_{phenotype}.hdf5')\n",
    "\n",
    "# save the best performing model\n",
    "checkpointer = ModelCheckpoint(filepath=model_store, \n",
    "                               monitor='val_loss', verbose=0, \n",
    "                               save_best_only=True)\n",
    "\n",
    "st = time.time()\n",
    "# model training\n",
    "model.fit([x_train], y_train,\n",
    "          batch_size=60,\n",
    "          epochs=200, \n",
    "          verbose=1,\n",
    "          callbacks=[checkpointer],\n",
    "          validation_data=([x_valid], y_valid))\n",
    "rt = time.time()-st"
   ]
  },
  {
   "cell_type": "code",
   "execution_count": 25,
   "metadata": {},
   "outputs": [
    {
     "data": {
      "text/plain": [
       "26.43377161026001"
      ]
     },
     "execution_count": 25,
     "metadata": {},
     "output_type": "execute_result"
    }
   ],
   "source": [
    "rt"
   ]
  },
  {
   "cell_type": "code",
   "execution_count": 26,
   "metadata": {
    "tags": []
   },
   "outputs": [
    {
     "data": {
      "image/png": "[encoded data removed]",
      "text/plain": [
       "<Figure size 648x432 with 1 Axes>"
      ]
     },
     "metadata": {
      "needs_background": "light"
     },
     "output_type": "display_data"
    }
   ],
   "source": [
    "##### Step 6: plot train and validation loss #####\n",
    "history = model.history\n",
    "plt.plot(history.history['mean_absolute_error'])\n",
    "plt.plot(history.history['val_mean_absolute_error'])\n",
    "plt.title('model train vs validation loss')\n",
    "plt.ylabel('loss')\n",
    "plt.xlabel('epoch')\n",
    "plt.legend(['train', 'validation'], loc='upper right')\n",
    "plt.show()"
   ]
  },
  {
   "cell_type": "code",
   "execution_count": 27,
   "metadata": {},
   "outputs": [],
   "source": [
    "#### Step 7: test the final model #####\n",
    "final_model = model\n",
    "x_test = x_valid\n",
    "y_test = y_valid\n",
    "y_scores = final_model.predict([x_test])\n",
    "y_scores = y_scores.reshape(y_scores.shape[0])"
   ]
  },
  {
   "cell_type": "code",
   "execution_count": 28,
   "metadata": {},
   "outputs": [],
   "source": [
    "vals_true = pd.Series(scaler.inverse_transform(y_test.reshape(-1,1)).reshape(1,-1)[0])\n",
    "vals_pred = pd.Series(scaler.inverse_transform(y_scores.reshape(-1,1)).reshape(1,-1)[0])"
   ]
  },
  {
   "cell_type": "code",
   "execution_count": 29,
   "metadata": {},
   "outputs": [
    {
     "data": {
      "text/plain": [
       "count    51.000000\n",
       "mean     -0.088899\n",
       "std       1.512641\n",
       "min      -5.018039\n",
       "25%      -1.061999\n",
       "50%       0.032182\n",
       "75%       0.793165\n",
       "max       2.837477\n",
       "dtype: float64"
      ]
     },
     "execution_count": 29,
     "metadata": {},
     "output_type": "execute_result"
    }
   ],
   "source": [
    "errors = vals_pred - vals_true\n",
    "errors.describe()"
   ]
  },
  {
   "cell_type": "code",
   "execution_count": 30,
   "metadata": {},
   "outputs": [
    {
     "data": {
      "image/png": "[encoded data removed]",
      "text/plain": [
       "<Figure size 648x432 with 1 Axes>"
      ]
     },
     "metadata": {
      "needs_background": "light"
     },
     "output_type": "display_data"
    }
   ],
   "source": [
    "plt.hist(errors, bins=25)\n",
    "plt.title('Error distribution')\n",
    "plt.xlabel('Predicted value - actual value')\n",
    "plt.show()"
   ]
  },
  {
   "cell_type": "code",
   "execution_count": 31,
   "metadata": {},
   "outputs": [
    {
     "data": {
      "image/png": "[encoded data removed]",
      "text/plain": [
       "<Figure size 648x432 with 1 Axes>"
      ]
     },
     "metadata": {
      "needs_background": "light"
     },
     "output_type": "display_data"
    }
   ],
   "source": [
    "plt.plot(vals_true, vals_pred,'b.')\n",
    "plt.axis('square')\n",
    "limits = (min(min(vals_true), min(vals_pred)), max(max(vals_true), max(vals_pred)))\n",
    "limits = (limits[0] - 0.1*(limits[1] - limits[0]), limits[1] + 0.1*(limits[1] - limits[0]))\n",
    "plt.xlim(limits)\n",
    "plt.ylim(limits)\n",
    "plt.xlabel('True Value')\n",
    "plt.ylabel('Predicted Value')\n",
    "plt.title('Prediction vs True')\n",
    "plt.plot(limits,limits,'--k')\n",
    "coef = np.polyfit(vals_true, vals_pred, 1)\n",
    "poly1d_fn = np.poly1d(coef)\n",
    "plt.plot(limits, poly1d_fn(limits), '--b')\n",
    "plt.show()"
   ]
  },
  {
   "cell_type": "code",
   "execution_count": null,
   "metadata": {},
   "outputs": [],
   "source": []
  }
 ],
 "metadata": {
  "kernelspec": {
   "display_name": "Python 3",
   "language": "python",
   "name": "python3"
  },
  "language_info": {
   "codemirror_mode": {
    "name": "ipython",
    "version": 3
   },
   "file_extension": ".py",
   "mimetype": "text/x-python",
   "name": "python",
   "nbconvert_exporter": "python",
   "pygments_lexer": "ipython3",
   "version": "3.9.6"
  }
 },
 "nbformat": 4,
 "nbformat_minor": 4
}
