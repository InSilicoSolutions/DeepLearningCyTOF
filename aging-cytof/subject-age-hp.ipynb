{
 "cells": [
  {
   "cell_type": "markdown",
   "metadata": {},
   "source": [
    "# Predict `Subject Age`"
   ]
  },
  {
   "cell_type": "code",
   "execution_count": 1,
   "metadata": {},
   "outputs": [],
   "source": [
    "%matplotlib inline"
   ]
  },
  {
   "cell_type": "code",
   "execution_count": 2,
   "metadata": {},
   "outputs": [],
   "source": [
    "##### Step 1: import functions #####\n",
    "import tensorflow as tf\n",
    "from tensorflow.keras.layers import Dense, Flatten, BatchNormalization, Activation, Conv2D, AveragePooling2D, Input, Softmax\n",
    "from tensorflow.keras.models import load_model, Model, Sequential\n",
    "from tensorflow.keras.optimizers import Adam\n",
    "from tensorflow.keras.callbacks import ModelCheckpoint, EarlyStopping\n",
    "from tensorflow.keras.losses import SparseCategoricalCrossentropy, MeanAbsoluteError\n",
    "from tensorflow.keras import backend as K\n",
    "from tensorflow.keras.utils import plot_model\n",
    "import pickle\n",
    "import pandas as pd\n",
    "import numpy as np\n",
    "from numpy.random import seed; seed(111)\n",
    "import random\n",
    "import matplotlib.pyplot as plt\n",
    "import seaborn as sns\n",
    "from tensorflow.random import set_seed; set_seed(111)\n",
    "from sklearn.metrics import roc_curve, auc\n",
    "from sklearn.preprocessing import normalize\n",
    "from six import StringIO  \n",
    "from sklearn.tree import export_graphviz, DecisionTreeRegressor\n",
    "from sklearn.model_selection import train_test_split\n",
    "from scipy.stats import ttest_ind\n",
    "from IPython.display import Image  \n",
    "import pydotplus\n",
    "import time\n",
    "from pathlib import Path\n",
    "import keras_tuner as kt"
   ]
  },
  {
   "cell_type": "code",
   "execution_count": 3,
   "metadata": {},
   "outputs": [],
   "source": [
    "# %config InlineBackend.figure_format = 'svg'\n",
    "plt.rcParams['figure.figsize'] = [9,6]"
   ]
  },
  {
   "cell_type": "code",
   "execution_count": 4,
   "metadata": {},
   "outputs": [],
   "source": [
    "gpus = tf.config.list_physical_devices('GPU')\n",
    "tf.config.experimental.set_memory_growth(gpus[0], True)"
   ]
  },
  {
   "cell_type": "code",
   "execution_count": 5,
   "metadata": {},
   "outputs": [],
   "source": [
    "phenotype = 'Subject Age'"
   ]
  },
  {
   "cell_type": "code",
   "execution_count": 6,
   "metadata": {},
   "outputs": [
    {
     "name": "stdout",
     "output_type": "stream",
     "text": [
      "Dimensions of cyto_data: (260, 5000, 27, 1)\n",
      "Dimensions of samples: (260, 47)\n",
      "Names of the makers: ['CELL_LENGTH' 'DEAD' 'CD19' 'CD4' 'CD8' 'IGD' 'CD85J' 'CD16' 'CD3' 'CD38'\n",
      " 'CD27' 'CD14' 'CD94' 'CCR7' 'CD45RA' 'CD20' 'CD127' 'CD33' 'CD28' 'CD24'\n",
      " 'CD161' 'TCRGD' 'CD56' 'HLADR' 'CD25' 'DNA1' 'DNA2']\n"
     ]
    }
   ],
   "source": [
    "#load data\n",
    "aging_dir = Path('/home/ubuntu/a/aging')\n",
    "\n",
    "with open(aging_dir/'aging-cytof-data.obj', 'rb') as f:\n",
    "    allData = pickle.load(f)\n",
    "samples = allData[\"samples\"]\n",
    "cyto_data = allData['expr_list']\n",
    "# Truncate cytodata\n",
    "cyto_data = cyto_data[ :, :int(5e3)]\n",
    "markers = allData[\"marker_names\"]\n",
    "\n",
    "print(f'Dimensions of cyto_data: {cyto_data.shape}')\n",
    "print(f'Dimensions of samples: {samples.shape}')\n",
    "print(f'Names of the makers: {markers.values}')"
   ]
  },
  {
   "cell_type": "code",
   "execution_count": 7,
   "metadata": {},
   "outputs": [
    {
     "name": "stdout",
     "output_type": "stream",
     "text": [
      "count    260.000000\n",
      "mean      68.303846\n",
      "std       15.169696\n",
      "min       41.000000\n",
      "25%       55.000000\n",
      "50%       69.000000\n",
      "75%       82.000000\n",
      "max       90.000000\n",
      "Name: Subject Age, dtype: float64\n"
     ]
    },
    {
     "data": {
      "text/plain": [
       "<AxesSubplot:ylabel='Frequency'>"
      ]
     },
     "execution_count": 7,
     "metadata": {},
     "output_type": "execute_result"
    },
    {
     "data": {
      "image/png": "[encoded data removed]",
      "text/plain": [
       "<Figure size 648x432 with 1 Axes>"
      ]
     },
     "metadata": {
      "needs_background": "light"
     },
     "output_type": "display_data"
    }
   ],
   "source": [
    "print(samples[phenotype].describe())\n",
    "samples[phenotype].plot.hist()"
   ]
  },
  {
   "cell_type": "code",
   "execution_count": 8,
   "metadata": {},
   "outputs": [],
   "source": [
    "##### Step 3: split train, validation and test######\n",
    "x = []\n",
    "y = []\n",
    "for i, row in samples.iterrows():\n",
    "    x.append(cyto_data[i])\n",
    "    y.append(row[phenotype])\n",
    "age_range = max(y) - min(y)\n",
    "x = np.asarray(x)\n",
    "y_raw = np.asarray(y)\n",
    "age_min = min(y_raw)\n",
    "age_max = max(y_raw)\n",
    "age_range = age_max - age_min\n",
    "y = (y_raw - age_min) / age_range\n",
    "\n",
    "x_train, x_valid, y_train, y_valid = train_test_split(x, y)"
   ]
  },
  {
   "cell_type": "code",
   "execution_count": 9,
   "metadata": {},
   "outputs": [],
   "source": [
    "def model_builder(hp):\n",
    "    hp_filters_l1 = hp.Int('filters_l1', min_value=3, max_value=15, step=3)\n",
    "    hp_filters_l2 = hp.Int('filters_l2', min_value=3, max_value=15, step=3)\n",
    "    model = Sequential([\n",
    "        Input(shape=x[0].shape),\n",
    "        Conv2D(hp_filters_l1, kernel_size = (1, x.shape[2]), activation=None),\n",
    "        BatchNormalization(),\n",
    "        Activation('relu'),\n",
    "        Conv2D(hp_filters_l2, kernel_size = (1,1), activation=None),\n",
    "        BatchNormalization(),\n",
    "        Activation('relu'),\n",
    "        AveragePooling2D(pool_size = (x.shape[1], 1)),\n",
    "        Flatten(),\n",
    "        Dense(hp_filters_l2, activation=None),\n",
    "        BatchNormalization(),\n",
    "        Activation('relu'),\n",
    "        Dense(1, activation=None),\n",
    "    ])\n",
    "    hp_learning_rate = hp.Choice('learning_rate', values=[1e-2, 1e-3, 1e-4])\n",
    "    model.compile(\n",
    "        loss=MeanAbsoluteError(),\n",
    "        optimizer=Adam(learning_rate=hp_learning_rate),\n",
    "        metrics=['mean_absolute_error'],\n",
    "    )\n",
    "    return model"
   ]
  },
  {
   "cell_type": "code",
   "execution_count": 40,
   "metadata": {},
   "outputs": [],
   "source": [
    "hyperband_tuner = kt.Hyperband(\n",
    "    model_builder,\n",
    "    objective='val_mean_absolute_error',\n",
    "    max_epochs=400,\n",
    "    factor=5,\n",
    "    overwrite=True,\n",
    "    directory='hp-search',\n",
    "    project_name='aging_regression_hyperband',\n",
    ")"
   ]
  },
  {
   "cell_type": "code",
   "execution_count": 41,
   "metadata": {},
   "outputs": [
    {
     "name": "stdout",
     "output_type": "stream",
     "text": [
      "Trial 61 Complete [00h 00m 01s]\n",
      "val_mean_absolute_error: 0.5320071578025818\n",
      "\n",
      "Best val_mean_absolute_error So Far: 0.2339867800474167\n",
      "Total elapsed time: 00h 01m 24s\n",
      "INFO:tensorflow:Oracle triggered exit\n",
      "CPU times: user 1min 26s, sys: 6.66 s, total: 1min 32s\n",
      "Wall time: 1min 24s\n"
     ]
    }
   ],
   "source": [
    "%%time\n",
    "hyperband_tuner.search(\n",
    "    x_train, y_train,\n",
    "    validation_split=0.2,\n",
    ")"
   ]
  },
  {
   "cell_type": "code",
   "execution_count": 42,
   "metadata": {},
   "outputs": [
    {
     "data": {
      "text/plain": [
       "{'filters_l1': 3,\n",
       " 'filters_l2': 3,\n",
       " 'learning_rate': 0.01,\n",
       " 'tuner/epochs': 4,\n",
       " 'tuner/initial_epoch': 0,\n",
       " 'tuner/bracket': 3,\n",
       " 'tuner/round': 0}"
      ]
     },
     "execution_count": 42,
     "metadata": {},
     "output_type": "execute_result"
    }
   ],
   "source": [
    "hyperband_tuner.get_best_hyperparameters()[0].values"
   ]
  },
  {
   "cell_type": "code",
   "execution_count": 13,
   "metadata": {},
   "outputs": [],
   "source": [
    "bayesian_tuner = kt.BayesianOptimization(\n",
    "    model_builder,\n",
    "    objective = 'val_mean_absolute_error',\n",
    "    max_trials=100,\n",
    "    overwrite=True,\n",
    "    directory = 'hp-search',\n",
    "    project_name='aging_regression_bayesian',\n",
    ")"
   ]
  },
  {
   "cell_type": "code",
   "execution_count": 14,
   "metadata": {},
   "outputs": [
    {
     "name": "stdout",
     "output_type": "stream",
     "text": [
      "Trial 100 Complete [00h 00m 01s]\n",
      "val_mean_absolute_error: 0.7864995002746582\n",
      "\n",
      "Best val_mean_absolute_error So Far: 0.27774664759635925\n",
      "Total elapsed time: 00h 06m 09s\n",
      "INFO:tensorflow:Oracle triggered exit\n",
      "CPU times: user 13min 27s, sys: 47.6 s, total: 14min 14s\n",
      "Wall time: 6min 9s\n"
     ]
    }
   ],
   "source": [
    "%%time\n",
    "bayesian_tuner.search(\n",
    "    x_train, y_train,\n",
    "    validation_split=0.2,\n",
    ")"
   ]
  },
  {
   "cell_type": "code",
   "execution_count": 15,
   "metadata": {},
   "outputs": [
    {
     "data": {
      "text/plain": [
       "{'filters_l1': 6, 'filters_l2': 12, 'learning_rate': 0.01}"
      ]
     },
     "execution_count": 15,
     "metadata": {},
     "output_type": "execute_result"
    }
   ],
   "source": [
    "bayesian_tuner.get_best_hyperparameters()[0].values"
   ]
  },
  {
   "cell_type": "code",
   "execution_count": 16,
   "metadata": {},
   "outputs": [],
   "source": [
    "tuner = hyperband_tuner"
   ]
  },
  {
   "cell_type": "code",
   "execution_count": 17,
   "metadata": {},
   "outputs": [
    {
     "data": {
      "text/plain": [
       "{'filters_l1': 15,\n",
       " 'filters_l2': 3,\n",
       " 'learning_rate': 0.01,\n",
       " 'tuner/epochs': 4,\n",
       " 'tuner/initial_epoch': 0,\n",
       " 'tuner/bracket': 3,\n",
       " 'tuner/round': 0}"
      ]
     },
     "execution_count": 17,
     "metadata": {},
     "output_type": "execute_result"
    }
   ],
   "source": [
    "best_hps=tuner.get_best_hyperparameters(num_trials=1)[0]\n",
    "best_hps.values"
   ]
  },
  {
   "cell_type": "code",
   "execution_count": 36,
   "metadata": {},
   "outputs": [
    {
     "name": "stdout",
     "output_type": "stream",
     "text": [
      "Model: \"sequential\"\n",
      "_________________________________________________________________\n",
      "Layer (type)                 Output Shape              Param #   \n",
      "=================================================================\n",
      "conv2d (Conv2D)              (None, 5000, 1, 15)       420       \n",
      "_________________________________________________________________\n",
      "batch_normalization (BatchNo (None, 5000, 1, 15)       60        \n",
      "_________________________________________________________________\n",
      "activation (Activation)      (None, 5000, 1, 15)       0         \n",
      "_________________________________________________________________\n",
      "conv2d_1 (Conv2D)            (None, 5000, 1, 3)        48        \n",
      "_________________________________________________________________\n",
      "batch_normalization_1 (Batch (None, 5000, 1, 3)        12        \n",
      "_________________________________________________________________\n",
      "activation_1 (Activation)    (None, 5000, 1, 3)        0         \n",
      "_________________________________________________________________\n",
      "average_pooling2d (AveragePo (None, 1, 1, 3)           0         \n",
      "_________________________________________________________________\n",
      "flatten (Flatten)            (None, 3)                 0         \n",
      "_________________________________________________________________\n",
      "dense (Dense)                (None, 3)                 12        \n",
      "_________________________________________________________________\n",
      "batch_normalization_2 (Batch (None, 3)                 12        \n",
      "_________________________________________________________________\n",
      "activation_2 (Activation)    (None, 3)                 0         \n",
      "_________________________________________________________________\n",
      "dense_1 (Dense)              (None, 1)                 4         \n",
      "=================================================================\n",
      "Total params: 568\n",
      "Trainable params: 526\n",
      "Non-trainable params: 42\n",
      "_________________________________________________________________\n"
     ]
    }
   ],
   "source": [
    "model = tuner.hypermodel.build(best_hps)\n",
    "model.summary()"
   ]
  },
  {
   "cell_type": "code",
   "execution_count": 37,
   "metadata": {
    "scrolled": true,
    "tags": []
   },
   "outputs": [
    {
     "name": "stdout",
     "output_type": "stream",
     "text": [
      "Epoch 1/200\n",
      "4/4 [==============================] - 1s 85ms/step - loss: 0.5963 - mean_absolute_error: 0.5963 - val_loss: 0.2783 - val_mean_absolute_error: 0.2783\n",
      "Epoch 2/200\n",
      "4/4 [==============================] - 0s 28ms/step - loss: 0.3856 - mean_absolute_error: 0.3856 - val_loss: 0.3078 - val_mean_absolute_error: 0.3078\n",
      "Epoch 3/200\n",
      "4/4 [==============================] - 0s 28ms/step - loss: 0.3347 - mean_absolute_error: 0.3347 - val_loss: 0.3112 - val_mean_absolute_error: 0.3112\n",
      "Epoch 4/200\n",
      "4/4 [==============================] - 0s 27ms/step - loss: 0.2980 - mean_absolute_error: 0.2980 - val_loss: 0.3135 - val_mean_absolute_error: 0.3135\n",
      "Epoch 5/200\n",
      "4/4 [==============================] - 0s 27ms/step - loss: 0.2915 - mean_absolute_error: 0.2915 - val_loss: 0.3044 - val_mean_absolute_error: 0.3044\n",
      "Epoch 6/200\n",
      "4/4 [==============================] - 0s 27ms/step - loss: 0.2486 - mean_absolute_error: 0.2486 - val_loss: 0.3001 - val_mean_absolute_error: 0.3001\n",
      "Epoch 7/200\n",
      "4/4 [==============================] - 0s 25ms/step - loss: 0.2428 - mean_absolute_error: 0.2428 - val_loss: 0.2999 - val_mean_absolute_error: 0.2999\n",
      "Epoch 8/200\n",
      "4/4 [==============================] - 0s 25ms/step - loss: 0.2237 - mean_absolute_error: 0.2237 - val_loss: 0.3023 - val_mean_absolute_error: 0.3023\n",
      "Epoch 9/200\n",
      "4/4 [==============================] - 0s 25ms/step - loss: 0.2308 - mean_absolute_error: 0.2308 - val_loss: 0.2991 - val_mean_absolute_error: 0.2991\n",
      "Epoch 10/200\n",
      "4/4 [==============================] - 0s 25ms/step - loss: 0.2080 - mean_absolute_error: 0.2080 - val_loss: 0.3032 - val_mean_absolute_error: 0.3032\n",
      "Epoch 11/200\n",
      "4/4 [==============================] - 0s 24ms/step - loss: 0.2033 - mean_absolute_error: 0.2033 - val_loss: 0.3102 - val_mean_absolute_error: 0.3102\n",
      "Epoch 12/200\n",
      "4/4 [==============================] - 0s 25ms/step - loss: 0.2046 - mean_absolute_error: 0.2046 - val_loss: 0.3224 - val_mean_absolute_error: 0.3224\n",
      "Epoch 13/200\n",
      "4/4 [==============================] - 0s 24ms/step - loss: 0.1920 - mean_absolute_error: 0.1920 - val_loss: 0.3240 - val_mean_absolute_error: 0.3240\n",
      "Epoch 14/200\n",
      "4/4 [==============================] - 0s 25ms/step - loss: 0.1930 - mean_absolute_error: 0.1930 - val_loss: 0.3131 - val_mean_absolute_error: 0.3131\n",
      "Epoch 15/200\n",
      "4/4 [==============================] - 0s 23ms/step - loss: 0.1814 - mean_absolute_error: 0.1814 - val_loss: 0.2989 - val_mean_absolute_error: 0.2989\n",
      "Epoch 16/200\n",
      "4/4 [==============================] - 0s 25ms/step - loss: 0.1945 - mean_absolute_error: 0.1945 - val_loss: 0.2931 - val_mean_absolute_error: 0.2931\n",
      "Epoch 17/200\n",
      "4/4 [==============================] - 0s 23ms/step - loss: 0.1840 - mean_absolute_error: 0.1840 - val_loss: 0.2996 - val_mean_absolute_error: 0.2996\n",
      "Epoch 18/200\n",
      "4/4 [==============================] - 0s 24ms/step - loss: 0.1763 - mean_absolute_error: 0.1763 - val_loss: 0.3162 - val_mean_absolute_error: 0.3162\n",
      "Epoch 19/200\n",
      "4/4 [==============================] - 0s 24ms/step - loss: 0.1745 - mean_absolute_error: 0.1745 - val_loss: 0.3320 - val_mean_absolute_error: 0.3320\n",
      "Epoch 20/200\n",
      "4/4 [==============================] - 0s 25ms/step - loss: 0.1862 - mean_absolute_error: 0.1862 - val_loss: 0.3294 - val_mean_absolute_error: 0.3294\n",
      "Epoch 21/200\n",
      "4/4 [==============================] - 0s 24ms/step - loss: 0.1742 - mean_absolute_error: 0.1742 - val_loss: 0.3260 - val_mean_absolute_error: 0.3260\n",
      "Epoch 22/200\n",
      "4/4 [==============================] - 0s 24ms/step - loss: 0.1701 - mean_absolute_error: 0.1701 - val_loss: 0.3095 - val_mean_absolute_error: 0.3095\n",
      "Epoch 23/200\n",
      "4/4 [==============================] - 0s 25ms/step - loss: 0.1801 - mean_absolute_error: 0.1801 - val_loss: 0.2958 - val_mean_absolute_error: 0.2958\n",
      "Epoch 24/200\n",
      "4/4 [==============================] - 0s 24ms/step - loss: 0.1727 - mean_absolute_error: 0.1727 - val_loss: 0.2878 - val_mean_absolute_error: 0.2878\n",
      "Epoch 25/200\n",
      "4/4 [==============================] - 0s 25ms/step - loss: 0.1614 - mean_absolute_error: 0.1614 - val_loss: 0.3036 - val_mean_absolute_error: 0.3036\n",
      "Epoch 26/200\n",
      "4/4 [==============================] - 0s 28ms/step - loss: 0.1626 - mean_absolute_error: 0.1626 - val_loss: 0.3294 - val_mean_absolute_error: 0.3294\n",
      "Epoch 27/200\n",
      "4/4 [==============================] - 0s 24ms/step - loss: 0.1587 - mean_absolute_error: 0.1587 - val_loss: 0.3188 - val_mean_absolute_error: 0.3188\n",
      "Epoch 28/200\n",
      "4/4 [==============================] - 0s 25ms/step - loss: 0.1536 - mean_absolute_error: 0.1536 - val_loss: 0.2933 - val_mean_absolute_error: 0.2933\n",
      "Epoch 29/200\n",
      "4/4 [==============================] - 0s 26ms/step - loss: 0.1872 - mean_absolute_error: 0.1872 - val_loss: 0.2841 - val_mean_absolute_error: 0.2841\n",
      "Epoch 30/200\n",
      "4/4 [==============================] - 0s 25ms/step - loss: 0.1600 - mean_absolute_error: 0.1600 - val_loss: 0.3003 - val_mean_absolute_error: 0.3003\n",
      "Epoch 31/200\n",
      "4/4 [==============================] - 0s 25ms/step - loss: 0.1655 - mean_absolute_error: 0.1655 - val_loss: 0.3271 - val_mean_absolute_error: 0.3271\n",
      "Epoch 32/200\n",
      "4/4 [==============================] - 0s 23ms/step - loss: 0.1634 - mean_absolute_error: 0.1634 - val_loss: 0.3468 - val_mean_absolute_error: 0.3468\n",
      "Epoch 33/200\n",
      "4/4 [==============================] - 0s 23ms/step - loss: 0.1584 - mean_absolute_error: 0.1584 - val_loss: 0.3101 - val_mean_absolute_error: 0.3101\n",
      "Epoch 34/200\n",
      "4/4 [==============================] - 0s 24ms/step - loss: 0.1699 - mean_absolute_error: 0.1699 - val_loss: 0.3157 - val_mean_absolute_error: 0.3157\n",
      "Epoch 35/200\n",
      "4/4 [==============================] - 0s 23ms/step - loss: 0.1656 - mean_absolute_error: 0.1656 - val_loss: 0.3575 - val_mean_absolute_error: 0.3575\n",
      "Epoch 36/200\n",
      "4/4 [==============================] - 0s 24ms/step - loss: 0.1646 - mean_absolute_error: 0.1646 - val_loss: 0.3465 - val_mean_absolute_error: 0.3465\n",
      "Epoch 37/200\n",
      "4/4 [==============================] - 0s 25ms/step - loss: 0.1516 - mean_absolute_error: 0.1516 - val_loss: 0.2872 - val_mean_absolute_error: 0.2872\n",
      "Epoch 38/200\n",
      "4/4 [==============================] - 0s 26ms/step - loss: 0.1569 - mean_absolute_error: 0.1569 - val_loss: 0.2702 - val_mean_absolute_error: 0.2702\n",
      "Epoch 39/200\n",
      "4/4 [==============================] - 0s 26ms/step - loss: 0.1457 - mean_absolute_error: 0.1457 - val_loss: 0.3149 - val_mean_absolute_error: 0.3149\n",
      "Epoch 40/200\n",
      "4/4 [==============================] - 0s 24ms/step - loss: 0.1315 - mean_absolute_error: 0.1315 - val_loss: 0.2838 - val_mean_absolute_error: 0.2838\n",
      "Epoch 41/200\n",
      "4/4 [==============================] - 0s 24ms/step - loss: 0.1516 - mean_absolute_error: 0.1516 - val_loss: 0.2198 - val_mean_absolute_error: 0.2198\n",
      "Epoch 42/200\n",
      "4/4 [==============================] - 0s 23ms/step - loss: 0.1571 - mean_absolute_error: 0.1571 - val_loss: 0.2039 - val_mean_absolute_error: 0.2039\n",
      "Epoch 43/200\n",
      "4/4 [==============================] - 0s 25ms/step - loss: 0.1459 - mean_absolute_error: 0.1459 - val_loss: 0.2005 - val_mean_absolute_error: 0.2005\n",
      "Epoch 44/200\n",
      "4/4 [==============================] - 0s 23ms/step - loss: 0.1512 - mean_absolute_error: 0.1512 - val_loss: 0.2094 - val_mean_absolute_error: 0.2094\n",
      "Epoch 45/200\n",
      "4/4 [==============================] - 0s 24ms/step - loss: 0.1444 - mean_absolute_error: 0.1444 - val_loss: 0.2332 - val_mean_absolute_error: 0.2332\n",
      "Epoch 46/200\n",
      "4/4 [==============================] - 0s 25ms/step - loss: 0.1384 - mean_absolute_error: 0.1384 - val_loss: 0.2358 - val_mean_absolute_error: 0.2358\n",
      "Epoch 47/200\n",
      "4/4 [==============================] - 0s 25ms/step - loss: 0.1464 - mean_absolute_error: 0.1464 - val_loss: 0.2502 - val_mean_absolute_error: 0.2502\n",
      "Epoch 48/200\n",
      "4/4 [==============================] - 0s 35ms/step - loss: 0.1341 - mean_absolute_error: 0.1341 - val_loss: 0.2098 - val_mean_absolute_error: 0.2098\n",
      "Epoch 49/200\n",
      "4/4 [==============================] - 0s 26ms/step - loss: 0.1431 - mean_absolute_error: 0.1431 - val_loss: 0.2601 - val_mean_absolute_error: 0.2601\n",
      "Epoch 50/200\n",
      "4/4 [==============================] - 0s 26ms/step - loss: 0.1409 - mean_absolute_error: 0.1409 - val_loss: 0.2482 - val_mean_absolute_error: 0.2482\n",
      "Epoch 51/200\n",
      "4/4 [==============================] - 0s 25ms/step - loss: 0.1414 - mean_absolute_error: 0.1414 - val_loss: 0.2301 - val_mean_absolute_error: 0.2301\n",
      "Epoch 52/200\n",
      "4/4 [==============================] - 0s 24ms/step - loss: 0.1322 - mean_absolute_error: 0.1322 - val_loss: 0.2207 - val_mean_absolute_error: 0.2207\n",
      "Epoch 53/200\n",
      "4/4 [==============================] - 0s 24ms/step - loss: 0.1304 - mean_absolute_error: 0.1304 - val_loss: 0.2415 - val_mean_absolute_error: 0.2415\n",
      "Epoch 54/200\n",
      "4/4 [==============================] - 0s 24ms/step - loss: 0.1306 - mean_absolute_error: 0.1306 - val_loss: 0.2215 - val_mean_absolute_error: 0.2215\n",
      "Epoch 55/200\n",
      "4/4 [==============================] - 0s 24ms/step - loss: 0.1250 - mean_absolute_error: 0.1250 - val_loss: 0.2133 - val_mean_absolute_error: 0.2133\n",
      "Epoch 56/200\n",
      "4/4 [==============================] - 0s 26ms/step - loss: 0.1387 - mean_absolute_error: 0.1387 - val_loss: 0.2192 - val_mean_absolute_error: 0.2192\n",
      "Epoch 57/200\n",
      "4/4 [==============================] - 0s 24ms/step - loss: 0.1405 - mean_absolute_error: 0.1405 - val_loss: 0.2387 - val_mean_absolute_error: 0.2387\n",
      "Epoch 58/200\n",
      "4/4 [==============================] - 0s 24ms/step - loss: 0.1435 - mean_absolute_error: 0.1435 - val_loss: 0.2295 - val_mean_absolute_error: 0.2295\n",
      "Epoch 59/200\n",
      "4/4 [==============================] - 0s 24ms/step - loss: 0.1363 - mean_absolute_error: 0.1363 - val_loss: 0.2324 - val_mean_absolute_error: 0.2324\n",
      "Epoch 60/200\n",
      "4/4 [==============================] - 0s 23ms/step - loss: 0.1234 - mean_absolute_error: 0.1234 - val_loss: 0.2106 - val_mean_absolute_error: 0.2106\n",
      "Epoch 61/200\n",
      "4/4 [==============================] - 0s 25ms/step - loss: 0.1360 - mean_absolute_error: 0.1360 - val_loss: 0.1724 - val_mean_absolute_error: 0.1724\n",
      "Epoch 62/200\n",
      "4/4 [==============================] - 0s 24ms/step - loss: 0.1285 - mean_absolute_error: 0.1285 - val_loss: 0.1771 - val_mean_absolute_error: 0.1771\n",
      "Epoch 63/200\n",
      "4/4 [==============================] - 0s 23ms/step - loss: 0.1309 - mean_absolute_error: 0.1309 - val_loss: 0.1793 - val_mean_absolute_error: 0.1793\n",
      "Epoch 64/200\n",
      "4/4 [==============================] - 0s 24ms/step - loss: 0.1206 - mean_absolute_error: 0.1206 - val_loss: 0.1761 - val_mean_absolute_error: 0.1761\n",
      "Epoch 65/200\n",
      "4/4 [==============================] - 0s 23ms/step - loss: 0.1334 - mean_absolute_error: 0.1334 - val_loss: 0.2117 - val_mean_absolute_error: 0.2117\n",
      "Epoch 66/200\n",
      "4/4 [==============================] - 0s 24ms/step - loss: 0.1375 - mean_absolute_error: 0.1375 - val_loss: 0.1877 - val_mean_absolute_error: 0.1877\n",
      "Epoch 67/200\n",
      "4/4 [==============================] - 0s 24ms/step - loss: 0.1297 - mean_absolute_error: 0.1297 - val_loss: 0.1827 - val_mean_absolute_error: 0.1827\n",
      "Epoch 68/200\n",
      "4/4 [==============================] - 0s 23ms/step - loss: 0.1290 - mean_absolute_error: 0.1290 - val_loss: 0.1860 - val_mean_absolute_error: 0.1860\n",
      "Epoch 69/200\n",
      "4/4 [==============================] - 0s 24ms/step - loss: 0.1299 - mean_absolute_error: 0.1299 - val_loss: 0.1972 - val_mean_absolute_error: 0.1972\n",
      "Epoch 70/200\n",
      "4/4 [==============================] - 0s 24ms/step - loss: 0.1218 - mean_absolute_error: 0.1218 - val_loss: 0.1607 - val_mean_absolute_error: 0.1607\n",
      "Epoch 71/200\n",
      "4/4 [==============================] - 0s 24ms/step - loss: 0.1137 - mean_absolute_error: 0.1137 - val_loss: 0.1718 - val_mean_absolute_error: 0.1718\n",
      "Epoch 72/200\n",
      "4/4 [==============================] - 0s 23ms/step - loss: 0.1347 - mean_absolute_error: 0.1347 - val_loss: 0.1694 - val_mean_absolute_error: 0.1694\n",
      "Epoch 73/200\n",
      "4/4 [==============================] - 0s 25ms/step - loss: 0.1228 - mean_absolute_error: 0.1228 - val_loss: 0.1736 - val_mean_absolute_error: 0.1736\n",
      "Epoch 74/200\n",
      "4/4 [==============================] - 0s 26ms/step - loss: 0.1354 - mean_absolute_error: 0.1354 - val_loss: 0.1671 - val_mean_absolute_error: 0.1671\n",
      "Epoch 75/200\n",
      "4/4 [==============================] - 0s 25ms/step - loss: 0.1165 - mean_absolute_error: 0.1165 - val_loss: 0.1693 - val_mean_absolute_error: 0.1693\n",
      "Epoch 76/200\n",
      "4/4 [==============================] - 0s 26ms/step - loss: 0.1233 - mean_absolute_error: 0.1233 - val_loss: 0.1488 - val_mean_absolute_error: 0.1488\n",
      "Epoch 77/200\n",
      "4/4 [==============================] - 0s 26ms/step - loss: 0.1164 - mean_absolute_error: 0.1164 - val_loss: 0.1549 - val_mean_absolute_error: 0.1549\n",
      "Epoch 78/200\n",
      "4/4 [==============================] - 0s 24ms/step - loss: 0.1248 - mean_absolute_error: 0.1248 - val_loss: 0.1938 - val_mean_absolute_error: 0.1938\n",
      "Epoch 79/200\n",
      "4/4 [==============================] - 0s 24ms/step - loss: 0.1241 - mean_absolute_error: 0.1241 - val_loss: 0.1959 - val_mean_absolute_error: 0.1959\n",
      "Epoch 80/200\n",
      "4/4 [==============================] - 0s 23ms/step - loss: 0.1228 - mean_absolute_error: 0.1228 - val_loss: 0.1764 - val_mean_absolute_error: 0.1764\n",
      "Epoch 81/200\n",
      "4/4 [==============================] - 0s 25ms/step - loss: 0.1185 - mean_absolute_error: 0.1185 - val_loss: 0.1705 - val_mean_absolute_error: 0.1705\n",
      "Epoch 82/200\n",
      "4/4 [==============================] - 0s 24ms/step - loss: 0.1180 - mean_absolute_error: 0.1180 - val_loss: 0.1546 - val_mean_absolute_error: 0.1546\n",
      "Epoch 83/200\n",
      "4/4 [==============================] - 0s 24ms/step - loss: 0.1134 - mean_absolute_error: 0.1134 - val_loss: 0.1697 - val_mean_absolute_error: 0.1697\n",
      "Epoch 84/200\n",
      "4/4 [==============================] - 0s 24ms/step - loss: 0.1116 - mean_absolute_error: 0.1116 - val_loss: 0.1710 - val_mean_absolute_error: 0.1710\n",
      "Epoch 85/200\n",
      "4/4 [==============================] - 0s 26ms/step - loss: 0.1126 - mean_absolute_error: 0.1126 - val_loss: 0.2042 - val_mean_absolute_error: 0.2042\n",
      "Epoch 86/200\n",
      "4/4 [==============================] - 0s 25ms/step - loss: 0.1177 - mean_absolute_error: 0.1177 - val_loss: 0.2368 - val_mean_absolute_error: 0.2368\n",
      "Epoch 87/200\n",
      "4/4 [==============================] - 0s 24ms/step - loss: 0.1267 - mean_absolute_error: 0.1267 - val_loss: 0.1816 - val_mean_absolute_error: 0.1816\n",
      "Epoch 88/200\n",
      "4/4 [==============================] - 0s 24ms/step - loss: 0.1109 - mean_absolute_error: 0.1109 - val_loss: 0.1605 - val_mean_absolute_error: 0.1605\n",
      "Epoch 89/200\n",
      "4/4 [==============================] - 0s 24ms/step - loss: 0.1188 - mean_absolute_error: 0.1188 - val_loss: 0.1623 - val_mean_absolute_error: 0.1623\n",
      "Epoch 90/200\n",
      "4/4 [==============================] - 0s 25ms/step - loss: 0.1192 - mean_absolute_error: 0.1192 - val_loss: 0.1601 - val_mean_absolute_error: 0.1601\n",
      "Epoch 91/200\n",
      "4/4 [==============================] - 0s 24ms/step - loss: 0.1090 - mean_absolute_error: 0.1090 - val_loss: 0.1748 - val_mean_absolute_error: 0.1748\n",
      "Epoch 92/200\n",
      "4/4 [==============================] - 0s 23ms/step - loss: 0.1224 - mean_absolute_error: 0.1224 - val_loss: 0.2543 - val_mean_absolute_error: 0.2543\n",
      "Epoch 93/200\n",
      "4/4 [==============================] - 0s 24ms/step - loss: 0.1216 - mean_absolute_error: 0.1216 - val_loss: 0.1995 - val_mean_absolute_error: 0.1995\n",
      "Epoch 94/200\n",
      "4/4 [==============================] - 0s 23ms/step - loss: 0.1303 - mean_absolute_error: 0.1303 - val_loss: 0.2133 - val_mean_absolute_error: 0.2133\n",
      "Epoch 95/200\n",
      "4/4 [==============================] - 0s 25ms/step - loss: 0.1219 - mean_absolute_error: 0.1219 - val_loss: 0.1746 - val_mean_absolute_error: 0.1746\n",
      "Epoch 96/200\n",
      "4/4 [==============================] - 0s 27ms/step - loss: 0.1271 - mean_absolute_error: 0.1271 - val_loss: 0.2673 - val_mean_absolute_error: 0.2673\n",
      "Epoch 97/200\n",
      "4/4 [==============================] - 0s 25ms/step - loss: 0.1231 - mean_absolute_error: 0.1231 - val_loss: 0.1881 - val_mean_absolute_error: 0.1881\n",
      "Epoch 98/200\n",
      "4/4 [==============================] - 0s 25ms/step - loss: 0.1277 - mean_absolute_error: 0.1277 - val_loss: 0.1887 - val_mean_absolute_error: 0.1887\n",
      "Epoch 99/200\n",
      "4/4 [==============================] - 0s 25ms/step - loss: 0.1202 - mean_absolute_error: 0.1202 - val_loss: 0.1856 - val_mean_absolute_error: 0.1856\n",
      "Epoch 100/200\n",
      "4/4 [==============================] - 0s 24ms/step - loss: 0.1102 - mean_absolute_error: 0.1102 - val_loss: 0.2384 - val_mean_absolute_error: 0.2384\n",
      "Epoch 101/200\n",
      "4/4 [==============================] - 0s 25ms/step - loss: 0.1181 - mean_absolute_error: 0.1181 - val_loss: 0.1894 - val_mean_absolute_error: 0.1894\n",
      "Epoch 102/200\n",
      "4/4 [==============================] - 0s 25ms/step - loss: 0.1227 - mean_absolute_error: 0.1227 - val_loss: 0.2238 - val_mean_absolute_error: 0.2238\n",
      "Epoch 103/200\n",
      "4/4 [==============================] - 0s 25ms/step - loss: 0.1163 - mean_absolute_error: 0.1163 - val_loss: 0.2231 - val_mean_absolute_error: 0.2231\n",
      "Epoch 104/200\n",
      "4/4 [==============================] - 0s 25ms/step - loss: 0.1082 - mean_absolute_error: 0.1082 - val_loss: 0.1769 - val_mean_absolute_error: 0.1769\n",
      "Epoch 105/200\n",
      "4/4 [==============================] - 0s 26ms/step - loss: 0.1133 - mean_absolute_error: 0.1133 - val_loss: 0.1929 - val_mean_absolute_error: 0.1929\n",
      "Epoch 106/200\n",
      "4/4 [==============================] - 0s 24ms/step - loss: 0.1208 - mean_absolute_error: 0.1208 - val_loss: 0.2483 - val_mean_absolute_error: 0.2483\n",
      "Epoch 107/200\n",
      "4/4 [==============================] - 0s 26ms/step - loss: 0.1181 - mean_absolute_error: 0.1181 - val_loss: 0.2016 - val_mean_absolute_error: 0.2016\n",
      "Epoch 108/200\n",
      "4/4 [==============================] - 0s 24ms/step - loss: 0.1118 - mean_absolute_error: 0.1118 - val_loss: 0.1573 - val_mean_absolute_error: 0.1573\n",
      "Epoch 109/200\n",
      "4/4 [==============================] - 0s 24ms/step - loss: 0.1030 - mean_absolute_error: 0.1030 - val_loss: 0.1777 - val_mean_absolute_error: 0.1777\n",
      "Epoch 110/200\n",
      "4/4 [==============================] - 0s 23ms/step - loss: 0.1111 - mean_absolute_error: 0.1111 - val_loss: 0.1587 - val_mean_absolute_error: 0.1587\n",
      "Epoch 111/200\n",
      "4/4 [==============================] - 0s 24ms/step - loss: 0.0964 - mean_absolute_error: 0.0964 - val_loss: 0.1694 - val_mean_absolute_error: 0.1694\n",
      "Epoch 112/200\n",
      "4/4 [==============================] - 0s 24ms/step - loss: 0.1137 - mean_absolute_error: 0.1137 - val_loss: 0.2202 - val_mean_absolute_error: 0.2202\n",
      "Epoch 113/200\n",
      "4/4 [==============================] - 0s 24ms/step - loss: 0.1111 - mean_absolute_error: 0.1111 - val_loss: 0.2991 - val_mean_absolute_error: 0.2991\n",
      "Epoch 114/200\n",
      "4/4 [==============================] - 0s 24ms/step - loss: 0.1153 - mean_absolute_error: 0.1153 - val_loss: 0.2457 - val_mean_absolute_error: 0.2457\n",
      "Epoch 115/200\n",
      "4/4 [==============================] - 0s 23ms/step - loss: 0.1193 - mean_absolute_error: 0.1193 - val_loss: 0.2006 - val_mean_absolute_error: 0.2006\n",
      "Epoch 116/200\n",
      "4/4 [==============================] - 0s 25ms/step - loss: 0.1129 - mean_absolute_error: 0.1129 - val_loss: 0.3145 - val_mean_absolute_error: 0.3145\n",
      "Epoch 117/200\n",
      "4/4 [==============================] - 0s 24ms/step - loss: 0.1170 - mean_absolute_error: 0.1170 - val_loss: 0.2664 - val_mean_absolute_error: 0.2664\n",
      "Epoch 118/200\n",
      "4/4 [==============================] - 0s 24ms/step - loss: 0.1066 - mean_absolute_error: 0.1066 - val_loss: 0.3069 - val_mean_absolute_error: 0.3069\n",
      "Epoch 119/200\n",
      "4/4 [==============================] - 0s 24ms/step - loss: 0.1085 - mean_absolute_error: 0.1085 - val_loss: 0.4369 - val_mean_absolute_error: 0.4369\n",
      "Epoch 120/200\n",
      "4/4 [==============================] - 0s 24ms/step - loss: 0.1113 - mean_absolute_error: 0.1113 - val_loss: 0.2560 - val_mean_absolute_error: 0.2560\n",
      "Epoch 121/200\n",
      "4/4 [==============================] - 0s 25ms/step - loss: 0.1067 - mean_absolute_error: 0.1067 - val_loss: 0.1733 - val_mean_absolute_error: 0.1733\n",
      "Epoch 122/200\n",
      "4/4 [==============================] - 0s 24ms/step - loss: 0.1201 - mean_absolute_error: 0.1201 - val_loss: 0.2334 - val_mean_absolute_error: 0.2334\n",
      "Epoch 123/200\n",
      "4/4 [==============================] - 0s 26ms/step - loss: 0.1258 - mean_absolute_error: 0.1258 - val_loss: 0.2701 - val_mean_absolute_error: 0.2701\n",
      "Epoch 124/200\n",
      "4/4 [==============================] - 0s 24ms/step - loss: 0.1059 - mean_absolute_error: 0.1059 - val_loss: 0.3083 - val_mean_absolute_error: 0.3083\n",
      "Epoch 125/200\n",
      "4/4 [==============================] - 0s 24ms/step - loss: 0.1135 - mean_absolute_error: 0.1135 - val_loss: 0.1559 - val_mean_absolute_error: 0.1559\n",
      "Epoch 126/200\n",
      "4/4 [==============================] - 0s 24ms/step - loss: 0.1139 - mean_absolute_error: 0.1139 - val_loss: 0.2240 - val_mean_absolute_error: 0.2240\n",
      "Epoch 127/200\n",
      "4/4 [==============================] - 0s 25ms/step - loss: 0.1161 - mean_absolute_error: 0.1161 - val_loss: 0.1894 - val_mean_absolute_error: 0.1894\n",
      "Epoch 128/200\n",
      "4/4 [==============================] - 0s 24ms/step - loss: 0.1103 - mean_absolute_error: 0.1103 - val_loss: 0.2736 - val_mean_absolute_error: 0.2736\n",
      "Epoch 129/200\n",
      "4/4 [==============================] - 0s 25ms/step - loss: 0.1085 - mean_absolute_error: 0.1085 - val_loss: 0.2451 - val_mean_absolute_error: 0.2451\n",
      "Epoch 130/200\n",
      "4/4 [==============================] - 0s 24ms/step - loss: 0.1109 - mean_absolute_error: 0.1109 - val_loss: 0.1582 - val_mean_absolute_error: 0.1582\n",
      "Epoch 131/200\n",
      "4/4 [==============================] - 0s 24ms/step - loss: 0.1040 - mean_absolute_error: 0.1040 - val_loss: 0.1731 - val_mean_absolute_error: 0.1731\n",
      "Epoch 132/200\n",
      "4/4 [==============================] - 0s 24ms/step - loss: 0.1138 - mean_absolute_error: 0.1138 - val_loss: 0.3024 - val_mean_absolute_error: 0.3024\n",
      "Epoch 133/200\n",
      "4/4 [==============================] - 0s 24ms/step - loss: 0.1061 - mean_absolute_error: 0.1061 - val_loss: 0.3661 - val_mean_absolute_error: 0.3661\n",
      "Epoch 134/200\n",
      "4/4 [==============================] - 0s 24ms/step - loss: 0.1073 - mean_absolute_error: 0.1073 - val_loss: 0.2846 - val_mean_absolute_error: 0.2846\n",
      "Epoch 135/200\n",
      "4/4 [==============================] - 0s 24ms/step - loss: 0.1083 - mean_absolute_error: 0.1083 - val_loss: 0.3222 - val_mean_absolute_error: 0.3222\n",
      "Epoch 136/200\n",
      "4/4 [==============================] - 0s 25ms/step - loss: 0.1044 - mean_absolute_error: 0.1044 - val_loss: 0.3178 - val_mean_absolute_error: 0.3178\n",
      "Epoch 137/200\n",
      "4/4 [==============================] - 0s 24ms/step - loss: 0.0977 - mean_absolute_error: 0.0977 - val_loss: 0.3103 - val_mean_absolute_error: 0.3103\n",
      "Epoch 138/200\n",
      "4/4 [==============================] - 0s 25ms/step - loss: 0.0977 - mean_absolute_error: 0.0977 - val_loss: 0.3644 - val_mean_absolute_error: 0.3644\n",
      "Epoch 139/200\n",
      "4/4 [==============================] - 0s 23ms/step - loss: 0.0952 - mean_absolute_error: 0.0952 - val_loss: 0.3295 - val_mean_absolute_error: 0.3295\n",
      "Epoch 140/200\n",
      "4/4 [==============================] - 0s 25ms/step - loss: 0.0990 - mean_absolute_error: 0.0990 - val_loss: 0.3026 - val_mean_absolute_error: 0.3026\n",
      "Epoch 141/200\n",
      "4/4 [==============================] - 0s 24ms/step - loss: 0.0990 - mean_absolute_error: 0.0990 - val_loss: 0.3177 - val_mean_absolute_error: 0.3177\n",
      "Epoch 142/200\n",
      "4/4 [==============================] - 0s 25ms/step - loss: 0.0976 - mean_absolute_error: 0.0976 - val_loss: 0.3183 - val_mean_absolute_error: 0.3183\n",
      "Epoch 143/200\n",
      "4/4 [==============================] - 0s 24ms/step - loss: 0.1069 - mean_absolute_error: 0.1069 - val_loss: 0.3011 - val_mean_absolute_error: 0.3011\n",
      "Epoch 144/200\n",
      "4/4 [==============================] - 0s 24ms/step - loss: 0.1127 - mean_absolute_error: 0.1127 - val_loss: 0.3497 - val_mean_absolute_error: 0.3497\n",
      "Epoch 145/200\n",
      "4/4 [==============================] - 0s 23ms/step - loss: 0.1072 - mean_absolute_error: 0.1072 - val_loss: 0.2552 - val_mean_absolute_error: 0.2552\n",
      "Epoch 146/200\n",
      "4/4 [==============================] - 0s 24ms/step - loss: 0.1004 - mean_absolute_error: 0.1004 - val_loss: 0.2869 - val_mean_absolute_error: 0.2869\n",
      "Epoch 147/200\n",
      "4/4 [==============================] - 0s 23ms/step - loss: 0.1007 - mean_absolute_error: 0.1007 - val_loss: 0.2267 - val_mean_absolute_error: 0.2267\n",
      "Epoch 148/200\n",
      "4/4 [==============================] - 0s 24ms/step - loss: 0.0962 - mean_absolute_error: 0.0962 - val_loss: 0.2553 - val_mean_absolute_error: 0.2553\n",
      "Epoch 149/200\n",
      "4/4 [==============================] - 0s 24ms/step - loss: 0.0864 - mean_absolute_error: 0.0864 - val_loss: 0.2565 - val_mean_absolute_error: 0.2565\n",
      "Epoch 150/200\n",
      "4/4 [==============================] - 0s 24ms/step - loss: 0.0951 - mean_absolute_error: 0.0951 - val_loss: 0.3393 - val_mean_absolute_error: 0.3393\n",
      "Epoch 151/200\n",
      "4/4 [==============================] - 0s 23ms/step - loss: 0.0981 - mean_absolute_error: 0.0981 - val_loss: 0.3277 - val_mean_absolute_error: 0.3277\n",
      "Epoch 152/200\n",
      "4/4 [==============================] - 0s 24ms/step - loss: 0.1072 - mean_absolute_error: 0.1072 - val_loss: 0.2468 - val_mean_absolute_error: 0.2468\n",
      "Epoch 153/200\n",
      "4/4 [==============================] - 0s 25ms/step - loss: 0.1010 - mean_absolute_error: 0.1010 - val_loss: 0.2634 - val_mean_absolute_error: 0.2634\n",
      "Epoch 154/200\n",
      "4/4 [==============================] - 0s 25ms/step - loss: 0.0914 - mean_absolute_error: 0.0914 - val_loss: 0.2539 - val_mean_absolute_error: 0.2539\n",
      "Epoch 155/200\n",
      "4/4 [==============================] - 0s 24ms/step - loss: 0.0973 - mean_absolute_error: 0.0973 - val_loss: 0.2257 - val_mean_absolute_error: 0.2257\n",
      "Epoch 156/200\n",
      "4/4 [==============================] - 0s 24ms/step - loss: 0.0933 - mean_absolute_error: 0.0933 - val_loss: 0.2452 - val_mean_absolute_error: 0.2452\n",
      "Epoch 157/200\n",
      "4/4 [==============================] - 0s 23ms/step - loss: 0.0956 - mean_absolute_error: 0.0956 - val_loss: 0.2439 - val_mean_absolute_error: 0.2439\n",
      "Epoch 158/200\n",
      "4/4 [==============================] - 0s 23ms/step - loss: 0.0865 - mean_absolute_error: 0.0865 - val_loss: 0.2474 - val_mean_absolute_error: 0.2474\n",
      "Epoch 159/200\n",
      "4/4 [==============================] - 0s 23ms/step - loss: 0.0939 - mean_absolute_error: 0.0939 - val_loss: 0.2081 - val_mean_absolute_error: 0.2081\n",
      "Epoch 160/200\n",
      "4/4 [==============================] - 0s 25ms/step - loss: 0.0998 - mean_absolute_error: 0.0998 - val_loss: 0.1813 - val_mean_absolute_error: 0.1813\n",
      "Epoch 161/200\n",
      "4/4 [==============================] - 0s 24ms/step - loss: 0.0987 - mean_absolute_error: 0.0987 - val_loss: 0.1664 - val_mean_absolute_error: 0.1664\n",
      "Epoch 162/200\n",
      "4/4 [==============================] - 0s 25ms/step - loss: 0.0868 - mean_absolute_error: 0.0868 - val_loss: 0.1690 - val_mean_absolute_error: 0.1690\n",
      "Epoch 163/200\n",
      "4/4 [==============================] - 0s 24ms/step - loss: 0.1084 - mean_absolute_error: 0.1084 - val_loss: 0.1625 - val_mean_absolute_error: 0.1625\n",
      "Epoch 164/200\n",
      "4/4 [==============================] - 0s 25ms/step - loss: 0.0931 - mean_absolute_error: 0.0931 - val_loss: 0.2064 - val_mean_absolute_error: 0.2064\n",
      "Epoch 165/200\n",
      "4/4 [==============================] - 0s 24ms/step - loss: 0.1012 - mean_absolute_error: 0.1012 - val_loss: 0.2235 - val_mean_absolute_error: 0.2235\n",
      "Epoch 166/200\n",
      "4/4 [==============================] - 0s 25ms/step - loss: 0.0891 - mean_absolute_error: 0.0891 - val_loss: 0.2307 - val_mean_absolute_error: 0.2307\n",
      "Epoch 167/200\n",
      "4/4 [==============================] - 0s 24ms/step - loss: 0.1077 - mean_absolute_error: 0.1077 - val_loss: 0.1786 - val_mean_absolute_error: 0.1786\n",
      "Epoch 168/200\n",
      "4/4 [==============================] - 0s 24ms/step - loss: 0.1012 - mean_absolute_error: 0.1012 - val_loss: 0.1843 - val_mean_absolute_error: 0.1843\n",
      "Epoch 169/200\n",
      "4/4 [==============================] - 0s 25ms/step - loss: 0.0997 - mean_absolute_error: 0.0997 - val_loss: 0.1807 - val_mean_absolute_error: 0.1807\n",
      "Epoch 170/200\n",
      "4/4 [==============================] - 0s 25ms/step - loss: 0.0947 - mean_absolute_error: 0.0947 - val_loss: 0.1818 - val_mean_absolute_error: 0.1818\n",
      "Epoch 171/200\n",
      "4/4 [==============================] - 0s 23ms/step - loss: 0.0990 - mean_absolute_error: 0.0990 - val_loss: 0.2236 - val_mean_absolute_error: 0.2236\n",
      "Epoch 172/200\n",
      "4/4 [==============================] - 0s 26ms/step - loss: 0.0960 - mean_absolute_error: 0.0960 - val_loss: 0.2052 - val_mean_absolute_error: 0.2052\n",
      "Epoch 173/200\n",
      "4/4 [==============================] - 0s 24ms/step - loss: 0.0993 - mean_absolute_error: 0.0993 - val_loss: 0.1871 - val_mean_absolute_error: 0.1871\n",
      "Epoch 174/200\n",
      "4/4 [==============================] - 0s 24ms/step - loss: 0.0958 - mean_absolute_error: 0.0958 - val_loss: 0.2435 - val_mean_absolute_error: 0.2435\n",
      "Epoch 175/200\n",
      "4/4 [==============================] - 0s 25ms/step - loss: 0.1183 - mean_absolute_error: 0.1183 - val_loss: 0.1954 - val_mean_absolute_error: 0.1954\n",
      "Epoch 176/200\n",
      "4/4 [==============================] - 0s 25ms/step - loss: 0.0910 - mean_absolute_error: 0.0910 - val_loss: 0.1985 - val_mean_absolute_error: 0.1985\n",
      "Epoch 177/200\n",
      "4/4 [==============================] - 0s 24ms/step - loss: 0.0946 - mean_absolute_error: 0.0946 - val_loss: 0.2183 - val_mean_absolute_error: 0.2183\n",
      "Epoch 178/200\n",
      "4/4 [==============================] - 0s 25ms/step - loss: 0.0941 - mean_absolute_error: 0.0941 - val_loss: 0.2015 - val_mean_absolute_error: 0.2015\n",
      "Epoch 179/200\n",
      "4/4 [==============================] - 0s 24ms/step - loss: 0.0878 - mean_absolute_error: 0.0878 - val_loss: 0.1701 - val_mean_absolute_error: 0.1701\n",
      "Epoch 180/200\n",
      "4/4 [==============================] - 0s 24ms/step - loss: 0.0854 - mean_absolute_error: 0.0854 - val_loss: 0.2111 - val_mean_absolute_error: 0.2111\n",
      "Epoch 181/200\n",
      "4/4 [==============================] - 0s 24ms/step - loss: 0.0883 - mean_absolute_error: 0.0883 - val_loss: 0.2100 - val_mean_absolute_error: 0.2100\n",
      "Epoch 182/200\n",
      "4/4 [==============================] - 0s 25ms/step - loss: 0.1207 - mean_absolute_error: 0.1207 - val_loss: 0.1813 - val_mean_absolute_error: 0.1813\n",
      "Epoch 183/200\n",
      "4/4 [==============================] - 0s 24ms/step - loss: 0.0853 - mean_absolute_error: 0.0853 - val_loss: 0.1795 - val_mean_absolute_error: 0.1795\n",
      "Epoch 184/200\n",
      "4/4 [==============================] - 0s 24ms/step - loss: 0.0880 - mean_absolute_error: 0.0880 - val_loss: 0.1822 - val_mean_absolute_error: 0.1822\n",
      "Epoch 185/200\n",
      "4/4 [==============================] - 0s 24ms/step - loss: 0.0919 - mean_absolute_error: 0.0919 - val_loss: 0.1630 - val_mean_absolute_error: 0.1630\n",
      "Epoch 186/200\n",
      "4/4 [==============================] - 0s 26ms/step - loss: 0.0878 - mean_absolute_error: 0.0878 - val_loss: 0.2728 - val_mean_absolute_error: 0.2728\n",
      "Epoch 187/200\n",
      "4/4 [==============================] - 0s 25ms/step - loss: 0.0897 - mean_absolute_error: 0.0897 - val_loss: 0.2467 - val_mean_absolute_error: 0.2467\n",
      "Epoch 188/200\n",
      "4/4 [==============================] - 0s 24ms/step - loss: 0.0944 - mean_absolute_error: 0.0944 - val_loss: 0.2352 - val_mean_absolute_error: 0.2352\n",
      "Epoch 189/200\n",
      "4/4 [==============================] - 0s 25ms/step - loss: 0.0954 - mean_absolute_error: 0.0954 - val_loss: 0.1984 - val_mean_absolute_error: 0.1984\n",
      "Epoch 190/200\n",
      "4/4 [==============================] - 0s 24ms/step - loss: 0.0912 - mean_absolute_error: 0.0912 - val_loss: 0.2491 - val_mean_absolute_error: 0.2491\n",
      "Epoch 191/200\n",
      "4/4 [==============================] - 0s 24ms/step - loss: 0.0968 - mean_absolute_error: 0.0968 - val_loss: 0.1994 - val_mean_absolute_error: 0.1994\n",
      "Epoch 192/200\n",
      "4/4 [==============================] - 0s 24ms/step - loss: 0.0909 - mean_absolute_error: 0.0909 - val_loss: 0.2234 - val_mean_absolute_error: 0.2234\n",
      "Epoch 193/200\n",
      "4/4 [==============================] - 0s 24ms/step - loss: 0.0930 - mean_absolute_error: 0.0930 - val_loss: 0.1763 - val_mean_absolute_error: 0.1763\n",
      "Epoch 194/200\n",
      "4/4 [==============================] - 0s 24ms/step - loss: 0.0905 - mean_absolute_error: 0.0905 - val_loss: 0.3376 - val_mean_absolute_error: 0.3376\n",
      "Epoch 195/200\n",
      "4/4 [==============================] - 0s 23ms/step - loss: 0.1001 - mean_absolute_error: 0.1001 - val_loss: 0.3103 - val_mean_absolute_error: 0.3103\n",
      "Epoch 196/200\n",
      "4/4 [==============================] - 0s 24ms/step - loss: 0.0917 - mean_absolute_error: 0.0917 - val_loss: 0.1752 - val_mean_absolute_error: 0.1752\n",
      "Epoch 197/200\n",
      "4/4 [==============================] - 0s 23ms/step - loss: 0.0943 - mean_absolute_error: 0.0943 - val_loss: 0.1856 - val_mean_absolute_error: 0.1856\n",
      "Epoch 198/200\n",
      "4/4 [==============================] - 0s 25ms/step - loss: 0.0882 - mean_absolute_error: 0.0882 - val_loss: 0.1877 - val_mean_absolute_error: 0.1877\n",
      "Epoch 199/200\n",
      "4/4 [==============================] - 0s 23ms/step - loss: 0.0936 - mean_absolute_error: 0.0936 - val_loss: 0.1702 - val_mean_absolute_error: 0.1702\n",
      "Epoch 200/200\n",
      "4/4 [==============================] - 0s 23ms/step - loss: 0.0967 - mean_absolute_error: 0.0967 - val_loss: 0.1676 - val_mean_absolute_error: 0.1676\n",
      "CPU times: user 26.4 s, sys: 4.3 s, total: 30.7 s\n",
      "Wall time: 18.8 s\n"
     ]
    }
   ],
   "source": [
    "%%time\n",
    "model_store = Path('Result/saved_weights.hdf5')\n",
    "\n",
    "# save the best performing model\n",
    "checkpointer = ModelCheckpoint(\n",
    "    filepath=model_store, \n",
    "    monitor='val_loss',\n",
    "    verbose=0, \n",
    "    save_best_only=True\n",
    ")\n",
    "\n",
    "stop_early = tf.keras.callbacks.EarlyStopping(\n",
    "    monitor='val_loss',\n",
    "    patience=10,\n",
    "    min_delta = 1/age_range\n",
    ")\n",
    "\n",
    "st = time.time()\n",
    "# model training\n",
    "model.fit(\n",
    "    [x_train], y_train,\n",
    "    batch_size=60,\n",
    "    epochs=200, \n",
    "    verbose=1,\n",
    "    callbacks=[checkpointer],\n",
    "    validation_data=([x_valid], y_valid)\n",
    ")\n",
    "rt = time.time()-st"
   ]
  },
  {
   "cell_type": "code",
   "execution_count": 38,
   "metadata": {},
   "outputs": [
    {
     "data": {
      "text/plain": [
       "18.78559398651123"
      ]
     },
     "execution_count": 38,
     "metadata": {},
     "output_type": "execute_result"
    }
   ],
   "source": [
    "rt"
   ]
  },
  {
   "cell_type": "code",
   "execution_count": 39,
   "metadata": {
    "tags": []
   },
   "outputs": [
    {
     "name": "stdout",
     "output_type": "stream",
     "text": [
      "Final train error: 4.920556545257568\n",
      "Final valid error: 8.21268504858017\n"
     ]
    },
    {
     "data": {
      "image/png": "[encoded data removed]",
      "text/plain": [
       "<Figure size 648x432 with 1 Axes>"
      ]
     },
     "metadata": {
      "needs_background": "light"
     },
     "output_type": "display_data"
    }
   ],
   "source": [
    "##### Step 6: plot train and validation loss #####\n",
    "history = model.history\n",
    "print('Final train error:', age_range*history.history['mean_absolute_error'][-1])\n",
    "print('Final valid error:', age_range*history.history['val_mean_absolute_error'][-1])\n",
    "plt.plot(age_range*pd.Series(history.history['mean_absolute_error']))\n",
    "plt.plot(age_range*pd.Series(history.history['val_mean_absolute_error']))\n",
    "plt.title('Model loss')\n",
    "plt.ylabel('Mean absolute error [years]')\n",
    "plt.xlabel('Epoch')\n",
    "plt.legend(['train', 'validation'], loc='upper right')\n",
    "plt.show()"
   ]
  },
  {
   "cell_type": "code",
   "execution_count": 22,
   "metadata": {},
   "outputs": [],
   "source": [
    "#### Step 7: test the final model #####\n",
    "final_model = load_model(model_store)\n",
    "x_test = x_valid\n",
    "y_test = y_valid\n",
    "y_scores = final_model.predict([x_test])\n",
    "y_scores = y_scores.reshape(y_scores.shape[0])"
   ]
  },
  {
   "cell_type": "code",
   "execution_count": 23,
   "metadata": {},
   "outputs": [
    {
     "data": {
      "text/plain": [
       "count    65.000000\n",
       "mean      0.656262\n",
       "std       9.510446\n",
       "min     -25.341498\n",
       "25%      -4.593072\n",
       "50%       0.970219\n",
       "75%       5.453047\n",
       "max      21.427002\n",
       "dtype: float64"
      ]
     },
     "execution_count": 23,
     "metadata": {},
     "output_type": "execute_result"
    }
   ],
   "source": [
    "errors = age_range * (pd.Series(y_test)-pd.Series(y_scores))\n",
    "errors.describe()"
   ]
  },
  {
   "cell_type": "code",
   "execution_count": 24,
   "metadata": {},
   "outputs": [
    {
     "data": {
      "image/png": "[encoded data removed]",
      "text/plain": [
       "<Figure size 648x432 with 1 Axes>"
      ]
     },
     "metadata": {
      "needs_background": "light"
     },
     "output_type": "display_data"
    }
   ],
   "source": [
    "plt.hist(errors)\n",
    "plt.title('Error Distribution')\n",
    "plt.xlabel('Actual - Predicted [Years]')\n",
    "plt.show()"
   ]
  },
  {
   "cell_type": "code",
   "execution_count": 31,
   "metadata": {},
   "outputs": [
    {
     "data": {
      "image/png": "[encoded data removed]",
      "text/plain": [
       "<Figure size 648x432 with 1 Axes>"
      ]
     },
     "metadata": {
      "needs_background": "light"
     },
     "output_type": "display_data"
    }
   ],
   "source": [
    "age_true = y_test*age_range + age_min\n",
    "age_pred = y_scores*age_range + age_min\n",
    "plt.plot(age_true, age_pred,'b.')\n",
    "plt.axis('square')\n",
    "plt.xlim((40,95))\n",
    "plt.ylim((40,95))\n",
    "plt.xlabel('True age')\n",
    "plt.ylabel('Predicted age')\n",
    "plt.title('Prediction vs True')\n",
    "plt.plot([40,95],[40,95],'--k')\n",
    "coef = np.polyfit(age_true, age_pred, 1)\n",
    "poly1d_fn = np.poly1d(coef)\n",
    "plt.plot([40,95], poly1d_fn([40,95]), '--b')\n",
    "plt.show()"
   ]
  },
  {
   "cell_type": "code",
   "execution_count": null,
   "metadata": {},
   "outputs": [],
   "source": []
  }
 ],
 "metadata": {
  "kernelspec": {
   "display_name": "Python 3",
   "language": "python",
   "name": "python3"
  },
  "language_info": {
   "codemirror_mode": {
    "name": "ipython",
    "version": 3
   },
   "file_extension": ".py",
   "mimetype": "text/x-python",
   "name": "python",
   "nbconvert_exporter": "python",
   "pygments_lexer": "ipython3",
   "version": "3.9.6"
  }
 },
 "nbformat": 4,
 "nbformat_minor": 4
}
