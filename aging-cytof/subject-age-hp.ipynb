{
 "cells": [
  {
   "cell_type": "markdown",
   "metadata": {},
   "source": [
    "# Predict `Subject Age`"
   ]
  },
  {
   "cell_type": "code",
   "execution_count": 1,
   "metadata": {},
   "outputs": [],
   "source": [
    "%matplotlib inline"
   ]
  },
  {
   "cell_type": "code",
   "execution_count": 2,
   "metadata": {},
   "outputs": [],
   "source": [
    "##### Step 1: import functions #####\n",
    "import tensorflow as tf\n",
    "from tensorflow.keras.layers import Dense, Flatten, BatchNormalization, Activation, Conv2D, AveragePooling2D, Input, Softmax\n",
    "from tensorflow.keras.models import load_model, Model, Sequential\n",
    "from tensorflow.keras.optimizers import Adam\n",
    "from tensorflow.keras.callbacks import ModelCheckpoint, EarlyStopping\n",
    "from tensorflow.keras.losses import SparseCategoricalCrossentropy, MeanAbsoluteError\n",
    "from tensorflow.keras import backend as K\n",
    "from tensorflow.keras.utils import plot_model\n",
    "import pickle\n",
    "import pandas as pd\n",
    "import numpy as np\n",
    "from numpy.random import seed; seed(111)\n",
    "import random\n",
    "import matplotlib.pyplot as plt\n",
    "import seaborn as sns\n",
    "from tensorflow.random import set_seed; set_seed(111)\n",
    "from sklearn.metrics import roc_curve, auc\n",
    "from sklearn.preprocessing import normalize\n",
    "from six import StringIO  \n",
    "from sklearn.tree import export_graphviz, DecisionTreeRegressor\n",
    "from sklearn.model_selection import train_test_split\n",
    "from scipy.stats import ttest_ind\n",
    "from IPython.display import Image  \n",
    "import pydotplus\n",
    "import time\n",
    "from pathlib import Path\n",
    "import keras_tuner as kt"
   ]
  },
  {
   "cell_type": "code",
   "execution_count": 3,
   "metadata": {},
   "outputs": [],
   "source": [
    "# %config InlineBackend.figure_format = 'svg'\n",
    "plt.rcParams['figure.figsize'] = [9,6]"
   ]
  },
  {
   "cell_type": "code",
   "execution_count": 4,
   "metadata": {},
   "outputs": [],
   "source": [
    "gpus = tf.config.list_physical_devices('GPU')\n",
    "tf.config.experimental.set_memory_growth(gpus[0], True)"
   ]
  },
  {
   "cell_type": "code",
   "execution_count": 5,
   "metadata": {},
   "outputs": [],
   "source": [
    "phenotype = 'Subject Age'"
   ]
  },
  {
   "cell_type": "code",
   "execution_count": 6,
   "metadata": {},
   "outputs": [
    {
     "name": "stdout",
     "output_type": "stream",
     "text": [
      "Dimensions of cyto_data: (260, 5000, 27, 1)\n",
      "Dimensions of samples: (260, 47)\n",
      "Names of the makers: ['CELL_LENGTH' 'DEAD' 'CD19' 'CD4' 'CD8' 'IGD' 'CD85J' 'CD16' 'CD3' 'CD38'\n",
      " 'CD27' 'CD14' 'CD94' 'CCR7' 'CD45RA' 'CD20' 'CD127' 'CD33' 'CD28' 'CD24'\n",
      " 'CD161' 'TCRGD' 'CD56' 'HLADR' 'CD25' 'DNA1' 'DNA2']\n"
     ]
    }
   ],
   "source": [
    "#load data\n",
    "aging_dir = Path('/home/ubuntu/a/aging')\n",
    "\n",
    "with open(aging_dir/'aging-cytof-data.obj', 'rb') as f:\n",
    "    allData = pickle.load(f)\n",
    "samples = allData[\"samples\"]\n",
    "cyto_data = allData['expr_list']\n",
    "# Truncate cytodata\n",
    "cyto_data = cyto_data[ :, :int(5e3)]\n",
    "markers = allData[\"marker_names\"]\n",
    "\n",
    "print(f'Dimensions of cyto_data: {cyto_data.shape}')\n",
    "print(f'Dimensions of samples: {samples.shape}')\n",
    "print(f'Names of the makers: {markers.values}')"
   ]
  },
  {
   "cell_type": "code",
   "execution_count": 7,
   "metadata": {},
   "outputs": [
    {
     "name": "stdout",
     "output_type": "stream",
     "text": [
      "count    260.000000\n",
      "mean      68.303846\n",
      "std       15.169696\n",
      "min       41.000000\n",
      "25%       55.000000\n",
      "50%       69.000000\n",
      "75%       82.000000\n",
      "max       90.000000\n",
      "Name: Subject Age, dtype: float64\n"
     ]
    },
    {
     "data": {
      "text/plain": [
       "<AxesSubplot:ylabel='Frequency'>"
      ]
     },
     "execution_count": 7,
     "metadata": {},
     "output_type": "execute_result"
    },
    {
     "data": {
      "image/png": "[encoded data removed]",
      "text/plain": [
       "<Figure size 648x432 with 1 Axes>"
      ]
     },
     "metadata": {
      "needs_background": "light"
     },
     "output_type": "display_data"
    }
   ],
   "source": [
    "print(samples[phenotype].describe())\n",
    "samples[phenotype].plot.hist()"
   ]
  },
  {
   "cell_type": "code",
   "execution_count": 8,
   "metadata": {},
   "outputs": [],
   "source": [
    "##### Step 3: split train, validation and test######\n",
    "x = []\n",
    "y = []\n",
    "for i, row in samples.iterrows():\n",
    "    x.append(cyto_data[i])\n",
    "    y.append(row[phenotype])\n",
    "age_range = max(y) - min(y)\n",
    "x = np.asarray(x)\n",
    "y_raw = np.asarray(y)\n",
    "age_min = min(y_raw)\n",
    "age_max = max(y_raw)\n",
    "age_range = age_max - age_min\n",
    "y = (y_raw - age_min) / age_range\n",
    "\n",
    "x_train, x_valid, y_train, y_valid = train_test_split(x, y)"
   ]
  },
  {
   "cell_type": "code",
   "execution_count": 9,
   "metadata": {},
   "outputs": [],
   "source": [
    "def model_builder(hp):\n",
    "    hp_filters_l1 = hp.Int('filters_l1', min_value=3, max_value=15, step=3)\n",
    "    hp_filters_l2 = hp.Int('filters_l2', min_value=3, max_value=15, step=3)\n",
    "    model = Sequential([\n",
    "        Input(shape=x[0].shape),\n",
    "        Conv2D(hp_filters_l1, kernel_size = (1, x.shape[2]), activation=None),\n",
    "        BatchNormalization(),\n",
    "        Activation('relu'),\n",
    "        Conv2D(hp_filters_l2, kernel_size = (1,1), activation=None),\n",
    "        BatchNormalization(),\n",
    "        Activation('relu'),\n",
    "        AveragePooling2D(pool_size = (x.shape[1], 1)),\n",
    "        Flatten(),\n",
    "        Dense(hp_filters_l2, activation=None),\n",
    "        BatchNormalization(),\n",
    "        Activation('relu'),\n",
    "        Dense(1, activation=None),\n",
    "    ])\n",
    "    hp_learning_rate = hp.Choice('learning_rate', values=[1e-2, 1e-3, 1e-4])\n",
    "    model.compile(\n",
    "        loss=MeanAbsoluteError(),\n",
    "        optimizer=Adam(learning_rate=hp_learning_rate),\n",
    "        metrics=['mean_absolute_error'],\n",
    "    )\n",
    "    return model"
   ]
  },
  {
   "cell_type": "code",
   "execution_count": 10,
   "metadata": {},
   "outputs": [],
   "source": [
    "tuner = kt.Hyperband(\n",
    "    model_builder,\n",
    "    objective='val_mean_absolute_error',\n",
    "    max_epochs=100,\n",
    "    factor=3,\n",
    "    overwrite=True,\n",
    "    directory='hp-search',\n",
    "    project_name='aging_regression',\n",
    ")"
   ]
  },
  {
   "cell_type": "code",
   "execution_count": 11,
   "metadata": {},
   "outputs": [
    {
     "name": "stdout",
     "output_type": "stream",
     "text": [
      "Trial 64 Complete [00h 00m 01s]\n",
      "val_mean_absolute_error: 0.41530296206474304\n",
      "\n",
      "Best val_mean_absolute_error So Far: 0.270001620054245\n",
      "Total elapsed time: 00h 01m 17s\n",
      "INFO:tensorflow:Oracle triggered exit\n"
     ]
    }
   ],
   "source": [
    "tuner.search(\n",
    "    x_train, y_train,\n",
    "    validation_split=0.2,\n",
    ")"
   ]
  },
  {
   "cell_type": "code",
   "execution_count": 12,
   "metadata": {},
   "outputs": [
    {
     "name": "stdout",
     "output_type": "stream",
     "text": [
      "filters_l1=9\n",
      "filters_l2=6\n",
      "learning_rate=0.001\n"
     ]
    }
   ],
   "source": [
    "best_hps=tuner.get_best_hyperparameters(num_trials=1)[0]\n",
    "print(f'filters_l1={best_hps[\"filters_l1\"]}')\n",
    "print(f'filters_l2={best_hps[\"filters_l2\"]}')\n",
    "print(f'learning_rate={best_hps[\"learning_rate\"]}')"
   ]
  },
  {
   "cell_type": "code",
   "execution_count": 13,
   "metadata": {},
   "outputs": [
    {
     "name": "stdout",
     "output_type": "stream",
     "text": [
      "Model: \"sequential\"\n",
      "_________________________________________________________________\n",
      "Layer (type)                 Output Shape              Param #   \n",
      "=================================================================\n",
      "conv2d (Conv2D)              (None, 5000, 1, 9)        252       \n",
      "_________________________________________________________________\n",
      "batch_normalization (BatchNo (None, 5000, 1, 9)        36        \n",
      "_________________________________________________________________\n",
      "activation (Activation)      (None, 5000, 1, 9)        0         \n",
      "_________________________________________________________________\n",
      "conv2d_1 (Conv2D)            (None, 5000, 1, 6)        60        \n",
      "_________________________________________________________________\n",
      "batch_normalization_1 (Batch (None, 5000, 1, 6)        24        \n",
      "_________________________________________________________________\n",
      "activation_1 (Activation)    (None, 5000, 1, 6)        0         \n",
      "_________________________________________________________________\n",
      "average_pooling2d (AveragePo (None, 1, 1, 6)           0         \n",
      "_________________________________________________________________\n",
      "flatten (Flatten)            (None, 6)                 0         \n",
      "_________________________________________________________________\n",
      "dense (Dense)                (None, 6)                 42        \n",
      "_________________________________________________________________\n",
      "batch_normalization_2 (Batch (None, 6)                 24        \n",
      "_________________________________________________________________\n",
      "activation_2 (Activation)    (None, 6)                 0         \n",
      "_________________________________________________________________\n",
      "dense_1 (Dense)              (None, 1)                 7         \n",
      "=================================================================\n",
      "Total params: 445\n",
      "Trainable params: 403\n",
      "Non-trainable params: 42\n",
      "_________________________________________________________________\n"
     ]
    }
   ],
   "source": [
    "model = tuner.hypermodel.build(best_hps)\n",
    "model.summary()"
   ]
  },
  {
   "cell_type": "code",
   "execution_count": 14,
   "metadata": {
    "scrolled": true,
    "tags": []
   },
   "outputs": [
    {
     "name": "stdout",
     "output_type": "stream",
     "text": [
      "Epoch 1/200\n",
      "4/4 [==============================] - 1s 139ms/step - loss: 1.0154 - mean_absolute_error: 1.0154 - val_loss: 1.2713 - val_mean_absolute_error: 1.2713\n",
      "Epoch 2/200\n",
      "4/4 [==============================] - 0s 26ms/step - loss: 1.0144 - mean_absolute_error: 1.0144 - val_loss: 1.2422 - val_mean_absolute_error: 1.2422\n",
      "Epoch 3/200\n",
      "4/4 [==============================] - 0s 27ms/step - loss: 0.9642 - mean_absolute_error: 0.9642 - val_loss: 1.1899 - val_mean_absolute_error: 1.1899\n",
      "Epoch 4/200\n",
      "4/4 [==============================] - 0s 37ms/step - loss: 0.9405 - mean_absolute_error: 0.9405 - val_loss: 1.1284 - val_mean_absolute_error: 1.1284\n",
      "Epoch 5/200\n",
      "4/4 [==============================] - 0s 25ms/step - loss: 0.9092 - mean_absolute_error: 0.9092 - val_loss: 1.0638 - val_mean_absolute_error: 1.0638\n",
      "Epoch 6/200\n",
      "4/4 [==============================] - 0s 26ms/step - loss: 0.8674 - mean_absolute_error: 0.8674 - val_loss: 1.0005 - val_mean_absolute_error: 1.0005\n",
      "Epoch 7/200\n",
      "4/4 [==============================] - 0s 26ms/step - loss: 0.8693 - mean_absolute_error: 0.8693 - val_loss: 0.9416 - val_mean_absolute_error: 0.9416\n",
      "Epoch 8/200\n",
      "4/4 [==============================] - 0s 26ms/step - loss: 0.8290 - mean_absolute_error: 0.8290 - val_loss: 0.8897 - val_mean_absolute_error: 0.8897\n",
      "Epoch 9/200\n",
      "4/4 [==============================] - 0s 28ms/step - loss: 0.8293 - mean_absolute_error: 0.8293 - val_loss: 0.8411 - val_mean_absolute_error: 0.8411\n",
      "Epoch 10/200\n",
      "4/4 [==============================] - 0s 27ms/step - loss: 0.7690 - mean_absolute_error: 0.7690 - val_loss: 0.7955 - val_mean_absolute_error: 0.7955\n",
      "Epoch 11/200\n",
      "4/4 [==============================] - 0s 26ms/step - loss: 0.7620 - mean_absolute_error: 0.7620 - val_loss: 0.7464 - val_mean_absolute_error: 0.7464\n",
      "Epoch 12/200\n",
      "4/4 [==============================] - 0s 25ms/step - loss: 0.7344 - mean_absolute_error: 0.7344 - val_loss: 0.6942 - val_mean_absolute_error: 0.6942\n",
      "Epoch 13/200\n",
      "4/4 [==============================] - 0s 27ms/step - loss: 0.6934 - mean_absolute_error: 0.6934 - val_loss: 0.6451 - val_mean_absolute_error: 0.6451\n",
      "Epoch 14/200\n",
      "4/4 [==============================] - 0s 26ms/step - loss: 0.6677 - mean_absolute_error: 0.6677 - val_loss: 0.6033 - val_mean_absolute_error: 0.6033\n",
      "Epoch 15/200\n",
      "4/4 [==============================] - 0s 26ms/step - loss: 0.6554 - mean_absolute_error: 0.6554 - val_loss: 0.5656 - val_mean_absolute_error: 0.5656\n",
      "Epoch 16/200\n",
      "4/4 [==============================] - 0s 25ms/step - loss: 0.6363 - mean_absolute_error: 0.6363 - val_loss: 0.5354 - val_mean_absolute_error: 0.5354\n",
      "Epoch 17/200\n",
      "4/4 [==============================] - 0s 25ms/step - loss: 0.6086 - mean_absolute_error: 0.6086 - val_loss: 0.5165 - val_mean_absolute_error: 0.5165\n",
      "Epoch 18/200\n",
      "4/4 [==============================] - 0s 27ms/step - loss: 0.5944 - mean_absolute_error: 0.5944 - val_loss: 0.4986 - val_mean_absolute_error: 0.4986\n",
      "Epoch 19/200\n",
      "4/4 [==============================] - 0s 27ms/step - loss: 0.5581 - mean_absolute_error: 0.5581 - val_loss: 0.4724 - val_mean_absolute_error: 0.4724\n",
      "Epoch 20/200\n",
      "4/4 [==============================] - 0s 28ms/step - loss: 0.5278 - mean_absolute_error: 0.5278 - val_loss: 0.4432 - val_mean_absolute_error: 0.4432\n",
      "Epoch 21/200\n",
      "4/4 [==============================] - 0s 26ms/step - loss: 0.5107 - mean_absolute_error: 0.5107 - val_loss: 0.4390 - val_mean_absolute_error: 0.4390\n",
      "Epoch 22/200\n",
      "4/4 [==============================] - 0s 26ms/step - loss: 0.4709 - mean_absolute_error: 0.4709 - val_loss: 0.4441 - val_mean_absolute_error: 0.4441\n",
      "Epoch 23/200\n",
      "4/4 [==============================] - 0s 26ms/step - loss: 0.4448 - mean_absolute_error: 0.4448 - val_loss: 0.4271 - val_mean_absolute_error: 0.4271\n",
      "Epoch 24/200\n",
      "4/4 [==============================] - 0s 25ms/step - loss: 0.4280 - mean_absolute_error: 0.4280 - val_loss: 0.4056 - val_mean_absolute_error: 0.4056\n",
      "Epoch 25/200\n",
      "4/4 [==============================] - 0s 28ms/step - loss: 0.4293 - mean_absolute_error: 0.4293 - val_loss: 0.3830 - val_mean_absolute_error: 0.3830\n",
      "Epoch 26/200\n",
      "4/4 [==============================] - 0s 26ms/step - loss: 0.4110 - mean_absolute_error: 0.4110 - val_loss: 0.3824 - val_mean_absolute_error: 0.3824\n",
      "Epoch 27/200\n",
      "4/4 [==============================] - 0s 26ms/step - loss: 0.3986 - mean_absolute_error: 0.3986 - val_loss: 0.3711 - val_mean_absolute_error: 0.3711\n",
      "Epoch 28/200\n",
      "4/4 [==============================] - 0s 26ms/step - loss: 0.3782 - mean_absolute_error: 0.3782 - val_loss: 0.3777 - val_mean_absolute_error: 0.3777\n",
      "Epoch 29/200\n",
      "4/4 [==============================] - 0s 24ms/step - loss: 0.3936 - mean_absolute_error: 0.3936 - val_loss: 0.3598 - val_mean_absolute_error: 0.3598\n",
      "Epoch 30/200\n",
      "4/4 [==============================] - 0s 26ms/step - loss: 0.3593 - mean_absolute_error: 0.3593 - val_loss: 0.3410 - val_mean_absolute_error: 0.3410\n",
      "Epoch 31/200\n",
      "4/4 [==============================] - 0s 27ms/step - loss: 0.3612 - mean_absolute_error: 0.3612 - val_loss: 0.3437 - val_mean_absolute_error: 0.3437\n",
      "Epoch 32/200\n",
      "4/4 [==============================] - 0s 25ms/step - loss: 0.3403 - mean_absolute_error: 0.3403 - val_loss: 0.3672 - val_mean_absolute_error: 0.3672\n",
      "Epoch 33/200\n",
      "4/4 [==============================] - 0s 25ms/step - loss: 0.3242 - mean_absolute_error: 0.3242 - val_loss: 0.3754 - val_mean_absolute_error: 0.3754\n",
      "Epoch 34/200\n",
      "4/4 [==============================] - 0s 26ms/step - loss: 0.3206 - mean_absolute_error: 0.3206 - val_loss: 0.3743 - val_mean_absolute_error: 0.3743\n",
      "Epoch 35/200\n",
      "4/4 [==============================] - 0s 25ms/step - loss: 0.2945 - mean_absolute_error: 0.2945 - val_loss: 0.3713 - val_mean_absolute_error: 0.3713\n",
      "Epoch 36/200\n",
      "4/4 [==============================] - 0s 25ms/step - loss: 0.2874 - mean_absolute_error: 0.2874 - val_loss: 0.3560 - val_mean_absolute_error: 0.3560\n",
      "Epoch 37/200\n",
      "4/4 [==============================] - 0s 25ms/step - loss: 0.2788 - mean_absolute_error: 0.2788 - val_loss: 0.3456 - val_mean_absolute_error: 0.3456\n",
      "Epoch 38/200\n",
      "4/4 [==============================] - 0s 26ms/step - loss: 0.2778 - mean_absolute_error: 0.2778 - val_loss: 0.3338 - val_mean_absolute_error: 0.3338\n",
      "Epoch 39/200\n",
      "4/4 [==============================] - 0s 24ms/step - loss: 0.2729 - mean_absolute_error: 0.2729 - val_loss: 0.3227 - val_mean_absolute_error: 0.3227\n",
      "Epoch 40/200\n",
      "4/4 [==============================] - 0s 31ms/step - loss: 0.2520 - mean_absolute_error: 0.2520 - val_loss: 0.3202 - val_mean_absolute_error: 0.3202\n",
      "Epoch 41/200\n",
      "4/4 [==============================] - 0s 25ms/step - loss: 0.2562 - mean_absolute_error: 0.2562 - val_loss: 0.3129 - val_mean_absolute_error: 0.3129\n",
      "Epoch 42/200\n",
      "4/4 [==============================] - 0s 26ms/step - loss: 0.2631 - mean_absolute_error: 0.2631 - val_loss: 0.3083 - val_mean_absolute_error: 0.3083\n",
      "Epoch 43/200\n",
      "4/4 [==============================] - 0s 25ms/step - loss: 0.2380 - mean_absolute_error: 0.2380 - val_loss: 0.3045 - val_mean_absolute_error: 0.3045\n",
      "Epoch 44/200\n",
      "4/4 [==============================] - 0s 26ms/step - loss: 0.2566 - mean_absolute_error: 0.2566 - val_loss: 0.2971 - val_mean_absolute_error: 0.2971\n",
      "Epoch 45/200\n",
      "4/4 [==============================] - 0s 28ms/step - loss: 0.2436 - mean_absolute_error: 0.2436 - val_loss: 0.2952 - val_mean_absolute_error: 0.2952\n",
      "Epoch 46/200\n",
      "4/4 [==============================] - 0s 27ms/step - loss: 0.2211 - mean_absolute_error: 0.2211 - val_loss: 0.2999 - val_mean_absolute_error: 0.2999\n",
      "Epoch 47/200\n",
      "4/4 [==============================] - 0s 25ms/step - loss: 0.2097 - mean_absolute_error: 0.2097 - val_loss: 0.3067 - val_mean_absolute_error: 0.3067\n",
      "Epoch 48/200\n",
      "4/4 [==============================] - 0s 24ms/step - loss: 0.2434 - mean_absolute_error: 0.2434 - val_loss: 0.3144 - val_mean_absolute_error: 0.3144\n",
      "Epoch 49/200\n",
      "4/4 [==============================] - 0s 24ms/step - loss: 0.2172 - mean_absolute_error: 0.2172 - val_loss: 0.3185 - val_mean_absolute_error: 0.3185\n",
      "Epoch 50/200\n",
      "4/4 [==============================] - 0s 24ms/step - loss: 0.2355 - mean_absolute_error: 0.2355 - val_loss: 0.3178 - val_mean_absolute_error: 0.3178\n",
      "Epoch 51/200\n",
      "4/4 [==============================] - 0s 25ms/step - loss: 0.2224 - mean_absolute_error: 0.2224 - val_loss: 0.3237 - val_mean_absolute_error: 0.3237\n",
      "Epoch 52/200\n",
      "4/4 [==============================] - 0s 24ms/step - loss: 0.2086 - mean_absolute_error: 0.2086 - val_loss: 0.3276 - val_mean_absolute_error: 0.3276\n",
      "Epoch 53/200\n",
      "4/4 [==============================] - 0s 25ms/step - loss: 0.2013 - mean_absolute_error: 0.2013 - val_loss: 0.3236 - val_mean_absolute_error: 0.3236\n",
      "Epoch 54/200\n",
      "4/4 [==============================] - 0s 26ms/step - loss: 0.1910 - mean_absolute_error: 0.1910 - val_loss: 0.3184 - val_mean_absolute_error: 0.3184\n",
      "Epoch 55/200\n",
      "4/4 [==============================] - 0s 24ms/step - loss: 0.2050 - mean_absolute_error: 0.2050 - val_loss: 0.3198 - val_mean_absolute_error: 0.3198\n",
      "Epoch 56/200\n",
      "4/4 [==============================] - 0s 24ms/step - loss: 0.2022 - mean_absolute_error: 0.2022 - val_loss: 0.3185 - val_mean_absolute_error: 0.3185\n",
      "Epoch 57/200\n",
      "4/4 [==============================] - 0s 26ms/step - loss: 0.1907 - mean_absolute_error: 0.1907 - val_loss: 0.3162 - val_mean_absolute_error: 0.3162\n",
      "Epoch 58/200\n",
      "4/4 [==============================] - 0s 26ms/step - loss: 0.2033 - mean_absolute_error: 0.2033 - val_loss: 0.3088 - val_mean_absolute_error: 0.3088\n",
      "Epoch 59/200\n",
      "4/4 [==============================] - 0s 25ms/step - loss: 0.1951 - mean_absolute_error: 0.1951 - val_loss: 0.3012 - val_mean_absolute_error: 0.3012\n",
      "Epoch 60/200\n",
      "4/4 [==============================] - 0s 26ms/step - loss: 0.1983 - mean_absolute_error: 0.1983 - val_loss: 0.2934 - val_mean_absolute_error: 0.2934\n",
      "Epoch 61/200\n",
      "4/4 [==============================] - 0s 25ms/step - loss: 0.1852 - mean_absolute_error: 0.1852 - val_loss: 0.2887 - val_mean_absolute_error: 0.2887\n",
      "Epoch 62/200\n",
      "4/4 [==============================] - 0s 24ms/step - loss: 0.1806 - mean_absolute_error: 0.1806 - val_loss: 0.2862 - val_mean_absolute_error: 0.2862\n",
      "Epoch 63/200\n",
      "4/4 [==============================] - 0s 25ms/step - loss: 0.1799 - mean_absolute_error: 0.1799 - val_loss: 0.2878 - val_mean_absolute_error: 0.2878\n",
      "Epoch 64/200\n",
      "4/4 [==============================] - 0s 27ms/step - loss: 0.1787 - mean_absolute_error: 0.1787 - val_loss: 0.3040 - val_mean_absolute_error: 0.3040\n",
      "Epoch 65/200\n",
      "4/4 [==============================] - 0s 25ms/step - loss: 0.1854 - mean_absolute_error: 0.1854 - val_loss: 0.3194 - val_mean_absolute_error: 0.3194\n",
      "Epoch 66/200\n",
      "4/4 [==============================] - 0s 24ms/step - loss: 0.1752 - mean_absolute_error: 0.1752 - val_loss: 0.3381 - val_mean_absolute_error: 0.3381\n",
      "Epoch 67/200\n",
      "4/4 [==============================] - 0s 24ms/step - loss: 0.1892 - mean_absolute_error: 0.1892 - val_loss: 0.3366 - val_mean_absolute_error: 0.3366\n",
      "Epoch 68/200\n",
      "4/4 [==============================] - 0s 24ms/step - loss: 0.1776 - mean_absolute_error: 0.1776 - val_loss: 0.3294 - val_mean_absolute_error: 0.3294\n",
      "Epoch 69/200\n",
      "4/4 [==============================] - 0s 26ms/step - loss: 0.1728 - mean_absolute_error: 0.1728 - val_loss: 0.3254 - val_mean_absolute_error: 0.3254\n",
      "Epoch 70/200\n",
      "4/4 [==============================] - 0s 27ms/step - loss: 0.1764 - mean_absolute_error: 0.1764 - val_loss: 0.3245 - val_mean_absolute_error: 0.3245\n",
      "Epoch 71/200\n",
      "4/4 [==============================] - 0s 26ms/step - loss: 0.1658 - mean_absolute_error: 0.1658 - val_loss: 0.3222 - val_mean_absolute_error: 0.3222\n",
      "Epoch 72/200\n",
      "4/4 [==============================] - 0s 26ms/step - loss: 0.1654 - mean_absolute_error: 0.1654 - val_loss: 0.3078 - val_mean_absolute_error: 0.3078\n",
      "Epoch 73/200\n",
      "4/4 [==============================] - 0s 25ms/step - loss: 0.1699 - mean_absolute_error: 0.1699 - val_loss: 0.2982 - val_mean_absolute_error: 0.2982\n",
      "Epoch 74/200\n",
      "4/4 [==============================] - 0s 27ms/step - loss: 0.1715 - mean_absolute_error: 0.1715 - val_loss: 0.2983 - val_mean_absolute_error: 0.2983\n",
      "Epoch 75/200\n",
      "4/4 [==============================] - 0s 24ms/step - loss: 0.1707 - mean_absolute_error: 0.1707 - val_loss: 0.3013 - val_mean_absolute_error: 0.3013\n",
      "Epoch 76/200\n",
      "4/4 [==============================] - 0s 26ms/step - loss: 0.1680 - mean_absolute_error: 0.1680 - val_loss: 0.2981 - val_mean_absolute_error: 0.2981\n",
      "Epoch 77/200\n",
      "4/4 [==============================] - 0s 25ms/step - loss: 0.1629 - mean_absolute_error: 0.1629 - val_loss: 0.2895 - val_mean_absolute_error: 0.2895\n",
      "Epoch 78/200\n",
      "4/4 [==============================] - 0s 26ms/step - loss: 0.1690 - mean_absolute_error: 0.1690 - val_loss: 0.2870 - val_mean_absolute_error: 0.2870\n",
      "Epoch 79/200\n",
      "4/4 [==============================] - 0s 25ms/step - loss: 0.1664 - mean_absolute_error: 0.1664 - val_loss: 0.2825 - val_mean_absolute_error: 0.2825\n",
      "Epoch 80/200\n",
      "4/4 [==============================] - 0s 25ms/step - loss: 0.1747 - mean_absolute_error: 0.1747 - val_loss: 0.2840 - val_mean_absolute_error: 0.2840\n",
      "Epoch 81/200\n",
      "4/4 [==============================] - 0s 26ms/step - loss: 0.1604 - mean_absolute_error: 0.1604 - val_loss: 0.2963 - val_mean_absolute_error: 0.2963\n",
      "Epoch 82/200\n",
      "4/4 [==============================] - 0s 26ms/step - loss: 0.1679 - mean_absolute_error: 0.1679 - val_loss: 0.3100 - val_mean_absolute_error: 0.3100\n",
      "Epoch 83/200\n",
      "4/4 [==============================] - 0s 25ms/step - loss: 0.1626 - mean_absolute_error: 0.1626 - val_loss: 0.3103 - val_mean_absolute_error: 0.3103\n",
      "Epoch 84/200\n",
      "4/4 [==============================] - 0s 24ms/step - loss: 0.1613 - mean_absolute_error: 0.1613 - val_loss: 0.3032 - val_mean_absolute_error: 0.3032\n",
      "Epoch 85/200\n",
      "4/4 [==============================] - 0s 26ms/step - loss: 0.1536 - mean_absolute_error: 0.1536 - val_loss: 0.2935 - val_mean_absolute_error: 0.2935\n",
      "Epoch 86/200\n",
      "4/4 [==============================] - 0s 26ms/step - loss: 0.1625 - mean_absolute_error: 0.1625 - val_loss: 0.2749 - val_mean_absolute_error: 0.2749\n",
      "Epoch 87/200\n",
      "4/4 [==============================] - 0s 25ms/step - loss: 0.1687 - mean_absolute_error: 0.1687 - val_loss: 0.2626 - val_mean_absolute_error: 0.2626\n",
      "Epoch 88/200\n",
      "4/4 [==============================] - 0s 24ms/step - loss: 0.1549 - mean_absolute_error: 0.1549 - val_loss: 0.2538 - val_mean_absolute_error: 0.2538\n",
      "Epoch 89/200\n",
      "4/4 [==============================] - 0s 26ms/step - loss: 0.1562 - mean_absolute_error: 0.1562 - val_loss: 0.2493 - val_mean_absolute_error: 0.2493\n",
      "Epoch 90/200\n",
      "4/4 [==============================] - 0s 27ms/step - loss: 0.1510 - mean_absolute_error: 0.1510 - val_loss: 0.2451 - val_mean_absolute_error: 0.2451\n",
      "Epoch 91/200\n",
      "4/4 [==============================] - 0s 25ms/step - loss: 0.1516 - mean_absolute_error: 0.1516 - val_loss: 0.2511 - val_mean_absolute_error: 0.2511\n",
      "Epoch 92/200\n",
      "4/4 [==============================] - 0s 25ms/step - loss: 0.1503 - mean_absolute_error: 0.1503 - val_loss: 0.2538 - val_mean_absolute_error: 0.2538\n",
      "Epoch 93/200\n",
      "4/4 [==============================] - 0s 24ms/step - loss: 0.1529 - mean_absolute_error: 0.1529 - val_loss: 0.2532 - val_mean_absolute_error: 0.2532\n",
      "Epoch 94/200\n",
      "4/4 [==============================] - 0s 25ms/step - loss: 0.1630 - mean_absolute_error: 0.1630 - val_loss: 0.2513 - val_mean_absolute_error: 0.2513\n",
      "Epoch 95/200\n",
      "4/4 [==============================] - 0s 25ms/step - loss: 0.1667 - mean_absolute_error: 0.1667 - val_loss: 0.2508 - val_mean_absolute_error: 0.2508\n",
      "Epoch 96/200\n",
      "4/4 [==============================] - 0s 27ms/step - loss: 0.1700 - mean_absolute_error: 0.1700 - val_loss: 0.2525 - val_mean_absolute_error: 0.2525\n",
      "Epoch 97/200\n",
      "4/4 [==============================] - 0s 25ms/step - loss: 0.1647 - mean_absolute_error: 0.1647 - val_loss: 0.2580 - val_mean_absolute_error: 0.2580\n",
      "Epoch 98/200\n",
      "4/4 [==============================] - 0s 25ms/step - loss: 0.1581 - mean_absolute_error: 0.1581 - val_loss: 0.2651 - val_mean_absolute_error: 0.2651\n",
      "Epoch 99/200\n",
      "4/4 [==============================] - 0s 25ms/step - loss: 0.1578 - mean_absolute_error: 0.1578 - val_loss: 0.2739 - val_mean_absolute_error: 0.2739\n",
      "Epoch 100/200\n",
      "4/4 [==============================] - 0s 26ms/step - loss: 0.1625 - mean_absolute_error: 0.1625 - val_loss: 0.2760 - val_mean_absolute_error: 0.2760\n",
      "Epoch 101/200\n",
      "4/4 [==============================] - 0s 25ms/step - loss: 0.1505 - mean_absolute_error: 0.1505 - val_loss: 0.2760 - val_mean_absolute_error: 0.2760\n",
      "Epoch 102/200\n",
      "4/4 [==============================] - 0s 25ms/step - loss: 0.1432 - mean_absolute_error: 0.1432 - val_loss: 0.2776 - val_mean_absolute_error: 0.2776\n",
      "Epoch 103/200\n",
      "4/4 [==============================] - 0s 26ms/step - loss: 0.1675 - mean_absolute_error: 0.1675 - val_loss: 0.2795 - val_mean_absolute_error: 0.2795\n",
      "Epoch 104/200\n",
      "4/4 [==============================] - 0s 25ms/step - loss: 0.1463 - mean_absolute_error: 0.1463 - val_loss: 0.2857 - val_mean_absolute_error: 0.2857\n",
      "Epoch 105/200\n",
      "4/4 [==============================] - 0s 25ms/step - loss: 0.1468 - mean_absolute_error: 0.1468 - val_loss: 0.2864 - val_mean_absolute_error: 0.2864\n",
      "Epoch 106/200\n",
      "4/4 [==============================] - 0s 25ms/step - loss: 0.1544 - mean_absolute_error: 0.1544 - val_loss: 0.2771 - val_mean_absolute_error: 0.2771\n",
      "Epoch 107/200\n",
      "4/4 [==============================] - 0s 25ms/step - loss: 0.1526 - mean_absolute_error: 0.1526 - val_loss: 0.2732 - val_mean_absolute_error: 0.2732\n",
      "Epoch 108/200\n",
      "4/4 [==============================] - 0s 26ms/step - loss: 0.1532 - mean_absolute_error: 0.1532 - val_loss: 0.2701 - val_mean_absolute_error: 0.2701\n",
      "Epoch 109/200\n",
      "4/4 [==============================] - 0s 26ms/step - loss: 0.1499 - mean_absolute_error: 0.1499 - val_loss: 0.2847 - val_mean_absolute_error: 0.2847\n",
      "Epoch 110/200\n",
      "4/4 [==============================] - 0s 27ms/step - loss: 0.1577 - mean_absolute_error: 0.1577 - val_loss: 0.2853 - val_mean_absolute_error: 0.2853\n",
      "Epoch 111/200\n",
      "4/4 [==============================] - 0s 24ms/step - loss: 0.1446 - mean_absolute_error: 0.1446 - val_loss: 0.2807 - val_mean_absolute_error: 0.2807\n",
      "Epoch 112/200\n",
      "4/4 [==============================] - 0s 24ms/step - loss: 0.1411 - mean_absolute_error: 0.1411 - val_loss: 0.2708 - val_mean_absolute_error: 0.2708\n",
      "Epoch 113/200\n",
      "4/4 [==============================] - 0s 26ms/step - loss: 0.1420 - mean_absolute_error: 0.1420 - val_loss: 0.2613 - val_mean_absolute_error: 0.2613\n",
      "Epoch 114/200\n",
      "4/4 [==============================] - 0s 26ms/step - loss: 0.1343 - mean_absolute_error: 0.1343 - val_loss: 0.2561 - val_mean_absolute_error: 0.2561\n",
      "Epoch 115/200\n",
      "4/4 [==============================] - 0s 27ms/step - loss: 0.1426 - mean_absolute_error: 0.1426 - val_loss: 0.2495 - val_mean_absolute_error: 0.2495\n",
      "Epoch 116/200\n",
      "4/4 [==============================] - 0s 25ms/step - loss: 0.1372 - mean_absolute_error: 0.1372 - val_loss: 0.2396 - val_mean_absolute_error: 0.2396\n",
      "Epoch 117/200\n",
      "4/4 [==============================] - 0s 25ms/step - loss: 0.1489 - mean_absolute_error: 0.1489 - val_loss: 0.2452 - val_mean_absolute_error: 0.2452\n",
      "Epoch 118/200\n",
      "4/4 [==============================] - 0s 26ms/step - loss: 0.1469 - mean_absolute_error: 0.1469 - val_loss: 0.2394 - val_mean_absolute_error: 0.2394\n",
      "Epoch 119/200\n",
      "4/4 [==============================] - 0s 25ms/step - loss: 0.1479 - mean_absolute_error: 0.1479 - val_loss: 0.2314 - val_mean_absolute_error: 0.2314\n",
      "Epoch 120/200\n",
      "4/4 [==============================] - 0s 26ms/step - loss: 0.1478 - mean_absolute_error: 0.1478 - val_loss: 0.2304 - val_mean_absolute_error: 0.2304\n",
      "Epoch 121/200\n",
      "4/4 [==============================] - 0s 28ms/step - loss: 0.1379 - mean_absolute_error: 0.1379 - val_loss: 0.2259 - val_mean_absolute_error: 0.2259\n",
      "Epoch 122/200\n",
      "4/4 [==============================] - 0s 25ms/step - loss: 0.1545 - mean_absolute_error: 0.1545 - val_loss: 0.2281 - val_mean_absolute_error: 0.2281\n",
      "Epoch 123/200\n",
      "4/4 [==============================] - 0s 25ms/step - loss: 0.1531 - mean_absolute_error: 0.1531 - val_loss: 0.2231 - val_mean_absolute_error: 0.2231\n",
      "Epoch 124/200\n",
      "4/4 [==============================] - 0s 26ms/step - loss: 0.1470 - mean_absolute_error: 0.1470 - val_loss: 0.2162 - val_mean_absolute_error: 0.2162\n",
      "Epoch 125/200\n",
      "4/4 [==============================] - 0s 25ms/step - loss: 0.1374 - mean_absolute_error: 0.1374 - val_loss: 0.2141 - val_mean_absolute_error: 0.2141\n",
      "Epoch 126/200\n",
      "4/4 [==============================] - 0s 25ms/step - loss: 0.1527 - mean_absolute_error: 0.1527 - val_loss: 0.2180 - val_mean_absolute_error: 0.2180\n",
      "Epoch 127/200\n",
      "4/4 [==============================] - 0s 26ms/step - loss: 0.1461 - mean_absolute_error: 0.1461 - val_loss: 0.2279 - val_mean_absolute_error: 0.2279\n",
      "Epoch 128/200\n",
      "4/4 [==============================] - 0s 25ms/step - loss: 0.1359 - mean_absolute_error: 0.1359 - val_loss: 0.2324 - val_mean_absolute_error: 0.2324\n",
      "Epoch 129/200\n",
      "4/4 [==============================] - 0s 25ms/step - loss: 0.1385 - mean_absolute_error: 0.1385 - val_loss: 0.2265 - val_mean_absolute_error: 0.2265\n",
      "Epoch 130/200\n",
      "4/4 [==============================] - 0s 27ms/step - loss: 0.1366 - mean_absolute_error: 0.1366 - val_loss: 0.2255 - val_mean_absolute_error: 0.2255\n",
      "Epoch 131/200\n",
      "4/4 [==============================] - 0s 26ms/step - loss: 0.1417 - mean_absolute_error: 0.1417 - val_loss: 0.2262 - val_mean_absolute_error: 0.2262\n",
      "Epoch 132/200\n",
      "4/4 [==============================] - 0s 26ms/step - loss: 0.1435 - mean_absolute_error: 0.1435 - val_loss: 0.2253 - val_mean_absolute_error: 0.2253\n",
      "Epoch 133/200\n",
      "4/4 [==============================] - 0s 25ms/step - loss: 0.1369 - mean_absolute_error: 0.1369 - val_loss: 0.2310 - val_mean_absolute_error: 0.2310\n",
      "Epoch 134/200\n",
      "4/4 [==============================] - 0s 26ms/step - loss: 0.1492 - mean_absolute_error: 0.1492 - val_loss: 0.2303 - val_mean_absolute_error: 0.2303\n",
      "Epoch 135/200\n",
      "4/4 [==============================] - 0s 26ms/step - loss: 0.1382 - mean_absolute_error: 0.1382 - val_loss: 0.2289 - val_mean_absolute_error: 0.2289\n",
      "Epoch 136/200\n",
      "4/4 [==============================] - 0s 26ms/step - loss: 0.1419 - mean_absolute_error: 0.1419 - val_loss: 0.2208 - val_mean_absolute_error: 0.2208\n",
      "Epoch 137/200\n",
      "4/4 [==============================] - 0s 25ms/step - loss: 0.1466 - mean_absolute_error: 0.1466 - val_loss: 0.2173 - val_mean_absolute_error: 0.2173\n",
      "Epoch 138/200\n",
      "4/4 [==============================] - 0s 24ms/step - loss: 0.1405 - mean_absolute_error: 0.1405 - val_loss: 0.2162 - val_mean_absolute_error: 0.2162\n",
      "Epoch 139/200\n",
      "4/4 [==============================] - 0s 25ms/step - loss: 0.1366 - mean_absolute_error: 0.1366 - val_loss: 0.2183 - val_mean_absolute_error: 0.2183\n",
      "Epoch 140/200\n",
      "4/4 [==============================] - 0s 24ms/step - loss: 0.1394 - mean_absolute_error: 0.1394 - val_loss: 0.2201 - val_mean_absolute_error: 0.2201\n",
      "Epoch 141/200\n",
      "4/4 [==============================] - 0s 26ms/step - loss: 0.1394 - mean_absolute_error: 0.1394 - val_loss: 0.2164 - val_mean_absolute_error: 0.2164\n",
      "Epoch 142/200\n",
      "4/4 [==============================] - 0s 26ms/step - loss: 0.1283 - mean_absolute_error: 0.1283 - val_loss: 0.2173 - val_mean_absolute_error: 0.2173\n",
      "Epoch 143/200\n",
      "4/4 [==============================] - 0s 25ms/step - loss: 0.1364 - mean_absolute_error: 0.1364 - val_loss: 0.2248 - val_mean_absolute_error: 0.2248\n",
      "Epoch 144/200\n",
      "4/4 [==============================] - 0s 24ms/step - loss: 0.1446 - mean_absolute_error: 0.1446 - val_loss: 0.2189 - val_mean_absolute_error: 0.2189\n",
      "Epoch 145/200\n",
      "4/4 [==============================] - 0s 38ms/step - loss: 0.1591 - mean_absolute_error: 0.1591 - val_loss: 0.2140 - val_mean_absolute_error: 0.2140\n",
      "Epoch 146/200\n",
      "4/4 [==============================] - 0s 26ms/step - loss: 0.1469 - mean_absolute_error: 0.1469 - val_loss: 0.2132 - val_mean_absolute_error: 0.2132\n",
      "Epoch 147/200\n",
      "4/4 [==============================] - 0s 25ms/step - loss: 0.1354 - mean_absolute_error: 0.1354 - val_loss: 0.2279 - val_mean_absolute_error: 0.2279\n",
      "Epoch 148/200\n",
      "4/4 [==============================] - 0s 26ms/step - loss: 0.1369 - mean_absolute_error: 0.1369 - val_loss: 0.2782 - val_mean_absolute_error: 0.2782\n",
      "Epoch 149/200\n",
      "4/4 [==============================] - 0s 25ms/step - loss: 0.1246 - mean_absolute_error: 0.1246 - val_loss: 0.3035 - val_mean_absolute_error: 0.3035\n",
      "Epoch 150/200\n",
      "4/4 [==============================] - 0s 26ms/step - loss: 0.1235 - mean_absolute_error: 0.1235 - val_loss: 0.2362 - val_mean_absolute_error: 0.2362\n",
      "Epoch 151/200\n",
      "4/4 [==============================] - 0s 25ms/step - loss: 0.1321 - mean_absolute_error: 0.1321 - val_loss: 0.2063 - val_mean_absolute_error: 0.2063\n",
      "Epoch 152/200\n",
      "4/4 [==============================] - 0s 26ms/step - loss: 0.1369 - mean_absolute_error: 0.1369 - val_loss: 0.2222 - val_mean_absolute_error: 0.2222\n",
      "Epoch 153/200\n",
      "4/4 [==============================] - 0s 26ms/step - loss: 0.1263 - mean_absolute_error: 0.1263 - val_loss: 0.2693 - val_mean_absolute_error: 0.2693\n",
      "Epoch 154/200\n",
      "4/4 [==============================] - 0s 25ms/step - loss: 0.1322 - mean_absolute_error: 0.1322 - val_loss: 0.2375 - val_mean_absolute_error: 0.2375\n",
      "Epoch 155/200\n",
      "4/4 [==============================] - 0s 25ms/step - loss: 0.1419 - mean_absolute_error: 0.1419 - val_loss: 0.2179 - val_mean_absolute_error: 0.2179\n",
      "Epoch 156/200\n",
      "4/4 [==============================] - 0s 25ms/step - loss: 0.1247 - mean_absolute_error: 0.1247 - val_loss: 0.2188 - val_mean_absolute_error: 0.2188\n",
      "Epoch 157/200\n",
      "4/4 [==============================] - 0s 24ms/step - loss: 0.1280 - mean_absolute_error: 0.1280 - val_loss: 0.2328 - val_mean_absolute_error: 0.2328\n",
      "Epoch 158/200\n",
      "4/4 [==============================] - 0s 26ms/step - loss: 0.1287 - mean_absolute_error: 0.1287 - val_loss: 0.2372 - val_mean_absolute_error: 0.2372\n",
      "Epoch 159/200\n",
      "4/4 [==============================] - 0s 25ms/step - loss: 0.1250 - mean_absolute_error: 0.1250 - val_loss: 0.2242 - val_mean_absolute_error: 0.2242\n",
      "Epoch 160/200\n",
      "4/4 [==============================] - 0s 24ms/step - loss: 0.1359 - mean_absolute_error: 0.1359 - val_loss: 0.2139 - val_mean_absolute_error: 0.2139\n",
      "Epoch 161/200\n",
      "4/4 [==============================] - 0s 25ms/step - loss: 0.1328 - mean_absolute_error: 0.1328 - val_loss: 0.2095 - val_mean_absolute_error: 0.2095\n",
      "Epoch 162/200\n",
      "4/4 [==============================] - 0s 25ms/step - loss: 0.1220 - mean_absolute_error: 0.1220 - val_loss: 0.2210 - val_mean_absolute_error: 0.2210\n",
      "Epoch 163/200\n",
      "4/4 [==============================] - 0s 24ms/step - loss: 0.1362 - mean_absolute_error: 0.1362 - val_loss: 0.2261 - val_mean_absolute_error: 0.2261\n",
      "Epoch 164/200\n",
      "4/4 [==============================] - 0s 25ms/step - loss: 0.1265 - mean_absolute_error: 0.1265 - val_loss: 0.2470 - val_mean_absolute_error: 0.2470\n",
      "Epoch 165/200\n",
      "4/4 [==============================] - 0s 26ms/step - loss: 0.1306 - mean_absolute_error: 0.1306 - val_loss: 0.2578 - val_mean_absolute_error: 0.2578\n",
      "Epoch 166/200\n",
      "4/4 [==============================] - 0s 26ms/step - loss: 0.1266 - mean_absolute_error: 0.1266 - val_loss: 0.2491 - val_mean_absolute_error: 0.2491\n",
      "Epoch 167/200\n",
      "4/4 [==============================] - 0s 25ms/step - loss: 0.1342 - mean_absolute_error: 0.1342 - val_loss: 0.2406 - val_mean_absolute_error: 0.2406\n",
      "Epoch 168/200\n",
      "4/4 [==============================] - 0s 24ms/step - loss: 0.1227 - mean_absolute_error: 0.1227 - val_loss: 0.2364 - val_mean_absolute_error: 0.2364\n",
      "Epoch 169/200\n",
      "4/4 [==============================] - 0s 24ms/step - loss: 0.1312 - mean_absolute_error: 0.1312 - val_loss: 0.2277 - val_mean_absolute_error: 0.2277\n",
      "Epoch 170/200\n",
      "4/4 [==============================] - 0s 26ms/step - loss: 0.1339 - mean_absolute_error: 0.1339 - val_loss: 0.2372 - val_mean_absolute_error: 0.2372\n",
      "Epoch 171/200\n",
      "4/4 [==============================] - 0s 25ms/step - loss: 0.1223 - mean_absolute_error: 0.1223 - val_loss: 0.2429 - val_mean_absolute_error: 0.2429\n",
      "Epoch 172/200\n",
      "4/4 [==============================] - 0s 25ms/step - loss: 0.1285 - mean_absolute_error: 0.1285 - val_loss: 0.2419 - val_mean_absolute_error: 0.2419\n",
      "Epoch 173/200\n",
      "4/4 [==============================] - 0s 26ms/step - loss: 0.1240 - mean_absolute_error: 0.1240 - val_loss: 0.2407 - val_mean_absolute_error: 0.2407\n",
      "Epoch 174/200\n",
      "4/4 [==============================] - 0s 26ms/step - loss: 0.1305 - mean_absolute_error: 0.1305 - val_loss: 0.2351 - val_mean_absolute_error: 0.2351\n",
      "Epoch 175/200\n",
      "4/4 [==============================] - 0s 26ms/step - loss: 0.1248 - mean_absolute_error: 0.1248 - val_loss: 0.2286 - val_mean_absolute_error: 0.2286\n",
      "Epoch 176/200\n",
      "4/4 [==============================] - 0s 26ms/step - loss: 0.1244 - mean_absolute_error: 0.1244 - val_loss: 0.2287 - val_mean_absolute_error: 0.2287\n",
      "Epoch 177/200\n",
      "4/4 [==============================] - 0s 24ms/step - loss: 0.1289 - mean_absolute_error: 0.1289 - val_loss: 0.2281 - val_mean_absolute_error: 0.2281\n",
      "Epoch 178/200\n",
      "4/4 [==============================] - 0s 25ms/step - loss: 0.1255 - mean_absolute_error: 0.1255 - val_loss: 0.2269 - val_mean_absolute_error: 0.2269\n",
      "Epoch 179/200\n",
      "4/4 [==============================] - 0s 25ms/step - loss: 0.1298 - mean_absolute_error: 0.1298 - val_loss: 0.2306 - val_mean_absolute_error: 0.2306\n",
      "Epoch 180/200\n",
      "4/4 [==============================] - 0s 26ms/step - loss: 0.1255 - mean_absolute_error: 0.1255 - val_loss: 0.2298 - val_mean_absolute_error: 0.2298\n",
      "Epoch 181/200\n",
      "4/4 [==============================] - 0s 25ms/step - loss: 0.1175 - mean_absolute_error: 0.1175 - val_loss: 0.2232 - val_mean_absolute_error: 0.2232\n",
      "Epoch 182/200\n",
      "4/4 [==============================] - 0s 25ms/step - loss: 0.1375 - mean_absolute_error: 0.1375 - val_loss: 0.2295 - val_mean_absolute_error: 0.2295\n",
      "Epoch 183/200\n",
      "4/4 [==============================] - 0s 24ms/step - loss: 0.1177 - mean_absolute_error: 0.1177 - val_loss: 0.2295 - val_mean_absolute_error: 0.2295\n",
      "Epoch 184/200\n",
      "4/4 [==============================] - 0s 26ms/step - loss: 0.1262 - mean_absolute_error: 0.1262 - val_loss: 0.2254 - val_mean_absolute_error: 0.2254\n",
      "Epoch 185/200\n",
      "4/4 [==============================] - 0s 26ms/step - loss: 0.1296 - mean_absolute_error: 0.1296 - val_loss: 0.2198 - val_mean_absolute_error: 0.2198\n",
      "Epoch 186/200\n",
      "4/4 [==============================] - 0s 27ms/step - loss: 0.1254 - mean_absolute_error: 0.1254 - val_loss: 0.2136 - val_mean_absolute_error: 0.2136\n",
      "Epoch 187/200\n",
      "4/4 [==============================] - 0s 25ms/step - loss: 0.1153 - mean_absolute_error: 0.1153 - val_loss: 0.2081 - val_mean_absolute_error: 0.2081\n",
      "Epoch 188/200\n",
      "4/4 [==============================] - 0s 24ms/step - loss: 0.1265 - mean_absolute_error: 0.1265 - val_loss: 0.2041 - val_mean_absolute_error: 0.2041\n",
      "Epoch 189/200\n",
      "4/4 [==============================] - 0s 25ms/step - loss: 0.1247 - mean_absolute_error: 0.1247 - val_loss: 0.2033 - val_mean_absolute_error: 0.2033\n",
      "Epoch 190/200\n",
      "4/4 [==============================] - 0s 25ms/step - loss: 0.1210 - mean_absolute_error: 0.1210 - val_loss: 0.2080 - val_mean_absolute_error: 0.2080\n",
      "Epoch 191/200\n",
      "4/4 [==============================] - 0s 27ms/step - loss: 0.1244 - mean_absolute_error: 0.1244 - val_loss: 0.2059 - val_mean_absolute_error: 0.2059\n",
      "Epoch 192/200\n",
      "4/4 [==============================] - 0s 25ms/step - loss: 0.1192 - mean_absolute_error: 0.1192 - val_loss: 0.2067 - val_mean_absolute_error: 0.2067\n",
      "Epoch 193/200\n",
      "4/4 [==============================] - 0s 25ms/step - loss: 0.1345 - mean_absolute_error: 0.1345 - val_loss: 0.2187 - val_mean_absolute_error: 0.2187\n",
      "Epoch 194/200\n",
      "4/4 [==============================] - 0s 25ms/step - loss: 0.1103 - mean_absolute_error: 0.1103 - val_loss: 0.2217 - val_mean_absolute_error: 0.2217\n",
      "Epoch 195/200\n",
      "4/4 [==============================] - 0s 25ms/step - loss: 0.1233 - mean_absolute_error: 0.1233 - val_loss: 0.2073 - val_mean_absolute_error: 0.2073\n",
      "Epoch 196/200\n",
      "4/4 [==============================] - 0s 25ms/step - loss: 0.1163 - mean_absolute_error: 0.1163 - val_loss: 0.2092 - val_mean_absolute_error: 0.2092\n",
      "Epoch 197/200\n",
      "4/4 [==============================] - 0s 24ms/step - loss: 0.1146 - mean_absolute_error: 0.1146 - val_loss: 0.2105 - val_mean_absolute_error: 0.2105\n",
      "Epoch 198/200\n",
      "4/4 [==============================] - 0s 25ms/step - loss: 0.1078 - mean_absolute_error: 0.1078 - val_loss: 0.2057 - val_mean_absolute_error: 0.2057\n",
      "Epoch 199/200\n",
      "4/4 [==============================] - 0s 23ms/step - loss: 0.1187 - mean_absolute_error: 0.1187 - val_loss: 0.2148 - val_mean_absolute_error: 0.2148\n",
      "Epoch 200/200\n",
      "4/4 [==============================] - 0s 23ms/step - loss: 0.1163 - mean_absolute_error: 0.1163 - val_loss: 0.2182 - val_mean_absolute_error: 0.2182\n",
      "CPU times: user 28.8 s, sys: 6.31 s, total: 35.1 s\n",
      "Wall time: 21.4 s\n"
     ]
    }
   ],
   "source": [
    "%%time\n",
    "model_store = Path('Result/saved_weights.hdf5')\n",
    "\n",
    "# save the best performing model\n",
    "checkpointer = ModelCheckpoint(\n",
    "    filepath=model_store, \n",
    "    monitor='val_loss',\n",
    "    verbose=0, \n",
    "    save_best_only=True\n",
    ")\n",
    "\n",
    "stop_early = tf.keras.callbacks.EarlyStopping(\n",
    "    monitor='val_loss',\n",
    "    patience=10,\n",
    "    min_delta = 1/age_range\n",
    ")\n",
    "\n",
    "st = time.time()\n",
    "# model training\n",
    "model.fit(\n",
    "    [x_train], y_train,\n",
    "    batch_size=60,\n",
    "    epochs=200, \n",
    "    verbose=1,\n",
    "    callbacks=[checkpointer],\n",
    "    validation_data=([x_valid], y_valid)\n",
    ")\n",
    "rt = time.time()-st"
   ]
  },
  {
   "cell_type": "code",
   "execution_count": 15,
   "metadata": {},
   "outputs": [
    {
     "data": {
      "text/plain": [
       "21.44435429573059"
      ]
     },
     "execution_count": 15,
     "metadata": {},
     "output_type": "execute_result"
    }
   ],
   "source": [
    "rt"
   ]
  },
  {
   "cell_type": "code",
   "execution_count": 23,
   "metadata": {
    "tags": []
   },
   "outputs": [
    {
     "name": "stdout",
     "output_type": "stream",
     "text": [
      "Final train error: 5.643288478255272\n",
      "Final valid error: 10.6922467648983\n"
     ]
    },
    {
     "data": {
      "image/png": "[encoded data removed]",
      "text/plain": [
       "<Figure size 648x432 with 1 Axes>"
      ]
     },
     "metadata": {
      "needs_background": "light"
     },
     "output_type": "display_data"
    }
   ],
   "source": [
    "##### Step 6: plot train and validation loss #####\n",
    "history = model.history\n",
    "print('Final train error:', age_range*history.history['mean_absolute_error'][-1])\n",
    "print('Final valid error:', age_range*history.history['val_mean_absolute_error'][-1])\n",
    "plt.plot(age_range*pd.Series(history.history['mean_absolute_error']))\n",
    "plt.plot(age_range*pd.Series(history.history['val_mean_absolute_error']))\n",
    "plt.title('model train vs validation loss')\n",
    "plt.ylabel('loss')\n",
    "plt.xlabel('epoch')\n",
    "plt.legend(['train', 'validation'], loc='upper right')\n",
    "plt.show()"
   ]
  },
  {
   "cell_type": "code",
   "execution_count": 17,
   "metadata": {},
   "outputs": [],
   "source": [
    "#### Step 7: test the final model #####\n",
    "final_model = load_model(model_store)\n",
    "x_test = x_valid\n",
    "y_test = y_valid\n",
    "y_scores = final_model.predict([x_test])\n",
    "y_scores = y_scores.reshape(y_scores.shape[0])"
   ]
  },
  {
   "cell_type": "code",
   "execution_count": 18,
   "metadata": {},
   "outputs": [
    {
     "data": {
      "text/plain": [
       "count    65.000000\n",
       "mean     -1.272205\n",
       "std      13.746918\n",
       "min     -58.405721\n",
       "25%      -8.599450\n",
       "50%      -1.148823\n",
       "75%       6.745778\n",
       "max      32.935281\n",
       "dtype: float64"
      ]
     },
     "execution_count": 18,
     "metadata": {},
     "output_type": "execute_result"
    }
   ],
   "source": [
    "errors = age_range * (pd.Series(y_test)-pd.Series(y_scores))\n",
    "errors.describe()"
   ]
  },
  {
   "cell_type": "code",
   "execution_count": 19,
   "metadata": {},
   "outputs": [
    {
     "data": {
      "image/png": "[encoded data removed]",
      "text/plain": [
       "<Figure size 648x432 with 1 Axes>"
      ]
     },
     "metadata": {
      "needs_background": "light"
     },
     "output_type": "display_data"
    }
   ],
   "source": [
    "plt.hist(errors)\n",
    "plt.title('Error Distribution')\n",
    "plt.xlabel('Actual - Predicted [Years]')\n",
    "plt.show()"
   ]
  },
  {
   "cell_type": "code",
   "execution_count": 20,
   "metadata": {},
   "outputs": [
    {
     "name": "stdout",
     "output_type": "stream",
     "text": [
      "[ 0.48311581 37.80399001]\n"
     ]
    },
    {
     "data": {
      "image/png": "[encoded data removed]",
      "text/plain": [
       "<Figure size 648x432 with 1 Axes>"
      ]
     },
     "metadata": {
      "needs_background": "light"
     },
     "output_type": "display_data"
    }
   ],
   "source": [
    "age_true = y_test*age_range + age_min\n",
    "age_pred = y_scores*age_range + age_min\n",
    "plt.plot(age_true, age_pred,'b.')\n",
    "plt.axis('square')\n",
    "plt.xlim((40,95))\n",
    "plt.ylim((40,95))\n",
    "plt.xlabel('True Age')\n",
    "plt.ylabel('Predicted Age')\n",
    "plt.title('Prediction vs True')\n",
    "plt.plot([40,95],[40,95],'--k')\n",
    "coef = np.polyfit(age_true, age_pred, 1)\n",
    "print(coef)\n",
    "poly1d_fn = np.poly1d(coef)\n",
    "plt.plot([40,95], poly1d_fn([40,95]), '--b')\n",
    "plt.show()"
   ]
  },
  {
   "cell_type": "code",
   "execution_count": null,
   "metadata": {},
   "outputs": [],
   "source": []
  }
 ],
 "metadata": {
  "kernelspec": {
   "display_name": "Python 3",
   "language": "python",
   "name": "python3"
  },
  "language_info": {
   "codemirror_mode": {
    "name": "ipython",
    "version": 3
   },
   "file_extension": ".py",
   "mimetype": "text/x-python",
   "name": "python",
   "nbconvert_exporter": "python",
   "pygments_lexer": "ipython3",
   "version": "3.9.6"
  }
 },
 "nbformat": 4,
 "nbformat_minor": 4
}
