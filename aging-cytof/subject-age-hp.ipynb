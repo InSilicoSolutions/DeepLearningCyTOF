{
 "cells": [
  {
   "cell_type": "markdown",
   "metadata": {},
   "source": [
    "# Predict `Subject Age`"
   ]
  },
  {
   "cell_type": "code",
   "execution_count": 1,
   "metadata": {},
   "outputs": [],
   "source": [
    "%matplotlib inline"
   ]
  },
  {
   "cell_type": "code",
   "execution_count": 2,
   "metadata": {},
   "outputs": [],
   "source": [
    "##### Step 1: import functions #####\n",
    "import tensorflow as tf\n",
    "from tensorflow.keras.layers import Dense, Flatten, BatchNormalization, Activation, Conv2D, AveragePooling2D, Input, Softmax\n",
    "from tensorflow.keras.models import load_model, Model, Sequential\n",
    "from tensorflow.keras.optimizers import Adam\n",
    "from tensorflow.keras.callbacks import ModelCheckpoint, EarlyStopping\n",
    "from tensorflow.keras.losses import SparseCategoricalCrossentropy, MeanAbsoluteError\n",
    "from tensorflow.keras import backend as K\n",
    "from tensorflow.keras.utils import plot_model\n",
    "import pickle\n",
    "import pandas as pd\n",
    "import numpy as np\n",
    "from numpy.random import seed; seed(111)\n",
    "import random\n",
    "import matplotlib.pyplot as plt\n",
    "import seaborn as sns\n",
    "from tensorflow.random import set_seed; set_seed(111)\n",
    "from sklearn.metrics import roc_curve, auc\n",
    "from sklearn.preprocessing import normalize\n",
    "from six import StringIO  \n",
    "from sklearn.tree import export_graphviz, DecisionTreeRegressor\n",
    "from sklearn.model_selection import train_test_split\n",
    "from scipy.stats import ttest_ind\n",
    "from IPython.display import Image  \n",
    "import pydotplus\n",
    "import time\n",
    "from pathlib import Path\n",
    "import keras_tuner as kt"
   ]
  },
  {
   "cell_type": "code",
   "execution_count": 3,
   "metadata": {},
   "outputs": [],
   "source": [
    "# %config InlineBackend.figure_format = 'svg'\n",
    "plt.rcParams['figure.figsize'] = [9,6]"
   ]
  },
  {
   "cell_type": "code",
   "execution_count": 4,
   "metadata": {},
   "outputs": [],
   "source": [
    "gpus = tf.config.list_physical_devices('GPU')\n",
    "tf.config.experimental.set_memory_growth(gpus[0], True)"
   ]
  },
  {
   "cell_type": "code",
   "execution_count": 5,
   "metadata": {},
   "outputs": [],
   "source": [
    "phenotype = 'Subject Age'"
   ]
  },
  {
   "cell_type": "code",
   "execution_count": 6,
   "metadata": {},
   "outputs": [
    {
     "name": "stdout",
     "output_type": "stream",
     "text": [
      "Dimensions of cyto_data: (260, 5000, 27, 1)\n",
      "Dimensions of samples: (260, 47)\n",
      "Names of the makers: ['CELL_LENGTH' 'DEAD' 'CD19' 'CD4' 'CD8' 'IGD' 'CD85J' 'CD16' 'CD3' 'CD38'\n",
      " 'CD27' 'CD14' 'CD94' 'CCR7' 'CD45RA' 'CD20' 'CD127' 'CD33' 'CD28' 'CD24'\n",
      " 'CD161' 'TCRGD' 'CD56' 'HLADR' 'CD25' 'DNA1' 'DNA2']\n"
     ]
    }
   ],
   "source": [
    "#load data\n",
    "aging_dir = Path('/home/ubuntu/a/aging')\n",
    "\n",
    "with open(aging_dir/'aging-cytof-data.obj', 'rb') as f:\n",
    "    allData = pickle.load(f)\n",
    "samples = allData[\"samples\"]\n",
    "cyto_data = allData['expr_list']\n",
    "# Truncate cytodata\n",
    "cyto_data = cyto_data[ :, :int(5e3)]\n",
    "markers = allData[\"marker_names\"]\n",
    "\n",
    "print(f'Dimensions of cyto_data: {cyto_data.shape}')\n",
    "print(f'Dimensions of samples: {samples.shape}')\n",
    "print(f'Names of the makers: {markers.values}')"
   ]
  },
  {
   "cell_type": "code",
   "execution_count": 7,
   "metadata": {},
   "outputs": [
    {
     "name": "stdout",
     "output_type": "stream",
     "text": [
      "count    260.000000\n",
      "mean      68.303846\n",
      "std       15.169696\n",
      "min       41.000000\n",
      "25%       55.000000\n",
      "50%       69.000000\n",
      "75%       82.000000\n",
      "max       90.000000\n",
      "Name: Subject Age, dtype: float64\n"
     ]
    },
    {
     "data": {
      "text/plain": [
       "<AxesSubplot:ylabel='Frequency'>"
      ]
     },
     "execution_count": 7,
     "metadata": {},
     "output_type": "execute_result"
    },
    {
     "data": {
      "image/png": "[encoded data removed]",
      "text/plain": [
       "<Figure size 648x432 with 1 Axes>"
      ]
     },
     "metadata": {
      "needs_background": "light"
     },
     "output_type": "display_data"
    }
   ],
   "source": [
    "print(samples[phenotype].describe())\n",
    "samples[phenotype].plot.hist()"
   ]
  },
  {
   "cell_type": "code",
   "execution_count": 8,
   "metadata": {},
   "outputs": [],
   "source": [
    "##### Step 3: split train, validation and test######\n",
    "x = []\n",
    "y = []\n",
    "for i, row in samples.iterrows():\n",
    "    x.append(cyto_data[i])\n",
    "    y.append(row[phenotype])\n",
    "age_range = max(y) - min(y)\n",
    "x = np.asarray(x)\n",
    "y_raw = np.asarray(y)\n",
    "age_min = min(y_raw)\n",
    "age_max = max(y_raw)\n",
    "age_range = age_max - age_min\n",
    "y = (y_raw - age_min) / age_range\n",
    "\n",
    "x_train, x_valid, y_train, y_valid = train_test_split(x, y)"
   ]
  },
  {
   "cell_type": "code",
   "execution_count": 9,
   "metadata": {},
   "outputs": [],
   "source": [
    "def model_builder(hp):\n",
    "    hp_filters_l1 = hp.Int('filters_l1', min_value=3, max_value=15, step=3)\n",
    "    hp_filters_l2 = hp.Int('filters_l2', min_value=3, max_value=15, step=3)\n",
    "    model = Sequential([\n",
    "        Input(shape=x[0].shape),\n",
    "        Conv2D(hp_filters_l1, kernel_size = (1, x.shape[2]), activation=None),\n",
    "        BatchNormalization(),\n",
    "        Activation('relu'),\n",
    "        Conv2D(hp_filters_l2, kernel_size = (1,1), activation=None),\n",
    "        BatchNormalization(),\n",
    "        Activation('relu'),\n",
    "        AveragePooling2D(pool_size = (x.shape[1], 1)),\n",
    "        Flatten(),\n",
    "        Dense(hp_filters_l2, activation=None),\n",
    "        BatchNormalization(),\n",
    "        Activation('relu'),\n",
    "        Dense(1, activation=None),\n",
    "    ])\n",
    "    hp_learning_rate = hp.Choice('learning_rate', values=[1e-2, 1e-3, 1e-4])\n",
    "    model.compile(\n",
    "        loss=MeanAbsoluteError(),\n",
    "        optimizer=Adam(learning_rate=hp_learning_rate),\n",
    "        metrics=['mean_absolute_error'],\n",
    "    )\n",
    "    return model"
   ]
  },
  {
   "cell_type": "code",
   "execution_count": 25,
   "metadata": {},
   "outputs": [],
   "source": [
    "bayesian_tuner = kt.BayesianOptimization(\n",
    "    model_builder,\n",
    "    objective = 'val_mean_absolute_error',\n",
    "    max_trials=100,\n",
    "    overwrite=True,\n",
    "    directory = 'hp-search',\n",
    "    project_name='aging_regression_bayesian',\n",
    ")"
   ]
  },
  {
   "cell_type": "code",
   "execution_count": 26,
   "metadata": {},
   "outputs": [
    {
     "name": "stdout",
     "output_type": "stream",
     "text": [
      "Trial 100 Complete [00h 00m 01s]\n",
      "val_mean_absolute_error: 0.45498916506767273\n",
      "\n",
      "Best val_mean_absolute_error So Far: 0.2432757169008255\n",
      "Total elapsed time: 00h 04m 34s\n",
      "INFO:tensorflow:Oracle triggered exit\n",
      "CPU times: user 8min 51s, sys: 34 s, total: 9min 25s\n",
      "Wall time: 4min 34s\n"
     ]
    }
   ],
   "source": [
    "%%time\n",
    "bayesian_tuner.search(\n",
    "    x_train, y_train,\n",
    "    validation_split=0.2,\n",
    ")"
   ]
  },
  {
   "cell_type": "code",
   "execution_count": 10,
   "metadata": {},
   "outputs": [],
   "source": [
    "# hyperband_tuner = kt.Hyperband(\n",
    "#     model_builder,\n",
    "#     objective='val_mean_absolute_error',\n",
    "#     max_epochs=400,\n",
    "#     factor=5,\n",
    "#     overwrite=True,\n",
    "#     directory='hp-search',\n",
    "#     project_name='aging_regression_hyperband',\n",
    "# )"
   ]
  },
  {
   "cell_type": "code",
   "execution_count": 11,
   "metadata": {},
   "outputs": [
    {
     "name": "stdout",
     "output_type": "stream",
     "text": [
      "Trial 55 Complete [00h 00m 01s]\n",
      "val_mean_absolute_error: 0.3652605414390564\n",
      "\n",
      "Best val_mean_absolute_error So Far: 0.25764623284339905\n",
      "Total elapsed time: 00h 01m 18s\n",
      "INFO:tensorflow:Oracle triggered exit\n",
      "CPU times: user 1min 20s, sys: 7.74 s, total: 1min 28s\n",
      "Wall time: 1min 18s\n"
     ]
    }
   ],
   "source": [
    "# %%time\n",
    "# hyperband_tuner.search(\n",
    "#     x_train, y_train,\n",
    "#     validation_split=0.2,\n",
    "# )"
   ]
  },
  {
   "cell_type": "code",
   "execution_count": 27,
   "metadata": {},
   "outputs": [],
   "source": [
    "tuner = bayesian_tuner"
   ]
  },
  {
   "cell_type": "code",
   "execution_count": 28,
   "metadata": {},
   "outputs": [
    {
     "data": {
      "text/plain": [
       "{'filters_l1': 6, 'filters_l2': 6, 'learning_rate': 0.001}"
      ]
     },
     "execution_count": 28,
     "metadata": {},
     "output_type": "execute_result"
    }
   ],
   "source": [
    "best_hps=tuner.get_best_hyperparameters(num_trials=1)[0]\n",
    "best_hps.values"
   ]
  },
  {
   "cell_type": "code",
   "execution_count": 30,
   "metadata": {},
   "outputs": [
    {
     "name": "stdout",
     "output_type": "stream",
     "text": [
      "Model: \"sequential\"\n",
      "_________________________________________________________________\n",
      "Layer (type)                 Output Shape              Param #   \n",
      "=================================================================\n",
      "conv2d (Conv2D)              (None, 5000, 1, 6)        168       \n",
      "_________________________________________________________________\n",
      "batch_normalization (BatchNo (None, 5000, 1, 6)        24        \n",
      "_________________________________________________________________\n",
      "activation (Activation)      (None, 5000, 1, 6)        0         \n",
      "_________________________________________________________________\n",
      "conv2d_1 (Conv2D)            (None, 5000, 1, 6)        42        \n",
      "_________________________________________________________________\n",
      "batch_normalization_1 (Batch (None, 5000, 1, 6)        24        \n",
      "_________________________________________________________________\n",
      "activation_1 (Activation)    (None, 5000, 1, 6)        0         \n",
      "_________________________________________________________________\n",
      "average_pooling2d (AveragePo (None, 1, 1, 6)           0         \n",
      "_________________________________________________________________\n",
      "flatten (Flatten)            (None, 6)                 0         \n",
      "_________________________________________________________________\n",
      "dense (Dense)                (None, 6)                 42        \n",
      "_________________________________________________________________\n",
      "batch_normalization_2 (Batch (None, 6)                 24        \n",
      "_________________________________________________________________\n",
      "activation_2 (Activation)    (None, 6)                 0         \n",
      "_________________________________________________________________\n",
      "dense_1 (Dense)              (None, 1)                 7         \n",
      "=================================================================\n",
      "Total params: 331\n",
      "Trainable params: 295\n",
      "Non-trainable params: 36\n",
      "_________________________________________________________________\n"
     ]
    }
   ],
   "source": [
    "model = tuner.hypermodel.build(best_hps)\n",
    "model.summary()"
   ]
  },
  {
   "cell_type": "code",
   "execution_count": 31,
   "metadata": {
    "scrolled": true,
    "tags": []
   },
   "outputs": [
    {
     "name": "stdout",
     "output_type": "stream",
     "text": [
      "Epoch 1/200\n",
      "4/4 [==============================] - ETA: 0s - loss: 0.9103 - mean_absolute_error: 0.9103WARNING:tensorflow:6 out of the last 11 calls to <function Model.make_test_function.<locals>.test_function at 0x7f03a040b5e0> triggered tf.function retracing. Tracing is expensive and the excessive number of tracings could be due to (1) creating @tf.function repeatedly in a loop, (2) passing tensors with different shapes, (3) passing Python objects instead of tensors. For (1), please define your @tf.function outside of the loop. For (2), @tf.function has experimental_relax_shapes=True option that relaxes argument shapes that can avoid unnecessary retracing. For (3), please refer to https://www.tensorflow.org/guide/function#controlling_retracing and https://www.tensorflow.org/api_docs/python/tf/function for  more details.\n",
      "4/4 [==============================] - 1s 138ms/step - loss: 0.9085 - mean_absolute_error: 0.9085 - val_loss: 0.9598 - val_mean_absolute_error: 0.9598\n",
      "Epoch 2/200\n",
      "4/4 [==============================] - 0s 26ms/step - loss: 0.8634 - mean_absolute_error: 0.8634 - val_loss: 0.9257 - val_mean_absolute_error: 0.9257\n",
      "Epoch 3/200\n",
      "4/4 [==============================] - 0s 26ms/step - loss: 0.7689 - mean_absolute_error: 0.7689 - val_loss: 0.8852 - val_mean_absolute_error: 0.8852\n",
      "Epoch 4/200\n",
      "4/4 [==============================] - 0s 25ms/step - loss: 0.7410 - mean_absolute_error: 0.7410 - val_loss: 0.8406 - val_mean_absolute_error: 0.8406\n",
      "Epoch 5/200\n",
      "4/4 [==============================] - 0s 26ms/step - loss: 0.6749 - mean_absolute_error: 0.6749 - val_loss: 0.7987 - val_mean_absolute_error: 0.7987\n",
      "Epoch 6/200\n",
      "4/4 [==============================] - 0s 25ms/step - loss: 0.6446 - mean_absolute_error: 0.6446 - val_loss: 0.7592 - val_mean_absolute_error: 0.7592\n",
      "Epoch 7/200\n",
      "4/4 [==============================] - 0s 25ms/step - loss: 0.6088 - mean_absolute_error: 0.6088 - val_loss: 0.7194 - val_mean_absolute_error: 0.7194\n",
      "Epoch 8/200\n",
      "4/4 [==============================] - 0s 26ms/step - loss: 0.5493 - mean_absolute_error: 0.5493 - val_loss: 0.6782 - val_mean_absolute_error: 0.6782\n",
      "Epoch 9/200\n",
      "4/4 [==============================] - 0s 27ms/step - loss: 0.5494 - mean_absolute_error: 0.5494 - val_loss: 0.6309 - val_mean_absolute_error: 0.6309\n",
      "Epoch 10/200\n",
      "4/4 [==============================] - 0s 27ms/step - loss: 0.5002 - mean_absolute_error: 0.5002 - val_loss: 0.5970 - val_mean_absolute_error: 0.5970\n",
      "Epoch 11/200\n",
      "4/4 [==============================] - 0s 25ms/step - loss: 0.4750 - mean_absolute_error: 0.4750 - val_loss: 0.5718 - val_mean_absolute_error: 0.5718\n",
      "Epoch 12/200\n",
      "4/4 [==============================] - 0s 26ms/step - loss: 0.4501 - mean_absolute_error: 0.4501 - val_loss: 0.5462 - val_mean_absolute_error: 0.5462\n",
      "Epoch 13/200\n",
      "4/4 [==============================] - 0s 26ms/step - loss: 0.4345 - mean_absolute_error: 0.4345 - val_loss: 0.5208 - val_mean_absolute_error: 0.5208\n",
      "Epoch 14/200\n",
      "4/4 [==============================] - 0s 25ms/step - loss: 0.3929 - mean_absolute_error: 0.3929 - val_loss: 0.5001 - val_mean_absolute_error: 0.5001\n",
      "Epoch 15/200\n",
      "4/4 [==============================] - 0s 25ms/step - loss: 0.3857 - mean_absolute_error: 0.3857 - val_loss: 0.4818 - val_mean_absolute_error: 0.4818\n",
      "Epoch 16/200\n",
      "4/4 [==============================] - 0s 25ms/step - loss: 0.3608 - mean_absolute_error: 0.3608 - val_loss: 0.4635 - val_mean_absolute_error: 0.4635\n",
      "Epoch 17/200\n",
      "4/4 [==============================] - 0s 27ms/step - loss: 0.3614 - mean_absolute_error: 0.3614 - val_loss: 0.4368 - val_mean_absolute_error: 0.4368\n",
      "Epoch 18/200\n",
      "4/4 [==============================] - 0s 27ms/step - loss: 0.3433 - mean_absolute_error: 0.3433 - val_loss: 0.4208 - val_mean_absolute_error: 0.4208\n",
      "Epoch 19/200\n",
      "4/4 [==============================] - 0s 26ms/step - loss: 0.3245 - mean_absolute_error: 0.3245 - val_loss: 0.4120 - val_mean_absolute_error: 0.4120\n",
      "Epoch 20/200\n",
      "4/4 [==============================] - 0s 26ms/step - loss: 0.3162 - mean_absolute_error: 0.3162 - val_loss: 0.4022 - val_mean_absolute_error: 0.4022\n",
      "Epoch 21/200\n",
      "4/4 [==============================] - 0s 24ms/step - loss: 0.3093 - mean_absolute_error: 0.3093 - val_loss: 0.3939 - val_mean_absolute_error: 0.3939\n",
      "Epoch 22/200\n",
      "4/4 [==============================] - 0s 26ms/step - loss: 0.2932 - mean_absolute_error: 0.2932 - val_loss: 0.3904 - val_mean_absolute_error: 0.3904\n",
      "Epoch 23/200\n",
      "4/4 [==============================] - 0s 25ms/step - loss: 0.2843 - mean_absolute_error: 0.2843 - val_loss: 0.3886 - val_mean_absolute_error: 0.3886\n",
      "Epoch 24/200\n",
      "4/4 [==============================] - 0s 28ms/step - loss: 0.2800 - mean_absolute_error: 0.2800 - val_loss: 0.3854 - val_mean_absolute_error: 0.3854\n",
      "Epoch 25/200\n",
      "4/4 [==============================] - 0s 26ms/step - loss: 0.2750 - mean_absolute_error: 0.2750 - val_loss: 0.3832 - val_mean_absolute_error: 0.3832\n",
      "Epoch 26/200\n",
      "4/4 [==============================] - 0s 27ms/step - loss: 0.2721 - mean_absolute_error: 0.2721 - val_loss: 0.3915 - val_mean_absolute_error: 0.3915\n",
      "Epoch 27/200\n",
      "4/4 [==============================] - 0s 26ms/step - loss: 0.2694 - mean_absolute_error: 0.2694 - val_loss: 0.4014 - val_mean_absolute_error: 0.4014\n",
      "Epoch 28/200\n",
      "4/4 [==============================] - 0s 28ms/step - loss: 0.2598 - mean_absolute_error: 0.2598 - val_loss: 0.4138 - val_mean_absolute_error: 0.4138\n",
      "Epoch 29/200\n",
      "4/4 [==============================] - 0s 26ms/step - loss: 0.2736 - mean_absolute_error: 0.2736 - val_loss: 0.4219 - val_mean_absolute_error: 0.4219\n",
      "Epoch 30/200\n",
      "4/4 [==============================] - 0s 26ms/step - loss: 0.2400 - mean_absolute_error: 0.2400 - val_loss: 0.4215 - val_mean_absolute_error: 0.4215\n",
      "Epoch 31/200\n",
      "4/4 [==============================] - 0s 25ms/step - loss: 0.2368 - mean_absolute_error: 0.2368 - val_loss: 0.4170 - val_mean_absolute_error: 0.4170\n",
      "Epoch 32/200\n",
      "4/4 [==============================] - 0s 24ms/step - loss: 0.2506 - mean_absolute_error: 0.2506 - val_loss: 0.4038 - val_mean_absolute_error: 0.4038\n",
      "Epoch 33/200\n",
      "4/4 [==============================] - 0s 24ms/step - loss: 0.2376 - mean_absolute_error: 0.2376 - val_loss: 0.3946 - val_mean_absolute_error: 0.3946\n",
      "Epoch 34/200\n",
      "4/4 [==============================] - 0s 25ms/step - loss: 0.2434 - mean_absolute_error: 0.2434 - val_loss: 0.3851 - val_mean_absolute_error: 0.3851\n",
      "Epoch 35/200\n",
      "4/4 [==============================] - 0s 32ms/step - loss: 0.2393 - mean_absolute_error: 0.2393 - val_loss: 0.3792 - val_mean_absolute_error: 0.3792\n",
      "Epoch 36/200\n",
      "4/4 [==============================] - 0s 25ms/step - loss: 0.2452 - mean_absolute_error: 0.2452 - val_loss: 0.3780 - val_mean_absolute_error: 0.3780\n",
      "Epoch 37/200\n",
      "4/4 [==============================] - 0s 25ms/step - loss: 0.2270 - mean_absolute_error: 0.2270 - val_loss: 0.3732 - val_mean_absolute_error: 0.3732\n",
      "Epoch 38/200\n",
      "4/4 [==============================] - 0s 24ms/step - loss: 0.2462 - mean_absolute_error: 0.2462 - val_loss: 0.3749 - val_mean_absolute_error: 0.3749\n",
      "Epoch 39/200\n",
      "4/4 [==============================] - 0s 26ms/step - loss: 0.2285 - mean_absolute_error: 0.2285 - val_loss: 0.3749 - val_mean_absolute_error: 0.3749\n",
      "Epoch 40/200\n",
      "4/4 [==============================] - 0s 26ms/step - loss: 0.2231 - mean_absolute_error: 0.2231 - val_loss: 0.3683 - val_mean_absolute_error: 0.3683\n",
      "Epoch 41/200\n",
      "4/4 [==============================] - 0s 25ms/step - loss: 0.2280 - mean_absolute_error: 0.2280 - val_loss: 0.3544 - val_mean_absolute_error: 0.3544\n",
      "Epoch 42/200\n",
      "4/4 [==============================] - 0s 24ms/step - loss: 0.2223 - mean_absolute_error: 0.2223 - val_loss: 0.3392 - val_mean_absolute_error: 0.3392\n",
      "Epoch 43/200\n",
      "4/4 [==============================] - 0s 24ms/step - loss: 0.2121 - mean_absolute_error: 0.2121 - val_loss: 0.3360 - val_mean_absolute_error: 0.3360\n",
      "Epoch 44/200\n",
      "4/4 [==============================] - 0s 27ms/step - loss: 0.2327 - mean_absolute_error: 0.2327 - val_loss: 0.3335 - val_mean_absolute_error: 0.3335\n",
      "Epoch 45/200\n",
      "4/4 [==============================] - 0s 25ms/step - loss: 0.2190 - mean_absolute_error: 0.2190 - val_loss: 0.3327 - val_mean_absolute_error: 0.3327\n",
      "Epoch 46/200\n",
      "4/4 [==============================] - 0s 25ms/step - loss: 0.2040 - mean_absolute_error: 0.2040 - val_loss: 0.3342 - val_mean_absolute_error: 0.3342\n",
      "Epoch 47/200\n",
      "4/4 [==============================] - 0s 24ms/step - loss: 0.2153 - mean_absolute_error: 0.2153 - val_loss: 0.3360 - val_mean_absolute_error: 0.3360\n",
      "Epoch 48/200\n",
      "4/4 [==============================] - 0s 25ms/step - loss: 0.2134 - mean_absolute_error: 0.2134 - val_loss: 0.3357 - val_mean_absolute_error: 0.3357\n",
      "Epoch 49/200\n",
      "4/4 [==============================] - 0s 25ms/step - loss: 0.2070 - mean_absolute_error: 0.2070 - val_loss: 0.3336 - val_mean_absolute_error: 0.3336\n",
      "Epoch 50/200\n",
      "4/4 [==============================] - 0s 24ms/step - loss: 0.2120 - mean_absolute_error: 0.2120 - val_loss: 0.3345 - val_mean_absolute_error: 0.3345\n",
      "Epoch 51/200\n",
      "4/4 [==============================] - 0s 25ms/step - loss: 0.2154 - mean_absolute_error: 0.2154 - val_loss: 0.3328 - val_mean_absolute_error: 0.3328\n",
      "Epoch 52/200\n",
      "4/4 [==============================] - 0s 24ms/step - loss: 0.2053 - mean_absolute_error: 0.2053 - val_loss: 0.3300 - val_mean_absolute_error: 0.3300\n",
      "Epoch 53/200\n",
      "4/4 [==============================] - 0s 25ms/step - loss: 0.2012 - mean_absolute_error: 0.2012 - val_loss: 0.3328 - val_mean_absolute_error: 0.3328\n",
      "Epoch 54/200\n",
      "4/4 [==============================] - 0s 25ms/step - loss: 0.1805 - mean_absolute_error: 0.1805 - val_loss: 0.3312 - val_mean_absolute_error: 0.3312\n",
      "Epoch 55/200\n",
      "4/4 [==============================] - 0s 26ms/step - loss: 0.1921 - mean_absolute_error: 0.1921 - val_loss: 0.3273 - val_mean_absolute_error: 0.3273\n",
      "Epoch 56/200\n",
      "4/4 [==============================] - 0s 25ms/step - loss: 0.1970 - mean_absolute_error: 0.1970 - val_loss: 0.3273 - val_mean_absolute_error: 0.3273\n",
      "Epoch 57/200\n",
      "4/4 [==============================] - 0s 27ms/step - loss: 0.1952 - mean_absolute_error: 0.1952 - val_loss: 0.3271 - val_mean_absolute_error: 0.3271\n",
      "Epoch 58/200\n",
      "4/4 [==============================] - 0s 25ms/step - loss: 0.2020 - mean_absolute_error: 0.2020 - val_loss: 0.3268 - val_mean_absolute_error: 0.3268\n",
      "Epoch 59/200\n",
      "4/4 [==============================] - 0s 26ms/step - loss: 0.2008 - mean_absolute_error: 0.2008 - val_loss: 0.3249 - val_mean_absolute_error: 0.3249\n",
      "Epoch 60/200\n",
      "4/4 [==============================] - 0s 24ms/step - loss: 0.1986 - mean_absolute_error: 0.1986 - val_loss: 0.3179 - val_mean_absolute_error: 0.3179\n",
      "Epoch 61/200\n",
      "4/4 [==============================] - 0s 27ms/step - loss: 0.1896 - mean_absolute_error: 0.1896 - val_loss: 0.3173 - val_mean_absolute_error: 0.3173\n",
      "Epoch 62/200\n",
      "4/4 [==============================] - 0s 26ms/step - loss: 0.1910 - mean_absolute_error: 0.1910 - val_loss: 0.3171 - val_mean_absolute_error: 0.3171\n",
      "Epoch 63/200\n",
      "4/4 [==============================] - 0s 27ms/step - loss: 0.1931 - mean_absolute_error: 0.1931 - val_loss: 0.3182 - val_mean_absolute_error: 0.3182\n",
      "Epoch 64/200\n",
      "4/4 [==============================] - 0s 27ms/step - loss: 0.1850 - mean_absolute_error: 0.1850 - val_loss: 0.3192 - val_mean_absolute_error: 0.3192\n",
      "Epoch 65/200\n",
      "4/4 [==============================] - 0s 25ms/step - loss: 0.1928 - mean_absolute_error: 0.1928 - val_loss: 0.3204 - val_mean_absolute_error: 0.3204\n",
      "Epoch 66/200\n",
      "4/4 [==============================] - 0s 26ms/step - loss: 0.1754 - mean_absolute_error: 0.1754 - val_loss: 0.3225 - val_mean_absolute_error: 0.3225\n",
      "Epoch 67/200\n",
      "4/4 [==============================] - 0s 26ms/step - loss: 0.1824 - mean_absolute_error: 0.1824 - val_loss: 0.3185 - val_mean_absolute_error: 0.3185\n",
      "Epoch 68/200\n",
      "4/4 [==============================] - 0s 26ms/step - loss: 0.1789 - mean_absolute_error: 0.1789 - val_loss: 0.3119 - val_mean_absolute_error: 0.3119\n",
      "Epoch 69/200\n",
      "4/4 [==============================] - 0s 25ms/step - loss: 0.2012 - mean_absolute_error: 0.2012 - val_loss: 0.3090 - val_mean_absolute_error: 0.3090\n",
      "Epoch 70/200\n",
      "4/4 [==============================] - 0s 26ms/step - loss: 0.1996 - mean_absolute_error: 0.1996 - val_loss: 0.3105 - val_mean_absolute_error: 0.3105\n",
      "Epoch 71/200\n",
      "4/4 [==============================] - 0s 24ms/step - loss: 0.1828 - mean_absolute_error: 0.1828 - val_loss: 0.3162 - val_mean_absolute_error: 0.3162\n",
      "Epoch 72/200\n",
      "4/4 [==============================] - 0s 26ms/step - loss: 0.1818 - mean_absolute_error: 0.1818 - val_loss: 0.3265 - val_mean_absolute_error: 0.3265\n",
      "Epoch 73/200\n",
      "4/4 [==============================] - 0s 27ms/step - loss: 0.1896 - mean_absolute_error: 0.1896 - val_loss: 0.3335 - val_mean_absolute_error: 0.3335\n",
      "Epoch 74/200\n",
      "4/4 [==============================] - 0s 33ms/step - loss: 0.1826 - mean_absolute_error: 0.1826 - val_loss: 0.3405 - val_mean_absolute_error: 0.3405\n",
      "Epoch 75/200\n",
      "4/4 [==============================] - 0s 27ms/step - loss: 0.1978 - mean_absolute_error: 0.1978 - val_loss: 0.3452 - val_mean_absolute_error: 0.3452\n",
      "Epoch 76/200\n",
      "4/4 [==============================] - 0s 26ms/step - loss: 0.1800 - mean_absolute_error: 0.1800 - val_loss: 0.3450 - val_mean_absolute_error: 0.3450\n",
      "Epoch 77/200\n",
      "4/4 [==============================] - 0s 27ms/step - loss: 0.1936 - mean_absolute_error: 0.1936 - val_loss: 0.3421 - val_mean_absolute_error: 0.3421\n",
      "Epoch 78/200\n",
      "4/4 [==============================] - 0s 25ms/step - loss: 0.2033 - mean_absolute_error: 0.2033 - val_loss: 0.3356 - val_mean_absolute_error: 0.3356\n",
      "Epoch 79/200\n",
      "4/4 [==============================] - 0s 24ms/step - loss: 0.1807 - mean_absolute_error: 0.1807 - val_loss: 0.3294 - val_mean_absolute_error: 0.3294\n",
      "Epoch 80/200\n",
      "4/4 [==============================] - 0s 26ms/step - loss: 0.2132 - mean_absolute_error: 0.2132 - val_loss: 0.3256 - val_mean_absolute_error: 0.3256\n",
      "Epoch 81/200\n",
      "4/4 [==============================] - 0s 24ms/step - loss: 0.1799 - mean_absolute_error: 0.1799 - val_loss: 0.3251 - val_mean_absolute_error: 0.3251\n",
      "Epoch 82/200\n",
      "4/4 [==============================] - 0s 25ms/step - loss: 0.1753 - mean_absolute_error: 0.1753 - val_loss: 0.3188 - val_mean_absolute_error: 0.3188\n",
      "Epoch 83/200\n",
      "4/4 [==============================] - 0s 26ms/step - loss: 0.1794 - mean_absolute_error: 0.1794 - val_loss: 0.3196 - val_mean_absolute_error: 0.3196\n",
      "Epoch 84/200\n",
      "4/4 [==============================] - 0s 26ms/step - loss: 0.1965 - mean_absolute_error: 0.1965 - val_loss: 0.3274 - val_mean_absolute_error: 0.3274\n",
      "Epoch 85/200\n",
      "4/4 [==============================] - 0s 25ms/step - loss: 0.1808 - mean_absolute_error: 0.1808 - val_loss: 0.3282 - val_mean_absolute_error: 0.3282\n",
      "Epoch 86/200\n",
      "4/4 [==============================] - 0s 24ms/step - loss: 0.1689 - mean_absolute_error: 0.1689 - val_loss: 0.3239 - val_mean_absolute_error: 0.3239\n",
      "Epoch 87/200\n",
      "4/4 [==============================] - 0s 25ms/step - loss: 0.1779 - mean_absolute_error: 0.1779 - val_loss: 0.3201 - val_mean_absolute_error: 0.3201\n",
      "Epoch 88/200\n",
      "4/4 [==============================] - 0s 26ms/step - loss: 0.1809 - mean_absolute_error: 0.1809 - val_loss: 0.3162 - val_mean_absolute_error: 0.3162\n",
      "Epoch 89/200\n",
      "4/4 [==============================] - 0s 27ms/step - loss: 0.1810 - mean_absolute_error: 0.1810 - val_loss: 0.3076 - val_mean_absolute_error: 0.3076\n",
      "Epoch 90/200\n",
      "4/4 [==============================] - 0s 25ms/step - loss: 0.1693 - mean_absolute_error: 0.1693 - val_loss: 0.2977 - val_mean_absolute_error: 0.2977\n",
      "Epoch 91/200\n",
      "4/4 [==============================] - 0s 26ms/step - loss: 0.1719 - mean_absolute_error: 0.1719 - val_loss: 0.2949 - val_mean_absolute_error: 0.2949\n",
      "Epoch 92/200\n",
      "4/4 [==============================] - 0s 25ms/step - loss: 0.1899 - mean_absolute_error: 0.1899 - val_loss: 0.2979 - val_mean_absolute_error: 0.2979\n",
      "Epoch 93/200\n",
      "4/4 [==============================] - 0s 28ms/step - loss: 0.1744 - mean_absolute_error: 0.1744 - val_loss: 0.3101 - val_mean_absolute_error: 0.3101\n",
      "Epoch 94/200\n",
      "4/4 [==============================] - 0s 25ms/step - loss: 0.1904 - mean_absolute_error: 0.1904 - val_loss: 0.3213 - val_mean_absolute_error: 0.3213\n",
      "Epoch 95/200\n",
      "4/4 [==============================] - 0s 25ms/step - loss: 0.1856 - mean_absolute_error: 0.1856 - val_loss: 0.3267 - val_mean_absolute_error: 0.3267\n",
      "Epoch 96/200\n",
      "4/4 [==============================] - 0s 26ms/step - loss: 0.1727 - mean_absolute_error: 0.1727 - val_loss: 0.3200 - val_mean_absolute_error: 0.3200\n",
      "Epoch 97/200\n",
      "4/4 [==============================] - 0s 26ms/step - loss: 0.1807 - mean_absolute_error: 0.1807 - val_loss: 0.3098 - val_mean_absolute_error: 0.3098\n",
      "Epoch 98/200\n",
      "4/4 [==============================] - 0s 26ms/step - loss: 0.1753 - mean_absolute_error: 0.1753 - val_loss: 0.3042 - val_mean_absolute_error: 0.3042\n",
      "Epoch 99/200\n",
      "4/4 [==============================] - 0s 25ms/step - loss: 0.1838 - mean_absolute_error: 0.1838 - val_loss: 0.3063 - val_mean_absolute_error: 0.3063\n",
      "Epoch 100/200\n",
      "4/4 [==============================] - 0s 25ms/step - loss: 0.1714 - mean_absolute_error: 0.1714 - val_loss: 0.3104 - val_mean_absolute_error: 0.3104\n",
      "Epoch 101/200\n",
      "4/4 [==============================] - 0s 25ms/step - loss: 0.1652 - mean_absolute_error: 0.1652 - val_loss: 0.3125 - val_mean_absolute_error: 0.3125\n",
      "Epoch 102/200\n",
      "4/4 [==============================] - 0s 25ms/step - loss: 0.1755 - mean_absolute_error: 0.1755 - val_loss: 0.3099 - val_mean_absolute_error: 0.3099\n",
      "Epoch 103/200\n",
      "4/4 [==============================] - 0s 27ms/step - loss: 0.1867 - mean_absolute_error: 0.1867 - val_loss: 0.3066 - val_mean_absolute_error: 0.3066\n",
      "Epoch 104/200\n",
      "4/4 [==============================] - 0s 26ms/step - loss: 0.1603 - mean_absolute_error: 0.1603 - val_loss: 0.3040 - val_mean_absolute_error: 0.3040\n",
      "Epoch 105/200\n",
      "4/4 [==============================] - 0s 25ms/step - loss: 0.1757 - mean_absolute_error: 0.1757 - val_loss: 0.3018 - val_mean_absolute_error: 0.3018\n",
      "Epoch 106/200\n",
      "4/4 [==============================] - 0s 26ms/step - loss: 0.1720 - mean_absolute_error: 0.1720 - val_loss: 0.2952 - val_mean_absolute_error: 0.2952\n",
      "Epoch 107/200\n",
      "4/4 [==============================] - 0s 27ms/step - loss: 0.1814 - mean_absolute_error: 0.1814 - val_loss: 0.2941 - val_mean_absolute_error: 0.2941\n",
      "Epoch 108/200\n",
      "4/4 [==============================] - 0s 27ms/step - loss: 0.1700 - mean_absolute_error: 0.1700 - val_loss: 0.2954 - val_mean_absolute_error: 0.2954\n",
      "Epoch 109/200\n",
      "4/4 [==============================] - 0s 25ms/step - loss: 0.1692 - mean_absolute_error: 0.1692 - val_loss: 0.2950 - val_mean_absolute_error: 0.2950\n",
      "Epoch 110/200\n",
      "4/4 [==============================] - 0s 27ms/step - loss: 0.1711 - mean_absolute_error: 0.1711 - val_loss: 0.2937 - val_mean_absolute_error: 0.2937\n",
      "Epoch 111/200\n",
      "4/4 [==============================] - 0s 25ms/step - loss: 0.1614 - mean_absolute_error: 0.1614 - val_loss: 0.2953 - val_mean_absolute_error: 0.2953\n",
      "Epoch 112/200\n",
      "4/4 [==============================] - 0s 26ms/step - loss: 0.1655 - mean_absolute_error: 0.1655 - val_loss: 0.2980 - val_mean_absolute_error: 0.2980\n",
      "Epoch 113/200\n",
      "4/4 [==============================] - 0s 25ms/step - loss: 0.1719 - mean_absolute_error: 0.1719 - val_loss: 0.2971 - val_mean_absolute_error: 0.2971\n",
      "Epoch 114/200\n",
      "4/4 [==============================] - 0s 24ms/step - loss: 0.1630 - mean_absolute_error: 0.1630 - val_loss: 0.2958 - val_mean_absolute_error: 0.2958\n",
      "Epoch 115/200\n",
      "4/4 [==============================] - 0s 24ms/step - loss: 0.1664 - mean_absolute_error: 0.1664 - val_loss: 0.2959 - val_mean_absolute_error: 0.2959\n",
      "Epoch 116/200\n",
      "4/4 [==============================] - 0s 25ms/step - loss: 0.1658 - mean_absolute_error: 0.1658 - val_loss: 0.2926 - val_mean_absolute_error: 0.2926\n",
      "Epoch 117/200\n",
      "4/4 [==============================] - 0s 33ms/step - loss: 0.1638 - mean_absolute_error: 0.1638 - val_loss: 0.2921 - val_mean_absolute_error: 0.2921\n",
      "Epoch 118/200\n",
      "4/4 [==============================] - 0s 26ms/step - loss: 0.1696 - mean_absolute_error: 0.1696 - val_loss: 0.2922 - val_mean_absolute_error: 0.2922\n",
      "Epoch 119/200\n",
      "4/4 [==============================] - 0s 26ms/step - loss: 0.1765 - mean_absolute_error: 0.1765 - val_loss: 0.2917 - val_mean_absolute_error: 0.2917\n",
      "Epoch 120/200\n",
      "4/4 [==============================] - 0s 25ms/step - loss: 0.1590 - mean_absolute_error: 0.1590 - val_loss: 0.2878 - val_mean_absolute_error: 0.2878\n",
      "Epoch 121/200\n",
      "4/4 [==============================] - 0s 25ms/step - loss: 0.1509 - mean_absolute_error: 0.1509 - val_loss: 0.2848 - val_mean_absolute_error: 0.2848\n",
      "Epoch 122/200\n",
      "4/4 [==============================] - 0s 26ms/step - loss: 0.1786 - mean_absolute_error: 0.1786 - val_loss: 0.2825 - val_mean_absolute_error: 0.2825\n",
      "Epoch 123/200\n",
      "4/4 [==============================] - 0s 25ms/step - loss: 0.1592 - mean_absolute_error: 0.1592 - val_loss: 0.2868 - val_mean_absolute_error: 0.2868\n",
      "Epoch 124/200\n",
      "4/4 [==============================] - 0s 26ms/step - loss: 0.1814 - mean_absolute_error: 0.1814 - val_loss: 0.2902 - val_mean_absolute_error: 0.2902\n",
      "Epoch 125/200\n",
      "4/4 [==============================] - 0s 24ms/step - loss: 0.1512 - mean_absolute_error: 0.1512 - val_loss: 0.2937 - val_mean_absolute_error: 0.2937\n",
      "Epoch 126/200\n",
      "4/4 [==============================] - 0s 25ms/step - loss: 0.1564 - mean_absolute_error: 0.1564 - val_loss: 0.2887 - val_mean_absolute_error: 0.2887\n",
      "Epoch 127/200\n",
      "4/4 [==============================] - 0s 25ms/step - loss: 0.1619 - mean_absolute_error: 0.1619 - val_loss: 0.2798 - val_mean_absolute_error: 0.2798\n",
      "Epoch 128/200\n",
      "4/4 [==============================] - 0s 26ms/step - loss: 0.1818 - mean_absolute_error: 0.1818 - val_loss: 0.2750 - val_mean_absolute_error: 0.2750\n",
      "Epoch 129/200\n",
      "4/4 [==============================] - 0s 27ms/step - loss: 0.1723 - mean_absolute_error: 0.1723 - val_loss: 0.2733 - val_mean_absolute_error: 0.2733\n",
      "Epoch 130/200\n",
      "4/4 [==============================] - 0s 25ms/step - loss: 0.1561 - mean_absolute_error: 0.1561 - val_loss: 0.2741 - val_mean_absolute_error: 0.2741\n",
      "Epoch 131/200\n",
      "4/4 [==============================] - 0s 24ms/step - loss: 0.1617 - mean_absolute_error: 0.1617 - val_loss: 0.2788 - val_mean_absolute_error: 0.2788\n",
      "Epoch 132/200\n",
      "4/4 [==============================] - 0s 25ms/step - loss: 0.1654 - mean_absolute_error: 0.1654 - val_loss: 0.2802 - val_mean_absolute_error: 0.2802\n",
      "Epoch 133/200\n",
      "4/4 [==============================] - 0s 26ms/step - loss: 0.1594 - mean_absolute_error: 0.1594 - val_loss: 0.2790 - val_mean_absolute_error: 0.2790\n",
      "Epoch 134/200\n",
      "4/4 [==============================] - 0s 26ms/step - loss: 0.1682 - mean_absolute_error: 0.1682 - val_loss: 0.2777 - val_mean_absolute_error: 0.2777\n",
      "Epoch 135/200\n",
      "4/4 [==============================] - 0s 26ms/step - loss: 0.1512 - mean_absolute_error: 0.1512 - val_loss: 0.2769 - val_mean_absolute_error: 0.2769\n",
      "Epoch 136/200\n",
      "4/4 [==============================] - 0s 28ms/step - loss: 0.1595 - mean_absolute_error: 0.1595 - val_loss: 0.2843 - val_mean_absolute_error: 0.2843\n",
      "Epoch 137/200\n",
      "4/4 [==============================] - 0s 26ms/step - loss: 0.1576 - mean_absolute_error: 0.1576 - val_loss: 0.2850 - val_mean_absolute_error: 0.2850\n",
      "Epoch 138/200\n",
      "4/4 [==============================] - 0s 26ms/step - loss: 0.1510 - mean_absolute_error: 0.1510 - val_loss: 0.2837 - val_mean_absolute_error: 0.2837\n",
      "Epoch 139/200\n",
      "4/4 [==============================] - 0s 26ms/step - loss: 0.1516 - mean_absolute_error: 0.1516 - val_loss: 0.2832 - val_mean_absolute_error: 0.2832\n",
      "Epoch 140/200\n",
      "4/4 [==============================] - 0s 26ms/step - loss: 0.1520 - mean_absolute_error: 0.1520 - val_loss: 0.2824 - val_mean_absolute_error: 0.2824\n",
      "Epoch 141/200\n",
      "4/4 [==============================] - 0s 25ms/step - loss: 0.1509 - mean_absolute_error: 0.1509 - val_loss: 0.2780 - val_mean_absolute_error: 0.2780\n",
      "Epoch 142/200\n",
      "4/4 [==============================] - 0s 25ms/step - loss: 0.1514 - mean_absolute_error: 0.1514 - val_loss: 0.2731 - val_mean_absolute_error: 0.2731\n",
      "Epoch 143/200\n",
      "4/4 [==============================] - 0s 26ms/step - loss: 0.1473 - mean_absolute_error: 0.1473 - val_loss: 0.2677 - val_mean_absolute_error: 0.2677\n",
      "Epoch 144/200\n",
      "4/4 [==============================] - 0s 27ms/step - loss: 0.1661 - mean_absolute_error: 0.1661 - val_loss: 0.2628 - val_mean_absolute_error: 0.2628\n",
      "Epoch 145/200\n",
      "4/4 [==============================] - 0s 26ms/step - loss: 0.1578 - mean_absolute_error: 0.1578 - val_loss: 0.2524 - val_mean_absolute_error: 0.2524\n",
      "Epoch 146/200\n",
      "4/4 [==============================] - 0s 27ms/step - loss: 0.1565 - mean_absolute_error: 0.1565 - val_loss: 0.2480 - val_mean_absolute_error: 0.2480\n",
      "Epoch 147/200\n",
      "4/4 [==============================] - 0s 25ms/step - loss: 0.1401 - mean_absolute_error: 0.1401 - val_loss: 0.2497 - val_mean_absolute_error: 0.2497\n",
      "Epoch 148/200\n",
      "4/4 [==============================] - 0s 26ms/step - loss: 0.1588 - mean_absolute_error: 0.1588 - val_loss: 0.2567 - val_mean_absolute_error: 0.2567\n",
      "Epoch 149/200\n",
      "4/4 [==============================] - 0s 26ms/step - loss: 0.1312 - mean_absolute_error: 0.1312 - val_loss: 0.2622 - val_mean_absolute_error: 0.2622\n",
      "Epoch 150/200\n",
      "4/4 [==============================] - 0s 26ms/step - loss: 0.1389 - mean_absolute_error: 0.1389 - val_loss: 0.2644 - val_mean_absolute_error: 0.2644\n",
      "Epoch 151/200\n",
      "4/4 [==============================] - 0s 28ms/step - loss: 0.1436 - mean_absolute_error: 0.1436 - val_loss: 0.2686 - val_mean_absolute_error: 0.2686\n",
      "Epoch 152/200\n",
      "4/4 [==============================] - 0s 25ms/step - loss: 0.1493 - mean_absolute_error: 0.1493 - val_loss: 0.2684 - val_mean_absolute_error: 0.2684\n",
      "Epoch 153/200\n",
      "4/4 [==============================] - 0s 24ms/step - loss: 0.1469 - mean_absolute_error: 0.1469 - val_loss: 0.2746 - val_mean_absolute_error: 0.2746\n",
      "Epoch 154/200\n",
      "4/4 [==============================] - 0s 25ms/step - loss: 0.1416 - mean_absolute_error: 0.1416 - val_loss: 0.2885 - val_mean_absolute_error: 0.2885\n",
      "Epoch 155/200\n",
      "4/4 [==============================] - 0s 25ms/step - loss: 0.1581 - mean_absolute_error: 0.1581 - val_loss: 0.2906 - val_mean_absolute_error: 0.2906\n",
      "Epoch 156/200\n",
      "4/4 [==============================] - 0s 27ms/step - loss: 0.1423 - mean_absolute_error: 0.1423 - val_loss: 0.2878 - val_mean_absolute_error: 0.2878\n",
      "Epoch 157/200\n",
      "4/4 [==============================] - 0s 25ms/step - loss: 0.1405 - mean_absolute_error: 0.1405 - val_loss: 0.2798 - val_mean_absolute_error: 0.2798\n",
      "Epoch 158/200\n",
      "4/4 [==============================] - 0s 26ms/step - loss: 0.1383 - mean_absolute_error: 0.1383 - val_loss: 0.2750 - val_mean_absolute_error: 0.2750\n",
      "Epoch 159/200\n",
      "4/4 [==============================] - 0s 24ms/step - loss: 0.1365 - mean_absolute_error: 0.1365 - val_loss: 0.2724 - val_mean_absolute_error: 0.2724\n",
      "Epoch 160/200\n",
      "4/4 [==============================] - 0s 25ms/step - loss: 0.1420 - mean_absolute_error: 0.1420 - val_loss: 0.2706 - val_mean_absolute_error: 0.2706\n",
      "Epoch 161/200\n",
      "4/4 [==============================] - 0s 25ms/step - loss: 0.1431 - mean_absolute_error: 0.1431 - val_loss: 0.2718 - val_mean_absolute_error: 0.2718\n",
      "Epoch 162/200\n",
      "4/4 [==============================] - 0s 26ms/step - loss: 0.1355 - mean_absolute_error: 0.1355 - val_loss: 0.2731 - val_mean_absolute_error: 0.2731\n",
      "Epoch 163/200\n",
      "4/4 [==============================] - 0s 25ms/step - loss: 0.1434 - mean_absolute_error: 0.1434 - val_loss: 0.2738 - val_mean_absolute_error: 0.2738\n",
      "Epoch 164/200\n",
      "4/4 [==============================] - 0s 26ms/step - loss: 0.1482 - mean_absolute_error: 0.1482 - val_loss: 0.2714 - val_mean_absolute_error: 0.2714\n",
      "Epoch 165/200\n",
      "4/4 [==============================] - 0s 25ms/step - loss: 0.1374 - mean_absolute_error: 0.1374 - val_loss: 0.2685 - val_mean_absolute_error: 0.2685\n",
      "Epoch 166/200\n",
      "4/4 [==============================] - 0s 26ms/step - loss: 0.1369 - mean_absolute_error: 0.1369 - val_loss: 0.2637 - val_mean_absolute_error: 0.2637\n",
      "Epoch 167/200\n",
      "4/4 [==============================] - 0s 26ms/step - loss: 0.1266 - mean_absolute_error: 0.1266 - val_loss: 0.2639 - val_mean_absolute_error: 0.2639\n",
      "Epoch 168/200\n",
      "4/4 [==============================] - 0s 28ms/step - loss: 0.1464 - mean_absolute_error: 0.1464 - val_loss: 0.2657 - val_mean_absolute_error: 0.2657\n",
      "Epoch 169/200\n",
      "4/4 [==============================] - 0s 26ms/step - loss: 0.1422 - mean_absolute_error: 0.1422 - val_loss: 0.2673 - val_mean_absolute_error: 0.2673\n",
      "Epoch 170/200\n",
      "4/4 [==============================] - 0s 25ms/step - loss: 0.1273 - mean_absolute_error: 0.1273 - val_loss: 0.2724 - val_mean_absolute_error: 0.2724\n",
      "Epoch 171/200\n",
      "4/4 [==============================] - 0s 26ms/step - loss: 0.1563 - mean_absolute_error: 0.1563 - val_loss: 0.2765 - val_mean_absolute_error: 0.2765\n",
      "Epoch 172/200\n",
      "4/4 [==============================] - 0s 25ms/step - loss: 0.1477 - mean_absolute_error: 0.1477 - val_loss: 0.2711 - val_mean_absolute_error: 0.2711\n",
      "Epoch 173/200\n",
      "4/4 [==============================] - 0s 27ms/step - loss: 0.1242 - mean_absolute_error: 0.1242 - val_loss: 0.2667 - val_mean_absolute_error: 0.2667\n",
      "Epoch 174/200\n",
      "4/4 [==============================] - 0s 25ms/step - loss: 0.1409 - mean_absolute_error: 0.1409 - val_loss: 0.2682 - val_mean_absolute_error: 0.2682\n",
      "Epoch 175/200\n",
      "4/4 [==============================] - 0s 26ms/step - loss: 0.1355 - mean_absolute_error: 0.1355 - val_loss: 0.2779 - val_mean_absolute_error: 0.2779\n",
      "Epoch 176/200\n",
      "4/4 [==============================] - 0s 25ms/step - loss: 0.1309 - mean_absolute_error: 0.1309 - val_loss: 0.2785 - val_mean_absolute_error: 0.2785\n",
      "Epoch 177/200\n",
      "4/4 [==============================] - 0s 24ms/step - loss: 0.1373 - mean_absolute_error: 0.1373 - val_loss: 0.2698 - val_mean_absolute_error: 0.2698\n",
      "Epoch 178/200\n",
      "4/4 [==============================] - 0s 25ms/step - loss: 0.1372 - mean_absolute_error: 0.1372 - val_loss: 0.2608 - val_mean_absolute_error: 0.2608\n",
      "Epoch 179/200\n",
      "4/4 [==============================] - 0s 26ms/step - loss: 0.1416 - mean_absolute_error: 0.1416 - val_loss: 0.2561 - val_mean_absolute_error: 0.2561\n",
      "Epoch 180/200\n",
      "4/4 [==============================] - 0s 35ms/step - loss: 0.1319 - mean_absolute_error: 0.1319 - val_loss: 0.2522 - val_mean_absolute_error: 0.2522\n",
      "Epoch 181/200\n",
      "4/4 [==============================] - 0s 24ms/step - loss: 0.1373 - mean_absolute_error: 0.1373 - val_loss: 0.2525 - val_mean_absolute_error: 0.2525\n",
      "Epoch 182/200\n",
      "4/4 [==============================] - 0s 24ms/step - loss: 0.1388 - mean_absolute_error: 0.1388 - val_loss: 0.2514 - val_mean_absolute_error: 0.2514\n",
      "Epoch 183/200\n",
      "4/4 [==============================] - 0s 25ms/step - loss: 0.1345 - mean_absolute_error: 0.1345 - val_loss: 0.2529 - val_mean_absolute_error: 0.2529\n",
      "Epoch 184/200\n",
      "4/4 [==============================] - 0s 25ms/step - loss: 0.1426 - mean_absolute_error: 0.1426 - val_loss: 0.2482 - val_mean_absolute_error: 0.2482\n",
      "Epoch 185/200\n",
      "4/4 [==============================] - 0s 27ms/step - loss: 0.1312 - mean_absolute_error: 0.1312 - val_loss: 0.2525 - val_mean_absolute_error: 0.2525\n",
      "Epoch 186/200\n",
      "4/4 [==============================] - 0s 24ms/step - loss: 0.1250 - mean_absolute_error: 0.1250 - val_loss: 0.2594 - val_mean_absolute_error: 0.2594\n",
      "Epoch 187/200\n",
      "4/4 [==============================] - 0s 25ms/step - loss: 0.1162 - mean_absolute_error: 0.1162 - val_loss: 0.2663 - val_mean_absolute_error: 0.2663\n",
      "Epoch 188/200\n",
      "4/4 [==============================] - 0s 25ms/step - loss: 0.1415 - mean_absolute_error: 0.1415 - val_loss: 0.2665 - val_mean_absolute_error: 0.2665\n",
      "Epoch 189/200\n",
      "4/4 [==============================] - 0s 24ms/step - loss: 0.1232 - mean_absolute_error: 0.1232 - val_loss: 0.2684 - val_mean_absolute_error: 0.2684\n",
      "Epoch 190/200\n",
      "4/4 [==============================] - 0s 25ms/step - loss: 0.1281 - mean_absolute_error: 0.1281 - val_loss: 0.2678 - val_mean_absolute_error: 0.2678\n",
      "Epoch 191/200\n",
      "4/4 [==============================] - 0s 26ms/step - loss: 0.1372 - mean_absolute_error: 0.1372 - val_loss: 0.2670 - val_mean_absolute_error: 0.2670\n",
      "Epoch 192/200\n",
      "4/4 [==============================] - 0s 27ms/step - loss: 0.1310 - mean_absolute_error: 0.1310 - val_loss: 0.2673 - val_mean_absolute_error: 0.2673\n",
      "Epoch 193/200\n",
      "4/4 [==============================] - 0s 25ms/step - loss: 0.1331 - mean_absolute_error: 0.1331 - val_loss: 0.2693 - val_mean_absolute_error: 0.2693\n",
      "Epoch 194/200\n",
      "4/4 [==============================] - 0s 27ms/step - loss: 0.1370 - mean_absolute_error: 0.1370 - val_loss: 0.2590 - val_mean_absolute_error: 0.2590\n",
      "Epoch 195/200\n",
      "4/4 [==============================] - 0s 24ms/step - loss: 0.1318 - mean_absolute_error: 0.1318 - val_loss: 0.2379 - val_mean_absolute_error: 0.2379\n",
      "Epoch 196/200\n",
      "4/4 [==============================] - 0s 24ms/step - loss: 0.1433 - mean_absolute_error: 0.1433 - val_loss: 0.2348 - val_mean_absolute_error: 0.2348\n",
      "Epoch 197/200\n",
      "4/4 [==============================] - 0s 27ms/step - loss: 0.1310 - mean_absolute_error: 0.1310 - val_loss: 0.2324 - val_mean_absolute_error: 0.2324\n",
      "Epoch 198/200\n",
      "4/4 [==============================] - 0s 26ms/step - loss: 0.1210 - mean_absolute_error: 0.1210 - val_loss: 0.2331 - val_mean_absolute_error: 0.2331\n",
      "Epoch 199/200\n",
      "4/4 [==============================] - 0s 23ms/step - loss: 0.1325 - mean_absolute_error: 0.1325 - val_loss: 0.2341 - val_mean_absolute_error: 0.2341\n",
      "Epoch 200/200\n",
      "4/4 [==============================] - 0s 24ms/step - loss: 0.1274 - mean_absolute_error: 0.1274 - val_loss: 0.2378 - val_mean_absolute_error: 0.2378\n",
      "CPU times: user 28.6 s, sys: 6.18 s, total: 34.8 s\n",
      "Wall time: 21.6 s\n"
     ]
    }
   ],
   "source": [
    "%%time\n",
    "model_store = Path('Result/saved_weights.hdf5')\n",
    "\n",
    "# save the best performing model\n",
    "checkpointer = ModelCheckpoint(\n",
    "    filepath=model_store, \n",
    "    monitor='val_loss',\n",
    "    verbose=0, \n",
    "    save_best_only=True\n",
    ")\n",
    "\n",
    "stop_early = tf.keras.callbacks.EarlyStopping(\n",
    "    monitor='val_loss',\n",
    "    patience=10,\n",
    "    min_delta = 1/age_range\n",
    ")\n",
    "\n",
    "st = time.time()\n",
    "# model training\n",
    "model.fit(\n",
    "    [x_train], y_train,\n",
    "    batch_size=60,\n",
    "    epochs=200, \n",
    "    verbose=1,\n",
    "    callbacks=[checkpointer],\n",
    "    validation_data=([x_valid], y_valid)\n",
    ")\n",
    "rt = time.time()-st"
   ]
  },
  {
   "cell_type": "code",
   "execution_count": 32,
   "metadata": {},
   "outputs": [
    {
     "data": {
      "text/plain": [
       "21.595181226730347"
      ]
     },
     "execution_count": 32,
     "metadata": {},
     "output_type": "execute_result"
    }
   ],
   "source": [
    "rt"
   ]
  },
  {
   "cell_type": "code",
   "execution_count": 33,
   "metadata": {
    "tags": []
   },
   "outputs": [
    {
     "name": "stdout",
     "output_type": "stream",
     "text": [
      "Final train error: 6.064376898109913\n",
      "Final valid error: 11.653904289007187\n"
     ]
    },
    {
     "data": {
      "image/png": "[encoded data removed]",
      "text/plain": [
       "<Figure size 648x432 with 1 Axes>"
      ]
     },
     "metadata": {
      "needs_background": "light"
     },
     "output_type": "display_data"
    }
   ],
   "source": [
    "##### Step 6: plot train and validation loss #####\n",
    "history = model.history\n",
    "print('Final train error:', age_range*history.history['mean_absolute_error'][-1])\n",
    "print('Final valid error:', age_range*history.history['val_mean_absolute_error'][-1])\n",
    "plt.plot(age_range*pd.Series(history.history['mean_absolute_error']))\n",
    "plt.plot(age_range*pd.Series(history.history['val_mean_absolute_error']))\n",
    "plt.title('model train vs validation loss')\n",
    "plt.ylabel('loss')\n",
    "plt.xlabel('epoch')\n",
    "plt.legend(['train', 'validation'], loc='upper right')\n",
    "plt.show()"
   ]
  },
  {
   "cell_type": "code",
   "execution_count": 34,
   "metadata": {},
   "outputs": [],
   "source": [
    "#### Step 7: test the final model #####\n",
    "final_model = load_model(model_store)\n",
    "x_test = x_valid\n",
    "y_test = y_valid\n",
    "y_scores = final_model.predict([x_test])\n",
    "y_scores = y_scores.reshape(y_scores.shape[0])"
   ]
  },
  {
   "cell_type": "code",
   "execution_count": 35,
   "metadata": {},
   "outputs": [
    {
     "data": {
      "text/plain": [
       "count    65.000000\n",
       "mean      2.781096\n",
       "std      14.224813\n",
       "min     -31.566926\n",
       "25%      -4.234917\n",
       "50%       3.750099\n",
       "75%      11.834390\n",
       "max      38.030199\n",
       "dtype: float64"
      ]
     },
     "execution_count": 35,
     "metadata": {},
     "output_type": "execute_result"
    }
   ],
   "source": [
    "errors = age_range * (pd.Series(y_test)-pd.Series(y_scores))\n",
    "errors.describe()"
   ]
  },
  {
   "cell_type": "code",
   "execution_count": 36,
   "metadata": {},
   "outputs": [
    {
     "data": {
      "image/png": "[encoded data removed]",
      "text/plain": [
       "<Figure size 648x432 with 1 Axes>"
      ]
     },
     "metadata": {
      "needs_background": "light"
     },
     "output_type": "display_data"
    }
   ],
   "source": [
    "plt.hist(errors)\n",
    "plt.title('Error Distribution')\n",
    "plt.xlabel('Actual - Predicted [Years]')\n",
    "plt.show()"
   ]
  },
  {
   "cell_type": "code",
   "execution_count": 37,
   "metadata": {},
   "outputs": [
    {
     "name": "stdout",
     "output_type": "stream",
     "text": [
      "[ 0.59557238 25.8026039 ]\n"
     ]
    },
    {
     "data": {
      "image/png": "[encoded data removed]",
      "text/plain": [
       "<Figure size 648x432 with 1 Axes>"
      ]
     },
     "metadata": {
      "needs_background": "light"
     },
     "output_type": "display_data"
    }
   ],
   "source": [
    "age_true = y_test*age_range + age_min\n",
    "age_pred = y_scores*age_range + age_min\n",
    "plt.plot(age_true, age_pred,'b.')\n",
    "plt.axis('square')\n",
    "plt.xlim((40,95))\n",
    "plt.ylim((40,95))\n",
    "plt.xlabel('True Age')\n",
    "plt.ylabel('Predicted Age')\n",
    "plt.title('Prediction vs True')\n",
    "plt.plot([40,95],[40,95],'--k')\n",
    "coef = np.polyfit(age_true, age_pred, 1)\n",
    "print(coef)\n",
    "poly1d_fn = np.poly1d(coef)\n",
    "plt.plot([40,95], poly1d_fn([40,95]), '--b')\n",
    "plt.show()"
   ]
  },
  {
   "cell_type": "code",
   "execution_count": null,
   "metadata": {},
   "outputs": [],
   "source": []
  }
 ],
 "metadata": {
  "kernelspec": {
   "display_name": "Python 3",
   "language": "python",
   "name": "python3"
  },
  "language_info": {
   "codemirror_mode": {
    "name": "ipython",
    "version": 3
   },
   "file_extension": ".py",
   "mimetype": "text/x-python",
   "name": "python",
   "nbconvert_exporter": "python",
   "pygments_lexer": "ipython3",
   "version": "3.9.6"
  }
 },
 "nbformat": 4,
 "nbformat_minor": 4
}
