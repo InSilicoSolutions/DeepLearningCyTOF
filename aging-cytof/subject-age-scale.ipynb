{
 "cells": [
  {
   "cell_type": "markdown",
   "metadata": {},
   "source": [
    "# Predict `Subject Age`"
   ]
  },
  {
   "cell_type": "code",
   "execution_count": 1,
   "metadata": {},
   "outputs": [],
   "source": [
    "%matplotlib inline"
   ]
  },
  {
   "cell_type": "code",
   "execution_count": 2,
   "metadata": {},
   "outputs": [],
   "source": [
    "##### Step 1: import functions #####\n",
    "import tensorflow as tf\n",
    "from tensorflow.keras.layers import Dense, Flatten, BatchNormalization, Activation, Conv2D, AveragePooling2D, Input, Softmax, GlobalAveragePooling2D\n",
    "from tensorflow.keras.models import load_model, Model, Sequential\n",
    "from tensorflow.keras.optimizers import Adam\n",
    "from tensorflow.keras.callbacks import ModelCheckpoint, EarlyStopping\n",
    "from tensorflow.keras.losses import SparseCategoricalCrossentropy\n",
    "from tensorflow.keras import backend as K\n",
    "from tensorflow.keras.utils import plot_model\n",
    "import pickle\n",
    "import pandas as pd\n",
    "import numpy as np\n",
    "from numpy.random import seed; seed(111)\n",
    "import random\n",
    "import matplotlib.pyplot as plt\n",
    "import seaborn as sns\n",
    "from tensorflow.random import set_seed; set_seed(111)\n",
    "from sklearn.metrics import roc_curve, auc\n",
    "from sklearn.preprocessing import normalize\n",
    "from six import StringIO  \n",
    "from sklearn.tree import export_graphviz, DecisionTreeRegressor\n",
    "from sklearn.model_selection import train_test_split\n",
    "from scipy.stats import ttest_ind\n",
    "from IPython.display import Image  \n",
    "import pydotplus\n",
    "import time\n",
    "from pathlib import Path\n",
    "from sklearn.preprocessing import StandardScaler, MinMaxScaler"
   ]
  },
  {
   "cell_type": "code",
   "execution_count": 3,
   "metadata": {},
   "outputs": [],
   "source": [
    "# %config InlineBackend.figure_format = 'svg'\n",
    "plt.rcParams['figure.figsize'] = [9,6]"
   ]
  },
  {
   "cell_type": "code",
   "execution_count": 4,
   "metadata": {},
   "outputs": [],
   "source": [
    "gpus = tf.config.list_physical_devices('GPU')\n",
    "tf.config.experimental.set_memory_growth(gpus[0], True)"
   ]
  },
  {
   "cell_type": "code",
   "execution_count": 5,
   "metadata": {},
   "outputs": [],
   "source": [
    "phenotype = 'Subject Age'"
   ]
  },
  {
   "cell_type": "code",
   "execution_count": 6,
   "metadata": {},
   "outputs": [
    {
     "name": "stdout",
     "output_type": "stream",
     "text": [
      "Dimensions of cyto_data: (260, 5000, 27, 1)\n",
      "Dimensions of samples: (260, 85)\n",
      "Names of the makers: ['CELL_LENGTH' 'DEAD' 'CD19' 'CD4' 'CD8' 'IGD' 'CD85J' 'CD16' 'CD3' 'CD38'\n",
      " 'CD27' 'CD14' 'CD94' 'CCR7' 'CD45RA' 'CD20' 'CD127' 'CD33' 'CD28' 'CD24'\n",
      " 'CD161' 'TCRGD' 'CD56' 'HLADR' 'CD25' 'DNA1' 'DNA2']\n"
     ]
    }
   ],
   "source": [
    "#load data\n",
    "aging_dir = Path('/home/ubuntu/a/aging')\n",
    "\n",
    "with open(aging_dir/'aging-cytof-data.obj', 'rb') as f:\n",
    "    allData = pickle.load(f)\n",
    "samples = allData[\"samples\"]\n",
    "cyto_data = allData['expr_list']\n",
    "# Truncate cytodata\n",
    "cyto_data = cyto_data[ :, :int(5e3)]\n",
    "markers = allData[\"marker_names\"]\n",
    "\n",
    "print(f'Dimensions of cyto_data: {cyto_data.shape}')\n",
    "print(f'Dimensions of samples: {samples.shape}')\n",
    "print(f'Names of the makers: {markers.values}')"
   ]
  },
  {
   "cell_type": "code",
   "execution_count": 7,
   "metadata": {},
   "outputs": [
    {
     "name": "stdout",
     "output_type": "stream",
     "text": [
      "count    260.000000\n",
      "mean      68.303846\n",
      "std       15.169696\n",
      "min       41.000000\n",
      "25%       55.000000\n",
      "50%       69.000000\n",
      "75%       82.000000\n",
      "max       90.000000\n",
      "Name: Subject Age, dtype: float64\n"
     ]
    },
    {
     "data": {
      "text/plain": [
       "<AxesSubplot:ylabel='Frequency'>"
      ]
     },
     "execution_count": 7,
     "metadata": {},
     "output_type": "execute_result"
    },
    {
     "data": {
      "image/png": "[encoded data removed]",
      "text/plain": [
       "<Figure size 648x432 with 1 Axes>"
      ]
     },
     "metadata": {
      "needs_background": "light"
     },
     "output_type": "display_data"
    }
   ],
   "source": [
    "print(samples[phenotype].describe())\n",
    "samples[phenotype].plot.hist(bins=20)"
   ]
  },
  {
   "cell_type": "code",
   "execution_count": 8,
   "metadata": {},
   "outputs": [
    {
     "name": "stdout",
     "output_type": "stream",
     "text": [
      "(195, 5000, 27, 1) (65, 5000, 27, 1)\n"
     ]
    }
   ],
   "source": [
    "##### Step 3: split train, validation and test######\n",
    "x = []\n",
    "y = []\n",
    "for i, row in samples.iterrows():\n",
    "    x.append(cyto_data[i])\n",
    "    y.append(row[phenotype])\n",
    "age_range = max(y) - min(y)\n",
    "x = np.asarray(x)\n",
    "y_raw = np.asarray(y)\n",
    "\n",
    "x_train, x_valid, y_train, y_valid = train_test_split(x, y_raw, train_size=0.75)\n",
    "\n",
    "scaler = MinMaxScaler()\n",
    "\n",
    "scaler.fit(y_train.reshape(-1,1))\n",
    "y_train = scaler.transform(y_train.reshape(-1,1)).reshape(1,-1)[0]\n",
    "y_valid = scaler.transform(y_valid.reshape(-1,1)).reshape(1,-1)[0]\n",
    "print(x_train.shape, x_valid.shape)"
   ]
  },
  {
   "cell_type": "code",
   "execution_count": 9,
   "metadata": {},
   "outputs": [
    {
     "name": "stdout",
     "output_type": "stream",
     "text": [
      "Model: \"sequential\"\n",
      "_________________________________________________________________\n",
      "Layer (type)                 Output Shape              Param #   \n",
      "=================================================================\n",
      "conv2d (Conv2D)              (None, 5000, 1, 4)        112       \n",
      "_________________________________________________________________\n",
      "batch_normalization (BatchNo (None, 5000, 1, 4)        16        \n",
      "_________________________________________________________________\n",
      "activation (Activation)      (None, 5000, 1, 4)        0         \n",
      "_________________________________________________________________\n",
      "global_average_pooling2d (Gl (None, 4)                 0         \n",
      "_________________________________________________________________\n",
      "flatten (Flatten)            (None, 4)                 0         \n",
      "_________________________________________________________________\n",
      "dense (Dense)                (None, 4)                 20        \n",
      "_________________________________________________________________\n",
      "batch_normalization_1 (Batch (None, 4)                 16        \n",
      "_________________________________________________________________\n",
      "activation_1 (Activation)    (None, 4)                 0         \n",
      "_________________________________________________________________\n",
      "dense_1 (Dense)              (None, 1)                 5         \n",
      "=================================================================\n",
      "Total params: 169\n",
      "Trainable params: 153\n",
      "Non-trainable params: 16\n",
      "_________________________________________________________________\n"
     ]
    }
   ],
   "source": [
    "model = Sequential([\n",
    "    Input(shape=x[0].shape),\n",
    "    Conv2D(4, kernel_size = (1, x.shape[2]), activation=None),\n",
    "    BatchNormalization(),\n",
    "    Activation('relu'),\n",
    "#     Conv2D(4, kernel_size = (1,1), activation=None),\n",
    "#     BatchNormalization(),\n",
    "#     Activation('relu'),\n",
    "#     AveragePooling2D(pool_size = (x.shape[1], 1)),\n",
    "    GlobalAveragePooling2D(),\n",
    "    Flatten(),\n",
    "    Dense(4, activation=None),\n",
    "    BatchNormalization(),\n",
    "    Activation('relu'),\n",
    "    Dense(1, activation=None),\n",
    "])\n",
    "model.compile(loss='mean_absolute_error',\n",
    "              optimizer='adam',\n",
    "              metrics=['mean_absolute_error'])\n",
    "model.summary()"
   ]
  },
  {
   "cell_type": "code",
   "execution_count": 10,
   "metadata": {
    "scrolled": true,
    "tags": []
   },
   "outputs": [
    {
     "name": "stdout",
     "output_type": "stream",
     "text": [
      "Epoch 1/200\n",
      "4/4 [==============================] - 3s 193ms/step - loss: 0.6401 - mean_absolute_error: 0.6401 - val_loss: 0.2961 - val_mean_absolute_error: 0.2961\n",
      "Epoch 2/200\n",
      "4/4 [==============================] - 0s 25ms/step - loss: 0.5978 - mean_absolute_error: 0.5978 - val_loss: 0.2935 - val_mean_absolute_error: 0.2935\n",
      "Epoch 3/200\n",
      "4/4 [==============================] - 0s 24ms/step - loss: 0.5700 - mean_absolute_error: 0.5700 - val_loss: 0.2946 - val_mean_absolute_error: 0.2946\n",
      "Epoch 4/200\n",
      "4/4 [==============================] - 0s 24ms/step - loss: 0.5580 - mean_absolute_error: 0.5580 - val_loss: 0.3019 - val_mean_absolute_error: 0.3019\n",
      "Epoch 5/200\n",
      "4/4 [==============================] - 0s 23ms/step - loss: 0.5463 - mean_absolute_error: 0.5463 - val_loss: 0.3159 - val_mean_absolute_error: 0.3159\n",
      "Epoch 6/200\n",
      "4/4 [==============================] - 0s 24ms/step - loss: 0.5272 - mean_absolute_error: 0.5272 - val_loss: 0.3340 - val_mean_absolute_error: 0.3340\n",
      "Epoch 7/200\n",
      "4/4 [==============================] - 0s 24ms/step - loss: 0.4978 - mean_absolute_error: 0.4978 - val_loss: 0.3551 - val_mean_absolute_error: 0.3551\n",
      "Epoch 8/200\n",
      "4/4 [==============================] - 0s 23ms/step - loss: 0.5092 - mean_absolute_error: 0.5092 - val_loss: 0.3740 - val_mean_absolute_error: 0.3740\n",
      "Epoch 9/200\n",
      "4/4 [==============================] - 0s 23ms/step - loss: 0.4687 - mean_absolute_error: 0.4687 - val_loss: 0.3870 - val_mean_absolute_error: 0.3870\n",
      "Epoch 10/200\n",
      "4/4 [==============================] - 0s 24ms/step - loss: 0.4552 - mean_absolute_error: 0.4552 - val_loss: 0.4030 - val_mean_absolute_error: 0.4030\n",
      "Epoch 11/200\n",
      "4/4 [==============================] - 0s 25ms/step - loss: 0.4356 - mean_absolute_error: 0.4356 - val_loss: 0.4167 - val_mean_absolute_error: 0.4167\n",
      "Epoch 12/200\n",
      "4/4 [==============================] - 0s 23ms/step - loss: 0.4213 - mean_absolute_error: 0.4213 - val_loss: 0.4348 - val_mean_absolute_error: 0.4348\n",
      "Epoch 13/200\n",
      "4/4 [==============================] - 0s 24ms/step - loss: 0.4293 - mean_absolute_error: 0.4293 - val_loss: 0.4501 - val_mean_absolute_error: 0.4501\n",
      "Epoch 14/200\n",
      "4/4 [==============================] - 0s 23ms/step - loss: 0.4237 - mean_absolute_error: 0.4237 - val_loss: 0.4725 - val_mean_absolute_error: 0.4725\n",
      "Epoch 15/200\n",
      "4/4 [==============================] - 0s 22ms/step - loss: 0.4068 - mean_absolute_error: 0.4068 - val_loss: 0.4926 - val_mean_absolute_error: 0.4926\n",
      "Epoch 16/200\n",
      "4/4 [==============================] - 0s 26ms/step - loss: 0.4090 - mean_absolute_error: 0.4090 - val_loss: 0.5070 - val_mean_absolute_error: 0.5070\n",
      "Epoch 17/200\n",
      "4/4 [==============================] - 0s 24ms/step - loss: 0.4018 - mean_absolute_error: 0.4018 - val_loss: 0.5226 - val_mean_absolute_error: 0.5226\n",
      "Epoch 18/200\n",
      "4/4 [==============================] - 0s 23ms/step - loss: 0.3907 - mean_absolute_error: 0.3907 - val_loss: 0.5370 - val_mean_absolute_error: 0.5370\n",
      "Epoch 19/200\n",
      "4/4 [==============================] - 0s 23ms/step - loss: 0.3714 - mean_absolute_error: 0.3714 - val_loss: 0.5608 - val_mean_absolute_error: 0.5608\n",
      "Epoch 20/200\n",
      "4/4 [==============================] - 0s 25ms/step - loss: 0.3716 - mean_absolute_error: 0.3716 - val_loss: 0.5825 - val_mean_absolute_error: 0.5825\n",
      "Epoch 21/200\n",
      "4/4 [==============================] - 0s 24ms/step - loss: 0.3510 - mean_absolute_error: 0.3510 - val_loss: 0.5888 - val_mean_absolute_error: 0.5888\n",
      "Epoch 22/200\n",
      "4/4 [==============================] - 0s 23ms/step - loss: 0.3580 - mean_absolute_error: 0.3580 - val_loss: 0.5863 - val_mean_absolute_error: 0.5863\n",
      "Epoch 23/200\n",
      "4/4 [==============================] - 0s 23ms/step - loss: 0.3514 - mean_absolute_error: 0.3514 - val_loss: 0.5941 - val_mean_absolute_error: 0.5941\n",
      "Epoch 24/200\n",
      "4/4 [==============================] - 0s 24ms/step - loss: 0.3375 - mean_absolute_error: 0.3375 - val_loss: 0.6037 - val_mean_absolute_error: 0.6037\n",
      "Epoch 25/200\n",
      "4/4 [==============================] - 0s 23ms/step - loss: 0.3375 - mean_absolute_error: 0.3375 - val_loss: 0.6098 - val_mean_absolute_error: 0.6098\n",
      "Epoch 26/200\n",
      "4/4 [==============================] - 0s 23ms/step - loss: 0.3436 - mean_absolute_error: 0.3436 - val_loss: 0.6180 - val_mean_absolute_error: 0.6180\n",
      "Epoch 27/200\n",
      "4/4 [==============================] - 0s 24ms/step - loss: 0.3330 - mean_absolute_error: 0.3330 - val_loss: 0.6338 - val_mean_absolute_error: 0.6338\n",
      "Epoch 28/200\n",
      "4/4 [==============================] - 0s 23ms/step - loss: 0.3202 - mean_absolute_error: 0.3202 - val_loss: 0.6455 - val_mean_absolute_error: 0.6455\n",
      "Epoch 29/200\n",
      "4/4 [==============================] - 0s 23ms/step - loss: 0.3240 - mean_absolute_error: 0.3240 - val_loss: 0.6510 - val_mean_absolute_error: 0.6510\n",
      "Epoch 30/200\n",
      "4/4 [==============================] - 0s 23ms/step - loss: 0.3206 - mean_absolute_error: 0.3206 - val_loss: 0.6490 - val_mean_absolute_error: 0.6490\n",
      "Epoch 31/200\n",
      "4/4 [==============================] - 0s 23ms/step - loss: 0.3181 - mean_absolute_error: 0.3181 - val_loss: 0.6444 - val_mean_absolute_error: 0.6444\n",
      "Epoch 32/200\n",
      "4/4 [==============================] - 0s 24ms/step - loss: 0.3170 - mean_absolute_error: 0.3170 - val_loss: 0.6381 - val_mean_absolute_error: 0.6381\n",
      "Epoch 33/200\n",
      "4/4 [==============================] - 0s 23ms/step - loss: 0.3163 - mean_absolute_error: 0.3163 - val_loss: 0.6334 - val_mean_absolute_error: 0.6334\n",
      "Epoch 34/200\n",
      "4/4 [==============================] - 0s 24ms/step - loss: 0.2978 - mean_absolute_error: 0.2978 - val_loss: 0.6299 - val_mean_absolute_error: 0.6299\n",
      "Epoch 35/200\n",
      "4/4 [==============================] - 0s 23ms/step - loss: 0.3086 - mean_absolute_error: 0.3086 - val_loss: 0.6335 - val_mean_absolute_error: 0.6335\n",
      "Epoch 36/200\n",
      "4/4 [==============================] - 0s 23ms/step - loss: 0.3086 - mean_absolute_error: 0.3086 - val_loss: 0.6527 - val_mean_absolute_error: 0.6527\n",
      "Epoch 37/200\n",
      "4/4 [==============================] - 0s 23ms/step - loss: 0.2913 - mean_absolute_error: 0.2913 - val_loss: 0.6763 - val_mean_absolute_error: 0.6763\n",
      "Epoch 38/200\n",
      "4/4 [==============================] - 0s 25ms/step - loss: 0.2902 - mean_absolute_error: 0.2902 - val_loss: 0.6890 - val_mean_absolute_error: 0.6890\n",
      "Epoch 39/200\n",
      "4/4 [==============================] - 0s 23ms/step - loss: 0.2871 - mean_absolute_error: 0.2871 - val_loss: 0.6911 - val_mean_absolute_error: 0.6911\n",
      "Epoch 40/200\n",
      "4/4 [==============================] - 0s 23ms/step - loss: 0.2699 - mean_absolute_error: 0.2699 - val_loss: 0.6869 - val_mean_absolute_error: 0.6869\n",
      "Epoch 41/200\n",
      "4/4 [==============================] - 0s 25ms/step - loss: 0.2899 - mean_absolute_error: 0.2899 - val_loss: 0.6717 - val_mean_absolute_error: 0.6717\n",
      "Epoch 42/200\n",
      "4/4 [==============================] - 0s 24ms/step - loss: 0.2928 - mean_absolute_error: 0.2928 - val_loss: 0.6551 - val_mean_absolute_error: 0.6551\n",
      "Epoch 43/200\n",
      "4/4 [==============================] - 0s 23ms/step - loss: 0.2720 - mean_absolute_error: 0.2720 - val_loss: 0.6373 - val_mean_absolute_error: 0.6373\n",
      "Epoch 44/200\n",
      "4/4 [==============================] - 0s 23ms/step - loss: 0.2885 - mean_absolute_error: 0.2885 - val_loss: 0.6234 - val_mean_absolute_error: 0.6234\n",
      "Epoch 45/200\n",
      "4/4 [==============================] - 0s 23ms/step - loss: 0.2925 - mean_absolute_error: 0.2925 - val_loss: 0.6141 - val_mean_absolute_error: 0.6141\n",
      "Epoch 46/200\n",
      "4/4 [==============================] - 0s 23ms/step - loss: 0.2595 - mean_absolute_error: 0.2595 - val_loss: 0.6103 - val_mean_absolute_error: 0.6103\n",
      "Epoch 47/200\n",
      "4/4 [==============================] - 0s 24ms/step - loss: 0.2569 - mean_absolute_error: 0.2569 - val_loss: 0.6024 - val_mean_absolute_error: 0.6024\n",
      "Epoch 48/200\n",
      "4/4 [==============================] - 0s 24ms/step - loss: 0.2687 - mean_absolute_error: 0.2687 - val_loss: 0.5835 - val_mean_absolute_error: 0.5835\n",
      "Epoch 49/200\n",
      "4/4 [==============================] - 0s 23ms/step - loss: 0.2642 - mean_absolute_error: 0.2642 - val_loss: 0.5684 - val_mean_absolute_error: 0.5684\n",
      "Epoch 50/200\n",
      "4/4 [==============================] - 0s 23ms/step - loss: 0.2542 - mean_absolute_error: 0.2542 - val_loss: 0.5552 - val_mean_absolute_error: 0.5552\n",
      "Epoch 51/200\n",
      "4/4 [==============================] - 0s 23ms/step - loss: 0.2599 - mean_absolute_error: 0.2599 - val_loss: 0.5515 - val_mean_absolute_error: 0.5515\n",
      "Epoch 52/200\n",
      "4/4 [==============================] - 0s 23ms/step - loss: 0.2727 - mean_absolute_error: 0.2727 - val_loss: 0.5536 - val_mean_absolute_error: 0.5536\n",
      "Epoch 53/200\n",
      "4/4 [==============================] - 0s 23ms/step - loss: 0.2661 - mean_absolute_error: 0.2661 - val_loss: 0.5529 - val_mean_absolute_error: 0.5529\n",
      "Epoch 54/200\n",
      "4/4 [==============================] - 0s 25ms/step - loss: 0.2530 - mean_absolute_error: 0.2530 - val_loss: 0.5490 - val_mean_absolute_error: 0.5490\n",
      "Epoch 55/200\n",
      "4/4 [==============================] - 0s 24ms/step - loss: 0.2591 - mean_absolute_error: 0.2591 - val_loss: 0.5479 - val_mean_absolute_error: 0.5479\n",
      "Epoch 56/200\n",
      "4/4 [==============================] - 0s 22ms/step - loss: 0.2502 - mean_absolute_error: 0.2502 - val_loss: 0.5454 - val_mean_absolute_error: 0.5454\n",
      "Epoch 57/200\n",
      "4/4 [==============================] - 0s 22ms/step - loss: 0.2550 - mean_absolute_error: 0.2550 - val_loss: 0.5377 - val_mean_absolute_error: 0.5377\n",
      "Epoch 58/200\n",
      "4/4 [==============================] - 0s 23ms/step - loss: 0.2644 - mean_absolute_error: 0.2644 - val_loss: 0.5376 - val_mean_absolute_error: 0.5376\n",
      "Epoch 59/200\n",
      "4/4 [==============================] - 0s 23ms/step - loss: 0.2520 - mean_absolute_error: 0.2520 - val_loss: 0.5403 - val_mean_absolute_error: 0.5403\n",
      "Epoch 60/200\n",
      "4/4 [==============================] - 0s 23ms/step - loss: 0.2383 - mean_absolute_error: 0.2383 - val_loss: 0.5427 - val_mean_absolute_error: 0.5427\n",
      "Epoch 61/200\n",
      "4/4 [==============================] - 0s 24ms/step - loss: 0.2420 - mean_absolute_error: 0.2420 - val_loss: 0.5430 - val_mean_absolute_error: 0.5430\n",
      "Epoch 62/200\n",
      "4/4 [==============================] - 0s 24ms/step - loss: 0.2456 - mean_absolute_error: 0.2456 - val_loss: 0.5491 - val_mean_absolute_error: 0.5491\n",
      "Epoch 63/200\n",
      "4/4 [==============================] - 0s 24ms/step - loss: 0.2426 - mean_absolute_error: 0.2426 - val_loss: 0.5575 - val_mean_absolute_error: 0.5575\n",
      "Epoch 64/200\n",
      "4/4 [==============================] - 0s 24ms/step - loss: 0.2339 - mean_absolute_error: 0.2339 - val_loss: 0.5513 - val_mean_absolute_error: 0.5513\n",
      "Epoch 65/200\n",
      "4/4 [==============================] - 0s 22ms/step - loss: 0.2459 - mean_absolute_error: 0.2459 - val_loss: 0.5358 - val_mean_absolute_error: 0.5358\n",
      "Epoch 66/200\n",
      "4/4 [==============================] - 0s 24ms/step - loss: 0.2310 - mean_absolute_error: 0.2310 - val_loss: 0.5194 - val_mean_absolute_error: 0.5194\n",
      "Epoch 67/200\n",
      "4/4 [==============================] - 0s 23ms/step - loss: 0.2412 - mean_absolute_error: 0.2412 - val_loss: 0.5056 - val_mean_absolute_error: 0.5056\n",
      "Epoch 68/200\n",
      "4/4 [==============================] - 0s 24ms/step - loss: 0.2250 - mean_absolute_error: 0.2250 - val_loss: 0.5022 - val_mean_absolute_error: 0.5022\n",
      "Epoch 69/200\n",
      "4/4 [==============================] - 0s 23ms/step - loss: 0.2419 - mean_absolute_error: 0.2419 - val_loss: 0.4963 - val_mean_absolute_error: 0.4963\n",
      "Epoch 70/200\n",
      "4/4 [==============================] - 0s 23ms/step - loss: 0.2234 - mean_absolute_error: 0.2234 - val_loss: 0.4954 - val_mean_absolute_error: 0.4954\n",
      "Epoch 71/200\n",
      "4/4 [==============================] - 0s 23ms/step - loss: 0.2348 - mean_absolute_error: 0.2348 - val_loss: 0.4977 - val_mean_absolute_error: 0.4977\n",
      "Epoch 72/200\n",
      "4/4 [==============================] - 0s 24ms/step - loss: 0.2322 - mean_absolute_error: 0.2322 - val_loss: 0.4930 - val_mean_absolute_error: 0.4930\n",
      "Epoch 73/200\n",
      "4/4 [==============================] - 0s 23ms/step - loss: 0.2279 - mean_absolute_error: 0.2279 - val_loss: 0.4900 - val_mean_absolute_error: 0.4900\n",
      "Epoch 74/200\n",
      "4/4 [==============================] - 0s 23ms/step - loss: 0.2392 - mean_absolute_error: 0.2392 - val_loss: 0.4932 - val_mean_absolute_error: 0.4932\n",
      "Epoch 75/200\n",
      "4/4 [==============================] - 0s 23ms/step - loss: 0.2313 - mean_absolute_error: 0.2313 - val_loss: 0.4820 - val_mean_absolute_error: 0.4820\n",
      "Epoch 76/200\n",
      "4/4 [==============================] - 0s 24ms/step - loss: 0.2231 - mean_absolute_error: 0.2231 - val_loss: 0.4756 - val_mean_absolute_error: 0.4756\n",
      "Epoch 77/200\n",
      "4/4 [==============================] - 0s 24ms/step - loss: 0.2354 - mean_absolute_error: 0.2354 - val_loss: 0.4698 - val_mean_absolute_error: 0.4698\n",
      "Epoch 78/200\n",
      "4/4 [==============================] - 0s 23ms/step - loss: 0.2324 - mean_absolute_error: 0.2324 - val_loss: 0.4621 - val_mean_absolute_error: 0.4621\n",
      "Epoch 79/200\n",
      "4/4 [==============================] - 0s 23ms/step - loss: 0.2251 - mean_absolute_error: 0.2251 - val_loss: 0.4514 - val_mean_absolute_error: 0.4514\n",
      "Epoch 80/200\n",
      "4/4 [==============================] - 0s 23ms/step - loss: 0.2227 - mean_absolute_error: 0.2227 - val_loss: 0.4352 - val_mean_absolute_error: 0.4352\n",
      "Epoch 81/200\n",
      "4/4 [==============================] - 0s 23ms/step - loss: 0.2184 - mean_absolute_error: 0.2184 - val_loss: 0.4213 - val_mean_absolute_error: 0.4213\n",
      "Epoch 82/200\n",
      "4/4 [==============================] - 0s 23ms/step - loss: 0.2214 - mean_absolute_error: 0.2214 - val_loss: 0.4093 - val_mean_absolute_error: 0.4093\n",
      "Epoch 83/200\n",
      "4/4 [==============================] - 0s 23ms/step - loss: 0.2152 - mean_absolute_error: 0.2152 - val_loss: 0.4053 - val_mean_absolute_error: 0.4053\n",
      "Epoch 84/200\n",
      "4/4 [==============================] - 0s 24ms/step - loss: 0.2126 - mean_absolute_error: 0.2126 - val_loss: 0.4065 - val_mean_absolute_error: 0.4065\n",
      "Epoch 85/200\n",
      "4/4 [==============================] - 0s 23ms/step - loss: 0.2023 - mean_absolute_error: 0.2023 - val_loss: 0.4093 - val_mean_absolute_error: 0.4093\n",
      "Epoch 86/200\n",
      "4/4 [==============================] - 0s 23ms/step - loss: 0.2194 - mean_absolute_error: 0.2194 - val_loss: 0.4112 - val_mean_absolute_error: 0.4112\n",
      "Epoch 87/200\n",
      "4/4 [==============================] - 0s 22ms/step - loss: 0.2191 - mean_absolute_error: 0.2191 - val_loss: 0.4145 - val_mean_absolute_error: 0.4145\n",
      "Epoch 88/200\n",
      "4/4 [==============================] - 0s 23ms/step - loss: 0.2107 - mean_absolute_error: 0.2107 - val_loss: 0.4139 - val_mean_absolute_error: 0.4139\n",
      "Epoch 89/200\n",
      "4/4 [==============================] - 0s 23ms/step - loss: 0.2184 - mean_absolute_error: 0.2184 - val_loss: 0.4174 - val_mean_absolute_error: 0.4174\n",
      "Epoch 90/200\n",
      "4/4 [==============================] - 0s 23ms/step - loss: 0.1997 - mean_absolute_error: 0.1997 - val_loss: 0.4139 - val_mean_absolute_error: 0.4139\n",
      "Epoch 91/200\n",
      "4/4 [==============================] - 0s 23ms/step - loss: 0.2185 - mean_absolute_error: 0.2185 - val_loss: 0.4062 - val_mean_absolute_error: 0.4062\n",
      "Epoch 92/200\n",
      "4/4 [==============================] - 0s 25ms/step - loss: 0.2253 - mean_absolute_error: 0.2253 - val_loss: 0.3911 - val_mean_absolute_error: 0.3911\n",
      "Epoch 93/200\n",
      "4/4 [==============================] - 0s 23ms/step - loss: 0.2180 - mean_absolute_error: 0.2180 - val_loss: 0.3725 - val_mean_absolute_error: 0.3725\n",
      "Epoch 94/200\n",
      "4/4 [==============================] - 0s 23ms/step - loss: 0.2108 - mean_absolute_error: 0.2108 - val_loss: 0.3722 - val_mean_absolute_error: 0.3722\n",
      "Epoch 95/200\n",
      "4/4 [==============================] - 0s 23ms/step - loss: 0.2244 - mean_absolute_error: 0.2244 - val_loss: 0.3683 - val_mean_absolute_error: 0.3683\n",
      "Epoch 96/200\n",
      "4/4 [==============================] - 0s 23ms/step - loss: 0.2277 - mean_absolute_error: 0.2277 - val_loss: 0.3613 - val_mean_absolute_error: 0.3613\n",
      "Epoch 97/200\n",
      "4/4 [==============================] - 0s 23ms/step - loss: 0.2243 - mean_absolute_error: 0.2243 - val_loss: 0.3447 - val_mean_absolute_error: 0.3447\n",
      "Epoch 98/200\n",
      "4/4 [==============================] - 0s 23ms/step - loss: 0.2127 - mean_absolute_error: 0.2127 - val_loss: 0.3235 - val_mean_absolute_error: 0.3235\n",
      "Epoch 99/200\n",
      "4/4 [==============================] - 0s 23ms/step - loss: 0.2226 - mean_absolute_error: 0.2226 - val_loss: 0.3010 - val_mean_absolute_error: 0.3010\n",
      "Epoch 100/200\n",
      "4/4 [==============================] - 0s 24ms/step - loss: 0.2145 - mean_absolute_error: 0.2145 - val_loss: 0.2892 - val_mean_absolute_error: 0.2892\n",
      "Epoch 101/200\n",
      "4/4 [==============================] - 0s 23ms/step - loss: 0.1964 - mean_absolute_error: 0.1964 - val_loss: 0.2917 - val_mean_absolute_error: 0.2917\n",
      "Epoch 102/200\n",
      "4/4 [==============================] - 0s 23ms/step - loss: 0.2213 - mean_absolute_error: 0.2213 - val_loss: 0.3068 - val_mean_absolute_error: 0.3068\n",
      "Epoch 103/200\n",
      "4/4 [==============================] - 0s 24ms/step - loss: 0.2072 - mean_absolute_error: 0.2072 - val_loss: 0.3148 - val_mean_absolute_error: 0.3148\n",
      "Epoch 104/200\n",
      "4/4 [==============================] - 0s 24ms/step - loss: 0.1971 - mean_absolute_error: 0.1971 - val_loss: 0.3300 - val_mean_absolute_error: 0.3300\n",
      "Epoch 105/200\n",
      "4/4 [==============================] - 0s 24ms/step - loss: 0.2064 - mean_absolute_error: 0.2064 - val_loss: 0.3362 - val_mean_absolute_error: 0.3362\n",
      "Epoch 106/200\n",
      "4/4 [==============================] - 0s 23ms/step - loss: 0.2122 - mean_absolute_error: 0.2122 - val_loss: 0.3325 - val_mean_absolute_error: 0.3325\n",
      "Epoch 107/200\n",
      "4/4 [==============================] - 0s 23ms/step - loss: 0.2074 - mean_absolute_error: 0.2074 - val_loss: 0.3345 - val_mean_absolute_error: 0.3345\n",
      "Epoch 108/200\n",
      "4/4 [==============================] - 0s 23ms/step - loss: 0.2004 - mean_absolute_error: 0.2004 - val_loss: 0.3315 - val_mean_absolute_error: 0.3315\n",
      "Epoch 109/200\n",
      "4/4 [==============================] - 0s 24ms/step - loss: 0.1899 - mean_absolute_error: 0.1899 - val_loss: 0.3241 - val_mean_absolute_error: 0.3241\n",
      "Epoch 110/200\n",
      "4/4 [==============================] - 0s 25ms/step - loss: 0.2000 - mean_absolute_error: 0.2000 - val_loss: 0.3220 - val_mean_absolute_error: 0.3220\n",
      "Epoch 111/200\n",
      "4/4 [==============================] - 0s 24ms/step - loss: 0.1960 - mean_absolute_error: 0.1960 - val_loss: 0.3213 - val_mean_absolute_error: 0.3213\n",
      "Epoch 112/200\n",
      "4/4 [==============================] - 0s 23ms/step - loss: 0.2054 - mean_absolute_error: 0.2054 - val_loss: 0.3274 - val_mean_absolute_error: 0.3274\n",
      "Epoch 113/200\n",
      "4/4 [==============================] - 0s 23ms/step - loss: 0.2005 - mean_absolute_error: 0.2005 - val_loss: 0.3298 - val_mean_absolute_error: 0.3298\n",
      "Epoch 114/200\n",
      "4/4 [==============================] - 0s 24ms/step - loss: 0.2070 - mean_absolute_error: 0.2070 - val_loss: 0.3270 - val_mean_absolute_error: 0.3270\n",
      "Epoch 115/200\n",
      "4/4 [==============================] - 0s 25ms/step - loss: 0.1919 - mean_absolute_error: 0.1919 - val_loss: 0.3283 - val_mean_absolute_error: 0.3283\n",
      "Epoch 116/200\n",
      "4/4 [==============================] - 0s 23ms/step - loss: 0.2053 - mean_absolute_error: 0.2053 - val_loss: 0.3338 - val_mean_absolute_error: 0.3338\n",
      "Epoch 117/200\n",
      "4/4 [==============================] - 0s 22ms/step - loss: 0.1924 - mean_absolute_error: 0.1924 - val_loss: 0.3235 - val_mean_absolute_error: 0.3235\n",
      "Epoch 118/200\n",
      "4/4 [==============================] - 0s 23ms/step - loss: 0.1923 - mean_absolute_error: 0.1923 - val_loss: 0.3183 - val_mean_absolute_error: 0.3183\n",
      "Epoch 119/200\n",
      "4/4 [==============================] - 0s 24ms/step - loss: 0.2007 - mean_absolute_error: 0.2007 - val_loss: 0.3093 - val_mean_absolute_error: 0.3093\n",
      "Epoch 120/200\n",
      "4/4 [==============================] - 0s 25ms/step - loss: 0.1896 - mean_absolute_error: 0.1896 - val_loss: 0.3032 - val_mean_absolute_error: 0.3032\n",
      "Epoch 121/200\n",
      "4/4 [==============================] - 0s 24ms/step - loss: 0.1932 - mean_absolute_error: 0.1932 - val_loss: 0.2962 - val_mean_absolute_error: 0.2962\n",
      "Epoch 122/200\n",
      "4/4 [==============================] - 0s 23ms/step - loss: 0.2036 - mean_absolute_error: 0.2036 - val_loss: 0.2826 - val_mean_absolute_error: 0.2826\n",
      "Epoch 123/200\n",
      "4/4 [==============================] - 0s 23ms/step - loss: 0.1988 - mean_absolute_error: 0.1988 - val_loss: 0.2738 - val_mean_absolute_error: 0.2738\n",
      "Epoch 124/200\n",
      "4/4 [==============================] - 0s 24ms/step - loss: 0.2119 - mean_absolute_error: 0.2119 - val_loss: 0.2679 - val_mean_absolute_error: 0.2679\n",
      "Epoch 125/200\n",
      "4/4 [==============================] - 0s 23ms/step - loss: 0.1891 - mean_absolute_error: 0.1891 - val_loss: 0.2636 - val_mean_absolute_error: 0.2636\n",
      "Epoch 126/200\n",
      "4/4 [==============================] - 0s 23ms/step - loss: 0.2026 - mean_absolute_error: 0.2026 - val_loss: 0.2518 - val_mean_absolute_error: 0.2518\n",
      "Epoch 127/200\n",
      "4/4 [==============================] - 0s 23ms/step - loss: 0.1929 - mean_absolute_error: 0.1929 - val_loss: 0.2482 - val_mean_absolute_error: 0.2482\n",
      "Epoch 128/200\n",
      "4/4 [==============================] - 0s 22ms/step - loss: 0.1946 - mean_absolute_error: 0.1946 - val_loss: 0.2435 - val_mean_absolute_error: 0.2435\n",
      "Epoch 129/200\n",
      "4/4 [==============================] - 0s 22ms/step - loss: 0.1930 - mean_absolute_error: 0.1930 - val_loss: 0.2400 - val_mean_absolute_error: 0.2400\n",
      "Epoch 130/200\n",
      "4/4 [==============================] - 0s 24ms/step - loss: 0.1964 - mean_absolute_error: 0.1964 - val_loss: 0.2408 - val_mean_absolute_error: 0.2408\n",
      "Epoch 131/200\n",
      "4/4 [==============================] - 0s 24ms/step - loss: 0.1934 - mean_absolute_error: 0.1934 - val_loss: 0.2393 - val_mean_absolute_error: 0.2393\n",
      "Epoch 132/200\n",
      "4/4 [==============================] - 0s 23ms/step - loss: 0.1775 - mean_absolute_error: 0.1775 - val_loss: 0.2372 - val_mean_absolute_error: 0.2372\n",
      "Epoch 133/200\n",
      "4/4 [==============================] - 0s 23ms/step - loss: 0.2035 - mean_absolute_error: 0.2035 - val_loss: 0.2352 - val_mean_absolute_error: 0.2352\n",
      "Epoch 134/200\n",
      "4/4 [==============================] - 0s 23ms/step - loss: 0.1986 - mean_absolute_error: 0.1986 - val_loss: 0.2363 - val_mean_absolute_error: 0.2363\n",
      "Epoch 135/200\n",
      "4/4 [==============================] - 0s 23ms/step - loss: 0.2029 - mean_absolute_error: 0.2029 - val_loss: 0.2349 - val_mean_absolute_error: 0.2349\n",
      "Epoch 136/200\n",
      "4/4 [==============================] - 0s 23ms/step - loss: 0.1916 - mean_absolute_error: 0.1916 - val_loss: 0.2313 - val_mean_absolute_error: 0.2313\n",
      "Epoch 137/200\n",
      "4/4 [==============================] - 0s 26ms/step - loss: 0.1911 - mean_absolute_error: 0.1911 - val_loss: 0.2289 - val_mean_absolute_error: 0.2289\n",
      "Epoch 138/200\n",
      "4/4 [==============================] - 0s 24ms/step - loss: 0.1889 - mean_absolute_error: 0.1889 - val_loss: 0.2343 - val_mean_absolute_error: 0.2343\n",
      "Epoch 139/200\n",
      "4/4 [==============================] - 0s 24ms/step - loss: 0.1907 - mean_absolute_error: 0.1907 - val_loss: 0.2544 - val_mean_absolute_error: 0.2544\n",
      "Epoch 140/200\n",
      "4/4 [==============================] - 0s 25ms/step - loss: 0.1867 - mean_absolute_error: 0.1867 - val_loss: 0.2748 - val_mean_absolute_error: 0.2748\n",
      "Epoch 141/200\n",
      "4/4 [==============================] - 0s 23ms/step - loss: 0.1873 - mean_absolute_error: 0.1873 - val_loss: 0.2793 - val_mean_absolute_error: 0.2793\n",
      "Epoch 142/200\n",
      "4/4 [==============================] - 0s 24ms/step - loss: 0.1766 - mean_absolute_error: 0.1766 - val_loss: 0.2684 - val_mean_absolute_error: 0.2684\n",
      "Epoch 143/200\n",
      "4/4 [==============================] - 0s 23ms/step - loss: 0.1843 - mean_absolute_error: 0.1843 - val_loss: 0.2546 - val_mean_absolute_error: 0.2546\n",
      "Epoch 144/200\n",
      "4/4 [==============================] - 0s 23ms/step - loss: 0.1717 - mean_absolute_error: 0.1717 - val_loss: 0.2363 - val_mean_absolute_error: 0.2363\n",
      "Epoch 145/200\n",
      "4/4 [==============================] - 0s 23ms/step - loss: 0.1992 - mean_absolute_error: 0.1992 - val_loss: 0.2332 - val_mean_absolute_error: 0.2332\n",
      "Epoch 146/200\n",
      "4/4 [==============================] - 0s 23ms/step - loss: 0.1797 - mean_absolute_error: 0.1797 - val_loss: 0.2389 - val_mean_absolute_error: 0.2389\n",
      "Epoch 147/200\n",
      "4/4 [==============================] - 0s 23ms/step - loss: 0.1881 - mean_absolute_error: 0.1881 - val_loss: 0.2437 - val_mean_absolute_error: 0.2437\n",
      "Epoch 148/200\n",
      "4/4 [==============================] - 0s 23ms/step - loss: 0.1863 - mean_absolute_error: 0.1863 - val_loss: 0.2457 - val_mean_absolute_error: 0.2457\n",
      "Epoch 149/200\n",
      "4/4 [==============================] - 0s 23ms/step - loss: 0.1722 - mean_absolute_error: 0.1722 - val_loss: 0.2546 - val_mean_absolute_error: 0.2546\n",
      "Epoch 150/200\n",
      "4/4 [==============================] - 0s 24ms/step - loss: 0.1886 - mean_absolute_error: 0.1886 - val_loss: 0.2569 - val_mean_absolute_error: 0.2569\n",
      "Epoch 151/200\n",
      "4/4 [==============================] - 0s 23ms/step - loss: 0.1853 - mean_absolute_error: 0.1853 - val_loss: 0.2543 - val_mean_absolute_error: 0.2543\n",
      "Epoch 152/200\n",
      "4/4 [==============================] - 0s 24ms/step - loss: 0.1840 - mean_absolute_error: 0.1840 - val_loss: 0.2392 - val_mean_absolute_error: 0.2392\n",
      "Epoch 153/200\n",
      "4/4 [==============================] - 0s 24ms/step - loss: 0.1869 - mean_absolute_error: 0.1869 - val_loss: 0.2375 - val_mean_absolute_error: 0.2375\n",
      "Epoch 154/200\n",
      "4/4 [==============================] - 0s 25ms/step - loss: 0.1883 - mean_absolute_error: 0.1883 - val_loss: 0.2375 - val_mean_absolute_error: 0.2375\n",
      "Epoch 155/200\n",
      "4/4 [==============================] - 0s 23ms/step - loss: 0.1881 - mean_absolute_error: 0.1881 - val_loss: 0.2382 - val_mean_absolute_error: 0.2382\n",
      "Epoch 156/200\n",
      "4/4 [==============================] - 0s 24ms/step - loss: 0.1852 - mean_absolute_error: 0.1852 - val_loss: 0.2419 - val_mean_absolute_error: 0.2419\n",
      "Epoch 157/200\n",
      "4/4 [==============================] - 0s 23ms/step - loss: 0.1779 - mean_absolute_error: 0.1779 - val_loss: 0.2457 - val_mean_absolute_error: 0.2457\n",
      "Epoch 158/200\n",
      "4/4 [==============================] - 0s 23ms/step - loss: 0.1800 - mean_absolute_error: 0.1800 - val_loss: 0.2558 - val_mean_absolute_error: 0.2558\n",
      "Epoch 159/200\n",
      "4/4 [==============================] - 0s 23ms/step - loss: 0.1789 - mean_absolute_error: 0.1789 - val_loss: 0.2597 - val_mean_absolute_error: 0.2597\n",
      "Epoch 160/200\n",
      "4/4 [==============================] - 0s 25ms/step - loss: 0.1855 - mean_absolute_error: 0.1855 - val_loss: 0.2550 - val_mean_absolute_error: 0.2550\n",
      "Epoch 161/200\n",
      "4/4 [==============================] - 0s 24ms/step - loss: 0.1802 - mean_absolute_error: 0.1802 - val_loss: 0.2587 - val_mean_absolute_error: 0.2587\n",
      "Epoch 162/200\n",
      "4/4 [==============================] - 0s 23ms/step - loss: 0.1770 - mean_absolute_error: 0.1770 - val_loss: 0.2466 - val_mean_absolute_error: 0.2466\n",
      "Epoch 163/200\n",
      "4/4 [==============================] - 0s 25ms/step - loss: 0.1957 - mean_absolute_error: 0.1957 - val_loss: 0.2448 - val_mean_absolute_error: 0.2448\n",
      "Epoch 164/200\n",
      "4/4 [==============================] - 0s 25ms/step - loss: 0.1783 - mean_absolute_error: 0.1783 - val_loss: 0.2460 - val_mean_absolute_error: 0.2460\n",
      "Epoch 165/200\n",
      "4/4 [==============================] - 0s 24ms/step - loss: 0.1744 - mean_absolute_error: 0.1744 - val_loss: 0.2392 - val_mean_absolute_error: 0.2392\n",
      "Epoch 166/200\n",
      "4/4 [==============================] - 0s 24ms/step - loss: 0.1747 - mean_absolute_error: 0.1747 - val_loss: 0.2318 - val_mean_absolute_error: 0.2318\n",
      "Epoch 167/200\n",
      "4/4 [==============================] - 0s 24ms/step - loss: 0.1855 - mean_absolute_error: 0.1855 - val_loss: 0.2304 - val_mean_absolute_error: 0.2304\n",
      "Epoch 168/200\n",
      "4/4 [==============================] - 0s 25ms/step - loss: 0.1715 - mean_absolute_error: 0.1715 - val_loss: 0.2303 - val_mean_absolute_error: 0.2303\n",
      "Epoch 169/200\n",
      "4/4 [==============================] - 0s 23ms/step - loss: 0.1881 - mean_absolute_error: 0.1881 - val_loss: 0.2293 - val_mean_absolute_error: 0.2293\n",
      "Epoch 170/200\n",
      "4/4 [==============================] - 0s 23ms/step - loss: 0.1769 - mean_absolute_error: 0.1769 - val_loss: 0.2309 - val_mean_absolute_error: 0.2309\n",
      "Epoch 171/200\n",
      "4/4 [==============================] - 0s 24ms/step - loss: 0.1897 - mean_absolute_error: 0.1897 - val_loss: 0.2387 - val_mean_absolute_error: 0.2387\n",
      "Epoch 172/200\n",
      "4/4 [==============================] - 0s 24ms/step - loss: 0.1933 - mean_absolute_error: 0.1933 - val_loss: 0.2480 - val_mean_absolute_error: 0.2480\n",
      "Epoch 173/200\n",
      "4/4 [==============================] - 0s 23ms/step - loss: 0.1749 - mean_absolute_error: 0.1749 - val_loss: 0.2457 - val_mean_absolute_error: 0.2457\n",
      "Epoch 174/200\n",
      "4/4 [==============================] - 0s 24ms/step - loss: 0.1688 - mean_absolute_error: 0.1688 - val_loss: 0.2418 - val_mean_absolute_error: 0.2418\n",
      "Epoch 175/200\n",
      "4/4 [==============================] - 0s 23ms/step - loss: 0.1836 - mean_absolute_error: 0.1836 - val_loss: 0.2428 - val_mean_absolute_error: 0.2428\n",
      "Epoch 176/200\n",
      "4/4 [==============================] - 0s 23ms/step - loss: 0.1727 - mean_absolute_error: 0.1727 - val_loss: 0.2460 - val_mean_absolute_error: 0.2460\n",
      "Epoch 177/200\n",
      "4/4 [==============================] - 0s 24ms/step - loss: 0.1797 - mean_absolute_error: 0.1797 - val_loss: 0.2505 - val_mean_absolute_error: 0.2505\n",
      "Epoch 178/200\n",
      "4/4 [==============================] - 0s 23ms/step - loss: 0.1866 - mean_absolute_error: 0.1866 - val_loss: 0.2489 - val_mean_absolute_error: 0.2489\n",
      "Epoch 179/200\n",
      "4/4 [==============================] - 0s 23ms/step - loss: 0.1725 - mean_absolute_error: 0.1725 - val_loss: 0.2456 - val_mean_absolute_error: 0.2456\n",
      "Epoch 180/200\n",
      "4/4 [==============================] - 0s 23ms/step - loss: 0.1766 - mean_absolute_error: 0.1766 - val_loss: 0.2383 - val_mean_absolute_error: 0.2383\n",
      "Epoch 181/200\n",
      "4/4 [==============================] - 0s 23ms/step - loss: 0.1745 - mean_absolute_error: 0.1745 - val_loss: 0.2327 - val_mean_absolute_error: 0.2327\n",
      "Epoch 182/200\n",
      "4/4 [==============================] - 0s 23ms/step - loss: 0.1801 - mean_absolute_error: 0.1801 - val_loss: 0.2330 - val_mean_absolute_error: 0.2330\n",
      "Epoch 183/200\n",
      "4/4 [==============================] - 0s 24ms/step - loss: 0.1577 - mean_absolute_error: 0.1577 - val_loss: 0.2391 - val_mean_absolute_error: 0.2391\n",
      "Epoch 184/200\n",
      "4/4 [==============================] - 0s 24ms/step - loss: 0.1758 - mean_absolute_error: 0.1758 - val_loss: 0.2388 - val_mean_absolute_error: 0.2388\n",
      "Epoch 185/200\n",
      "4/4 [==============================] - 0s 24ms/step - loss: 0.1748 - mean_absolute_error: 0.1748 - val_loss: 0.2381 - val_mean_absolute_error: 0.2381\n",
      "Epoch 186/200\n",
      "4/4 [==============================] - 0s 24ms/step - loss: 0.1604 - mean_absolute_error: 0.1604 - val_loss: 0.2361 - val_mean_absolute_error: 0.2361\n",
      "Epoch 187/200\n",
      "4/4 [==============================] - 0s 23ms/step - loss: 0.1601 - mean_absolute_error: 0.1601 - val_loss: 0.2347 - val_mean_absolute_error: 0.2347\n",
      "Epoch 188/200\n",
      "4/4 [==============================] - 0s 26ms/step - loss: 0.1765 - mean_absolute_error: 0.1765 - val_loss: 0.2314 - val_mean_absolute_error: 0.2314\n",
      "Epoch 189/200\n",
      "4/4 [==============================] - 0s 24ms/step - loss: 0.1715 - mean_absolute_error: 0.1715 - val_loss: 0.2288 - val_mean_absolute_error: 0.2288\n",
      "Epoch 190/200\n",
      "4/4 [==============================] - 0s 25ms/step - loss: 0.1678 - mean_absolute_error: 0.1678 - val_loss: 0.2268 - val_mean_absolute_error: 0.2268\n",
      "Epoch 191/200\n",
      "4/4 [==============================] - 0s 23ms/step - loss: 0.1651 - mean_absolute_error: 0.1651 - val_loss: 0.2281 - val_mean_absolute_error: 0.2281\n",
      "Epoch 192/200\n",
      "4/4 [==============================] - 0s 25ms/step - loss: 0.1632 - mean_absolute_error: 0.1632 - val_loss: 0.2281 - val_mean_absolute_error: 0.2281\n",
      "Epoch 193/200\n",
      "4/4 [==============================] - 0s 23ms/step - loss: 0.1648 - mean_absolute_error: 0.1648 - val_loss: 0.2273 - val_mean_absolute_error: 0.2273\n",
      "Epoch 194/200\n",
      "4/4 [==============================] - 0s 23ms/step - loss: 0.1570 - mean_absolute_error: 0.1570 - val_loss: 0.2261 - val_mean_absolute_error: 0.2261\n",
      "Epoch 195/200\n",
      "4/4 [==============================] - 0s 24ms/step - loss: 0.1614 - mean_absolute_error: 0.1614 - val_loss: 0.2283 - val_mean_absolute_error: 0.2283\n",
      "Epoch 196/200\n",
      "4/4 [==============================] - 0s 23ms/step - loss: 0.1786 - mean_absolute_error: 0.1786 - val_loss: 0.2361 - val_mean_absolute_error: 0.2361\n",
      "Epoch 197/200\n",
      "4/4 [==============================] - 0s 23ms/step - loss: 0.1816 - mean_absolute_error: 0.1816 - val_loss: 0.2447 - val_mean_absolute_error: 0.2447\n",
      "Epoch 198/200\n",
      "4/4 [==============================] - 0s 23ms/step - loss: 0.1735 - mean_absolute_error: 0.1735 - val_loss: 0.2335 - val_mean_absolute_error: 0.2335\n",
      "Epoch 199/200\n",
      "4/4 [==============================] - 0s 23ms/step - loss: 0.1671 - mean_absolute_error: 0.1671 - val_loss: 0.2333 - val_mean_absolute_error: 0.2333\n",
      "Epoch 200/200\n",
      "4/4 [==============================] - 0s 24ms/step - loss: 0.1672 - mean_absolute_error: 0.1672 - val_loss: 0.2391 - val_mean_absolute_error: 0.2391\n",
      "CPU times: user 28.4 s, sys: 7.91 s, total: 36.3 s\n",
      "Wall time: 20.2 s\n"
     ]
    }
   ],
   "source": [
    "%%time\n",
    "model_store = Path(f'Result/saved_weights_{phenotype}.hdf5')\n",
    "\n",
    "# save the best performing model\n",
    "checkpointer = ModelCheckpoint(\n",
    "    filepath=model_store, \n",
    "    monitor='val_loss',\n",
    "    verbose=0, \n",
    "    save_best_only=True\n",
    ")\n",
    "\n",
    "# Early stopping is assuming data normalized to [0-1] range\n",
    "early_stopper = tf.keras.callbacks.EarlyStopping(\n",
    "    monitor='val_loss',\n",
    "    patience=50,\n",
    "    min_delta = 0.01,\n",
    ")\n",
    "\n",
    "st = time.time()\n",
    "# model training\n",
    "model.fit([x_train], y_train,\n",
    "          batch_size=60,\n",
    "          epochs=200, \n",
    "          verbose=1,\n",
    "          callbacks=[checkpointer],\n",
    "          validation_data=([x_valid], y_valid))\n",
    "rt = time.time()-st"
   ]
  },
  {
   "cell_type": "code",
   "execution_count": 11,
   "metadata": {},
   "outputs": [
    {
     "data": {
      "text/plain": [
       "20.24820852279663"
      ]
     },
     "execution_count": 11,
     "metadata": {},
     "output_type": "execute_result"
    }
   ],
   "source": [
    "rt"
   ]
  },
  {
   "cell_type": "code",
   "execution_count": 12,
   "metadata": {
    "tags": []
   },
   "outputs": [
    {
     "data": {
      "image/png": "[encoded data removed]",
      "text/plain": [
       "<Figure size 648x432 with 1 Axes>"
      ]
     },
     "metadata": {
      "needs_background": "light"
     },
     "output_type": "display_data"
    }
   ],
   "source": [
    "##### Step 6: plot train and validation loss #####\n",
    "history = model.history\n",
    "plt.plot(age_range*pd.Series(history.history['mean_absolute_error']))\n",
    "plt.plot(age_range*pd.Series(history.history['val_mean_absolute_error']))\n",
    "plt.title('model train vs validation loss')\n",
    "plt.ylabel('loss')\n",
    "plt.xlabel('epoch')\n",
    "plt.legend(['train', 'validation'], loc='upper right')\n",
    "plt.show()"
   ]
  },
  {
   "cell_type": "code",
   "execution_count": 13,
   "metadata": {},
   "outputs": [],
   "source": [
    "#### Step 7: test the final model #####\n",
    "final_model = load_model(model_store)\n",
    "x_test = x_valid\n",
    "y_test = y_valid\n",
    "y_scores = final_model.predict([x_test])\n",
    "y_scores = y_scores.reshape(y_scores.shape[0])\n",
    "vals_true = pd.Series(scaler.inverse_transform(y_valid.reshape(-1,1)).reshape(1,-1)[0])\n",
    "vals_pred = pd.Series(scaler.inverse_transform(y_scores.reshape(-1,1)).reshape(1,-1)[0])\n",
    "errors = vals_pred - vals_true"
   ]
  },
  {
   "cell_type": "code",
   "execution_count": 14,
   "metadata": {},
   "outputs": [
    {
     "name": "stdout",
     "output_type": "stream",
     "text": [
      "count    65.000000\n",
      "mean      0.215797\n",
      "std      14.220300\n",
      "min     -29.210220\n",
      "25%      -7.905365\n",
      "50%       0.743896\n",
      "75%       9.193230\n",
      "max      39.294212\n",
      "dtype: float64\n"
     ]
    },
    {
     "data": {
      "image/png": "[encoded data removed]",
      "text/plain": [
       "<Figure size 648x432 with 1 Axes>"
      ]
     },
     "metadata": {
      "needs_background": "light"
     },
     "output_type": "display_data"
    }
   ],
   "source": [
    "print(errors.describe())\n",
    "plt.hist(errors, bins=int(errors.max()-errors.min()))\n",
    "plt.title('Error Distribution')\n",
    "plt.xlabel('Actual - Predicted [Years]')\n",
    "plt.show()"
   ]
  },
  {
   "cell_type": "code",
   "execution_count": 15,
   "metadata": {},
   "outputs": [
    {
     "name": "stdout",
     "output_type": "stream",
     "text": [
      "count    65.000000\n",
      "mean     11.081193\n",
      "std       8.806404\n",
      "min       0.028870\n",
      "25%       4.327347\n",
      "50%       9.193230\n",
      "75%      16.666084\n",
      "max      39.294212\n",
      "dtype: float64\n"
     ]
    },
    {
     "data": {
      "image/png": "[encoded data removed]",
      "text/plain": [
       "<Figure size 648x432 with 1 Axes>"
      ]
     },
     "metadata": {
      "needs_background": "light"
     },
     "output_type": "display_data"
    }
   ],
   "source": [
    "print(errors.abs().describe())\n",
    "plt.hist(errors.abs(), bins=int(errors.abs().max()-errors.abs().min()))\n",
    "plt.title('Error Distribution (Abosolute Value)')\n",
    "plt.xlabel('Actual - Predicted [Years]')\n",
    "plt.show()"
   ]
  },
  {
   "cell_type": "code",
   "execution_count": 16,
   "metadata": {},
   "outputs": [
    {
     "name": "stdout",
     "output_type": "stream",
     "text": [
      "[ 0.55631572 31.57403731]\n"
     ]
    },
    {
     "data": {
      "image/png": "[encoded data removed]",
      "text/plain": [
       "<Figure size 648x432 with 1 Axes>"
      ]
     },
     "metadata": {
      "needs_background": "light"
     },
     "output_type": "display_data"
    }
   ],
   "source": [
    "plt.plot(vals_true, vals_pred,'b.')\n",
    "plt.axis('square')\n",
    "plt.xlim((40,95))\n",
    "plt.ylim((40,95))\n",
    "plt.xlabel('True Age')\n",
    "plt.ylabel('Predicted Age')\n",
    "plt.title('Prediction vs True')\n",
    "plt.plot([40,95],[40,95],'--k')\n",
    "coef = np.polyfit(vals_true, vals_pred, 1)\n",
    "print(coef)\n",
    "poly1d_fn = np.poly1d(coef)\n",
    "plt.plot([40,95], poly1d_fn([40,95]), '--b')\n",
    "plt.show()"
   ]
  },
  {
   "cell_type": "code",
   "execution_count": null,
   "metadata": {},
   "outputs": [],
   "source": []
  },
  {
   "cell_type": "code",
   "execution_count": null,
   "metadata": {},
   "outputs": [],
   "source": []
  }
 ],
 "metadata": {
  "kernelspec": {
   "display_name": "Python 3",
   "language": "python",
   "name": "python3"
  },
  "language_info": {
   "codemirror_mode": {
    "name": "ipython",
    "version": 3
   },
   "file_extension": ".py",
   "mimetype": "text/x-python",
   "name": "python",
   "nbconvert_exporter": "python",
   "pygments_lexer": "ipython3",
   "version": "3.9.6"
  }
 },
 "nbformat": 4,
 "nbformat_minor": 4
}
