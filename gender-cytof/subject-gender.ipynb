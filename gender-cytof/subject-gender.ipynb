{
 "cells": [
  {
   "cell_type": "markdown",
   "metadata": {},
   "source": [
    "# Predict `Subject Age`"
   ]
  },
  {
   "cell_type": "code",
   "execution_count": 189,
   "metadata": {},
   "outputs": [],
   "source": [
    "%matplotlib inline"
   ]
  },
  {
   "cell_type": "code",
   "execution_count": 238,
   "metadata": {},
   "outputs": [],
   "source": [
    "##### Step 1: import functions #####\n",
    "import tensorflow as tf\n",
    "from tensorflow.keras.layers import Dense, Flatten, BatchNormalization, Activation, Conv2D, AveragePooling2D, Input, Softmax, GlobalAveragePooling2D\n",
    "from tensorflow.keras.models import load_model, Model, Sequential\n",
    "from tensorflow.keras.optimizers import Adam\n",
    "from tensorflow.keras.callbacks import ModelCheckpoint, EarlyStopping\n",
    "from tensorflow.keras.losses import SparseCategoricalCrossentropy\n",
    "from tensorflow.keras import backend as K\n",
    "from tensorflow.keras.utils import plot_model\n",
    "import pickle\n",
    "import pandas as pd\n",
    "import numpy as np\n",
    "from numpy.random import seed; seed(111)\n",
    "import random\n",
    "import matplotlib.pyplot as plt\n",
    "import seaborn as sns\n",
    "from tensorflow.random import set_seed; set_seed(111)\n",
    "from sklearn.metrics import roc_curve, auc, confusion_matrix\n",
    "from sklearn.preprocessing import normalize\n",
    "from six import StringIO  \n",
    "from sklearn.tree import export_graphviz, DecisionTreeRegressor\n",
    "from sklearn.model_selection import train_test_split\n",
    "from scipy.stats import ttest_ind\n",
    "from IPython.display import Image  \n",
    "import pydotplus\n",
    "import time\n",
    "from pathlib import Path"
   ]
  },
  {
   "cell_type": "code",
   "execution_count": 191,
   "metadata": {},
   "outputs": [],
   "source": [
    "# %config InlineBackend.figure_format = 'svg'\n",
    "plt.rcParams['figure.figsize'] = [9,6]"
   ]
  },
  {
   "cell_type": "code",
   "execution_count": 192,
   "metadata": {},
   "outputs": [],
   "source": [
    "gpus = tf.config.list_physical_devices('GPU')\n",
    "tf.config.experimental.set_memory_growth(gpus[0], True)"
   ]
  },
  {
   "cell_type": "code",
   "execution_count": 193,
   "metadata": {},
   "outputs": [],
   "source": [
    "phenotype = 'Gender'"
   ]
  },
  {
   "cell_type": "code",
   "execution_count": 194,
   "metadata": {},
   "outputs": [
    {
     "name": "stdout",
     "output_type": "stream",
     "text": [
      "Dimensions of cyto_data: (260, 5000, 27, 1)\n",
      "Dimensions of samples: (260, 85)\n",
      "Names of the makers: ['CELL_LENGTH' 'DEAD' 'CD19' 'CD4' 'CD8' 'IGD' 'CD85J' 'CD16' 'CD3' 'CD38'\n",
      " 'CD27' 'CD14' 'CD94' 'CCR7' 'CD45RA' 'CD20' 'CD127' 'CD33' 'CD28' 'CD24'\n",
      " 'CD161' 'TCRGD' 'CD56' 'HLADR' 'CD25' 'DNA1' 'DNA2']\n"
     ]
    }
   ],
   "source": [
    "#load data\n",
    "aging_dir = Path('/home/ubuntu/a/aging')\n",
    "\n",
    "with open(aging_dir/'aging-cytof-data.obj', 'rb') as f:\n",
    "    allData = pickle.load(f)\n",
    "samples = allData[\"samples\"]\n",
    "cyto_data = allData['expr_list']\n",
    "# Truncate cytodata\n",
    "cyto_data = cyto_data[ :, :int(5e3)]\n",
    "markers = allData[\"marker_names\"]\n",
    "\n",
    "print(f'Dimensions of cyto_data: {cyto_data.shape}')\n",
    "print(f'Dimensions of samples: {samples.shape}')\n",
    "print(f'Names of the makers: {markers.values}')"
   ]
  },
  {
   "cell_type": "code",
   "execution_count": 195,
   "metadata": {},
   "outputs": [
    {
     "name": "stdout",
     "output_type": "stream",
     "text": [
      "count        260\n",
      "unique         2\n",
      "top       Female\n",
      "freq         147\n",
      "Name: Gender, dtype: object\n",
      "Female    147\n",
      "Male      113\n",
      "Name: Gender, dtype: int64\n"
     ]
    }
   ],
   "source": [
    "print(samples[phenotype].describe())\n",
    "counts = samples[phenotype].value_counts()\n",
    "print(counts)"
   ]
  },
  {
   "cell_type": "code",
   "execution_count": 196,
   "metadata": {},
   "outputs": [
    {
     "name": "stdout",
     "output_type": "stream",
     "text": [
      "[1 1 1 1 0 1 1 0 1 1 0 1 0 0 1 0 0 1 1 0 0 0 0 0 0 1 0 0 1 1 0 1 1 0 1 0 1\n",
      " 0 0 0 0 1 1 1 1 0 1 1 1 1 1 0 1 1 1 0 0 1 1 0 0 1 1 1 0 0 1 1 0 0 1 1 1 0\n",
      " 0 0 0 1 0 0 0 0 0 1 0 0 0 1 0 1 1 1 1 1 1 1 1 1 1 1 1 0 0 1 0 1 1 0 1 1 0\n",
      " 1 1 1 1 1 0 1 1 1 0 1 1 1 1 1 0 1 0 0 1 1 0 0 0 1 1 0 1 0 0 1 1 0 0 1 0 0\n",
      " 1 0 0 0 1 0 1 1 1 1 0 1 0 0 0 1 1 0 0 1 1 1 0 1 1 1 1 0 1 0 1 0 0 1 1 1 1\n",
      " 0 0 0 0 0 0 0 0 1 1 1 1 1 1 0 1 1 0 1 0 1 0 0 0 1 0 0 1 0 1 1 1 1 0 1 0 0\n",
      " 0 0 0 0 1 1 1 1 0 0 1 1 1 0 1 1 1 1 1 1 0 1 0 1 1 1 0 1 1 0 1 0 1 0 1 1 1\n",
      " 1]\n"
     ]
    },
    {
     "data": {
      "text/plain": [
       "(195, 5000, 27, 1)"
      ]
     },
     "execution_count": 196,
     "metadata": {},
     "output_type": "execute_result"
    }
   ],
   "source": [
    "##### Step 3: split train, validation and test######\n",
    "x = []\n",
    "y = []\n",
    "dic = {\"Male\" : 0, \"Female\" : 1}\n",
    "for i, row in samples.iterrows():\n",
    "    x.append(cyto_data[i])\n",
    "    y.append(dic[row[phenotype]])\n",
    "#age_range = max(y) - min(y)\n",
    "x = np.asarray(x)\n",
    "y_raw = np.asarray(y)\n",
    "print(y_raw)\n",
    "# age_min = min(y_raw)\n",
    "# age_max = max(y_raw)\n",
    "# age_range = age_max - age_min\n",
    "# y = (y_raw - age_min) / age_range\n",
    "\n",
    "x_train, x_valid, y_train, y_valid = train_test_split(x, y_raw)\n",
    "x_train.shape"
   ]
  },
  {
   "cell_type": "code",
   "execution_count": 197,
   "metadata": {},
   "outputs": [
    {
     "name": "stdout",
     "output_type": "stream",
     "text": [
      "(5000, 27, 1)\n"
     ]
    }
   ],
   "source": [
    "print(x[0].shape)"
   ]
  },
  {
   "cell_type": "code",
   "execution_count": 256,
   "metadata": {},
   "outputs": [
    {
     "name": "stdout",
     "output_type": "stream",
     "text": [
      "Model: \"sequential_60\"\n",
      "_________________________________________________________________\n",
      "Layer (type)                 Output Shape              Param #   \n",
      "=================================================================\n",
      "conv2d_203 (Conv2D)          (None, 5000, 1, 4)        112       \n",
      "_________________________________________________________________\n",
      "batch_normalization_237 (Bat (None, 5000, 1, 4)        16        \n",
      "_________________________________________________________________\n",
      "conv2d_204 (Conv2D)          (None, 5000, 1, 8)        40        \n",
      "_________________________________________________________________\n",
      "batch_normalization_238 (Bat (None, 5000, 1, 8)        32        \n",
      "_________________________________________________________________\n",
      "conv2d_205 (Conv2D)          (None, 5000, 1, 8)        72        \n",
      "_________________________________________________________________\n",
      "batch_normalization_239 (Bat (None, 5000, 1, 8)        32        \n",
      "_________________________________________________________________\n",
      "conv2d_206 (Conv2D)          (None, 5000, 1, 16)       144       \n",
      "_________________________________________________________________\n",
      "batch_normalization_240 (Bat (None, 5000, 1, 16)       64        \n",
      "_________________________________________________________________\n",
      "average_pooling2d_57 (Averag (None, 1, 1, 16)          0         \n",
      "_________________________________________________________________\n",
      "flatten_60 (Flatten)         (None, 16)                0         \n",
      "_________________________________________________________________\n",
      "dense_94 (Dense)             (None, 1)                 17        \n",
      "=================================================================\n",
      "Total params: 529\n",
      "Trainable params: 457\n",
      "Non-trainable params: 72\n",
      "_________________________________________________________________\n",
      "Model: \"sequential_60\"\n",
      "_________________________________________________________________\n",
      "Layer (type)                 Output Shape              Param #   \n",
      "=================================================================\n",
      "conv2d_203 (Conv2D)          (None, 5000, 1, 4)        112       \n",
      "_________________________________________________________________\n",
      "batch_normalization_237 (Bat (None, 5000, 1, 4)        16        \n",
      "_________________________________________________________________\n",
      "conv2d_204 (Conv2D)          (None, 5000, 1, 8)        40        \n",
      "_________________________________________________________________\n",
      "batch_normalization_238 (Bat (None, 5000, 1, 8)        32        \n",
      "_________________________________________________________________\n",
      "conv2d_205 (Conv2D)          (None, 5000, 1, 8)        72        \n",
      "_________________________________________________________________\n",
      "batch_normalization_239 (Bat (None, 5000, 1, 8)        32        \n",
      "_________________________________________________________________\n",
      "conv2d_206 (Conv2D)          (None, 5000, 1, 16)       144       \n",
      "_________________________________________________________________\n",
      "batch_normalization_240 (Bat (None, 5000, 1, 16)       64        \n",
      "_________________________________________________________________\n",
      "average_pooling2d_57 (Averag (None, 1, 1, 16)          0         \n",
      "_________________________________________________________________\n",
      "flatten_60 (Flatten)         (None, 16)                0         \n",
      "_________________________________________________________________\n",
      "dense_94 (Dense)             (None, 1)                 17        \n",
      "=================================================================\n",
      "Total params: 529\n",
      "Trainable params: 457\n",
      "Non-trainable params: 72\n",
      "_________________________________________________________________\n"
     ]
    }
   ],
   "source": [
    "\n",
    "model = Sequential([\n",
    "    Input(shape=x[0].shape),\n",
    "    Conv2D(4, kernel_size = (1, x.shape[2]), activation=\"relu\"),\n",
    "    BatchNormalization(),\n",
    "    Conv2D(8, kernel_size = (1,1), activation=\"relu\"),\n",
    "    BatchNormalization(),\n",
    "    Conv2D(8, kernel_size = (1,1), activation=\"relu\"),\n",
    "    BatchNormalization(),\n",
    "    Conv2D(16, kernel_size = (1,1), activation=\"relu\"),\n",
    "    BatchNormalization(),\n",
    "    #Activation('relu'),\n",
    "#     GlobalAveragePooling2D(),\n",
    "    AveragePooling2D(pool_size = (x.shape[1], 1)),\n",
    "    Flatten(),\n",
    "#     Dense(16, activation=None),\n",
    "#     BatchNormalization(),\n",
    "    Dense(1, activation='sigmoid'),\n",
    "])\n",
    "model.compile(loss='binary_crossentropy',\n",
    "              optimizer='adam',\n",
    "              metrics=['accuracy'])\n",
    "model.summary()\n",
    "#     Input(shape=x[0].shape),\n",
    "#     Conv2D(3, kernel_size = (1, x.shape[2]), activation=None),\n",
    "#     BatchNormalization(),\n",
    "#     Activation('relu'),\n",
    "#     Conv2D(6, kernel_size = (1,1), activation=None),\n",
    "#     BatchNormalization(),\n",
    "#     Activation('relu'),\n",
    "#     AveragePooling2D(pool_size = (x.shape[1], 1)),\n",
    "#     Flatten(),\n",
    "#     Dense(3, activation=None),\n",
    "#     BatchNormalization(),\n",
    "#     Activation('relu'),\n",
    "#     Dense(1, activation=None),\n",
    "# ])\n",
    "model.compile(loss='binary_crossentropy',\n",
    "              optimizer= 'adam',\n",
    "              metrics=['accuracy'])\n",
    "model.summary()"
   ]
  },
  {
   "cell_type": "code",
   "execution_count": 257,
   "metadata": {
    "scrolled": true,
    "tags": []
   },
   "outputs": [
    {
     "name": "stdout",
     "output_type": "stream",
     "text": [
      "Epoch 1/200\n",
      "7/7 [==============================] - 1s 48ms/step - loss: 0.7011 - accuracy: 0.5163 - val_loss: 0.6888 - val_accuracy: 0.5846\n",
      "Epoch 2/200\n",
      "7/7 [==============================] - 0s 23ms/step - loss: 0.6913 - accuracy: 0.5121 - val_loss: 0.6885 - val_accuracy: 0.5846\n",
      "Epoch 3/200\n",
      "7/7 [==============================] - 0s 22ms/step - loss: 0.6814 - accuracy: 0.5616 - val_loss: 0.6881 - val_accuracy: 0.5846\n",
      "Epoch 4/200\n",
      "7/7 [==============================] - 0s 19ms/step - loss: 0.6715 - accuracy: 0.5983 - val_loss: 0.6870 - val_accuracy: 0.5538\n",
      "Epoch 5/200\n",
      "7/7 [==============================] - 0s 18ms/step - loss: 0.6571 - accuracy: 0.6054 - val_loss: 0.6859 - val_accuracy: 0.5846\n",
      "Epoch 6/200\n",
      "7/7 [==============================] - 0s 18ms/step - loss: 0.6728 - accuracy: 0.5680 - val_loss: 0.6836 - val_accuracy: 0.5692\n",
      "Epoch 7/200\n",
      "7/7 [==============================] - 0s 18ms/step - loss: 0.6589 - accuracy: 0.5898 - val_loss: 0.6806 - val_accuracy: 0.5846\n",
      "Epoch 8/200\n",
      "7/7 [==============================] - 0s 18ms/step - loss: 0.6627 - accuracy: 0.5590 - val_loss: 0.6781 - val_accuracy: 0.5692\n",
      "Epoch 9/200\n",
      "7/7 [==============================] - 0s 18ms/step - loss: 0.6471 - accuracy: 0.5943 - val_loss: 0.6768 - val_accuracy: 0.5846\n",
      "Epoch 10/200\n",
      "7/7 [==============================] - 0s 18ms/step - loss: 0.6421 - accuracy: 0.6099 - val_loss: 0.6746 - val_accuracy: 0.5692\n",
      "Epoch 11/200\n",
      "7/7 [==============================] - 0s 18ms/step - loss: 0.6341 - accuracy: 0.6392 - val_loss: 0.6726 - val_accuracy: 0.5846\n",
      "Epoch 12/200\n",
      "7/7 [==============================] - 0s 18ms/step - loss: 0.6214 - accuracy: 0.6455 - val_loss: 0.6699 - val_accuracy: 0.5692\n",
      "Epoch 13/200\n",
      "7/7 [==============================] - 0s 18ms/step - loss: 0.6185 - accuracy: 0.6324 - val_loss: 0.6674 - val_accuracy: 0.5692\n",
      "Epoch 14/200\n",
      "7/7 [==============================] - 0s 18ms/step - loss: 0.6323 - accuracy: 0.6321 - val_loss: 0.6640 - val_accuracy: 0.5692\n",
      "Epoch 15/200\n",
      "7/7 [==============================] - 0s 18ms/step - loss: 0.6182 - accuracy: 0.6355 - val_loss: 0.6617 - val_accuracy: 0.5692\n",
      "Epoch 16/200\n",
      "7/7 [==============================] - 0s 18ms/step - loss: 0.5981 - accuracy: 0.6669 - val_loss: 0.6599 - val_accuracy: 0.5692\n",
      "Epoch 17/200\n",
      "7/7 [==============================] - 0s 18ms/step - loss: 0.5983 - accuracy: 0.6553 - val_loss: 0.6584 - val_accuracy: 0.6154\n",
      "Epoch 18/200\n",
      "7/7 [==============================] - 0s 18ms/step - loss: 0.5805 - accuracy: 0.6858 - val_loss: 0.6560 - val_accuracy: 0.6000\n",
      "Epoch 19/200\n",
      "7/7 [==============================] - 0s 18ms/step - loss: 0.5706 - accuracy: 0.6941 - val_loss: 0.6521 - val_accuracy: 0.6154\n",
      "Epoch 20/200\n",
      "7/7 [==============================] - 0s 18ms/step - loss: 0.5792 - accuracy: 0.6929 - val_loss: 0.6497 - val_accuracy: 0.6154\n",
      "Epoch 21/200\n",
      "7/7 [==============================] - 0s 18ms/step - loss: 0.5546 - accuracy: 0.7019 - val_loss: 0.6467 - val_accuracy: 0.6154\n",
      "Epoch 22/200\n",
      "7/7 [==============================] - 0s 18ms/step - loss: 0.5671 - accuracy: 0.6897 - val_loss: 0.6445 - val_accuracy: 0.5846\n",
      "Epoch 23/200\n",
      "7/7 [==============================] - 0s 18ms/step - loss: 0.5507 - accuracy: 0.7219 - val_loss: 0.6417 - val_accuracy: 0.5846\n",
      "Epoch 24/200\n",
      "7/7 [==============================] - 0s 17ms/step - loss: 0.5335 - accuracy: 0.7222 - val_loss: 0.6391 - val_accuracy: 0.5846\n",
      "Epoch 25/200\n",
      "7/7 [==============================] - 0s 18ms/step - loss: 0.5274 - accuracy: 0.7247 - val_loss: 0.6369 - val_accuracy: 0.6000\n",
      "Epoch 26/200\n",
      "7/7 [==============================] - 0s 17ms/step - loss: 0.5322 - accuracy: 0.7223 - val_loss: 0.6347 - val_accuracy: 0.6462\n",
      "Epoch 27/200\n",
      "7/7 [==============================] - 0s 18ms/step - loss: 0.5311 - accuracy: 0.7080 - val_loss: 0.6354 - val_accuracy: 0.6154\n",
      "Epoch 28/200\n",
      "7/7 [==============================] - 0s 17ms/step - loss: 0.5219 - accuracy: 0.7472 - val_loss: 0.6351 - val_accuracy: 0.6615\n",
      "Epoch 29/200\n",
      "7/7 [==============================] - 0s 18ms/step - loss: 0.5527 - accuracy: 0.7143 - val_loss: 0.6363 - val_accuracy: 0.6769\n",
      "Epoch 30/200\n",
      "7/7 [==============================] - 0s 18ms/step - loss: 0.5304 - accuracy: 0.7461 - val_loss: 0.6376 - val_accuracy: 0.6462\n",
      "Epoch 31/200\n",
      "7/7 [==============================] - 0s 18ms/step - loss: 0.5077 - accuracy: 0.7733 - val_loss: 0.6267 - val_accuracy: 0.6615\n",
      "Epoch 32/200\n",
      "7/7 [==============================] - 0s 18ms/step - loss: 0.5362 - accuracy: 0.7048 - val_loss: 0.6385 - val_accuracy: 0.6615\n",
      "Epoch 33/200\n",
      "7/7 [==============================] - 0s 18ms/step - loss: 0.4950 - accuracy: 0.7840 - val_loss: 0.6504 - val_accuracy: 0.6923\n",
      "Epoch 34/200\n",
      "7/7 [==============================] - 0s 17ms/step - loss: 0.5126 - accuracy: 0.7302 - val_loss: 0.6627 - val_accuracy: 0.6000\n",
      "Epoch 35/200\n",
      "7/7 [==============================] - 0s 17ms/step - loss: 0.5051 - accuracy: 0.7751 - val_loss: 0.6660 - val_accuracy: 0.6000\n",
      "Epoch 36/200\n",
      "7/7 [==============================] - 0s 17ms/step - loss: 0.5325 - accuracy: 0.7189 - val_loss: 0.6534 - val_accuracy: 0.6462\n",
      "Epoch 37/200\n",
      "7/7 [==============================] - 0s 18ms/step - loss: 0.5104 - accuracy: 0.7465 - val_loss: 0.6608 - val_accuracy: 0.6154\n",
      "Epoch 38/200\n",
      "7/7 [==============================] - 0s 17ms/step - loss: 0.5064 - accuracy: 0.7609 - val_loss: 0.6658 - val_accuracy: 0.5846\n",
      "Epoch 39/200\n",
      "7/7 [==============================] - 0s 17ms/step - loss: 0.4880 - accuracy: 0.7634 - val_loss: 0.6702 - val_accuracy: 0.6154\n",
      "Epoch 40/200\n",
      "7/7 [==============================] - 0s 17ms/step - loss: 0.5426 - accuracy: 0.7311 - val_loss: 0.6850 - val_accuracy: 0.5692\n",
      "Epoch 41/200\n",
      "7/7 [==============================] - 0s 17ms/step - loss: 0.4970 - accuracy: 0.7629 - val_loss: 0.6815 - val_accuracy: 0.6308\n",
      "Epoch 42/200\n",
      "7/7 [==============================] - 0s 17ms/step - loss: 0.5191 - accuracy: 0.7232 - val_loss: 0.6882 - val_accuracy: 0.5846\n",
      "Epoch 43/200\n",
      "7/7 [==============================] - 0s 17ms/step - loss: 0.5008 - accuracy: 0.7763 - val_loss: 0.6819 - val_accuracy: 0.5692\n",
      "Epoch 44/200\n",
      "7/7 [==============================] - 0s 17ms/step - loss: 0.4876 - accuracy: 0.7803 - val_loss: 0.6842 - val_accuracy: 0.5692\n",
      "Epoch 45/200\n",
      "7/7 [==============================] - 0s 17ms/step - loss: 0.5419 - accuracy: 0.7086 - val_loss: 0.7234 - val_accuracy: 0.6000\n",
      "Epoch 46/200\n",
      "7/7 [==============================] - 0s 18ms/step - loss: 0.5000 - accuracy: 0.7991 - val_loss: 0.7553 - val_accuracy: 0.5692\n",
      "Epoch 47/200\n",
      "7/7 [==============================] - 0s 18ms/step - loss: 0.5027 - accuracy: 0.7740 - val_loss: 0.8111 - val_accuracy: 0.5538\n",
      "Epoch 48/200\n",
      "7/7 [==============================] - 0s 17ms/step - loss: 0.4979 - accuracy: 0.7633 - val_loss: 0.8509 - val_accuracy: 0.5385\n",
      "Epoch 49/200\n",
      "7/7 [==============================] - 0s 17ms/step - loss: 0.4895 - accuracy: 0.7838 - val_loss: 0.8225 - val_accuracy: 0.5538\n",
      "Epoch 50/200\n",
      "7/7 [==============================] - 0s 17ms/step - loss: 0.4900 - accuracy: 0.7826 - val_loss: 0.8029 - val_accuracy: 0.5385\n",
      "Epoch 51/200\n",
      "7/7 [==============================] - 0s 18ms/step - loss: 0.4795 - accuracy: 0.7571 - val_loss: 0.8159 - val_accuracy: 0.5385\n",
      "Epoch 52/200\n",
      "7/7 [==============================] - 0s 18ms/step - loss: 0.4861 - accuracy: 0.7315 - val_loss: 0.8717 - val_accuracy: 0.5077\n",
      "Epoch 53/200\n",
      "7/7 [==============================] - 0s 18ms/step - loss: 0.4832 - accuracy: 0.7916 - val_loss: 0.9835 - val_accuracy: 0.4923\n",
      "Epoch 54/200\n",
      "7/7 [==============================] - 0s 18ms/step - loss: 0.4808 - accuracy: 0.8017 - val_loss: 1.0126 - val_accuracy: 0.4923\n",
      "Epoch 55/200\n",
      "7/7 [==============================] - 0s 18ms/step - loss: 0.4794 - accuracy: 0.7876 - val_loss: 1.0527 - val_accuracy: 0.4769\n",
      "Epoch 56/200\n",
      "7/7 [==============================] - 0s 17ms/step - loss: 0.4790 - accuracy: 0.7620 - val_loss: 0.9761 - val_accuracy: 0.5077\n",
      "Epoch 57/200\n",
      "7/7 [==============================] - 0s 17ms/step - loss: 0.4740 - accuracy: 0.7769 - val_loss: 0.9439 - val_accuracy: 0.5231\n",
      "Epoch 58/200\n",
      "7/7 [==============================] - 0s 17ms/step - loss: 0.4684 - accuracy: 0.8058 - val_loss: 0.9494 - val_accuracy: 0.5077\n",
      "Epoch 59/200\n",
      "7/7 [==============================] - 0s 17ms/step - loss: 0.4391 - accuracy: 0.8710 - val_loss: 0.8446 - val_accuracy: 0.5385\n",
      "Epoch 60/200\n",
      "7/7 [==============================] - 0s 17ms/step - loss: 0.4734 - accuracy: 0.7789 - val_loss: 0.7746 - val_accuracy: 0.6154\n",
      "Epoch 61/200\n",
      "7/7 [==============================] - 0s 17ms/step - loss: 0.4755 - accuracy: 0.7853 - val_loss: 0.6894 - val_accuracy: 0.6000\n",
      "Epoch 62/200\n",
      "7/7 [==============================] - 0s 17ms/step - loss: 0.4774 - accuracy: 0.7683 - val_loss: 0.7446 - val_accuracy: 0.5846\n",
      "Epoch 63/200\n",
      "7/7 [==============================] - 0s 17ms/step - loss: 0.4575 - accuracy: 0.8008 - val_loss: 0.8903 - val_accuracy: 0.5385\n",
      "Epoch 64/200\n",
      "7/7 [==============================] - 0s 17ms/step - loss: 0.4441 - accuracy: 0.7920 - val_loss: 1.1133 - val_accuracy: 0.4769\n",
      "Epoch 65/200\n",
      "7/7 [==============================] - 0s 18ms/step - loss: 0.4508 - accuracy: 0.8023 - val_loss: 1.2162 - val_accuracy: 0.4923\n",
      "Epoch 66/200\n",
      "7/7 [==============================] - 0s 18ms/step - loss: 0.4319 - accuracy: 0.8139 - val_loss: 1.2549 - val_accuracy: 0.4615\n",
      "Epoch 67/200\n",
      "7/7 [==============================] - 0s 17ms/step - loss: 0.4548 - accuracy: 0.7757 - val_loss: 1.0088 - val_accuracy: 0.4769\n",
      "Epoch 68/200\n",
      "7/7 [==============================] - 0s 17ms/step - loss: 0.4782 - accuracy: 0.7857 - val_loss: 0.8582 - val_accuracy: 0.5538\n",
      "Epoch 69/200\n",
      "7/7 [==============================] - 0s 18ms/step - loss: 0.4339 - accuracy: 0.8203 - val_loss: 0.7952 - val_accuracy: 0.5692\n",
      "Epoch 70/200\n",
      "7/7 [==============================] - 0s 18ms/step - loss: 0.4870 - accuracy: 0.7668 - val_loss: 0.7977 - val_accuracy: 0.5692\n",
      "Epoch 71/200\n",
      "7/7 [==============================] - 0s 18ms/step - loss: 0.4386 - accuracy: 0.8173 - val_loss: 0.7621 - val_accuracy: 0.6000\n",
      "Epoch 72/200\n",
      "7/7 [==============================] - 0s 18ms/step - loss: 0.4682 - accuracy: 0.7954 - val_loss: 0.6833 - val_accuracy: 0.6154\n",
      "Epoch 73/200\n",
      "7/7 [==============================] - 0s 18ms/step - loss: 0.4450 - accuracy: 0.8118 - val_loss: 0.6170 - val_accuracy: 0.6308\n",
      "Epoch 74/200\n",
      "7/7 [==============================] - 0s 18ms/step - loss: 0.4460 - accuracy: 0.7792 - val_loss: 0.6142 - val_accuracy: 0.6615\n",
      "Epoch 75/200\n",
      "7/7 [==============================] - 0s 18ms/step - loss: 0.4769 - accuracy: 0.7881 - val_loss: 0.6264 - val_accuracy: 0.6615\n",
      "Epoch 76/200\n",
      "7/7 [==============================] - 0s 18ms/step - loss: 0.4356 - accuracy: 0.8342 - val_loss: 0.6771 - val_accuracy: 0.6308\n",
      "Epoch 77/200\n",
      "7/7 [==============================] - 0s 18ms/step - loss: 0.4181 - accuracy: 0.8423 - val_loss: 0.9055 - val_accuracy: 0.5692\n",
      "Epoch 78/200\n",
      "7/7 [==============================] - 0s 18ms/step - loss: 0.4380 - accuracy: 0.7982 - val_loss: 1.0340 - val_accuracy: 0.5692\n",
      "Epoch 79/200\n",
      "7/7 [==============================] - 0s 18ms/step - loss: 0.4559 - accuracy: 0.8140 - val_loss: 1.0526 - val_accuracy: 0.5538\n",
      "Epoch 80/200\n",
      "7/7 [==============================] - 0s 18ms/step - loss: 0.4228 - accuracy: 0.8212 - val_loss: 0.9015 - val_accuracy: 0.5692\n",
      "Epoch 81/200\n",
      "7/7 [==============================] - 0s 18ms/step - loss: 0.4228 - accuracy: 0.8316 - val_loss: 0.8769 - val_accuracy: 0.5846\n",
      "Epoch 82/200\n",
      "7/7 [==============================] - 0s 18ms/step - loss: 0.4485 - accuracy: 0.8093 - val_loss: 0.9098 - val_accuracy: 0.5538\n",
      "Epoch 83/200\n",
      "7/7 [==============================] - 0s 18ms/step - loss: 0.4741 - accuracy: 0.7860 - val_loss: 0.9186 - val_accuracy: 0.5846\n",
      "Epoch 84/200\n",
      "7/7 [==============================] - 0s 18ms/step - loss: 0.4252 - accuracy: 0.8084 - val_loss: 0.8387 - val_accuracy: 0.6000\n",
      "Epoch 85/200\n",
      "7/7 [==============================] - 0s 18ms/step - loss: 0.4017 - accuracy: 0.8477 - val_loss: 0.7652 - val_accuracy: 0.6154\n",
      "Epoch 86/200\n",
      "7/7 [==============================] - 0s 18ms/step - loss: 0.4218 - accuracy: 0.7960 - val_loss: 0.7330 - val_accuracy: 0.6154\n",
      "Epoch 87/200\n",
      "7/7 [==============================] - 0s 18ms/step - loss: 0.4400 - accuracy: 0.7903 - val_loss: 0.7684 - val_accuracy: 0.6154\n",
      "Epoch 88/200\n",
      "7/7 [==============================] - 0s 18ms/step - loss: 0.4157 - accuracy: 0.8281 - val_loss: 0.7480 - val_accuracy: 0.6154\n",
      "Epoch 89/200\n",
      "7/7 [==============================] - 0s 18ms/step - loss: 0.4248 - accuracy: 0.8151 - val_loss: 0.6233 - val_accuracy: 0.6462\n",
      "Epoch 90/200\n",
      "7/7 [==============================] - 0s 18ms/step - loss: 0.3917 - accuracy: 0.8509 - val_loss: 0.6239 - val_accuracy: 0.6615\n",
      "Epoch 91/200\n",
      "7/7 [==============================] - 0s 17ms/step - loss: 0.4022 - accuracy: 0.8257 - val_loss: 0.8835 - val_accuracy: 0.6154\n",
      "Epoch 92/200\n",
      "7/7 [==============================] - 0s 18ms/step - loss: 0.3957 - accuracy: 0.8463 - val_loss: 1.1461 - val_accuracy: 0.5385\n",
      "Epoch 93/200\n",
      "7/7 [==============================] - 0s 18ms/step - loss: 0.4195 - accuracy: 0.8318 - val_loss: 1.0349 - val_accuracy: 0.5692\n",
      "Epoch 94/200\n",
      "7/7 [==============================] - 0s 18ms/step - loss: 0.3916 - accuracy: 0.8221 - val_loss: 0.8085 - val_accuracy: 0.6154\n",
      "Epoch 95/200\n",
      "7/7 [==============================] - 0s 18ms/step - loss: 0.4208 - accuracy: 0.7704 - val_loss: 0.6885 - val_accuracy: 0.6462\n",
      "Epoch 96/200\n",
      "7/7 [==============================] - 0s 18ms/step - loss: 0.3916 - accuracy: 0.8126 - val_loss: 0.6395 - val_accuracy: 0.6769\n",
      "Epoch 97/200\n",
      "7/7 [==============================] - 0s 18ms/step - loss: 0.3809 - accuracy: 0.8869 - val_loss: 0.6302 - val_accuracy: 0.6923\n",
      "Epoch 98/200\n",
      "7/7 [==============================] - 0s 18ms/step - loss: 0.3871 - accuracy: 0.8632 - val_loss: 0.6435 - val_accuracy: 0.6923\n",
      "Epoch 99/200\n",
      "7/7 [==============================] - 0s 18ms/step - loss: 0.4500 - accuracy: 0.7933 - val_loss: 0.6294 - val_accuracy: 0.6615\n",
      "Epoch 100/200\n",
      "7/7 [==============================] - 0s 18ms/step - loss: 0.3718 - accuracy: 0.8330 - val_loss: 0.6402 - val_accuracy: 0.6769\n",
      "Epoch 101/200\n",
      "7/7 [==============================] - 0s 18ms/step - loss: 0.4196 - accuracy: 0.8153 - val_loss: 0.6918 - val_accuracy: 0.6615\n",
      "Epoch 102/200\n",
      "7/7 [==============================] - 0s 18ms/step - loss: 0.4047 - accuracy: 0.8306 - val_loss: 0.6433 - val_accuracy: 0.6308\n",
      "Epoch 103/200\n",
      "7/7 [==============================] - 0s 18ms/step - loss: 0.4038 - accuracy: 0.8227 - val_loss: 0.6295 - val_accuracy: 0.6769\n",
      "Epoch 104/200\n",
      "7/7 [==============================] - 0s 20ms/step - loss: 0.3805 - accuracy: 0.8302 - val_loss: 0.6572 - val_accuracy: 0.6615\n",
      "Epoch 105/200\n",
      "7/7 [==============================] - 0s 18ms/step - loss: 0.3702 - accuracy: 0.8400 - val_loss: 0.6890 - val_accuracy: 0.6462\n",
      "Epoch 106/200\n",
      "7/7 [==============================] - 0s 18ms/step - loss: 0.3936 - accuracy: 0.8275 - val_loss: 0.6672 - val_accuracy: 0.6308\n",
      "Epoch 107/200\n",
      "7/7 [==============================] - 0s 18ms/step - loss: 0.4110 - accuracy: 0.7970 - val_loss: 0.7194 - val_accuracy: 0.6462\n",
      "Epoch 108/200\n",
      "7/7 [==============================] - 0s 18ms/step - loss: 0.3799 - accuracy: 0.8718 - val_loss: 0.7233 - val_accuracy: 0.6308\n",
      "Epoch 109/200\n",
      "7/7 [==============================] - 0s 18ms/step - loss: 0.3482 - accuracy: 0.8788 - val_loss: 0.6952 - val_accuracy: 0.6154\n",
      "Epoch 110/200\n",
      "7/7 [==============================] - 0s 18ms/step - loss: 0.4204 - accuracy: 0.7917 - val_loss: 0.6527 - val_accuracy: 0.6308\n",
      "Epoch 111/200\n",
      "7/7 [==============================] - 0s 18ms/step - loss: 0.4021 - accuracy: 0.8035 - val_loss: 0.6830 - val_accuracy: 0.6308\n",
      "Epoch 112/200\n",
      "7/7 [==============================] - 0s 17ms/step - loss: 0.3860 - accuracy: 0.8078 - val_loss: 0.7134 - val_accuracy: 0.6308\n",
      "Epoch 113/200\n",
      "7/7 [==============================] - 0s 17ms/step - loss: 0.4035 - accuracy: 0.8100 - val_loss: 0.7071 - val_accuracy: 0.6308\n",
      "Epoch 114/200\n",
      "7/7 [==============================] - 0s 17ms/step - loss: 0.3684 - accuracy: 0.8338 - val_loss: 0.6651 - val_accuracy: 0.6462\n",
      "Epoch 115/200\n",
      "7/7 [==============================] - 0s 18ms/step - loss: 0.3814 - accuracy: 0.8075 - val_loss: 0.6659 - val_accuracy: 0.6462\n",
      "Epoch 116/200\n",
      "7/7 [==============================] - 0s 18ms/step - loss: 0.3656 - accuracy: 0.8480 - val_loss: 0.7592 - val_accuracy: 0.5692\n",
      "Epoch 117/200\n",
      "7/7 [==============================] - 0s 17ms/step - loss: 0.4083 - accuracy: 0.7634 - val_loss: 0.7701 - val_accuracy: 0.5692\n",
      "Epoch 118/200\n",
      "7/7 [==============================] - 0s 17ms/step - loss: 0.3896 - accuracy: 0.8197 - val_loss: 0.8263 - val_accuracy: 0.6154\n",
      "Epoch 119/200\n",
      "7/7 [==============================] - 0s 17ms/step - loss: 0.4070 - accuracy: 0.8288 - val_loss: 0.6981 - val_accuracy: 0.6615\n",
      "Epoch 120/200\n",
      "7/7 [==============================] - 0s 18ms/step - loss: 0.3768 - accuracy: 0.8403 - val_loss: 0.6458 - val_accuracy: 0.6615\n",
      "Epoch 121/200\n",
      "7/7 [==============================] - 0s 18ms/step - loss: 0.3839 - accuracy: 0.8437 - val_loss: 0.6384 - val_accuracy: 0.6769\n",
      "Epoch 122/200\n",
      "7/7 [==============================] - 0s 17ms/step - loss: 0.3781 - accuracy: 0.8350 - val_loss: 0.6863 - val_accuracy: 0.6462\n",
      "Epoch 123/200\n",
      "7/7 [==============================] - 0s 17ms/step - loss: 0.3651 - accuracy: 0.8442 - val_loss: 0.7547 - val_accuracy: 0.6308\n",
      "Epoch 124/200\n",
      "7/7 [==============================] - 0s 17ms/step - loss: 0.3537 - accuracy: 0.8705 - val_loss: 0.7489 - val_accuracy: 0.6308\n",
      "Epoch 125/200\n",
      "7/7 [==============================] - 0s 17ms/step - loss: 0.3879 - accuracy: 0.8097 - val_loss: 0.7481 - val_accuracy: 0.6154\n",
      "Epoch 126/200\n",
      "7/7 [==============================] - 0s 17ms/step - loss: 0.3852 - accuracy: 0.8231 - val_loss: 0.8090 - val_accuracy: 0.6308\n",
      "Epoch 127/200\n",
      "7/7 [==============================] - 0s 17ms/step - loss: 0.3760 - accuracy: 0.8131 - val_loss: 0.7379 - val_accuracy: 0.6462\n",
      "Epoch 128/200\n",
      "7/7 [==============================] - 0s 17ms/step - loss: 0.3527 - accuracy: 0.8604 - val_loss: 0.7648 - val_accuracy: 0.6308\n",
      "Epoch 129/200\n",
      "7/7 [==============================] - 0s 18ms/step - loss: 0.3563 - accuracy: 0.8578 - val_loss: 0.7887 - val_accuracy: 0.6154\n",
      "Epoch 130/200\n",
      "7/7 [==============================] - 0s 18ms/step - loss: 0.3901 - accuracy: 0.8230 - val_loss: 0.8455 - val_accuracy: 0.6462\n",
      "Epoch 131/200\n",
      "7/7 [==============================] - 0s 17ms/step - loss: 0.3897 - accuracy: 0.8099 - val_loss: 0.8218 - val_accuracy: 0.6462\n",
      "Epoch 132/200\n",
      "7/7 [==============================] - 0s 17ms/step - loss: 0.3658 - accuracy: 0.8003 - val_loss: 0.7377 - val_accuracy: 0.6462\n",
      "Epoch 133/200\n",
      "7/7 [==============================] - 0s 19ms/step - loss: 0.3873 - accuracy: 0.8271 - val_loss: 0.7616 - val_accuracy: 0.6000\n",
      "Epoch 134/200\n",
      "7/7 [==============================] - 0s 18ms/step - loss: 0.3584 - accuracy: 0.8444 - val_loss: 0.7269 - val_accuracy: 0.6000\n",
      "Epoch 135/200\n",
      "7/7 [==============================] - 0s 18ms/step - loss: 0.3828 - accuracy: 0.8249 - val_loss: 0.7375 - val_accuracy: 0.6308\n",
      "Epoch 136/200\n",
      "7/7 [==============================] - 0s 18ms/step - loss: 0.3618 - accuracy: 0.8424 - val_loss: 0.7237 - val_accuracy: 0.6308\n",
      "Epoch 137/200\n",
      "7/7 [==============================] - 0s 18ms/step - loss: 0.3527 - accuracy: 0.8446 - val_loss: 0.6739 - val_accuracy: 0.6154\n",
      "Epoch 138/200\n",
      "7/7 [==============================] - 0s 17ms/step - loss: 0.3430 - accuracy: 0.8330 - val_loss: 0.6552 - val_accuracy: 0.6769\n",
      "Epoch 139/200\n",
      "7/7 [==============================] - 0s 17ms/step - loss: 0.3950 - accuracy: 0.8385 - val_loss: 0.6906 - val_accuracy: 0.6462\n",
      "Epoch 140/200\n",
      "7/7 [==============================] - 0s 18ms/step - loss: 0.3466 - accuracy: 0.8422 - val_loss: 0.6846 - val_accuracy: 0.6615\n",
      "Epoch 141/200\n",
      "7/7 [==============================] - 0s 17ms/step - loss: 0.3695 - accuracy: 0.8643 - val_loss: 0.7159 - val_accuracy: 0.6462\n",
      "Epoch 142/200\n",
      "7/7 [==============================] - 0s 17ms/step - loss: 0.3737 - accuracy: 0.8390 - val_loss: 0.7392 - val_accuracy: 0.6308\n",
      "Epoch 143/200\n",
      "7/7 [==============================] - 0s 18ms/step - loss: 0.3506 - accuracy: 0.8554 - val_loss: 0.7607 - val_accuracy: 0.6308\n",
      "Epoch 144/200\n",
      "7/7 [==============================] - 0s 18ms/step - loss: 0.3237 - accuracy: 0.8510 - val_loss: 0.7244 - val_accuracy: 0.6769\n",
      "Epoch 145/200\n",
      "7/7 [==============================] - 0s 18ms/step - loss: 0.3291 - accuracy: 0.8634 - val_loss: 0.7203 - val_accuracy: 0.6769\n",
      "Epoch 146/200\n",
      "7/7 [==============================] - 0s 18ms/step - loss: 0.4002 - accuracy: 0.8288 - val_loss: 0.7280 - val_accuracy: 0.6308\n",
      "Epoch 147/200\n",
      "7/7 [==============================] - 0s 18ms/step - loss: 0.3558 - accuracy: 0.8174 - val_loss: 0.7592 - val_accuracy: 0.6308\n",
      "Epoch 148/200\n",
      "7/7 [==============================] - 0s 17ms/step - loss: 0.3429 - accuracy: 0.8605 - val_loss: 0.8286 - val_accuracy: 0.6154\n",
      "Epoch 149/200\n",
      "7/7 [==============================] - 0s 17ms/step - loss: 0.3795 - accuracy: 0.8023 - val_loss: 0.9674 - val_accuracy: 0.6308\n",
      "Epoch 150/200\n",
      "7/7 [==============================] - 0s 17ms/step - loss: 0.3603 - accuracy: 0.8444 - val_loss: 1.0202 - val_accuracy: 0.6154\n",
      "Epoch 151/200\n",
      "7/7 [==============================] - 0s 18ms/step - loss: 0.3438 - accuracy: 0.8465 - val_loss: 1.0714 - val_accuracy: 0.6000\n",
      "Epoch 152/200\n",
      "7/7 [==============================] - 0s 18ms/step - loss: 0.3867 - accuracy: 0.8065 - val_loss: 0.9296 - val_accuracy: 0.6154\n",
      "Epoch 153/200\n",
      "7/7 [==============================] - 0s 18ms/step - loss: 0.3294 - accuracy: 0.8635 - val_loss: 0.7737 - val_accuracy: 0.6308\n",
      "Epoch 154/200\n",
      "7/7 [==============================] - 0s 18ms/step - loss: 0.3246 - accuracy: 0.8368 - val_loss: 0.6993 - val_accuracy: 0.6615\n",
      "Epoch 155/200\n",
      "7/7 [==============================] - 0s 18ms/step - loss: 0.3481 - accuracy: 0.8350 - val_loss: 0.7446 - val_accuracy: 0.6154\n",
      "Epoch 156/200\n",
      "7/7 [==============================] - 0s 17ms/step - loss: 0.3434 - accuracy: 0.8455 - val_loss: 0.8357 - val_accuracy: 0.6154\n",
      "Epoch 157/200\n",
      "7/7 [==============================] - 0s 17ms/step - loss: 0.3377 - accuracy: 0.8351 - val_loss: 0.8446 - val_accuracy: 0.6308\n",
      "Epoch 158/200\n",
      "7/7 [==============================] - 0s 17ms/step - loss: 0.3758 - accuracy: 0.8428 - val_loss: 0.7589 - val_accuracy: 0.6308\n",
      "Epoch 159/200\n",
      "7/7 [==============================] - 0s 17ms/step - loss: 0.3075 - accuracy: 0.8689 - val_loss: 0.8268 - val_accuracy: 0.6462\n",
      "Epoch 160/200\n",
      "7/7 [==============================] - 0s 17ms/step - loss: 0.3311 - accuracy: 0.8707 - val_loss: 0.8330 - val_accuracy: 0.6308\n",
      "Epoch 161/200\n",
      "7/7 [==============================] - 0s 17ms/step - loss: 0.3023 - accuracy: 0.8649 - val_loss: 0.8203 - val_accuracy: 0.6308\n",
      "Epoch 162/200\n",
      "7/7 [==============================] - 0s 18ms/step - loss: 0.3673 - accuracy: 0.8247 - val_loss: 0.8455 - val_accuracy: 0.6308\n",
      "Epoch 163/200\n",
      "7/7 [==============================] - 0s 18ms/step - loss: 0.3410 - accuracy: 0.8412 - val_loss: 0.7930 - val_accuracy: 0.6000\n",
      "Epoch 164/200\n",
      "7/7 [==============================] - 0s 17ms/step - loss: 0.3085 - accuracy: 0.8587 - val_loss: 0.7939 - val_accuracy: 0.6308\n",
      "Epoch 165/200\n",
      "7/7 [==============================] - 0s 17ms/step - loss: 0.3444 - accuracy: 0.8743 - val_loss: 0.7631 - val_accuracy: 0.6462\n",
      "Epoch 166/200\n",
      "7/7 [==============================] - 0s 18ms/step - loss: 0.3629 - accuracy: 0.8303 - val_loss: 0.7335 - val_accuracy: 0.6923\n",
      "Epoch 167/200\n",
      "7/7 [==============================] - 0s 17ms/step - loss: 0.3464 - accuracy: 0.8502 - val_loss: 0.7930 - val_accuracy: 0.6308\n",
      "Epoch 168/200\n",
      "7/7 [==============================] - 0s 17ms/step - loss: 0.3320 - accuracy: 0.8592 - val_loss: 0.7904 - val_accuracy: 0.6308\n",
      "Epoch 169/200\n",
      "7/7 [==============================] - 0s 17ms/step - loss: 0.3263 - accuracy: 0.8864 - val_loss: 0.8422 - val_accuracy: 0.6308\n",
      "Epoch 170/200\n",
      "7/7 [==============================] - 0s 17ms/step - loss: 0.3388 - accuracy: 0.8571 - val_loss: 0.9120 - val_accuracy: 0.6308\n",
      "Epoch 171/200\n",
      "7/7 [==============================] - 0s 17ms/step - loss: 0.3047 - accuracy: 0.8758 - val_loss: 0.8309 - val_accuracy: 0.6462\n",
      "Epoch 172/200\n",
      "7/7 [==============================] - 0s 17ms/step - loss: 0.3705 - accuracy: 0.8267 - val_loss: 0.9564 - val_accuracy: 0.6308\n",
      "Epoch 173/200\n",
      "7/7 [==============================] - 0s 17ms/step - loss: 0.3323 - accuracy: 0.8514 - val_loss: 0.9606 - val_accuracy: 0.6154\n",
      "Epoch 174/200\n",
      "7/7 [==============================] - 0s 17ms/step - loss: 0.3202 - accuracy: 0.8558 - val_loss: 0.9440 - val_accuracy: 0.5692\n",
      "Epoch 175/200\n",
      "7/7 [==============================] - 0s 17ms/step - loss: 0.3505 - accuracy: 0.8403 - val_loss: 0.9301 - val_accuracy: 0.5846\n",
      "Epoch 176/200\n",
      "7/7 [==============================] - 0s 17ms/step - loss: 0.3272 - accuracy: 0.8513 - val_loss: 0.9182 - val_accuracy: 0.6308\n",
      "Epoch 177/200\n",
      "7/7 [==============================] - 0s 17ms/step - loss: 0.3277 - accuracy: 0.8681 - val_loss: 0.8065 - val_accuracy: 0.6615\n",
      "Epoch 178/200\n",
      "7/7 [==============================] - 0s 17ms/step - loss: 0.3067 - accuracy: 0.8714 - val_loss: 0.6713 - val_accuracy: 0.6462\n",
      "Epoch 179/200\n",
      "7/7 [==============================] - 0s 17ms/step - loss: 0.3267 - accuracy: 0.8591 - val_loss: 0.6534 - val_accuracy: 0.7077\n",
      "Epoch 180/200\n",
      "7/7 [==============================] - 0s 17ms/step - loss: 0.3510 - accuracy: 0.8487 - val_loss: 0.6489 - val_accuracy: 0.7538\n",
      "Epoch 181/200\n",
      "7/7 [==============================] - 0s 17ms/step - loss: 0.2933 - accuracy: 0.8853 - val_loss: 0.6490 - val_accuracy: 0.7538\n",
      "Epoch 182/200\n",
      "7/7 [==============================] - 0s 17ms/step - loss: 0.3192 - accuracy: 0.8490 - val_loss: 0.6643 - val_accuracy: 0.7077\n",
      "Epoch 183/200\n",
      "7/7 [==============================] - 0s 17ms/step - loss: 0.2971 - accuracy: 0.9111 - val_loss: 0.6556 - val_accuracy: 0.7231\n",
      "Epoch 184/200\n",
      "7/7 [==============================] - 0s 19ms/step - loss: 0.3212 - accuracy: 0.8619 - val_loss: 0.6308 - val_accuracy: 0.7385\n",
      "Epoch 185/200\n",
      "7/7 [==============================] - 0s 19ms/step - loss: 0.3398 - accuracy: 0.8183 - val_loss: 0.6797 - val_accuracy: 0.6615\n",
      "Epoch 186/200\n",
      "7/7 [==============================] - 0s 18ms/step - loss: 0.3105 - accuracy: 0.8663 - val_loss: 0.9111 - val_accuracy: 0.6462\n",
      "Epoch 187/200\n",
      "7/7 [==============================] - 0s 18ms/step - loss: 0.3354 - accuracy: 0.8312 - val_loss: 0.8970 - val_accuracy: 0.6308\n",
      "Epoch 188/200\n",
      "7/7 [==============================] - 0s 17ms/step - loss: 0.3095 - accuracy: 0.8904 - val_loss: 0.8318 - val_accuracy: 0.6154\n",
      "Epoch 189/200\n",
      "7/7 [==============================] - 0s 18ms/step - loss: 0.3243 - accuracy: 0.8405 - val_loss: 1.1017 - val_accuracy: 0.5692\n",
      "Epoch 190/200\n",
      "7/7 [==============================] - 0s 18ms/step - loss: 0.3094 - accuracy: 0.8779 - val_loss: 1.0642 - val_accuracy: 0.6154\n",
      "Epoch 191/200\n",
      "7/7 [==============================] - 0s 18ms/step - loss: 0.4132 - accuracy: 0.8006 - val_loss: 0.8352 - val_accuracy: 0.6462\n",
      "Epoch 192/200\n",
      "7/7 [==============================] - 0s 18ms/step - loss: 0.3389 - accuracy: 0.8613 - val_loss: 0.6821 - val_accuracy: 0.6923\n",
      "Epoch 193/200\n",
      "7/7 [==============================] - 0s 18ms/step - loss: 0.2922 - accuracy: 0.8856 - val_loss: 0.6693 - val_accuracy: 0.7077\n",
      "Epoch 194/200\n",
      "7/7 [==============================] - 0s 18ms/step - loss: 0.3565 - accuracy: 0.8579 - val_loss: 0.6646 - val_accuracy: 0.7538\n",
      "Epoch 195/200\n",
      "7/7 [==============================] - 0s 18ms/step - loss: 0.2975 - accuracy: 0.8766 - val_loss: 0.6651 - val_accuracy: 0.6923\n",
      "Epoch 196/200\n",
      "7/7 [==============================] - 0s 17ms/step - loss: 0.3045 - accuracy: 0.8627 - val_loss: 0.6944 - val_accuracy: 0.7077\n",
      "Epoch 197/200\n",
      "7/7 [==============================] - 0s 17ms/step - loss: 0.3238 - accuracy: 0.8452 - val_loss: 0.7134 - val_accuracy: 0.6923\n",
      "Epoch 198/200\n",
      "7/7 [==============================] - 0s 17ms/step - loss: 0.3561 - accuracy: 0.8300 - val_loss: 0.6758 - val_accuracy: 0.7077\n",
      "Epoch 199/200\n",
      "7/7 [==============================] - 0s 17ms/step - loss: 0.3064 - accuracy: 0.8763 - val_loss: 0.6741 - val_accuracy: 0.6923\n",
      "Epoch 200/200\n",
      "7/7 [==============================] - 0s 17ms/step - loss: 0.3598 - accuracy: 0.8529 - val_loss: 0.7532 - val_accuracy: 0.6769\n",
      "CPU times: user 30.4 s, sys: 1.84 s, total: 32.3 s\n",
      "Wall time: 25 s\n"
     ]
    }
   ],
   "source": [
    "%%time\n",
    "model_store = Path(f'Result/saved_weights_{phenotype}.hdf5')\n",
    "\n",
    "# save the best performing model\n",
    "checkpointer = ModelCheckpoint(filepath=model_store, \n",
    "                               monitor='val_accuracy', verbose=0, \n",
    "                               save_best_only=True)\n",
    "\n",
    "st = time.time()\n",
    "# model training\n",
    "model.fit([x_train], y_train,\n",
    "#           batch_size=60,\n",
    "          epochs=200, \n",
    "          verbose=1,\n",
    "          callbacks=[checkpointer],\n",
    "          validation_data=([x_valid], y_valid))\n",
    "rt = time.time()-st"
   ]
  },
  {
   "cell_type": "code",
   "execution_count": 200,
   "metadata": {},
   "outputs": [
    {
     "name": "stdout",
     "output_type": "stream",
     "text": [
      "\n",
      "Loss, accuracy on test data: \n",
      "0.6126 67.69%\n"
     ]
    }
   ],
   "source": [
    "# np.set_printoptions(precision=4, suppress=True)\n",
    "# eval_results = model.evaluate(x_valid, y_valid, verbose=0) \n",
    "# print(\"\\nLoss, accuracy on test data: \")\n",
    "# print(\"%0.4f %0.2f%%\" % (eval_results[0], \\\n",
    "#   eval_results[1]*100))"
   ]
  },
  {
   "cell_type": "code",
   "execution_count": 258,
   "metadata": {
    "tags": []
   },
   "outputs": [
    {
     "data": {
      "image/png": "[encoded data removed]",
      "text/plain": [
       "<Figure size 648x432 with 1 Axes>"
      ]
     },
     "metadata": {
      "needs_background": "light"
     },
     "output_type": "display_data"
    }
   ],
   "source": [
    "##### Step 6: plot train and validation loss #####\n",
    "history = model.history\n",
    "# plt.plot(age_range*pd.Series(history.history['mean_absolute_error']))\n",
    "# plt.plot(age_range*pd.Series(history.history['val_mean_absolute_error']))\n",
    "plt.plot(pd.Series(history.history['loss']))\n",
    "plt.plot(pd.Series(history.history['val_loss']))\n",
    "plt.title('model train vs validation loss')\n",
    "plt.ylabel('loss')\n",
    "plt.ylim([0,1])\n",
    "plt.xlabel('epoch')\n",
    "plt.legend(['train', 'validation'], loc='upper right')\n",
    "plt.show()"
   ]
  },
  {
   "cell_type": "code",
   "execution_count": 259,
   "metadata": {},
   "outputs": [
    {
     "data": {
      "image/png": "[encoded data removed]",
      "text/plain": [
       "<Figure size 648x432 with 1 Axes>"
      ]
     },
     "metadata": {
      "needs_background": "light"
     },
     "output_type": "display_data"
    }
   ],
   "source": [
    "##### Step 6: plot train and validation loss #####\n",
    "history = model.history\n",
    "# plt.plot(age_range*pd.Series(history.history['mean_absolute_error']))\n",
    "# plt.plot(age_range*pd.Series(history.history['val_mean_absolute_error']))\n",
    "plt.plot(pd.Series(history.history['accuracy']))\n",
    "plt.plot(pd.Series(history.history['val_accuracy']))\n",
    "plt.title('model train vs validation loss')\n",
    "plt.ylabel('loss')\n",
    "plt.ylim([0,1])\n",
    "plt.xlabel('epoch')\n",
    "plt.legend(['train', 'validation'], loc='upper right')\n",
    "plt.show()"
   ]
  },
  {
   "cell_type": "code",
   "execution_count": 66,
   "metadata": {},
   "outputs": [
    {
     "name": "stdout",
     "output_type": "stream",
     "text": [
      "WARNING:tensorflow:5 out of the last 13 calls to <function Model.make_predict_function.<locals>.predict_function at 0x7f0e7c0d4940> triggered tf.function retracing. Tracing is expensive and the excessive number of tracings could be due to (1) creating @tf.function repeatedly in a loop, (2) passing tensors with different shapes, (3) passing Python objects instead of tensors. For (1), please define your @tf.function outside of the loop. For (2), @tf.function has experimental_relax_shapes=True option that relaxes argument shapes that can avoid unnecessary retracing. For (3), please refer to https://www.tensorflow.org/guide/function#controlling_retracing and https://www.tensorflow.org/api_docs/python/tf/function for  more details.\n"
     ]
    }
   ],
   "source": [
    "#### Step 7: test the final model #####\n",
    "final_model = load_model(model_store)\n",
    "x_test = x_valid\n",
    "y_test = y_valid\n",
    "y_scores = final_model.predict([x_test])\n",
    "y_scores = y_scores.reshape(y_scores.shape[0])\n"
   ]
  },
  {
   "cell_type": "code",
   "execution_count": 59,
   "metadata": {},
   "outputs": [
    {
     "data": {
      "text/plain": [
       "count    65.000000\n",
       "mean      0.177777\n",
       "std       0.493102\n",
       "min      -0.378711\n",
       "25%      -0.378711\n",
       "50%       0.621289\n",
       "75%       0.621289\n",
       "max       0.729993\n",
       "dtype: float64"
      ]
     },
     "execution_count": 59,
     "metadata": {},
     "output_type": "execute_result"
    }
   ],
   "source": [
    "errors = (pd.Series(y_test)-pd.Series(y_scores))\n",
    "errors.describe()"
   ]
  },
  {
   "cell_type": "code",
   "execution_count": 60,
   "metadata": {},
   "outputs": [
    {
     "data": {
      "image/png": "[encoded data removed]",
      "text/plain": [
       "<Figure size 648x432 with 1 Axes>"
      ]
     },
     "metadata": {
      "needs_background": "light"
     },
     "output_type": "display_data"
    }
   ],
   "source": [
    "plt.hist(errors)\n",
    "plt.title('Error Distribution')\n",
    "plt.xlabel('Actual - Predicted [Years]')\n",
    "plt.show()"
   ]
  },
  {
   "cell_type": "code",
   "execution_count": 234,
   "metadata": {},
   "outputs": [
    {
     "ename": "NameError",
     "evalue": "name 'y_test' is not defined",
     "output_type": "error",
     "traceback": [
      "\u001b[0;31m---------------------------------------------------------------------------\u001b[0m",
      "\u001b[0;31mNameError\u001b[0m                                 Traceback (most recent call last)",
      "\u001b[0;32m<ipython-input-234-06b82e07022a>\u001b[0m in \u001b[0;36m<module>\u001b[0;34m\u001b[0m\n\u001b[0;32m----> 1\u001b[0;31m \u001b[0mage_true\u001b[0m \u001b[0;34m=\u001b[0m \u001b[0my_test\u001b[0m\u001b[0;34m*\u001b[0m\u001b[0mage_range\u001b[0m \u001b[0;34m+\u001b[0m \u001b[0mage_min\u001b[0m\u001b[0;34m\u001b[0m\u001b[0;34m\u001b[0m\u001b[0m\n\u001b[0m\u001b[1;32m      2\u001b[0m \u001b[0mage_pred\u001b[0m \u001b[0;34m=\u001b[0m \u001b[0my_scores\u001b[0m\u001b[0;34m*\u001b[0m\u001b[0mage_range\u001b[0m \u001b[0;34m+\u001b[0m \u001b[0mage_min\u001b[0m\u001b[0;34m\u001b[0m\u001b[0;34m\u001b[0m\u001b[0m\n\u001b[1;32m      3\u001b[0m \u001b[0mplt\u001b[0m\u001b[0;34m.\u001b[0m\u001b[0mplot\u001b[0m\u001b[0;34m(\u001b[0m\u001b[0mage_true\u001b[0m\u001b[0;34m,\u001b[0m \u001b[0mage_pred\u001b[0m\u001b[0;34m,\u001b[0m\u001b[0;34m'b.'\u001b[0m\u001b[0;34m)\u001b[0m\u001b[0;34m\u001b[0m\u001b[0;34m\u001b[0m\u001b[0m\n\u001b[1;32m      4\u001b[0m \u001b[0mplt\u001b[0m\u001b[0;34m.\u001b[0m\u001b[0maxis\u001b[0m\u001b[0;34m(\u001b[0m\u001b[0;34m'square'\u001b[0m\u001b[0;34m)\u001b[0m\u001b[0;34m\u001b[0m\u001b[0;34m\u001b[0m\u001b[0m\n\u001b[1;32m      5\u001b[0m \u001b[0mplt\u001b[0m\u001b[0;34m.\u001b[0m\u001b[0mxlim\u001b[0m\u001b[0;34m(\u001b[0m\u001b[0;34m(\u001b[0m\u001b[0;36m40\u001b[0m\u001b[0;34m,\u001b[0m\u001b[0;36m95\u001b[0m\u001b[0;34m)\u001b[0m\u001b[0;34m)\u001b[0m\u001b[0;34m\u001b[0m\u001b[0;34m\u001b[0m\u001b[0m\n",
      "\u001b[0;31mNameError\u001b[0m: name 'y_test' is not defined"
     ]
    }
   ],
   "source": [
    "age_true = y_test*age_range + age_min\n",
    "age_pred = y_scores*age_range + age_min\n",
    "plt.plot(age_true, age_pred,'b.')\n",
    "plt.axis('square')\n",
    "plt.xlim((40,95))\n",
    "plt.ylim((40,95))\n",
    "plt.xlabel('True Age')\n",
    "plt.ylabel('Predicted Age')\n",
    "plt.title('Prediction vs True')\n",
    "plt.plot([40,95],[40,95],'--k')\n",
    "coef = np.polyfit(age_true, age_pred, 1)\n",
    "print(coef)\n",
    "poly1d_fn = np.poly1d(coef)\n",
    "plt.plot([40,95], poly1d_fn([40,95]), '--b')\n",
    "plt.show()"
   ]
  },
  {
   "cell_type": "code",
   "execution_count": 260,
   "metadata": {},
   "outputs": [
    {
     "data": {
      "image/png": "[encoded data removed]",
      "text/plain": [
       "<Figure size 648x432 with 1 Axes>"
      ]
     },
     "metadata": {
      "needs_background": "light"
     },
     "output_type": "display_data"
    }
   ],
   "source": [
    "\n",
    "#### Test the final model #####\n",
    "final_model = load_model(model_store)\n",
    "x_test = x_valid\n",
    "y_test = y_valid\n",
    "y_scores = final_model.predict([x_test])\n",
    "y_scores = y_scores.reshape(y_scores.shape[0])\n",
    "plt.scatter(y_valid, y_scores)\n",
    "plt.xlabel('True Value')\n",
    "plt.ylabel('Prediction')\n",
    "plt.show()"
   ]
  },
  {
   "cell_type": "code",
   "execution_count": 261,
   "metadata": {},
   "outputs": [
    {
     "name": "stdout",
     "output_type": "stream",
     "text": [
      "\n",
      "Accuracy: 0.7538461538461538\n",
      "\n"
     ]
    },
    {
     "name": "stderr",
     "output_type": "stream",
     "text": [
      "<ipython-input-261-caf7df9fb7c0>:10: UserWarning: FixedFormatter should only be used together with FixedLocator\n",
      "  ax.set_xticklabels(['', 'Male', 'Female'])\n",
      "<ipython-input-261-caf7df9fb7c0>:11: UserWarning: FixedFormatter should only be used together with FixedLocator\n",
      "  ax.set_yticklabels(['', 'Male', 'Female'])\n"
     ]
    },
    {
     "data": {
      "image/png": "[encoded data removed]",
      "text/plain": [
       "<Figure size 540x540 with 1 Axes>"
      ]
     },
     "metadata": {
      "needs_background": "light"
     },
     "output_type": "display_data"
    }
   ],
   "source": [
    "y_scores = np.rint(y_scores).astype(int)\n",
    "cm = confusion_matrix(y_valid, y_scores)  \n",
    "\n",
    "print (\"\")\n",
    "print (\"Accuracy: \" + str((cm[0,0] + cm[1,1]) / sum(sum(cm))))\n",
    "print (\"\")\n",
    "\n",
    "fig, ax = plt.subplots(figsize=(7.5, 7.5))\n",
    "ax.matshow(cm, cmap=plt.cm.Blues, alpha=0.3)\n",
    "ax.set_xticklabels(['', 'Male', 'Female'])\n",
    "ax.set_yticklabels(['', 'Male', 'Female'])\n",
    "for i in range(cm.shape[0]):\n",
    "    for j in range(cm.shape[1]):\n",
    "        ax.text(x=j, y=i,s=cm[i, j], va='center', ha='center', size='xx-large')\n",
    " \n",
    "plt.xlabel('Predictions', fontsize=18)\n",
    "plt.ylabel('Actuals', fontsize=18)\n",
    "plt.title('Confusion Matrix', fontsize=18)\n",
    "plt.show()"
   ]
  },
  {
   "cell_type": "code",
   "execution_count": 262,
   "metadata": {},
   "outputs": [
    {
     "data": {
      "image/png": "[encoded data removed]",
      "text/plain": [
       "<Figure size 648x432 with 1 Axes>"
      ]
     },
     "metadata": {
      "needs_background": "light"
     },
     "output_type": "display_data"
    }
   ],
   "source": [
    "# generate ROC and AUC\n",
    "y_scores = final_model.predict([x_test])\n",
    "fpr, tpr, _ = roc_curve(y_test, y_scores)\n",
    "roc_auc = auc(fpr, tpr)\n",
    "\n",
    "# plot ROC curve\n",
    "plt.plot(fpr, tpr)\n",
    "#plt.plot([0, 1], [0, 1], 'k--')\n",
    "plt.xlabel('False Positive Rate')\n",
    "plt.ylabel('True Positive Rate')\n",
    "plt.title('ROC Curve   AUC = {0:.2f}'.format(roc_auc))\n",
    "plt.show()"
   ]
  },
  {
   "cell_type": "code",
   "execution_count": null,
   "metadata": {},
   "outputs": [],
   "source": []
  }
 ],
 "metadata": {
  "kernelspec": {
   "display_name": "Python 3",
   "language": "python",
   "name": "python3"
  },
  "language_info": {
   "codemirror_mode": {
    "name": "ipython",
    "version": 3
   },
   "file_extension": ".py",
   "mimetype": "text/x-python",
   "name": "python",
   "nbconvert_exporter": "python",
   "pygments_lexer": "ipython3",
   "version": "3.9.6"
  }
 },
 "nbformat": 4,
 "nbformat_minor": 4
}
